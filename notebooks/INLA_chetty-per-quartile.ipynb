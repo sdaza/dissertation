{
 "cells": [
  {
   "cell_type": "markdown",
   "metadata": {},
   "source": [
    "# INLA: Create models and assess predictions\n",
    "## Models per quartile"
   ]
  },
  {
   "cell_type": "code",
   "execution_count": 1,
   "metadata": {},
   "outputs": [
    {
     "name": "stderr",
     "output_type": "stream",
     "text": [
      "Loading required package: sp\n",
      "Loading required package: Matrix\n",
      "This is INLA_17.05.31 built 2017-05-31 13:53:28 UTC.\n",
      "See www.r-inla.org/contact-us for how to get help.\n"
     ]
    }
   ],
   "source": [
    "#library(rstanarm)\n",
    "library(INLA)\n",
    "library(brinla)\n",
    "library(data.table)\n",
    "library(ggplot2)\n",
    "options(repr.plot.width=3, repr.plot.height=3)"
   ]
  },
  {
   "cell_type": "code",
   "execution_count": 2,
   "metadata": {},
   "outputs": [
    {
     "data": {
      "text/html": [
       "12000"
      ],
      "text/latex": [
       "12000"
      ],
      "text/markdown": [
       "12000"
      ],
      "text/plain": [
       "[1] 12000"
      ]
     },
     "metadata": {},
     "output_type": "display_data"
    }
   ],
   "source": [
    "# read data\n",
    "df = fread('../data/le_cov_sel.csv')\n",
    "nrow(df)"
   ]
  },
  {
   "cell_type": "code",
   "execution_count": 3,
   "metadata": {},
   "outputs": [
    {
     "name": "stdout",
     "output_type": "stream",
     "text": [
      " [1] \"le\"                   \"z_relative_mob\"       \"z_gini\"              \n",
      " [4] \"county\"               \"gender\"               \"income_q\"            \n",
      " [7] \"county_name\"          \"stateabbrv\"           \"statename\"           \n",
      "[10] \"log_population\"       \"log_income\"           \"z_segregation_income\"\n",
      "[13] \"log_unemployment\"     \"z_uninsured\"          \"z_medicare_expenses\" \n",
      "[16] \"log_crime_rate\"       \"log_pct_black\"        \"log_pct_hispanic\"    \n",
      "[19] \"z_obesity\"            \"z_smoking\"            \"z_exercise\"          \n"
     ]
    }
   ],
   "source": [
    "print(names(df))"
   ]
  },
  {
   "cell_type": "code",
   "execution_count": 4,
   "metadata": {},
   "outputs": [
    {
     "data": {},
     "metadata": {},
     "output_type": "display_data"
    },
    {
     "data": {},
     "metadata": {},
     "output_type": "display_data"
    }
   ],
   "source": [
    "df[, state := .GRP, by = statename]\n",
    "df[, income_qr := .GRP, by = income_q]"
   ]
  },
  {
   "cell_type": "code",
   "execution_count": 5,
   "metadata": {},
   "outputs": [
    {
     "data": {
      "text/plain": [
       "         income_q\n",
       "income_qr   Q1   Q2   Q3   Q4\n",
       "        1 3000    0    0    0\n",
       "        2    0 3000    0    0\n",
       "        3    0    0 3000    0\n",
       "        4    0    0    0 3000"
      ]
     },
     "metadata": {},
     "output_type": "display_data"
    }
   ],
   "source": [
    "table(df[, .(income_qr, income_q)]) # ok, right!"
   ]
  },
  {
   "cell_type": "markdown",
   "metadata": {},
   "source": [
    "# INLA Models (using PC prior)"
   ]
  },
  {
   "cell_type": "code",
   "execution_count": 6,
   "metadata": {},
   "outputs": [
    {
     "data": {},
     "metadata": {},
     "output_type": "display_data"
    },
    {
     "data": {},
     "metadata": {},
     "output_type": "display_data"
    },
    {
     "data": {},
     "metadata": {},
     "output_type": "display_data"
    },
    {
     "data": {},
     "metadata": {},
     "output_type": "display_data"
    },
    {
     "data": {},
     "metadata": {},
     "output_type": "display_data"
    },
    {
     "data": {},
     "metadata": {},
     "output_type": "display_data"
    },
    {
     "data": {},
     "metadata": {},
     "output_type": "display_data"
    },
    {
     "data": {},
     "metadata": {},
     "output_type": "display_data"
    }
   ],
   "source": [
    "# create auxiliary variables\n",
    "df[, state_mob := state]\n",
    "df[, state_gini := state]\n",
    "df[, cty := county]\n",
    "df[, cty_mob := county]\n",
    "df[, cty_gini := county]\n",
    "df[, q_mob := income_qr]\n",
    "df[, q_gini := income_qr]\n",
    "df[, q_exercise := income_qr]"
   ]
  },
  {
   "cell_type": "code",
   "execution_count": 7,
   "metadata": {},
   "outputs": [],
   "source": [
    "female = df[gender=='F']\n",
    "male = df[gender=='M']"
   ]
  },
  {
   "cell_type": "markdown",
   "metadata": {},
   "source": [
    "# Baseline model"
   ]
  },
  {
   "cell_type": "markdown",
   "metadata": {},
   "source": [
    "### Male"
   ]
  },
  {
   "cell_type": "code",
   "execution_count": 8,
   "metadata": {},
   "outputs": [],
   "source": [
    "# same prior per quartile\n",
    "lmod <- lm(le ~ z_relative_mob  + z_gini + log_population + log_income, male)\n",
    "\n",
    "# pc prior\n",
    "sdres <- sd(residuals(lmod))\n",
    "pcprior <- list(prec = list(prior=\"pc.prec\", param = c(3*sdres,0.01)))"
   ]
  },
  {
   "cell_type": "code",
   "execution_count": 9,
   "metadata": {},
   "outputs": [],
   "source": [
    "for (i in 1:4) {\n",
    "    formula = le ~ z_relative_mob  + z_gini + log_population + log_income + \n",
    "       f(state, model = \"iid\", hyper = pcprior)\n",
    "    model = inla(formula, family = \"gaussian\", data = male[income_qr==i],\n",
    "#           control.predictor=list(compute = TRUE),\n",
    "          control.compute = list(config = TRUE, dic = TRUE,\n",
    "                                 waic = TRUE, cpo = TRUE), \n",
    "#           control.inla = list(strategy =\"gaussian\"),\n",
    "          verbose = TRUE)\n",
    "    \n",
    "    model_name = paste0('m1_', i)\n",
    "    assign(model_name, model)\n",
    "    \n",
    "    }"
   ]
  },
  {
   "cell_type": "code",
   "execution_count": 10,
   "metadata": {},
   "outputs": [
    {
     "data": {
      "text/html": [
       "<table>\n",
       "<thead><tr><th></th><th scope=col>mean</th><th scope=col>sd</th><th scope=col>0.025quant</th><th scope=col>0.5quant</th><th scope=col>0.975quant</th><th scope=col>mode</th><th scope=col>kld</th></tr></thead>\n",
       "<tbody>\n",
       "\t<tr><th scope=row>(Intercept)</th><td>36.4221315  </td><td>0.12504169  </td><td>36.1765220  </td><td>36.4217646  </td><td>36.6693699  </td><td>36.4210376  </td><td>3.635549e-12</td></tr>\n",
       "\t<tr><th scope=row>z_relative_mob</th><td>-0.4865733  </td><td>0.04037977  </td><td>-0.5658491  </td><td>-0.4865794  </td><td>-0.4073379  </td><td>-0.4865880  </td><td>4.255616e-15</td></tr>\n",
       "\t<tr><th scope=row>z_gini</th><td> 0.3189737  </td><td>0.03733470  </td><td> 0.2456574  </td><td> 0.3189743  </td><td> 0.3922186  </td><td> 0.3189787  </td><td>2.240152e-14</td></tr>\n",
       "\t<tr><th scope=row>log_population</th><td>-0.2542583  </td><td>0.03939773  </td><td>-0.3315966  </td><td>-0.2542677  </td><td>-0.1769397  </td><td>-0.2542833  </td><td>2.682248e-14</td></tr>\n",
       "\t<tr><th scope=row>log_income</th><td> 1.1578332  </td><td>0.18952971  </td><td> 0.7856583  </td><td> 1.1578308  </td><td> 1.5296751  </td><td> 1.1578421  </td><td>2.163484e-14</td></tr>\n",
       "</tbody>\n",
       "</table>\n"
      ],
      "text/latex": [
       "\\begin{tabular}{r|lllllll}\n",
       "  & mean & sd & 0.025quant & 0.5quant & 0.975quant & mode & kld\\\\\n",
       "\\hline\n",
       "\t(Intercept) & 36.4221315   & 0.12504169   & 36.1765220   & 36.4217646   & 36.6693699   & 36.4210376   & 3.635549e-12\\\\\n",
       "\tz\\_relative\\_mob & -0.4865733   & 0.04037977   & -0.5658491   & -0.4865794   & -0.4073379   & -0.4865880   & 4.255616e-15\\\\\n",
       "\tz\\_gini &  0.3189737   & 0.03733470   &  0.2456574   &  0.3189743   &  0.3922186   &  0.3189787   & 2.240152e-14\\\\\n",
       "\tlog\\_population & -0.2542583   & 0.03939773   & -0.3315966   & -0.2542677   & -0.1769397   & -0.2542833   & 2.682248e-14\\\\\n",
       "\tlog\\_income &  1.1578332   & 0.18952971   &  0.7856583   &  1.1578308   &  1.5296751   &  1.1578421   & 2.163484e-14\\\\\n",
       "\\end{tabular}\n"
      ],
      "text/markdown": [
       "\n",
       "| <!--/--> | mean | sd | 0.025quant | 0.5quant | 0.975quant | mode | kld | \n",
       "|---|---|---|---|---|\n",
       "| (Intercept) | 36.4221315   | 0.12504169   | 36.1765220   | 36.4217646   | 36.6693699   | 36.4210376   | 3.635549e-12 | \n",
       "| z_relative_mob | -0.4865733   | 0.04037977   | -0.5658491   | -0.4865794   | -0.4073379   | -0.4865880   | 4.255616e-15 | \n",
       "| z_gini |  0.3189737   | 0.03733470   |  0.2456574   |  0.3189743   |  0.3922186   |  0.3189787   | 2.240152e-14 | \n",
       "| log_population | -0.2542583   | 0.03939773   | -0.3315966   | -0.2542677   | -0.1769397   | -0.2542833   | 2.682248e-14 | \n",
       "| log_income |  1.1578332   | 0.18952971   |  0.7856583   |  1.1578308   |  1.5296751   |  1.1578421   | 2.163484e-14 | \n",
       "\n",
       "\n"
      ],
      "text/plain": [
       "               mean       sd         0.025quant 0.5quant   0.975quant\n",
       "(Intercept)    36.4221315 0.12504169 36.1765220 36.4217646 36.6693699\n",
       "z_relative_mob -0.4865733 0.04037977 -0.5658491 -0.4865794 -0.4073379\n",
       "z_gini          0.3189737 0.03733470  0.2456574  0.3189743  0.3922186\n",
       "log_population -0.2542583 0.03939773 -0.3315966 -0.2542677 -0.1769397\n",
       "log_income      1.1578332 0.18952971  0.7856583  1.1578308  1.5296751\n",
       "               mode       kld         \n",
       "(Intercept)    36.4210376 3.635549e-12\n",
       "z_relative_mob -0.4865880 4.255616e-15\n",
       "z_gini          0.3189787 2.240152e-14\n",
       "log_population -0.2542833 2.682248e-14\n",
       "log_income      1.1578421 2.163484e-14"
      ]
     },
     "metadata": {},
     "output_type": "display_data"
    }
   ],
   "source": [
    "m1_1$summary.fixed"
   ]
  },
  {
   "cell_type": "code",
   "execution_count": 11,
   "metadata": {},
   "outputs": [
    {
     "data": {
      "text/html": [
       "<table>\n",
       "<thead><tr><th></th><th scope=col>mean</th><th scope=col>sd</th><th scope=col>q0.025</th><th scope=col>q0.5</th><th scope=col>q0.975</th><th scope=col>mode</th></tr></thead>\n",
       "<tbody>\n",
       "\t<tr><th scope=row>SD for the Gaussian observations</th><td>1.081663  </td><td>0.01997705</td><td>1.0431700 </td><td>1.0813494 </td><td>1.121600  </td><td>1.0806705 </td></tr>\n",
       "\t<tr><th scope=row>SD for state</th><td>0.815244  </td><td>0.09513868</td><td>0.6473607 </td><td>0.8082699 </td><td>1.020416  </td><td>0.7934126 </td></tr>\n",
       "</tbody>\n",
       "</table>\n"
      ],
      "text/latex": [
       "\\begin{tabular}{r|llllll}\n",
       "  & mean & sd & q0.025 & q0.5 & q0.975 & mode\\\\\n",
       "\\hline\n",
       "\tSD for the Gaussian observations & 1.081663   & 0.01997705 & 1.0431700  & 1.0813494  & 1.121600   & 1.0806705 \\\\\n",
       "\tSD for state & 0.815244   & 0.09513868 & 0.6473607  & 0.8082699  & 1.020416   & 0.7934126 \\\\\n",
       "\\end{tabular}\n"
      ],
      "text/markdown": [
       "\n",
       "| <!--/--> | mean | sd | q0.025 | q0.5 | q0.975 | mode | \n",
       "|---|---|\n",
       "| SD for the Gaussian observations | 1.081663   | 0.01997705 | 1.0431700  | 1.0813494  | 1.121600   | 1.0806705  | \n",
       "| SD for state | 0.815244   | 0.09513868 | 0.6473607  | 0.8082699  | 1.020416   | 0.7934126  | \n",
       "\n",
       "\n"
      ],
      "text/plain": [
       "                                 mean     sd         q0.025    q0.5     \n",
       "SD for the Gaussian observations 1.081663 0.01997705 1.0431700 1.0813494\n",
       "SD for state                     0.815244 0.09513868 0.6473607 0.8082699\n",
       "                                 q0.975   mode     \n",
       "SD for the Gaussian observations 1.121600 1.0806705\n",
       "SD for state                     1.020416 0.7934126"
      ]
     },
     "metadata": {},
     "output_type": "display_data"
    }
   ],
   "source": [
    "bri.hyperpar.summary(m1_1)"
   ]
  },
  {
   "cell_type": "code",
   "execution_count": 12,
   "metadata": {},
   "outputs": [],
   "source": [
    "# simulate values\n",
    "source('functions/simulation_per_quartile_INLA.R')"
   ]
  },
  {
   "cell_type": "code",
   "execution_count": 13,
   "metadata": {},
   "outputs": [],
   "source": [
    "nrep = 2 # 4 quartiles for 2 contrast values\n",
    "relative_mob_pred_data = data.table(\n",
    "    z_relative_mob = c(0.0, 1.0),\n",
    "    z_gini = rep(0, nrep),\n",
    "    log_population = rep(0, nrep), \n",
    "    log_income = rep(0, nrep))"
   ]
  },
  {
   "cell_type": "code",
   "execution_count": 14,
   "metadata": {},
   "outputs": [],
   "source": [
    "sim_male_m1 = data.table()\n",
    "\n",
    "for (i in 1:4) {\n",
    "\n",
    "    model_name = paste0('m1_', i)\n",
    "    s = simulate_predictions_per_quartile(get(model_name), \n",
    "                                          relative_mob_pred_data, \n",
    "                                          'z_relative_mob', \n",
    "                                          nsim = 2000)\n",
    "    d = s[, .(q = i, fd = diff(value)), by = variable][, .(q, fd)]\n",
    "    \n",
    "    sim_male_m1 = rbind(sim_male_m1, d)\n",
    "    }"
   ]
  },
  {
   "cell_type": "code",
   "execution_count": 15,
   "metadata": {},
   "outputs": [],
   "source": [
    "fwrite(sim_male_m1, file = '../data/sim_male_m1.csv')"
   ]
  },
  {
   "cell_type": "markdown",
   "metadata": {},
   "source": [
    "### Female"
   ]
  },
  {
   "cell_type": "code",
   "execution_count": 16,
   "metadata": {},
   "outputs": [],
   "source": [
    "lmod <- lm(le ~ z_relative_mob  + z_gini + log_population + log_income, female)\n",
    "\n",
    "# pc prior\n",
    "sdres <- sd(residuals(lmod))\n",
    "pcprior <- list(prec = list(prior=\"pc.prec\", param = c(3*sdres,0.01)))"
   ]
  },
  {
   "cell_type": "code",
   "execution_count": 17,
   "metadata": {},
   "outputs": [],
   "source": [
    "for (i in 1:4) {\n",
    "    formula = le ~ z_relative_mob  + z_gini + log_population + log_income + \n",
    "       f(state, model = \"iid\", hyper = pcprior)\n",
    "    model = inla(formula, family = \"gaussian\", data = female[income_qr==i],\n",
    "#           control.predictor=list(compute = TRUE),\n",
    "          control.compute = list(config = TRUE, dic = TRUE,\n",
    "                                 waic = TRUE, cpo = TRUE), \n",
    "#           control.inla = list(strategy =\"gaussian\"),\n",
    "          verbose = TRUE)\n",
    "    \n",
    "    model_name = paste0('f1_', i)\n",
    "    assign(model_name, model)\n",
    "    \n",
    "    }"
   ]
  },
  {
   "cell_type": "code",
   "execution_count": 18,
   "metadata": {},
   "outputs": [
    {
     "data": {
      "text/html": [
       "<table>\n",
       "<thead><tr><th></th><th scope=col>mean</th><th scope=col>sd</th><th scope=col>0.025quant</th><th scope=col>0.5quant</th><th scope=col>0.975quant</th><th scope=col>mode</th><th scope=col>kld</th></tr></thead>\n",
       "<tbody>\n",
       "\t<tr><th scope=row>(Intercept)</th><td>41.9454231  </td><td>0.10679731  </td><td>41.7349056  </td><td>41.9453583  </td><td>42.1559867  </td><td>41.9452361  </td><td>1.495135e-11</td></tr>\n",
       "\t<tr><th scope=row>z_relative_mob</th><td>-0.3462274  </td><td>0.03967025  </td><td>-0.4241216  </td><td>-0.3462298  </td><td>-0.2683919  </td><td>-0.3462315  </td><td>2.425063e-14</td></tr>\n",
       "\t<tr><th scope=row>z_gini</th><td> 0.2673734  </td><td>0.03730382  </td><td> 0.1941223  </td><td> 0.2673725  </td><td> 0.3405618  </td><td> 0.2673737  </td><td>1.745226e-14</td></tr>\n",
       "\t<tr><th scope=row>log_population</th><td>-0.2453676  </td><td>0.03932485  </td><td>-0.3225761  </td><td>-0.2453724  </td><td>-0.1682040  </td><td>-0.2453788  </td><td>2.355674e-14</td></tr>\n",
       "\t<tr><th scope=row>log_income</th><td> 0.6489393  </td><td>0.18938893  </td><td> 0.2770562  </td><td> 0.6489317  </td><td> 1.0205183  </td><td> 0.6489327  </td><td>2.205392e-14</td></tr>\n",
       "</tbody>\n",
       "</table>\n"
      ],
      "text/latex": [
       "\\begin{tabular}{r|lllllll}\n",
       "  & mean & sd & 0.025quant & 0.5quant & 0.975quant & mode & kld\\\\\n",
       "\\hline\n",
       "\t(Intercept) & 41.9454231   & 0.10679731   & 41.7349056   & 41.9453583   & 42.1559867   & 41.9452361   & 1.495135e-11\\\\\n",
       "\tz\\_relative\\_mob & -0.3462274   & 0.03967025   & -0.4241216   & -0.3462298   & -0.2683919   & -0.3462315   & 2.425063e-14\\\\\n",
       "\tz\\_gini &  0.2673734   & 0.03730382   &  0.1941223   &  0.2673725   &  0.3405618   &  0.2673737   & 1.745226e-14\\\\\n",
       "\tlog\\_population & -0.2453676   & 0.03932485   & -0.3225761   & -0.2453724   & -0.1682040   & -0.2453788   & 2.355674e-14\\\\\n",
       "\tlog\\_income &  0.6489393   & 0.18938893   &  0.2770562   &  0.6489317   &  1.0205183   &  0.6489327   & 2.205392e-14\\\\\n",
       "\\end{tabular}\n"
      ],
      "text/markdown": [
       "\n",
       "| <!--/--> | mean | sd | 0.025quant | 0.5quant | 0.975quant | mode | kld | \n",
       "|---|---|---|---|---|\n",
       "| (Intercept) | 41.9454231   | 0.10679731   | 41.7349056   | 41.9453583   | 42.1559867   | 41.9452361   | 1.495135e-11 | \n",
       "| z_relative_mob | -0.3462274   | 0.03967025   | -0.4241216   | -0.3462298   | -0.2683919   | -0.3462315   | 2.425063e-14 | \n",
       "| z_gini |  0.2673734   | 0.03730382   |  0.1941223   |  0.2673725   |  0.3405618   |  0.2673737   | 1.745226e-14 | \n",
       "| log_population | -0.2453676   | 0.03932485   | -0.3225761   | -0.2453724   | -0.1682040   | -0.2453788   | 2.355674e-14 | \n",
       "| log_income |  0.6489393   | 0.18938893   |  0.2770562   |  0.6489317   |  1.0205183   |  0.6489327   | 2.205392e-14 | \n",
       "\n",
       "\n"
      ],
      "text/plain": [
       "               mean       sd         0.025quant 0.5quant   0.975quant\n",
       "(Intercept)    41.9454231 0.10679731 41.7349056 41.9453583 42.1559867\n",
       "z_relative_mob -0.3462274 0.03967025 -0.4241216 -0.3462298 -0.2683919\n",
       "z_gini          0.2673734 0.03730382  0.1941223  0.2673725  0.3405618\n",
       "log_population -0.2453676 0.03932485 -0.3225761 -0.2453724 -0.1682040\n",
       "log_income      0.6489393 0.18938893  0.2770562  0.6489317  1.0205183\n",
       "               mode       kld         \n",
       "(Intercept)    41.9452361 1.495135e-11\n",
       "z_relative_mob -0.3462315 2.425063e-14\n",
       "z_gini          0.2673737 1.745226e-14\n",
       "log_population -0.2453788 2.355674e-14\n",
       "log_income      0.6489327 2.205392e-14"
      ]
     },
     "metadata": {},
     "output_type": "display_data"
    }
   ],
   "source": [
    "f1_1$summary.fixed"
   ]
  },
  {
   "cell_type": "code",
   "execution_count": 19,
   "metadata": {},
   "outputs": [
    {
     "data": {
      "text/html": [
       "<table>\n",
       "<thead><tr><th></th><th scope=col>mean</th><th scope=col>sd</th><th scope=col>q0.025</th><th scope=col>q0.5</th><th scope=col>q0.975</th><th scope=col>mode</th></tr></thead>\n",
       "<tbody>\n",
       "\t<tr><th scope=row>SD for the Gaussian observations</th><td>1.0845787 </td><td>0.02001332</td><td>1.0459740 </td><td>1.0842817 </td><td>1.1245466 </td><td>1.0836591 </td></tr>\n",
       "\t<tr><th scope=row>SD for state</th><td>0.6833374 </td><td>0.08319916</td><td>0.5361704 </td><td>0.6774347 </td><td>0.8624172 </td><td>0.6656124 </td></tr>\n",
       "</tbody>\n",
       "</table>\n"
      ],
      "text/latex": [
       "\\begin{tabular}{r|llllll}\n",
       "  & mean & sd & q0.025 & q0.5 & q0.975 & mode\\\\\n",
       "\\hline\n",
       "\tSD for the Gaussian observations & 1.0845787  & 0.02001332 & 1.0459740  & 1.0842817  & 1.1245466  & 1.0836591 \\\\\n",
       "\tSD for state & 0.6833374  & 0.08319916 & 0.5361704  & 0.6774347  & 0.8624172  & 0.6656124 \\\\\n",
       "\\end{tabular}\n"
      ],
      "text/markdown": [
       "\n",
       "| <!--/--> | mean | sd | q0.025 | q0.5 | q0.975 | mode | \n",
       "|---|---|\n",
       "| SD for the Gaussian observations | 1.0845787  | 0.02001332 | 1.0459740  | 1.0842817  | 1.1245466  | 1.0836591  | \n",
       "| SD for state | 0.6833374  | 0.08319916 | 0.5361704  | 0.6774347  | 0.8624172  | 0.6656124  | \n",
       "\n",
       "\n"
      ],
      "text/plain": [
       "                                 mean      sd         q0.025    q0.5     \n",
       "SD for the Gaussian observations 1.0845787 0.02001332 1.0459740 1.0842817\n",
       "SD for state                     0.6833374 0.08319916 0.5361704 0.6774347\n",
       "                                 q0.975    mode     \n",
       "SD for the Gaussian observations 1.1245466 1.0836591\n",
       "SD for state                     0.8624172 0.6656124"
      ]
     },
     "metadata": {},
     "output_type": "display_data"
    }
   ],
   "source": [
    "bri.hyperpar.summary(f1_1)"
   ]
  },
  {
   "cell_type": "code",
   "execution_count": 20,
   "metadata": {},
   "outputs": [],
   "source": [
    "sim_female_f1 = data.table()\n",
    "\n",
    "for (i in 1:4) {\n",
    "\n",
    "    model_name = paste0('f1_', i)\n",
    "    s = simulate_predictions_per_quartile(get(model_name), \n",
    "                                          relative_mob_pred_data, \n",
    "                                          'z_relative_mob', \n",
    "                                          nsim = 2000)\n",
    "    d = s[, .(q = i, fd = diff(value)), by = variable][, .(q, fd)]\n",
    "    \n",
    "    sim_female_f1 = rbind(sim_female_f1, d)\n",
    "    }"
   ]
  },
  {
   "cell_type": "code",
   "execution_count": 21,
   "metadata": {},
   "outputs": [],
   "source": [
    "fwrite(sim_female_f1, file = '../data/sim_female_f1.csv')"
   ]
  },
  {
   "cell_type": "markdown",
   "metadata": {},
   "source": [
    "# Adjusting for contextual variables"
   ]
  },
  {
   "cell_type": "markdown",
   "metadata": {},
   "source": [
    "### Male"
   ]
  },
  {
   "cell_type": "code",
   "execution_count": 22,
   "metadata": {},
   "outputs": [],
   "source": [
    "# -Demographic: % Black, Hispanic (since Chetty uses this to race adjust)\n",
    "# -Social: Crime rate, segregation\n",
    "# -Economic: Gini, possibly unemployment\n",
    "# -Health Access: uninsured, medicare expenses"
   ]
  },
  {
   "cell_type": "code",
   "execution_count": 23,
   "metadata": {},
   "outputs": [],
   "source": [
    "lmod <- lm(le ~ z_relative_mob  + z_gini + log_population + log_income + \n",
    "           log_crime_rate + z_segregation_income +  log_pct_black + log_pct_hispanic + \n",
    "           log_unemployment +  z_uninsured + z_medicare_expenses, male)\n",
    "\n",
    "# pc prior\n",
    "sdres <- sd(residuals(lmod))\n",
    "pcprior <- list(prec = list(prior=\"pc.prec\", param = c(3*sdres,0.01)))"
   ]
  },
  {
   "cell_type": "code",
   "execution_count": 24,
   "metadata": {},
   "outputs": [],
   "source": [
    "for (i in 1:4) {\n",
    "    formula = le ~ z_relative_mob  + z_gini + log_population + log_income + \n",
    "        log_crime_rate + z_segregation_income +  log_pct_black + log_pct_hispanic + \n",
    "        log_unemployment +  z_uninsured + z_medicare_expenses +\n",
    "        f(state, model = \"iid\", hyper = pcprior)\n",
    "    model = inla(formula, family = \"gaussian\", data = male[income_qr==i],\n",
    "#           control.predictor=list(compute = TRUE),\n",
    "          control.compute = list(config = TRUE, dic = TRUE,\n",
    "                                 waic = TRUE, cpo = TRUE), \n",
    "#           control.inla = list(strategy =\"gaussian\"),\n",
    "          verbose = TRUE)\n",
    "    \n",
    "    model_name = paste0('m2_', i)\n",
    "    assign(model_name, model)\n",
    "    \n",
    "    }"
   ]
  },
  {
   "cell_type": "code",
   "execution_count": 25,
   "metadata": {},
   "outputs": [
    {
     "data": {
      "text/html": [
       "<table>\n",
       "<thead><tr><th></th><th scope=col>mean</th><th scope=col>sd</th><th scope=col>0.025quant</th><th scope=col>0.5quant</th><th scope=col>0.975quant</th><th scope=col>mode</th><th scope=col>kld</th></tr></thead>\n",
       "<tbody>\n",
       "\t<tr><th scope=row>(Intercept)</th><td>36.40819077 </td><td>0.12772163  </td><td>36.158661841</td><td>36.40731747 </td><td>36.662396442</td><td>36.40558537 </td><td>6.969169e-12</td></tr>\n",
       "\t<tr><th scope=row>z_relative_mob</th><td>-0.39106884 </td><td>0.04700952  </td><td>-0.483389524</td><td>-0.39106633 </td><td>-0.298847978</td><td>-0.39105729 </td><td>2.825928e-14</td></tr>\n",
       "\t<tr><th scope=row>z_gini</th><td> 0.22616890 </td><td>0.04252949  </td><td> 0.142669790</td><td> 0.22616325 </td><td> 0.309621572</td><td> 0.22615553 </td><td>2.205859e-14</td></tr>\n",
       "\t<tr><th scope=row>log_population</th><td>-0.07253441 </td><td>0.05576714  </td><td>-0.181985427</td><td>-0.07255457 </td><td> 0.036926413</td><td>-0.07259039 </td><td>1.213201e-14</td></tr>\n",
       "\t<tr><th scope=row>log_income</th><td> 1.66689594 </td><td>0.22158507  </td><td> 1.231764167</td><td> 1.66689714 </td><td> 2.101616480</td><td> 1.66691838 </td><td>1.808919e-14</td></tr>\n",
       "\t<tr><th scope=row>log_crime_rate</th><td>-0.21794841 </td><td>0.06325344  </td><td>-0.342136517</td><td>-0.21795644 </td><td>-0.093831360</td><td>-0.21796719 </td><td>2.167863e-14</td></tr>\n",
       "\t<tr><th scope=row>z_segregation_income</th><td>-0.02413642 </td><td>0.05258635  </td><td>-0.127426418</td><td>-0.02412762 </td><td> 0.079008889</td><td>-0.02410549 </td><td>1.509472e-14</td></tr>\n",
       "\t<tr><th scope=row>log_pct_black</th><td>-0.06721065 </td><td>0.03084778  </td><td>-0.127766327</td><td>-0.06721757 </td><td>-0.006673018</td><td>-0.06722885 </td><td>1.914130e-14</td></tr>\n",
       "\t<tr><th scope=row>log_pct_hispanic</th><td>-0.08308279 </td><td>0.04337501  </td><td>-0.168291965</td><td>-0.08307149 </td><td> 0.001984611</td><td>-0.08304504 </td><td>2.143749e-14</td></tr>\n",
       "\t<tr><th scope=row>log_unemployment</th><td> 0.28563159 </td><td>0.14912787  </td><td>-0.007285394</td><td> 0.28565683 </td><td> 0.578136625</td><td> 0.28572022 </td><td>1.872077e-14</td></tr>\n",
       "\t<tr><th scope=row>z_uninsured</th><td> 0.41292475 </td><td>0.07121756  </td><td> 0.273448488</td><td> 0.41280296 </td><td> 0.552947987</td><td> 0.41256432 </td><td>0.000000e+00</td></tr>\n",
       "\t<tr><th scope=row>z_medicare_expenses</th><td>-0.29188875 </td><td>0.04494754  </td><td>-0.380088310</td><td>-0.29191036 </td><td>-0.203651521</td><td>-0.29195001 </td><td>1.373847e-14</td></tr>\n",
       "</tbody>\n",
       "</table>\n"
      ],
      "text/latex": [
       "\\begin{tabular}{r|lllllll}\n",
       "  & mean & sd & 0.025quant & 0.5quant & 0.975quant & mode & kld\\\\\n",
       "\\hline\n",
       "\t(Intercept) & 36.40819077  & 0.12772163   & 36.158661841 & 36.40731747  & 36.662396442 & 36.40558537  & 6.969169e-12\\\\\n",
       "\tz\\_relative\\_mob & -0.39106884  & 0.04700952   & -0.483389524 & -0.39106633  & -0.298847978 & -0.39105729  & 2.825928e-14\\\\\n",
       "\tz\\_gini &  0.22616890  & 0.04252949   &  0.142669790 &  0.22616325  &  0.309621572 &  0.22615553  & 2.205859e-14\\\\\n",
       "\tlog\\_population & -0.07253441  & 0.05576714   & -0.181985427 & -0.07255457  &  0.036926413 & -0.07259039  & 1.213201e-14\\\\\n",
       "\tlog\\_income &  1.66689594  & 0.22158507   &  1.231764167 &  1.66689714  &  2.101616480 &  1.66691838  & 1.808919e-14\\\\\n",
       "\tlog\\_crime\\_rate & -0.21794841  & 0.06325344   & -0.342136517 & -0.21795644  & -0.093831360 & -0.21796719  & 2.167863e-14\\\\\n",
       "\tz\\_segregation\\_income & -0.02413642  & 0.05258635   & -0.127426418 & -0.02412762  &  0.079008889 & -0.02410549  & 1.509472e-14\\\\\n",
       "\tlog\\_pct\\_black & -0.06721065  & 0.03084778   & -0.127766327 & -0.06721757  & -0.006673018 & -0.06722885  & 1.914130e-14\\\\\n",
       "\tlog\\_pct\\_hispanic & -0.08308279  & 0.04337501   & -0.168291965 & -0.08307149  &  0.001984611 & -0.08304504  & 2.143749e-14\\\\\n",
       "\tlog\\_unemployment &  0.28563159  & 0.14912787   & -0.007285394 &  0.28565683  &  0.578136625 &  0.28572022  & 1.872077e-14\\\\\n",
       "\tz\\_uninsured &  0.41292475  & 0.07121756   &  0.273448488 &  0.41280296  &  0.552947987 &  0.41256432  & 0.000000e+00\\\\\n",
       "\tz\\_medicare\\_expenses & -0.29188875  & 0.04494754   & -0.380088310 & -0.29191036  & -0.203651521 & -0.29195001  & 1.373847e-14\\\\\n",
       "\\end{tabular}\n"
      ],
      "text/markdown": [
       "\n",
       "| <!--/--> | mean | sd | 0.025quant | 0.5quant | 0.975quant | mode | kld | \n",
       "|---|---|---|---|---|---|---|---|---|---|---|---|\n",
       "| (Intercept) | 36.40819077  | 0.12772163   | 36.158661841 | 36.40731747  | 36.662396442 | 36.40558537  | 6.969169e-12 | \n",
       "| z_relative_mob | -0.39106884  | 0.04700952   | -0.483389524 | -0.39106633  | -0.298847978 | -0.39105729  | 2.825928e-14 | \n",
       "| z_gini |  0.22616890  | 0.04252949   |  0.142669790 |  0.22616325  |  0.309621572 |  0.22615553  | 2.205859e-14 | \n",
       "| log_population | -0.07253441  | 0.05576714   | -0.181985427 | -0.07255457  |  0.036926413 | -0.07259039  | 1.213201e-14 | \n",
       "| log_income |  1.66689594  | 0.22158507   |  1.231764167 |  1.66689714  |  2.101616480 |  1.66691838  | 1.808919e-14 | \n",
       "| log_crime_rate | -0.21794841  | 0.06325344   | -0.342136517 | -0.21795644  | -0.093831360 | -0.21796719  | 2.167863e-14 | \n",
       "| z_segregation_income | -0.02413642  | 0.05258635   | -0.127426418 | -0.02412762  |  0.079008889 | -0.02410549  | 1.509472e-14 | \n",
       "| log_pct_black | -0.06721065  | 0.03084778   | -0.127766327 | -0.06721757  | -0.006673018 | -0.06722885  | 1.914130e-14 | \n",
       "| log_pct_hispanic | -0.08308279  | 0.04337501   | -0.168291965 | -0.08307149  |  0.001984611 | -0.08304504  | 2.143749e-14 | \n",
       "| log_unemployment |  0.28563159  | 0.14912787   | -0.007285394 |  0.28565683  |  0.578136625 |  0.28572022  | 1.872077e-14 | \n",
       "| z_uninsured |  0.41292475  | 0.07121756   |  0.273448488 |  0.41280296  |  0.552947987 |  0.41256432  | 0.000000e+00 | \n",
       "| z_medicare_expenses | -0.29188875  | 0.04494754   | -0.380088310 | -0.29191036  | -0.203651521 | -0.29195001  | 1.373847e-14 | \n",
       "\n",
       "\n"
      ],
      "text/plain": [
       "                     mean        sd         0.025quant   0.5quant   \n",
       "(Intercept)          36.40819077 0.12772163 36.158661841 36.40731747\n",
       "z_relative_mob       -0.39106884 0.04700952 -0.483389524 -0.39106633\n",
       "z_gini                0.22616890 0.04252949  0.142669790  0.22616325\n",
       "log_population       -0.07253441 0.05576714 -0.181985427 -0.07255457\n",
       "log_income            1.66689594 0.22158507  1.231764167  1.66689714\n",
       "log_crime_rate       -0.21794841 0.06325344 -0.342136517 -0.21795644\n",
       "z_segregation_income -0.02413642 0.05258635 -0.127426418 -0.02412762\n",
       "log_pct_black        -0.06721065 0.03084778 -0.127766327 -0.06721757\n",
       "log_pct_hispanic     -0.08308279 0.04337501 -0.168291965 -0.08307149\n",
       "log_unemployment      0.28563159 0.14912787 -0.007285394  0.28565683\n",
       "z_uninsured           0.41292475 0.07121756  0.273448488  0.41280296\n",
       "z_medicare_expenses  -0.29188875 0.04494754 -0.380088310 -0.29191036\n",
       "                     0.975quant   mode        kld         \n",
       "(Intercept)          36.662396442 36.40558537 6.969169e-12\n",
       "z_relative_mob       -0.298847978 -0.39105729 2.825928e-14\n",
       "z_gini                0.309621572  0.22615553 2.205859e-14\n",
       "log_population        0.036926413 -0.07259039 1.213201e-14\n",
       "log_income            2.101616480  1.66691838 1.808919e-14\n",
       "log_crime_rate       -0.093831360 -0.21796719 2.167863e-14\n",
       "z_segregation_income  0.079008889 -0.02410549 1.509472e-14\n",
       "log_pct_black        -0.006673018 -0.06722885 1.914130e-14\n",
       "log_pct_hispanic      0.001984611 -0.08304504 2.143749e-14\n",
       "log_unemployment      0.578136625  0.28572022 1.872077e-14\n",
       "z_uninsured           0.552947987  0.41256432 0.000000e+00\n",
       "z_medicare_expenses  -0.203651521 -0.29195001 1.373847e-14"
      ]
     },
     "metadata": {},
     "output_type": "display_data"
    }
   ],
   "source": [
    "m2_1$summary.fixed"
   ]
  },
  {
   "cell_type": "code",
   "execution_count": 26,
   "metadata": {},
   "outputs": [
    {
     "data": {
      "text/html": [
       "<table>\n",
       "<thead><tr><th></th><th scope=col>mean</th><th scope=col>sd</th><th scope=col>q0.025</th><th scope=col>q0.5</th><th scope=col>q0.975</th><th scope=col>mode</th></tr></thead>\n",
       "<tbody>\n",
       "\t<tr><th scope=row>SD for the Gaussian observations</th><td>1.0409372 </td><td>0.01930077</td><td>1.003781  </td><td>1.0406196 </td><td>1.079555  </td><td>1.0399182 </td></tr>\n",
       "\t<tr><th scope=row>SD for state</th><td>0.8279269 </td><td>0.10227067</td><td>0.648109  </td><td>0.8202341 </td><td>1.049101  </td><td>0.8040011 </td></tr>\n",
       "</tbody>\n",
       "</table>\n"
      ],
      "text/latex": [
       "\\begin{tabular}{r|llllll}\n",
       "  & mean & sd & q0.025 & q0.5 & q0.975 & mode\\\\\n",
       "\\hline\n",
       "\tSD for the Gaussian observations & 1.0409372  & 0.01930077 & 1.003781   & 1.0406196  & 1.079555   & 1.0399182 \\\\\n",
       "\tSD for state & 0.8279269  & 0.10227067 & 0.648109   & 0.8202341  & 1.049101   & 0.8040011 \\\\\n",
       "\\end{tabular}\n"
      ],
      "text/markdown": [
       "\n",
       "| <!--/--> | mean | sd | q0.025 | q0.5 | q0.975 | mode | \n",
       "|---|---|\n",
       "| SD for the Gaussian observations | 1.0409372  | 0.01930077 | 1.003781   | 1.0406196  | 1.079555   | 1.0399182  | \n",
       "| SD for state | 0.8279269  | 0.10227067 | 0.648109   | 0.8202341  | 1.049101   | 0.8040011  | \n",
       "\n",
       "\n"
      ],
      "text/plain": [
       "                                 mean      sd         q0.025   q0.5     \n",
       "SD for the Gaussian observations 1.0409372 0.01930077 1.003781 1.0406196\n",
       "SD for state                     0.8279269 0.10227067 0.648109 0.8202341\n",
       "                                 q0.975   mode     \n",
       "SD for the Gaussian observations 1.079555 1.0399182\n",
       "SD for state                     1.049101 0.8040011"
      ]
     },
     "metadata": {},
     "output_type": "display_data"
    }
   ],
   "source": [
    "bri.hyperpar.summary(m2_1)"
   ]
  },
  {
   "cell_type": "code",
   "execution_count": 27,
   "metadata": {},
   "outputs": [],
   "source": [
    "nrep =  2 # 2 contrast values\n",
    "relative_mob_pred_data = data.table(\n",
    "    z_relative_mob       = c(0.0, 1.0),\n",
    "    z_gini               = rep(0, nrep),\n",
    "    log_population       = rep(0, nrep), \n",
    "    log_income           = rep(0, nrep),\n",
    "    log_crime_rate       = rep(0, nrep),\n",
    "#     log_poverty          = rep(0, nrep),\n",
    "#     log_mig_inflow       = rep(0, nrep),\n",
    "#     log_mig_outflow      = rep(0, nrep),\n",
    "#     log_foreign          = rep(0, nrep),\n",
    "    log_pct_black        = rep(0, nrep),\n",
    "    log_pct_hispanic     = rep(0, nrep),\n",
    "#     log_house_value      = rep(0, nrep),\n",
    "#     log_local_gov_exp    = rep(0, nrep),\n",
    "    log_unemployment     = rep(0, nrep),\n",
    "    z_segregation_income = rep(0, nrep),\n",
    "#     z_religion           = rep(0, nrep),\n",
    "#     z_labor_force        = rep(0, nrep),\n",
    "#     z_college            = rep(0, nrep),\n",
    "#     z_middle_class       = rep(0, nrep),\n",
    "    z_uninsured          = rep(0, nrep), \n",
    "    z_medicare_expenses  = rep(0, nrep))"
   ]
  },
  {
   "cell_type": "code",
   "execution_count": 28,
   "metadata": {},
   "outputs": [],
   "source": [
    "sim_male_m2 = data.table()\n",
    "\n",
    "for (i in 1:4) {\n",
    "\n",
    "    model_name = paste0('m2_', i)\n",
    "    s = simulate_predictions_per_quartile(get(model_name), \n",
    "                                          relative_mob_pred_data, \n",
    "                                          'z_relative_mob', \n",
    "                                          nsim = 2000)\n",
    "    d = s[, .(q = i, fd = diff(value)), by = variable][, .(q, fd)]\n",
    "    \n",
    "    sim_male_m2 = rbind(sim_male_m2, d)\n",
    "    }"
   ]
  },
  {
   "cell_type": "code",
   "execution_count": 29,
   "metadata": {},
   "outputs": [],
   "source": [
    "fwrite(sim_male_m2, file = '../data/sim_male_m2.csv')"
   ]
  },
  {
   "cell_type": "markdown",
   "metadata": {},
   "source": [
    "### Female"
   ]
  },
  {
   "cell_type": "code",
   "execution_count": 30,
   "metadata": {},
   "outputs": [],
   "source": [
    "lmod <- lm(le ~ z_relative_mob  + z_gini + log_population + log_income + \n",
    "       log_crime_rate + z_segregation_income +  log_pct_black + log_pct_hispanic + \n",
    "       log_unemployment +  z_uninsured + z_medicare_expenses, female)\n",
    "\n",
    "# pc prior\n",
    "sdres <- sd(residuals(lmod))\n",
    "pcprior <- list(prec = list(prior=\"pc.prec\", param = c(3*sdres,0.01)))"
   ]
  },
  {
   "cell_type": "code",
   "execution_count": 31,
   "metadata": {},
   "outputs": [],
   "source": [
    "for (i in 1:4) {\n",
    "    formula = le ~ z_relative_mob  + z_gini + log_population + log_income + \n",
    "        log_crime_rate + z_segregation_income +  log_pct_black + log_pct_hispanic + \n",
    "        log_unemployment +  z_uninsured + z_medicare_expenses +\n",
    "        f(state, model = \"iid\", hyper = pcprior)\n",
    "    model = inla(formula, family = \"gaussian\", data = female[income_qr==i],\n",
    "#           control.predictor=list(compute = TRUE),\n",
    "          control.compute = list(config = TRUE, dic = TRUE,\n",
    "                                 waic = TRUE, cpo = TRUE), \n",
    "#           control.inla = list(strategy =\"gaussian\"),\n",
    "          verbose = TRUE)\n",
    "    \n",
    "    model_name = paste0('f2_', i)\n",
    "    assign(model_name, model)\n",
    "    \n",
    "    }"
   ]
  },
  {
   "cell_type": "code",
   "execution_count": 32,
   "metadata": {},
   "outputs": [
    {
     "data": {
      "text/html": [
       "<table>\n",
       "<thead><tr><th></th><th scope=col>mean</th><th scope=col>sd</th><th scope=col>0.025quant</th><th scope=col>0.5quant</th><th scope=col>0.975quant</th><th scope=col>mode</th><th scope=col>kld</th></tr></thead>\n",
       "<tbody>\n",
       "\t<tr><th scope=row>(Intercept)</th><td>41.93323527  </td><td>0.10655401   </td><td>41.72343681  </td><td>41.93307091  </td><td> 4.214362e+01</td><td>41.93275629  </td><td>7.886406e-19 </td></tr>\n",
       "\t<tr><th scope=row>z_relative_mob</th><td>-0.27786995  </td><td>0.04701858   </td><td>-0.37019769  </td><td>-0.27787106  </td><td>-1.856219e-01</td><td>-0.27786930  </td><td>2.354032e-14 </td></tr>\n",
       "\t<tr><th scope=row>z_gini</th><td> 0.26144613  </td><td>0.04253009   </td><td> 0.17793656  </td><td> 0.26144369  </td><td> 3.448916e-01</td><td> 0.26144238  </td><td>2.109893e-14 </td></tr>\n",
       "\t<tr><th scope=row>log_population</th><td> 0.02852736  </td><td>0.05517615   </td><td>-0.07981945  </td><td> 0.02852634  </td><td> 1.367791e-01</td><td> 0.02852896  </td><td>1.969394e-14 </td></tr>\n",
       "\t<tr><th scope=row>log_income</th><td> 0.95109209  </td><td>0.22045042   </td><td> 0.51823957  </td><td> 0.95107548  </td><td> 1.383634e+00</td><td> 0.95106082  </td><td>2.227373e-14 </td></tr>\n",
       "\t<tr><th scope=row>log_crime_rate</th><td>-0.31948515  </td><td>0.06325298   </td><td>-0.44368501  </td><td>-0.31948882  </td><td>-1.953805e-01</td><td>-0.31949082  </td><td>2.167895e-14 </td></tr>\n",
       "\t<tr><th scope=row>z_segregation_income</th><td>-0.10303702  </td><td>0.05251248   </td><td>-0.20616188  </td><td>-0.10303505  </td><td>-1.892891e-05</td><td>-0.10302662  </td><td>1.604151e-14 </td></tr>\n",
       "\t<tr><th scope=row>log_pct_black</th><td>-0.07427767  </td><td>0.03053759   </td><td>-0.13425814  </td><td>-0.07427316  </td><td>-1.437792e-02</td><td>-0.07426151  </td><td>2.278750e-14 </td></tr>\n",
       "\t<tr><th scope=row>log_pct_hispanic</th><td>-0.20946950  </td><td>0.04284523   </td><td>-0.29360724  </td><td>-0.20946931  </td><td>-1.254112e-01</td><td>-0.20946527  </td><td>2.551461e-14 </td></tr>\n",
       "\t<tr><th scope=row>log_unemployment</th><td> 0.51107487  </td><td>0.14742028   </td><td> 0.22159594  </td><td> 0.51106970  </td><td> 8.003128e-01</td><td> 0.51107187  </td><td>2.554264e-14 </td></tr>\n",
       "\t<tr><th scope=row>z_uninsured</th><td> 0.16372754  </td><td>0.06724788   </td><td> 0.03210140  </td><td> 0.16357958  </td><td> 2.960483e-01</td><td> 0.16328639  </td><td>1.860436e-14 </td></tr>\n",
       "\t<tr><th scope=row>z_medicare_expenses</th><td>-0.22164556  </td><td>0.04404310   </td><td>-0.30810190  </td><td>-0.22165691  </td><td>-1.352071e-01</td><td>-0.22167604  </td><td>2.682846e-14 </td></tr>\n",
       "</tbody>\n",
       "</table>\n"
      ],
      "text/latex": [
       "\\begin{tabular}{r|lllllll}\n",
       "  & mean & sd & 0.025quant & 0.5quant & 0.975quant & mode & kld\\\\\n",
       "\\hline\n",
       "\t(Intercept) & 41.93323527   & 0.10655401    & 41.72343681   & 41.93307091   &  4.214362e+01 & 41.93275629   & 7.886406e-19 \\\\\n",
       "\tz\\_relative\\_mob & -0.27786995   & 0.04701858    & -0.37019769   & -0.27787106   & -1.856219e-01 & -0.27786930   & 2.354032e-14 \\\\\n",
       "\tz\\_gini &  0.26144613   & 0.04253009    &  0.17793656   &  0.26144369   &  3.448916e-01 &  0.26144238   & 2.109893e-14 \\\\\n",
       "\tlog\\_population &  0.02852736   & 0.05517615    & -0.07981945   &  0.02852634   &  1.367791e-01 &  0.02852896   & 1.969394e-14 \\\\\n",
       "\tlog\\_income &  0.95109209   & 0.22045042    &  0.51823957   &  0.95107548   &  1.383634e+00 &  0.95106082   & 2.227373e-14 \\\\\n",
       "\tlog\\_crime\\_rate & -0.31948515   & 0.06325298    & -0.44368501   & -0.31948882   & -1.953805e-01 & -0.31949082   & 2.167895e-14 \\\\\n",
       "\tz\\_segregation\\_income & -0.10303702   & 0.05251248    & -0.20616188   & -0.10303505   & -1.892891e-05 & -0.10302662   & 1.604151e-14 \\\\\n",
       "\tlog\\_pct\\_black & -0.07427767   & 0.03053759    & -0.13425814   & -0.07427316   & -1.437792e-02 & -0.07426151   & 2.278750e-14 \\\\\n",
       "\tlog\\_pct\\_hispanic & -0.20946950   & 0.04284523    & -0.29360724   & -0.20946931   & -1.254112e-01 & -0.20946527   & 2.551461e-14 \\\\\n",
       "\tlog\\_unemployment &  0.51107487   & 0.14742028    &  0.22159594   &  0.51106970   &  8.003128e-01 &  0.51107187   & 2.554264e-14 \\\\\n",
       "\tz\\_uninsured &  0.16372754   & 0.06724788    &  0.03210140   &  0.16357958   &  2.960483e-01 &  0.16328639   & 1.860436e-14 \\\\\n",
       "\tz\\_medicare\\_expenses & -0.22164556   & 0.04404310    & -0.30810190   & -0.22165691   & -1.352071e-01 & -0.22167604   & 2.682846e-14 \\\\\n",
       "\\end{tabular}\n"
      ],
      "text/markdown": [
       "\n",
       "| <!--/--> | mean | sd | 0.025quant | 0.5quant | 0.975quant | mode | kld | \n",
       "|---|---|---|---|---|---|---|---|---|---|---|---|\n",
       "| (Intercept) | 41.93323527   | 0.10655401    | 41.72343681   | 41.93307091   |  4.214362e+01 | 41.93275629   | 7.886406e-19  | \n",
       "| z_relative_mob | -0.27786995   | 0.04701858    | -0.37019769   | -0.27787106   | -1.856219e-01 | -0.27786930   | 2.354032e-14  | \n",
       "| z_gini |  0.26144613   | 0.04253009    |  0.17793656   |  0.26144369   |  3.448916e-01 |  0.26144238   | 2.109893e-14  | \n",
       "| log_population |  0.02852736   | 0.05517615    | -0.07981945   |  0.02852634   |  1.367791e-01 |  0.02852896   | 1.969394e-14  | \n",
       "| log_income |  0.95109209   | 0.22045042    |  0.51823957   |  0.95107548   |  1.383634e+00 |  0.95106082   | 2.227373e-14  | \n",
       "| log_crime_rate | -0.31948515   | 0.06325298    | -0.44368501   | -0.31948882   | -1.953805e-01 | -0.31949082   | 2.167895e-14  | \n",
       "| z_segregation_income | -0.10303702   | 0.05251248    | -0.20616188   | -0.10303505   | -1.892891e-05 | -0.10302662   | 1.604151e-14  | \n",
       "| log_pct_black | -0.07427767   | 0.03053759    | -0.13425814   | -0.07427316   | -1.437792e-02 | -0.07426151   | 2.278750e-14  | \n",
       "| log_pct_hispanic | -0.20946950   | 0.04284523    | -0.29360724   | -0.20946931   | -1.254112e-01 | -0.20946527   | 2.551461e-14  | \n",
       "| log_unemployment |  0.51107487   | 0.14742028    |  0.22159594   |  0.51106970   |  8.003128e-01 |  0.51107187   | 2.554264e-14  | \n",
       "| z_uninsured |  0.16372754   | 0.06724788    |  0.03210140   |  0.16357958   |  2.960483e-01 |  0.16328639   | 1.860436e-14  | \n",
       "| z_medicare_expenses | -0.22164556   | 0.04404310    | -0.30810190   | -0.22165691   | -1.352071e-01 | -0.22167604   | 2.682846e-14  | \n",
       "\n",
       "\n"
      ],
      "text/plain": [
       "                     mean        sd         0.025quant  0.5quant   \n",
       "(Intercept)          41.93323527 0.10655401 41.72343681 41.93307091\n",
       "z_relative_mob       -0.27786995 0.04701858 -0.37019769 -0.27787106\n",
       "z_gini                0.26144613 0.04253009  0.17793656  0.26144369\n",
       "log_population        0.02852736 0.05517615 -0.07981945  0.02852634\n",
       "log_income            0.95109209 0.22045042  0.51823957  0.95107548\n",
       "log_crime_rate       -0.31948515 0.06325298 -0.44368501 -0.31948882\n",
       "z_segregation_income -0.10303702 0.05251248 -0.20616188 -0.10303505\n",
       "log_pct_black        -0.07427767 0.03053759 -0.13425814 -0.07427316\n",
       "log_pct_hispanic     -0.20946950 0.04284523 -0.29360724 -0.20946931\n",
       "log_unemployment      0.51107487 0.14742028  0.22159594  0.51106970\n",
       "z_uninsured           0.16372754 0.06724788  0.03210140  0.16357958\n",
       "z_medicare_expenses  -0.22164556 0.04404310 -0.30810190 -0.22165691\n",
       "                     0.975quant    mode        kld         \n",
       "(Intercept)           4.214362e+01 41.93275629 7.886406e-19\n",
       "z_relative_mob       -1.856219e-01 -0.27786930 2.354032e-14\n",
       "z_gini                3.448916e-01  0.26144238 2.109893e-14\n",
       "log_population        1.367791e-01  0.02852896 1.969394e-14\n",
       "log_income            1.383634e+00  0.95106082 2.227373e-14\n",
       "log_crime_rate       -1.953805e-01 -0.31949082 2.167895e-14\n",
       "z_segregation_income -1.892891e-05 -0.10302662 1.604151e-14\n",
       "log_pct_black        -1.437792e-02 -0.07426151 2.278750e-14\n",
       "log_pct_hispanic     -1.254112e-01 -0.20946527 2.551461e-14\n",
       "log_unemployment      8.003128e-01  0.51107187 2.554264e-14\n",
       "z_uninsured           2.960483e-01  0.16328639 1.860436e-14\n",
       "z_medicare_expenses  -1.352071e-01 -0.22167604 2.682846e-14"
      ]
     },
     "metadata": {},
     "output_type": "display_data"
    }
   ],
   "source": [
    "f2_1$summary.fixed"
   ]
  },
  {
   "cell_type": "code",
   "execution_count": 33,
   "metadata": {},
   "outputs": [
    {
     "data": {
      "text/html": [
       "<table>\n",
       "<thead><tr><th></th><th scope=col>mean</th><th scope=col>sd</th><th scope=col>q0.025</th><th scope=col>q0.5</th><th scope=col>q0.975</th><th scope=col>mode</th></tr></thead>\n",
       "<tbody>\n",
       "\t<tr><th scope=row>SD for the Gaussian observations</th><td>1.0460784 </td><td>0.01937325</td><td>1.0087380 </td><td>1.0457785 </td><td>1.0847973 </td><td>1.0451351 </td></tr>\n",
       "\t<tr><th scope=row>SD for state</th><td>0.6769903 </td><td>0.08466052</td><td>0.5278019 </td><td>0.6707777 </td><td>0.8597488 </td><td>0.6580783 </td></tr>\n",
       "</tbody>\n",
       "</table>\n"
      ],
      "text/latex": [
       "\\begin{tabular}{r|llllll}\n",
       "  & mean & sd & q0.025 & q0.5 & q0.975 & mode\\\\\n",
       "\\hline\n",
       "\tSD for the Gaussian observations & 1.0460784  & 0.01937325 & 1.0087380  & 1.0457785  & 1.0847973  & 1.0451351 \\\\\n",
       "\tSD for state & 0.6769903  & 0.08466052 & 0.5278019  & 0.6707777  & 0.8597488  & 0.6580783 \\\\\n",
       "\\end{tabular}\n"
      ],
      "text/markdown": [
       "\n",
       "| <!--/--> | mean | sd | q0.025 | q0.5 | q0.975 | mode | \n",
       "|---|---|\n",
       "| SD for the Gaussian observations | 1.0460784  | 0.01937325 | 1.0087380  | 1.0457785  | 1.0847973  | 1.0451351  | \n",
       "| SD for state | 0.6769903  | 0.08466052 | 0.5278019  | 0.6707777  | 0.8597488  | 0.6580783  | \n",
       "\n",
       "\n"
      ],
      "text/plain": [
       "                                 mean      sd         q0.025    q0.5     \n",
       "SD for the Gaussian observations 1.0460784 0.01937325 1.0087380 1.0457785\n",
       "SD for state                     0.6769903 0.08466052 0.5278019 0.6707777\n",
       "                                 q0.975    mode     \n",
       "SD for the Gaussian observations 1.0847973 1.0451351\n",
       "SD for state                     0.8597488 0.6580783"
      ]
     },
     "metadata": {},
     "output_type": "display_data"
    }
   ],
   "source": [
    "bri.hyperpar.summary(f2_1)"
   ]
  },
  {
   "cell_type": "code",
   "execution_count": 34,
   "metadata": {},
   "outputs": [],
   "source": [
    "sim_female_m2 = data.table()\n",
    "\n",
    "for (i in 1:4) {\n",
    "\n",
    "    model_name = paste0('f2_', i)\n",
    "    s = simulate_predictions_per_quartile(get(model_name), \n",
    "                                          relative_mob_pred_data, \n",
    "                                          'z_relative_mob', \n",
    "                                          nsim = 2000)\n",
    "    d = s[, .(q = i, fd = diff(value)), by = variable][, .(q, fd)]\n",
    "    \n",
    "    sim_female_m2 = rbind(sim_female_m2, d)\n",
    "    }"
   ]
  },
  {
   "cell_type": "code",
   "execution_count": 35,
   "metadata": {},
   "outputs": [],
   "source": [
    "fwrite(sim_female_m2, file = '../data/sim_female_m2.csv')"
   ]
  },
  {
   "cell_type": "markdown",
   "metadata": {},
   "source": [
    "# Create tables"
   ]
  },
  {
   "cell_type": "code",
   "execution_count": 40,
   "metadata": {},
   "outputs": [],
   "source": [
    "library(texreg)\n",
    "source('functions/extract_inla.R')"
   ]
  },
  {
   "cell_type": "code",
   "execution_count": 41,
   "metadata": {},
   "outputs": [],
   "source": [
    "for (i in 1:4) {\n",
    "    cmodels <- rep(c('Women', 'Men'), 2)\n",
    "    models <- list(get(paste0('f1_', i)),\n",
    "                   get(paste0('m1_', i)),\n",
    "                   get(paste0('f2_', i)),\n",
    "                   get(paste0('m2_', i)))\n",
    "\n",
    "    cnames <- list(\"(Intercept)\" = 'Constant',\n",
    "                   'z_relative_mob' = 'Standardized Income mobility (Rank-Rank Slope)',\n",
    "                   'z_gini' = 'Standardized Gini',\n",
    "                   \"sd for state\" = \"SD states\",\n",
    "                   \"sd for the Gaussian observations\" = \"SD observations\")\n",
    "\n",
    "    # screenreg(models)\n",
    "    t = texreg(models,\n",
    "                include.dic = TRUE, include.waic = TRUE,\n",
    "                ci.test = FALSE,\n",
    "                float.pos = \"htp\",\n",
    "                caption = \"Life Expectancy (40) Models\",\n",
    "                booktabs = TRUE,\n",
    "                use.packages = FALSE,\n",
    "                dcolumn = TRUE,\n",
    "                caption.above = TRUE,\n",
    "                scalebox = 0.65,\n",
    "                label = \"inla_models\",\n",
    "                # sideways = TRUE,\n",
    "                digits = 2,\n",
    "                custom.model.names = cmodels,\n",
    "                custom.coef.map = cnames,\n",
    "                groups = list(\"Random Effects\" = c(4:5)),\n",
    "                custom.note = \"Note: Selected coefficients \n",
    "                (mean of marginal posterior distribution). 95\\\\% credibility intervals.\")\n",
    "    \n",
    "    assign(paste0('tab_', i), t)\n",
    "    \n",
    "}"
   ]
  },
  {
   "cell_type": "code",
   "execution_count": 79,
   "metadata": {},
   "outputs": [],
   "source": [
    "heading = '\\\\renewcommand{\\\\arraystretch}{1.6}\\n\\\\begin{table}[htp]\\n\\\\caption{Life Expectancy (40) Models}\\n\\\\begin{center}\\n\\\\scalebox{0.65}{\\n\\\\begin{tabular}{l D{.}{.}{5.11} D{.}{.}{5.11} D{.}{.}{5.11} D{.}{.}{5.11} }\\n\\\\toprule\\n& \\\\multicolumn{2}{c}{Baseline} & \\\\multicolumn{2}{c}{Social Indicators} \\\\\\\\\\n& \\\\multicolumn{1}{c}{Women} & \\\\multicolumn{1}{c}{Men} & \\\\multicolumn{1}{c}{Women} & \\\\multicolumn{1}{c}{Men} \\\\\\\\\\n\\\\midrule\\n'"
   ]
  },
  {
   "cell_type": "code",
   "execution_count": 80,
   "metadata": {},
   "outputs": [],
   "source": [
    "bottom = '\\\\addlinespace[5pt]\\n\\\\bottomrule\\n\\\\multicolumn{5}{l}{\\\\scriptsize{Note: Selected coefficients(mean of marginal posterior distribution). 95\\\\% credibility intervals.}}\\n\\\\end{tabular}\\n}\\n\\\\label{inla_models}\\n\\\\end{center}\\n\\\\end{table}\\n'"
   ]
  },
  {
   "cell_type": "code",
   "execution_count": 89,
   "metadata": {},
   "outputs": [],
   "source": [
    "sep = NA\n",
    "for (i in 1:4) {\n",
    "  sep[i] = paste0(\"\\\\addlinespace[10pt]\\n\\\\multicolumn{5}{l}{\\\\textbf{Income Quartile \", i, \"}} \\\\\\\\\\n\\\\addlinespace[10pt]\\n\")\n",
    "}"
   ]
  },
  {
   "cell_type": "code",
   "execution_count": 90,
   "metadata": {},
   "outputs": [],
   "source": [
    "tabs = list(tab_1, tab_2, tab_3, tab_4)"
   ]
  },
  {
   "cell_type": "code",
   "execution_count": 91,
   "metadata": {},
   "outputs": [],
   "source": [
    "out = list()\n",
    "for (i in 1:4) {\n",
    "    out[[i]] = gsub('(.+)(Constant.+)(Random.+)', '\\\\2', tabs[[i]])\n",
    "}"
   ]
  },
  {
   "cell_type": "code",
   "execution_count": 92,
   "metadata": {},
   "outputs": [],
   "source": [
    "cat(heading, sep[[1]], out[[1]], sep[[2]], out[[2]], sep[[3]], out[[3]], sep[[4]], \n",
    "    out[[4]], bottom, file = 'tables/inla_models_quartile.tex')"
   ]
  },
  {
   "cell_type": "markdown",
   "metadata": {},
   "source": [
    "# Prediction per county"
   ]
  },
  {
   "cell_type": "code",
   "execution_count": 488,
   "metadata": {},
   "outputs": [
    {
     "name": "stderr",
     "output_type": "stream",
     "text": [
      "Loading required package: knitr\n",
      "Loading required package: miceadds\n",
      "Loading required package: mice\n",
      "* miceadds 2.5-9 (2017-06-17 14:42:44)\n"
     ]
    }
   ],
   "source": [
    "library(sdazar)\n",
    "library(ggridges)\n",
    "library(forcats)\n",
    "library(ggthemes)"
   ]
  },
  {
   "cell_type": "code",
   "execution_count": 523,
   "metadata": {},
   "outputs": [],
   "source": [
    "setorder(male, le)"
   ]
  },
  {
   "cell_type": "code",
   "execution_count": 524,
   "metadata": {},
   "outputs": [],
   "source": [
    "setorder(female, le)"
   ]
  },
  {
   "cell_type": "code",
   "execution_count": 487,
   "metadata": {},
   "outputs": [],
   "source": [
    "df[, cn := paste0(county_name, \", \", stateabbrv)]\n",
    "cn = df[, .(cn, state, county)]\n",
    "cn = cn[!duplicated(cn)]"
   ]
  },
  {
   "cell_type": "code",
   "execution_count": 494,
   "metadata": {},
   "outputs": [],
   "source": [
    "vars = c('le', 'county', 'state', 'z_relative_mob', 'z_gini', 'log_population', 'log_income' ,  \n",
    "        'log_crime_rate', 'z_segregation_income', 'log_pct_black', 'log_pct_hispanic', \n",
    "        'log_unemployment', 'z_uninsured', 'z_medicare_expenses')"
   ]
  },
  {
   "cell_type": "markdown",
   "metadata": {},
   "source": [
    "### Male"
   ]
  },
  {
   "cell_type": "code",
   "execution_count": 495,
   "metadata": {},
   "outputs": [],
   "source": [
    "min_mob = min(female$z_relative_mob)"
   ]
  },
  {
   "cell_type": "code",
   "execution_count": 503,
   "metadata": {},
   "outputs": [],
   "source": [
    "bottom_male = head(male[income_qr==1, vars, with=FALSE], 10)\n",
    "bottom_male_c = copy(bottom_male)\n",
    "bottom_male_c[, z_relative_mob := min_mob]\n",
    "tot_bottom_male = rbind(bottom_male, bottom_male_c) \n",
    "tot_bottom_male[, ranking := .GRP, by = .(county, state)]\n",
    "tot_bottom_male[, order := seq_len(.N), by = .(county, state)]\n",
    "anyDuplicated(tot_bottom_male[,.(state, county, z_relative_mob)])"
   ]
  },
  {
   "cell_type": "code",
   "execution_count": 504,
   "metadata": {},
   "outputs": [],
   "source": [
    "# simulate values\n",
    "source('functions/simulation_random_intercept.R')"
   ]
  },
  {
   "cell_type": "code",
   "execution_count": 508,
   "metadata": {},
   "outputs": [],
   "source": [
    "sim_male_bottom = simulate_predictions(m2_1, nsim=2000, tot_bottom, contrast='z_relative_mob', \n",
    "                  random_intercept='state')\n",
    "\n",
    "sim_male_bottom = merge(sim_male_bottom, cn, by = c('county', 'state'))\n",
    "\n",
    "setorder(sim_male_bottom, ranking)\n",
    "\n",
    "head(sim_male_bottom)"
   ]
  },
  {
   "cell_type": "code",
   "execution_count": 511,
   "metadata": {},
   "outputs": [
    {
     "name": "stderr",
     "output_type": "stream",
     "text": [
      "Picking joint bandwidth of 0.0493\n"
     ]
    },
    {
     "data": {
      "text/html": [
       "<strong>pdf:</strong> 2"
      ],
      "text/latex": [
       "\\textbf{pdf:} 2"
      ],
      "text/markdown": [
       "**pdf:** 2"
      ],
      "text/plain": [
       "pdf \n",
       "  2 "
      ]
     },
     "metadata": {},
     "output_type": "display_data"
    }
   ],
   "source": [
    "sdazar::savepdf('plots/counties_male')\n",
    "plot = ggplot(sim_male_bottom[ranking<9], aes(y = cn)) + \n",
    "  geom_density_ridges(aes(x = pred, fill = paste(order)), \n",
    "           alpha = .5, color = \"white\", from = 33, to = 38) +\n",
    "  labs(x = \"E(40)\",\n",
    "       y = \"County\") +  theme_few() +\n",
    "#        title = \"Indy vs Unionist vote in Catalan elections\",\n",
    "#        subtitle = \"Analysis unit: municipalities (n = 949)\",\n",
    "#        caption = \"Marc Belzunces (@marcbeldata) | Source: Idescat\") +\n",
    "  scale_y_discrete(expand = c(0.05, 0)) +\n",
    "  scale_x_continuous(expand = c(0.000001, 0))  +\n",
    "  scale_fill_cyclical(values = c(\"#ff0000\", \"#0000ff\"))\n",
    "print(plot)\n",
    "dev.off()"
   ]
  },
  {
   "cell_type": "markdown",
   "metadata": {},
   "source": [
    "### Female"
   ]
  },
  {
   "cell_type": "code",
   "execution_count": 512,
   "metadata": {},
   "outputs": [],
   "source": [
    "min_mob = min(female$z_relative_mob)"
   ]
  },
  {
   "cell_type": "code",
   "execution_count": 528,
   "metadata": {},
   "outputs": [
    {
     "data": {
      "text/html": [
       "<table>\n",
       "<thead><tr><th scope=col>le</th><th scope=col>county</th><th scope=col>state</th><th scope=col>z_relative_mob</th><th scope=col>z_gini</th><th scope=col>log_population</th><th scope=col>log_income</th><th scope=col>log_crime_rate</th><th scope=col>z_segregation_income</th><th scope=col>log_pct_black</th><th scope=col>log_pct_hispanic</th><th scope=col>log_unemployment</th><th scope=col>z_uninsured</th><th scope=col>z_medicare_expenses</th></tr></thead>\n",
       "<tbody>\n",
       "\t<tr><td>37.88754   </td><td>18133      </td><td>12         </td><td> 0.1347668 </td><td>-1.0845401 </td><td>-0.8031524 </td><td>-0.16104698</td><td> 0.8230133 </td><td>-0.9515619 </td><td>-0.03726077</td><td>-0.89118654</td><td>-0.25317740</td><td>-0.1622971 </td><td> 0.3946781 </td></tr>\n",
       "\t<tr><td>38.01845   </td><td>48273      </td><td>41         </td><td>-0.4477979 </td><td> 0.4658374 </td><td>-0.9356571 </td><td>-0.33170223</td><td>-0.2183776 </td><td>-0.1877166 </td><td> 0.13927913</td><td> 3.15503860</td><td> 0.06280708</td><td> 1.7337207 </td><td> 2.0011309 </td></tr>\n",
       "\t<tr><td>38.33007   </td><td>18071      </td><td>12         </td><td>-0.1875013 </td><td>-0.6893700 </td><td>-0.6654894 </td><td> 0.01256847</td><td>-0.3776445 </td><td>-0.4850299 </td><td>-1.74584115</td><td>-0.03595746</td><td>-0.15761256</td><td> 0.3274003 </td><td>-0.8805983 </td></tr>\n",
       "</tbody>\n",
       "</table>\n"
      ],
      "text/latex": [
       "\\begin{tabular}{r|llllllllllllll}\n",
       " le & county & state & z\\_relative\\_mob & z\\_gini & log\\_population & log\\_income & log\\_crime\\_rate & z\\_segregation\\_income & log\\_pct\\_black & log\\_pct\\_hispanic & log\\_unemployment & z\\_uninsured & z\\_medicare\\_expenses\\\\\n",
       "\\hline\n",
       "\t 37.88754    & 18133       & 12          &  0.1347668  & -1.0845401  & -0.8031524  & -0.16104698 &  0.8230133  & -0.9515619  & -0.03726077 & -0.89118654 & -0.25317740 & -0.1622971  &  0.3946781 \\\\\n",
       "\t 38.01845    & 48273       & 41          & -0.4477979  &  0.4658374  & -0.9356571  & -0.33170223 & -0.2183776  & -0.1877166  &  0.13927913 &  3.15503860 &  0.06280708 &  1.7337207  &  2.0011309 \\\\\n",
       "\t 38.33007    & 18071       & 12          & -0.1875013  & -0.6893700  & -0.6654894  &  0.01256847 & -0.3776445  & -0.4850299  & -1.74584115 & -0.03595746 & -0.15761256 &  0.3274003  & -0.8805983 \\\\\n",
       "\\end{tabular}\n"
      ],
      "text/markdown": [
       "\n",
       "le | county | state | z_relative_mob | z_gini | log_population | log_income | log_crime_rate | z_segregation_income | log_pct_black | log_pct_hispanic | log_unemployment | z_uninsured | z_medicare_expenses | \n",
       "|---|---|---|\n",
       "| 37.88754    | 18133       | 12          |  0.1347668  | -1.0845401  | -0.8031524  | -0.16104698 |  0.8230133  | -0.9515619  | -0.03726077 | -0.89118654 | -0.25317740 | -0.1622971  |  0.3946781  | \n",
       "| 38.01845    | 48273       | 41          | -0.4477979  |  0.4658374  | -0.9356571  | -0.33170223 | -0.2183776  | -0.1877166  |  0.13927913 |  3.15503860 |  0.06280708 |  1.7337207  |  2.0011309  | \n",
       "| 38.33007    | 18071       | 12          | -0.1875013  | -0.6893700  | -0.6654894  |  0.01256847 | -0.3776445  | -0.4850299  | -1.74584115 | -0.03595746 | -0.15761256 |  0.3274003  | -0.8805983  | \n",
       "\n",
       "\n"
      ],
      "text/plain": [
       "  le       county state z_relative_mob z_gini     log_population log_income \n",
       "1 37.88754 18133  12     0.1347668     -1.0845401 -0.8031524     -0.16104698\n",
       "2 38.01845 48273  41    -0.4477979      0.4658374 -0.9356571     -0.33170223\n",
       "3 38.33007 18071  12    -0.1875013     -0.6893700 -0.6654894      0.01256847\n",
       "  log_crime_rate z_segregation_income log_pct_black log_pct_hispanic\n",
       "1  0.8230133     -0.9515619           -0.03726077   -0.89118654     \n",
       "2 -0.2183776     -0.1877166            0.13927913    3.15503860     \n",
       "3 -0.3776445     -0.4850299           -1.74584115   -0.03595746     \n",
       "  log_unemployment z_uninsured z_medicare_expenses\n",
       "1 -0.25317740      -0.1622971   0.3946781         \n",
       "2  0.06280708       1.7337207   2.0011309         \n",
       "3 -0.15761256       0.3274003  -0.8805983         "
      ]
     },
     "metadata": {},
     "output_type": "display_data"
    }
   ],
   "source": [
    "head(bottom_female, 3)"
   ]
  },
  {
   "cell_type": "code",
   "execution_count": 527,
   "metadata": {},
   "outputs": [
    {
     "data": {
      "text/html": [
       "<table>\n",
       "<thead><tr><th scope=col>le</th><th scope=col>county</th><th scope=col>state</th><th scope=col>z_relative_mob</th><th scope=col>z_gini</th><th scope=col>log_population</th><th scope=col>log_income</th><th scope=col>log_crime_rate</th><th scope=col>z_segregation_income</th><th scope=col>log_pct_black</th><th scope=col>log_pct_hispanic</th><th scope=col>log_unemployment</th><th scope=col>z_uninsured</th><th scope=col>z_medicare_expenses</th></tr></thead>\n",
       "<tbody>\n",
       "\t<tr><td>31.51167   </td><td>48025      </td><td>41         </td><td> 0.03526187</td><td> 0.04354253</td><td>-0.9103068 </td><td>-0.6552334 </td><td>-0.4113431 </td><td>-0.4929434 </td><td>1.1726481  </td><td>2.962039   </td><td> 0.24400568</td><td> 1.1367667 </td><td>1.9863269  </td></tr>\n",
       "\t<tr><td>31.86600   </td><td>48273      </td><td>41         </td><td>-0.44779786</td><td> 0.46583745</td><td>-0.9356571 </td><td>-0.3317022 </td><td>-0.2183776 </td><td>-0.1877166 </td><td>0.1392791  </td><td>3.155039   </td><td> 0.06280708</td><td> 1.7337207 </td><td>2.0011309  </td></tr>\n",
       "\t<tr><td>32.36390   </td><td>51149      </td><td>44         </td><td>-0.57220781</td><td>-1.95504689</td><td>-0.8892682 </td><td>-0.1012650 </td><td>-1.5022154 </td><td>-0.7503726 </td><td>2.3659887  </td><td>0.567169   </td><td>-0.31159711</td><td>-0.8624501 </td><td>0.0683768  </td></tr>\n",
       "</tbody>\n",
       "</table>\n"
      ],
      "text/latex": [
       "\\begin{tabular}{r|llllllllllllll}\n",
       " le & county & state & z\\_relative\\_mob & z\\_gini & log\\_population & log\\_income & log\\_crime\\_rate & z\\_segregation\\_income & log\\_pct\\_black & log\\_pct\\_hispanic & log\\_unemployment & z\\_uninsured & z\\_medicare\\_expenses\\\\\n",
       "\\hline\n",
       "\t 31.51167    & 48025       & 41          &  0.03526187 &  0.04354253 & -0.9103068  & -0.6552334  & -0.4113431  & -0.4929434  & 1.1726481   & 2.962039    &  0.24400568 &  1.1367667  & 1.9863269  \\\\\n",
       "\t 31.86600    & 48273       & 41          & -0.44779786 &  0.46583745 & -0.9356571  & -0.3317022  & -0.2183776  & -0.1877166  & 0.1392791   & 3.155039    &  0.06280708 &  1.7337207  & 2.0011309  \\\\\n",
       "\t 32.36390    & 51149       & 44          & -0.57220781 & -1.95504689 & -0.8892682  & -0.1012650  & -1.5022154  & -0.7503726  & 2.3659887   & 0.567169    & -0.31159711 & -0.8624501  & 0.0683768  \\\\\n",
       "\\end{tabular}\n"
      ],
      "text/markdown": [
       "\n",
       "le | county | state | z_relative_mob | z_gini | log_population | log_income | log_crime_rate | z_segregation_income | log_pct_black | log_pct_hispanic | log_unemployment | z_uninsured | z_medicare_expenses | \n",
       "|---|---|---|\n",
       "| 31.51167    | 48025       | 41          |  0.03526187 |  0.04354253 | -0.9103068  | -0.6552334  | -0.4113431  | -0.4929434  | 1.1726481   | 2.962039    |  0.24400568 |  1.1367667  | 1.9863269   | \n",
       "| 31.86600    | 48273       | 41          | -0.44779786 |  0.46583745 | -0.9356571  | -0.3317022  | -0.2183776  | -0.1877166  | 0.1392791   | 3.155039    |  0.06280708 |  1.7337207  | 2.0011309   | \n",
       "| 32.36390    | 51149       | 44          | -0.57220781 | -1.95504689 | -0.8892682  | -0.1012650  | -1.5022154  | -0.7503726  | 2.3659887   | 0.567169    | -0.31159711 | -0.8624501  | 0.0683768   | \n",
       "\n",
       "\n"
      ],
      "text/plain": [
       "  le       county state z_relative_mob z_gini      log_population log_income\n",
       "1 31.51167 48025  41     0.03526187     0.04354253 -0.9103068     -0.6552334\n",
       "2 31.86600 48273  41    -0.44779786     0.46583745 -0.9356571     -0.3317022\n",
       "3 32.36390 51149  44    -0.57220781    -1.95504689 -0.8892682     -0.1012650\n",
       "  log_crime_rate z_segregation_income log_pct_black log_pct_hispanic\n",
       "1 -0.4113431     -0.4929434           1.1726481     2.962039        \n",
       "2 -0.2183776     -0.1877166           0.1392791     3.155039        \n",
       "3 -1.5022154     -0.7503726           2.3659887     0.567169        \n",
       "  log_unemployment z_uninsured z_medicare_expenses\n",
       "1  0.24400568       1.1367667  1.9863269          \n",
       "2  0.06280708       1.7337207  2.0011309          \n",
       "3 -0.31159711      -0.8624501  0.0683768          "
      ]
     },
     "metadata": {},
     "output_type": "display_data"
    }
   ],
   "source": [
    "head(bottom_male, 3)"
   ]
  },
  {
   "cell_type": "code",
   "execution_count": 513,
   "metadata": {},
   "outputs": [],
   "source": [
    "bottom_female = head(female[income_qr==1, vars, with=FALSE], 10)\n",
    "\n",
    "bottom_female_c = copy(bottom_female)\n",
    "\n",
    "bottom_female_c[, z_relative_mob := min_mob]\n",
    "\n",
    "tot_bottom_female = rbind(bottom_female, bottom_female_c) \n",
    "\n",
    "tot_bottom_female[, ranking := .GRP, by = .(county, state)]\n",
    "tot_bottom_female[, order := seq_len(.N), by = .(county, state)]\n",
    "\n",
    "anyDuplicated(tot_bottom_female[,.(state, county, z_relative_mob)])"
   ]
  },
  {
   "cell_type": "code",
   "execution_count": 514,
   "metadata": {},
   "outputs": [
    {
     "data": {
      "text/html": [
       "<table>\n",
       "<thead><tr><th scope=col>county</th><th scope=col>state</th><th scope=col>pred</th><th scope=col>sim</th><th scope=col>z_relative_mob</th><th scope=col>le</th><th scope=col>ranking</th><th scope=col>order</th><th scope=col>cn</th></tr></thead>\n",
       "<tbody>\n",
       "\t<tr><td>48025      </td><td>41         </td><td>39.92849   </td><td>1          </td><td> 0.03526187</td><td>31.51167   </td><td>1          </td><td>1          </td><td>Bee, TX    </td></tr>\n",
       "\t<tr><td>48025      </td><td>41         </td><td>41.08358   </td><td>1          </td><td>-3.53846431</td><td>31.51167   </td><td>1          </td><td>2          </td><td>Bee, TX    </td></tr>\n",
       "\t<tr><td>48025      </td><td>41         </td><td>39.74280   </td><td>2          </td><td> 0.03526187</td><td>31.51167   </td><td>1          </td><td>1          </td><td>Bee, TX    </td></tr>\n",
       "\t<tr><td>48025      </td><td>41         </td><td>40.75298   </td><td>2          </td><td>-3.53846431</td><td>31.51167   </td><td>1          </td><td>2          </td><td>Bee, TX    </td></tr>\n",
       "\t<tr><td>48025      </td><td>41         </td><td>40.34960   </td><td>3          </td><td> 0.03526187</td><td>31.51167   </td><td>1          </td><td>1          </td><td>Bee, TX    </td></tr>\n",
       "\t<tr><td>48025      </td><td>41         </td><td>41.42009   </td><td>3          </td><td>-3.53846431</td><td>31.51167   </td><td>1          </td><td>2          </td><td>Bee, TX    </td></tr>\n",
       "</tbody>\n",
       "</table>\n"
      ],
      "text/latex": [
       "\\begin{tabular}{r|lllllllll}\n",
       " county & state & pred & sim & z\\_relative\\_mob & le & ranking & order & cn\\\\\n",
       "\\hline\n",
       "\t 48025       & 41          & 39.92849    & 1           &  0.03526187 & 31.51167    & 1           & 1           & Bee, TX    \\\\\n",
       "\t 48025       & 41          & 41.08358    & 1           & -3.53846431 & 31.51167    & 1           & 2           & Bee, TX    \\\\\n",
       "\t 48025       & 41          & 39.74280    & 2           &  0.03526187 & 31.51167    & 1           & 1           & Bee, TX    \\\\\n",
       "\t 48025       & 41          & 40.75298    & 2           & -3.53846431 & 31.51167    & 1           & 2           & Bee, TX    \\\\\n",
       "\t 48025       & 41          & 40.34960    & 3           &  0.03526187 & 31.51167    & 1           & 1           & Bee, TX    \\\\\n",
       "\t 48025       & 41          & 41.42009    & 3           & -3.53846431 & 31.51167    & 1           & 2           & Bee, TX    \\\\\n",
       "\\end{tabular}\n"
      ],
      "text/markdown": [
       "\n",
       "county | state | pred | sim | z_relative_mob | le | ranking | order | cn | \n",
       "|---|---|---|---|---|---|\n",
       "| 48025       | 41          | 39.92849    | 1           |  0.03526187 | 31.51167    | 1           | 1           | Bee, TX     | \n",
       "| 48025       | 41          | 41.08358    | 1           | -3.53846431 | 31.51167    | 1           | 2           | Bee, TX     | \n",
       "| 48025       | 41          | 39.74280    | 2           |  0.03526187 | 31.51167    | 1           | 1           | Bee, TX     | \n",
       "| 48025       | 41          | 40.75298    | 2           | -3.53846431 | 31.51167    | 1           | 2           | Bee, TX     | \n",
       "| 48025       | 41          | 40.34960    | 3           |  0.03526187 | 31.51167    | 1           | 1           | Bee, TX     | \n",
       "| 48025       | 41          | 41.42009    | 3           | -3.53846431 | 31.51167    | 1           | 2           | Bee, TX     | \n",
       "\n",
       "\n"
      ],
      "text/plain": [
       "  county state pred     sim z_relative_mob le       ranking order cn     \n",
       "1 48025  41    39.92849 1    0.03526187    31.51167 1       1     Bee, TX\n",
       "2 48025  41    41.08358 1   -3.53846431    31.51167 1       2     Bee, TX\n",
       "3 48025  41    39.74280 2    0.03526187    31.51167 1       1     Bee, TX\n",
       "4 48025  41    40.75298 2   -3.53846431    31.51167 1       2     Bee, TX\n",
       "5 48025  41    40.34960 3    0.03526187    31.51167 1       1     Bee, TX\n",
       "6 48025  41    41.42009 3   -3.53846431    31.51167 1       2     Bee, TX"
      ]
     },
     "metadata": {},
     "output_type": "display_data"
    }
   ],
   "source": [
    "sim_female_bottom = simulate_predictions(f2_1, nsim=2000, tot_bottom, contrast='z_relative_mob', \n",
    "                  random_intercept='state')\n",
    "\n",
    "sim_female_bottom = merge(sim_female_bottom, cn, by = c('county', 'state'))\n",
    "\n",
    "setorder(sim_female_bottom, ranking)\n",
    "\n",
    "head(sim_female_bottom)"
   ]
  },
  {
   "cell_type": "code",
   "execution_count": 490,
   "metadata": {},
   "outputs": [],
   "source": []
  },
  {
   "cell_type": "code",
   "execution_count": 529,
   "metadata": {},
   "outputs": [
    {
     "name": "stderr",
     "output_type": "stream",
     "text": [
      "Picking joint bandwidth of 0.0484\n"
     ]
    },
    {
     "data": {
      "text/html": [
       "<strong>pdf:</strong> 2"
      ],
      "text/latex": [
       "\\textbf{pdf:} 2"
      ],
      "text/markdown": [
       "**pdf:** 2"
      ],
      "text/plain": [
       "pdf \n",
       "  2 "
      ]
     },
     "metadata": {},
     "output_type": "display_data"
    }
   ],
   "source": [
    "sdazar::savepdf('plots/counties_female')\n",
    "plot = ggplot(sim_female_bottom[ranking<9], aes(y = cn)) + \n",
    "  geom_density_ridges(aes(x = pred, fill = paste(order)), \n",
    "           alpha = .5, color = \"white\", from = 39, to = 44) +\n",
    "  labs(x = \"E(40)\",\n",
    "       y = \"County\") +  theme_few() +\n",
    "#        title = \"Indy vs Unionist vote in Catalan elections\",\n",
    "#        subtitle = \"Analysis unit: municipalities (n = 949)\",\n",
    "#        caption = \"Marc Belzunces (@marcbeldata) | Source: Idescat\") +\n",
    "  scale_y_discrete(expand = c(0.05, 0)) +\n",
    "  scale_x_continuous(expand = c(0.000001, 0))  +\n",
    "  scale_fill_cyclical(values = c(\"#ff0000\", \"#0000ff\"))\n",
    "print(plot)\n",
    "dev.off()"
   ]
  },
  {
   "cell_type": "code",
   "execution_count": null,
   "metadata": {},
   "outputs": [],
   "source": []
  }
 ],
 "metadata": {
  "kernelspec": {
   "display_name": "R",
   "language": "R",
   "name": "ir"
  },
  "language_info": {
   "codemirror_mode": "r",
   "file_extension": ".r",
   "mimetype": "text/x-r-source",
   "name": "R",
   "pygments_lexer": "r",
   "version": "3.4.1"
  }
 },
 "nbformat": 4,
 "nbformat_minor": 2
}
