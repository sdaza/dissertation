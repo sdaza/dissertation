{
 "cells": [
  {
   "cell_type": "markdown",
   "metadata": {},
   "source": [
    "# INLA: Create models and assess predictions\n",
    "## Models per quartile"
   ]
  },
  {
   "cell_type": "code",
   "execution_count": 837,
   "metadata": {},
   "outputs": [],
   "source": [
    "#library(rstanarm)\n",
    "library(INLA)\n",
    "library(brinla)\n",
    "library(data.table)\n",
    "library(ggplot2)\n",
    "options(repr.plot.width=3, repr.plot.height=3)"
   ]
  },
  {
   "cell_type": "code",
   "execution_count": 838,
   "metadata": {},
   "outputs": [
    {
     "data": {
      "text/html": [
       "12000"
      ],
      "text/latex": [
       "12000"
      ],
      "text/markdown": [
       "12000"
      ],
      "text/plain": [
       "[1] 12000"
      ]
     },
     "metadata": {},
     "output_type": "display_data"
    }
   ],
   "source": [
    "# read data\n",
    "df = fread('../data/le_cov_sel.csv')\n",
    "nrow(df)"
   ]
  },
  {
   "cell_type": "code",
   "execution_count": 839,
   "metadata": {},
   "outputs": [
    {
     "name": "stdout",
     "output_type": "stream",
     "text": [
      " [1] \"le\"                   \"z_relative_mob\"       \"z_gini\"              \n",
      " [4] \"county\"               \"gender\"               \"income_q\"            \n",
      " [7] \"county_name\"          \"stateabbrv\"           \"statename\"           \n",
      "[10] \"log_population\"       \"log_income\"           \"z_segregation_income\"\n",
      "[13] \"log_unemployment\"     \"z_uninsured\"          \"z_medicare_expenses\" \n",
      "[16] \"log_crime_rate\"       \"log_pct_black\"        \"log_pct_hispanic\"    \n",
      "[19] \"z_obesity\"            \"z_smoking\"            \"z_exercise\"          \n"
     ]
    }
   ],
   "source": [
    "print(names(df))"
   ]
  },
  {
   "cell_type": "code",
   "execution_count": 840,
   "metadata": {},
   "outputs": [
    {
     "data": {},
     "metadata": {},
     "output_type": "display_data"
    },
    {
     "data": {},
     "metadata": {},
     "output_type": "display_data"
    },
    {
     "data": {},
     "metadata": {},
     "output_type": "display_data"
    }
   ],
   "source": [
    "df[, state := .GRP, by = statename]\n",
    "df[, cty := .GRP, by = county]\n",
    "df[, income_qr := .GRP, by = income_q]"
   ]
  },
  {
   "cell_type": "code",
   "execution_count": 841,
   "metadata": {},
   "outputs": [
    {
     "data": {
      "text/plain": [
       "         income_q\n",
       "income_qr   Q1   Q2   Q3   Q4\n",
       "        1 3000    0    0    0\n",
       "        2    0 3000    0    0\n",
       "        3    0    0 3000    0\n",
       "        4    0    0    0 3000"
      ]
     },
     "metadata": {},
     "output_type": "display_data"
    }
   ],
   "source": [
    "table(df[, .(income_qr, income_q)]) # ok, right!"
   ]
  },
  {
   "cell_type": "markdown",
   "metadata": {},
   "source": [
    "# INLA Models (using PC prior)"
   ]
  },
  {
   "cell_type": "code",
   "execution_count": 842,
   "metadata": {},
   "outputs": [
    {
     "data": {},
     "metadata": {},
     "output_type": "display_data"
    },
    {
     "data": {},
     "metadata": {},
     "output_type": "display_data"
    }
   ],
   "source": [
    "# create auxiliary variables\n",
    "df[, state_mob := state]\n",
    "df[, state_gini := state]\n",
    "# df[, cty := county]\n",
    "# df[, cty_mob := county]\n",
    "# df[, cty_gini := county]\n",
    "# df[, q_mob := income_qr]\n",
    "# df[, q_gini := income_qr]\n",
    "# df[, q_exercise := income_qr]"
   ]
  },
  {
   "cell_type": "code",
   "execution_count": 843,
   "metadata": {},
   "outputs": [],
   "source": [
    "female = df[gender=='F']\n",
    "male = df[gender=='M']"
   ]
  },
  {
   "cell_type": "markdown",
   "metadata": {},
   "source": [
    "# Baseline model"
   ]
  },
  {
   "cell_type": "markdown",
   "metadata": {},
   "source": [
    "### Male"
   ]
  },
  {
   "cell_type": "code",
   "execution_count": 844,
   "metadata": {},
   "outputs": [],
   "source": [
    "# define PC prior\n",
    "# same prior per quartile\n",
    "lmod <- lm(le ~ z_relative_mob  + z_gini + log_population + log_income, male)\n",
    "\n",
    "# pc prior\n",
    "sdres <- sd(residuals(lmod))\n",
    "pcprior <- list(prec = list(prior=\"pc.prec\", param = c(3*sdres,0.01)))"
   ]
  },
  {
   "cell_type": "code",
   "execution_count": 845,
   "metadata": {},
   "outputs": [],
   "source": [
    "# run models per income quartile\n",
    "for (i in 1:4) {\n",
    "    formula = le ~ z_relative_mob  + z_gini + log_population + log_income + \n",
    "       f(state, model = \"iid\", hyper = pcprior)\n",
    "    model = inla(formula, family = \"gaussian\", data = male[income_qr==i],\n",
    "#           control.predictor=list(compute = TRUE),\n",
    "          control.compute = list(config = TRUE, dic = TRUE,\n",
    "                                 waic = TRUE, cpo = TRUE), \n",
    "#           control.inla = list(strategy =\"gaussian\"),\n",
    "          verbose = TRUE)\n",
    "    \n",
    "    model_name = paste0('m1_', i)\n",
    "    assign(model_name, model)  \n",
    "    }"
   ]
  },
  {
   "cell_type": "code",
   "execution_count": 846,
   "metadata": {},
   "outputs": [
    {
     "data": {
      "text/html": [
       "<table>\n",
       "<thead><tr><th></th><th scope=col>mean</th><th scope=col>sd</th><th scope=col>0.025quant</th><th scope=col>0.5quant</th><th scope=col>0.975quant</th><th scope=col>mode</th><th scope=col>kld</th></tr></thead>\n",
       "<tbody>\n",
       "\t<tr><th scope=row>(Intercept)</th><td>36.4221320  </td><td>0.12504250  </td><td>36.1765209  </td><td>36.4217652  </td><td>36.6693715  </td><td>36.4210382  </td><td>0.000000e+00</td></tr>\n",
       "\t<tr><th scope=row>z_relative_mob</th><td>-0.4865725  </td><td>0.04037959  </td><td>-0.5658480  </td><td>-0.4865785  </td><td>-0.4073375  </td><td>-0.4865871  </td><td>8.511308e-15</td></tr>\n",
       "\t<tr><th scope=row>z_gini</th><td> 0.3189739  </td><td>0.03733459  </td><td> 0.2456577  </td><td> 0.3189744  </td><td> 0.3922186  </td><td> 0.3189788  </td><td>2.737979e-14</td></tr>\n",
       "\t<tr><th scope=row>log_population</th><td>-0.2542587  </td><td>0.03939759  </td><td>-0.3315967  </td><td>-0.2542682  </td><td>-0.1769404  </td><td>-0.2542838  </td><td>2.235223e-14</td></tr>\n",
       "\t<tr><th scope=row>log_income</th><td> 1.1578335  </td><td>0.18952917  </td><td> 0.7856597  </td><td> 1.1578311  </td><td> 1.5296743  </td><td> 1.1578424  </td><td>2.318031e-14</td></tr>\n",
       "</tbody>\n",
       "</table>\n"
      ],
      "text/latex": [
       "\\begin{tabular}{r|lllllll}\n",
       "  & mean & sd & 0.025quant & 0.5quant & 0.975quant & mode & kld\\\\\n",
       "\\hline\n",
       "\t(Intercept) & 36.4221320   & 0.12504250   & 36.1765209   & 36.4217652   & 36.6693715   & 36.4210382   & 0.000000e+00\\\\\n",
       "\tz\\_relative\\_mob & -0.4865725   & 0.04037959   & -0.5658480   & -0.4865785   & -0.4073375   & -0.4865871   & 8.511308e-15\\\\\n",
       "\tz\\_gini &  0.3189739   & 0.03733459   &  0.2456577   &  0.3189744   &  0.3922186   &  0.3189788   & 2.737979e-14\\\\\n",
       "\tlog\\_population & -0.2542587   & 0.03939759   & -0.3315967   & -0.2542682   & -0.1769404   & -0.2542838   & 2.235223e-14\\\\\n",
       "\tlog\\_income &  1.1578335   & 0.18952917   &  0.7856597   &  1.1578311   &  1.5296743   &  1.1578424   & 2.318031e-14\\\\\n",
       "\\end{tabular}\n"
      ],
      "text/markdown": [
       "\n",
       "| <!--/--> | mean | sd | 0.025quant | 0.5quant | 0.975quant | mode | kld | \n",
       "|---|---|---|---|---|\n",
       "| (Intercept) | 36.4221320   | 0.12504250   | 36.1765209   | 36.4217652   | 36.6693715   | 36.4210382   | 0.000000e+00 | \n",
       "| z_relative_mob | -0.4865725   | 0.04037959   | -0.5658480   | -0.4865785   | -0.4073375   | -0.4865871   | 8.511308e-15 | \n",
       "| z_gini |  0.3189739   | 0.03733459   |  0.2456577   |  0.3189744   |  0.3922186   |  0.3189788   | 2.737979e-14 | \n",
       "| log_population | -0.2542587   | 0.03939759   | -0.3315967   | -0.2542682   | -0.1769404   | -0.2542838   | 2.235223e-14 | \n",
       "| log_income |  1.1578335   | 0.18952917   |  0.7856597   |  1.1578311   |  1.5296743   |  1.1578424   | 2.318031e-14 | \n",
       "\n",
       "\n"
      ],
      "text/plain": [
       "               mean       sd         0.025quant 0.5quant   0.975quant\n",
       "(Intercept)    36.4221320 0.12504250 36.1765209 36.4217652 36.6693715\n",
       "z_relative_mob -0.4865725 0.04037959 -0.5658480 -0.4865785 -0.4073375\n",
       "z_gini          0.3189739 0.03733459  0.2456577  0.3189744  0.3922186\n",
       "log_population -0.2542587 0.03939759 -0.3315967 -0.2542682 -0.1769404\n",
       "log_income      1.1578335 0.18952917  0.7856597  1.1578311  1.5296743\n",
       "               mode       kld         \n",
       "(Intercept)    36.4210382 0.000000e+00\n",
       "z_relative_mob -0.4865871 8.511308e-15\n",
       "z_gini          0.3189788 2.737979e-14\n",
       "log_population -0.2542838 2.235223e-14\n",
       "log_income      1.1578424 2.318031e-14"
      ]
     },
     "metadata": {},
     "output_type": "display_data"
    }
   ],
   "source": [
    "m1_1$summary.fixed"
   ]
  },
  {
   "cell_type": "code",
   "execution_count": 847,
   "metadata": {},
   "outputs": [
    {
     "data": {
      "text/html": [
       "<table>\n",
       "<thead><tr><th></th><th scope=col>mean</th><th scope=col>sd</th><th scope=col>q0.025</th><th scope=col>q0.5</th><th scope=col>q0.975</th><th scope=col>mode</th></tr></thead>\n",
       "<tbody>\n",
       "\t<tr><th scope=row>SD for the Gaussian observations</th><td>1.081663  </td><td>0.01997705</td><td>1.0431700 </td><td>1.0813494 </td><td>1.121600  </td><td>1.0806705 </td></tr>\n",
       "\t<tr><th scope=row>SD for state</th><td>0.815244  </td><td>0.09513868</td><td>0.6473607 </td><td>0.8082699 </td><td>1.020416  </td><td>0.7934126 </td></tr>\n",
       "</tbody>\n",
       "</table>\n"
      ],
      "text/latex": [
       "\\begin{tabular}{r|llllll}\n",
       "  & mean & sd & q0.025 & q0.5 & q0.975 & mode\\\\\n",
       "\\hline\n",
       "\tSD for the Gaussian observations & 1.081663   & 0.01997705 & 1.0431700  & 1.0813494  & 1.121600   & 1.0806705 \\\\\n",
       "\tSD for state & 0.815244   & 0.09513868 & 0.6473607  & 0.8082699  & 1.020416   & 0.7934126 \\\\\n",
       "\\end{tabular}\n"
      ],
      "text/markdown": [
       "\n",
       "| <!--/--> | mean | sd | q0.025 | q0.5 | q0.975 | mode | \n",
       "|---|---|\n",
       "| SD for the Gaussian observations | 1.081663   | 0.01997705 | 1.0431700  | 1.0813494  | 1.121600   | 1.0806705  | \n",
       "| SD for state | 0.815244   | 0.09513868 | 0.6473607  | 0.8082699  | 1.020416   | 0.7934126  | \n",
       "\n",
       "\n"
      ],
      "text/plain": [
       "                                 mean     sd         q0.025    q0.5     \n",
       "SD for the Gaussian observations 1.081663 0.01997705 1.0431700 1.0813494\n",
       "SD for state                     0.815244 0.09513868 0.6473607 0.8082699\n",
       "                                 q0.975   mode     \n",
       "SD for the Gaussian observations 1.121600 1.0806705\n",
       "SD for state                     1.020416 0.7934126"
      ]
     },
     "metadata": {},
     "output_type": "display_data"
    }
   ],
   "source": [
    "bri.hyperpar.summary(m1_1)"
   ]
  },
  {
   "cell_type": "code",
   "execution_count": 848,
   "metadata": {},
   "outputs": [],
   "source": [
    "# simulate values\n",
    "source('functions/simulation_no_random_effects.R')"
   ]
  },
  {
   "cell_type": "code",
   "execution_count": 849,
   "metadata": {},
   "outputs": [],
   "source": [
    "# create data for prediction\n",
    "# all values in their means except for constrast: income mobility\n",
    "nrep = 2 # 4 quartiles for 2 contrast values\n",
    "relative_mob_pred_data = data.table(\n",
    "    z_relative_mob = c(0.0, 1.0),\n",
    "    z_gini = rep(0, nrep),\n",
    "    log_population = rep(0, nrep), \n",
    "    log_income = rep(0, nrep))"
   ]
  },
  {
   "cell_type": "code",
   "execution_count": 851,
   "metadata": {},
   "outputs": [],
   "source": [
    "# simulate values per quartile\n",
    "sim_male_m1 = data.table()\n",
    "\n",
    "for (i in 1:4) {\n",
    "    model_name = paste0('m1_', i)\n",
    "    s = simulate_pred_no_re(model=get(model_name), \n",
    "                                          data=relative_mob_pred_data, \n",
    "                                          contrast='z_relative_mob', \n",
    "                                          nsim = 2000)\n",
    "    d = s[, .(q = i, fd = diff(pred)), by = sim][, .(q, fd)]\n",
    "    sim_male_m1 = rbind(sim_male_m1, d)\n",
    "    }"
   ]
  },
  {
   "cell_type": "code",
   "execution_count": 852,
   "metadata": {},
   "outputs": [],
   "source": [
    "fwrite(sim_male_m1, file = '../data/sim_male_m1.csv')"
   ]
  },
  {
   "cell_type": "markdown",
   "metadata": {},
   "source": [
    "### Female"
   ]
  },
  {
   "cell_type": "code",
   "execution_count": 853,
   "metadata": {},
   "outputs": [],
   "source": [
    "# define PC prior\n",
    "# same prior per quartile\n",
    "lmod <- lm(le ~ z_relative_mob  + z_gini + log_population + log_income, female)\n",
    "\n",
    "sdres <- sd(residuals(lmod))\n",
    "pcprior <- list(prec = list(prior=\"pc.prec\", param = c(3*sdres,0.01)))"
   ]
  },
  {
   "cell_type": "code",
   "execution_count": 854,
   "metadata": {},
   "outputs": [],
   "source": [
    "# run models per income quartile\n",
    "for (i in 1:4) {\n",
    "    formula = le ~ z_relative_mob  + z_gini + log_population + log_income + \n",
    "       f(state, model = \"iid\", hyper = pcprior)\n",
    "    model = inla(formula, family = \"gaussian\", data = female[income_qr==i],\n",
    "#           control.predictor=list(compute = TRUE),\n",
    "          control.compute = list(config = TRUE, dic = TRUE,\n",
    "                                 waic = TRUE, cpo = TRUE), \n",
    "#           control.inla = list(strategy =\"gaussian\"),\n",
    "          verbose = TRUE)\n",
    "    \n",
    "    model_name = paste0('f1_', i)\n",
    "    assign(model_name, model)   \n",
    "    }"
   ]
  },
  {
   "cell_type": "code",
   "execution_count": 855,
   "metadata": {},
   "outputs": [
    {
     "data": {
      "text/html": [
       "<table>\n",
       "<thead><tr><th></th><th scope=col>mean</th><th scope=col>sd</th><th scope=col>0.025quant</th><th scope=col>0.5quant</th><th scope=col>0.975quant</th><th scope=col>mode</th><th scope=col>kld</th></tr></thead>\n",
       "<tbody>\n",
       "\t<tr><th scope=row>(Intercept)</th><td>41.9454232  </td><td>0.10680204  </td><td>41.7348957  </td><td>41.9453584  </td><td>42.1559971  </td><td>41.9452361  </td><td>3.193314e-19</td></tr>\n",
       "\t<tr><th scope=row>z_relative_mob</th><td>-0.3462273  </td><td>0.03967026  </td><td>-0.4241215  </td><td>-0.3462297  </td><td>-0.2683918  </td><td>-0.3462314  </td><td>1.984141e-14</td></tr>\n",
       "\t<tr><th scope=row>z_gini</th><td> 0.2673735  </td><td>0.03730377  </td><td> 0.1941225  </td><td> 0.2673725  </td><td> 0.3405617  </td><td> 0.2673737  </td><td>2.243867e-14</td></tr>\n",
       "\t<tr><th scope=row>log_population</th><td>-0.2453682  </td><td>0.03932484  </td><td>-0.3225767  </td><td>-0.2453730  </td><td>-0.1682047  </td><td>-0.2453794  </td><td>2.243501e-14</td></tr>\n",
       "\t<tr><th scope=row>log_income</th><td> 0.6489384  </td><td>0.18938874  </td><td> 0.2770556  </td><td> 0.6489308  </td><td> 1.0205169  </td><td> 0.6489318  </td><td>2.205397e-14</td></tr>\n",
       "</tbody>\n",
       "</table>\n"
      ],
      "text/latex": [
       "\\begin{tabular}{r|lllllll}\n",
       "  & mean & sd & 0.025quant & 0.5quant & 0.975quant & mode & kld\\\\\n",
       "\\hline\n",
       "\t(Intercept) & 41.9454232   & 0.10680204   & 41.7348957   & 41.9453584   & 42.1559971   & 41.9452361   & 3.193314e-19\\\\\n",
       "\tz\\_relative\\_mob & -0.3462273   & 0.03967026   & -0.4241215   & -0.3462297   & -0.2683918   & -0.3462314   & 1.984141e-14\\\\\n",
       "\tz\\_gini &  0.2673735   & 0.03730377   &  0.1941225   &  0.2673725   &  0.3405617   &  0.2673737   & 2.243867e-14\\\\\n",
       "\tlog\\_population & -0.2453682   & 0.03932484   & -0.3225767   & -0.2453730   & -0.1682047   & -0.2453794   & 2.243501e-14\\\\\n",
       "\tlog\\_income &  0.6489384   & 0.18938874   &  0.2770556   &  0.6489308   &  1.0205169   &  0.6489318   & 2.205397e-14\\\\\n",
       "\\end{tabular}\n"
      ],
      "text/markdown": [
       "\n",
       "| <!--/--> | mean | sd | 0.025quant | 0.5quant | 0.975quant | mode | kld | \n",
       "|---|---|---|---|---|\n",
       "| (Intercept) | 41.9454232   | 0.10680204   | 41.7348957   | 41.9453584   | 42.1559971   | 41.9452361   | 3.193314e-19 | \n",
       "| z_relative_mob | -0.3462273   | 0.03967026   | -0.4241215   | -0.3462297   | -0.2683918   | -0.3462314   | 1.984141e-14 | \n",
       "| z_gini |  0.2673735   | 0.03730377   |  0.1941225   |  0.2673725   |  0.3405617   |  0.2673737   | 2.243867e-14 | \n",
       "| log_population | -0.2453682   | 0.03932484   | -0.3225767   | -0.2453730   | -0.1682047   | -0.2453794   | 2.243501e-14 | \n",
       "| log_income |  0.6489384   | 0.18938874   |  0.2770556   |  0.6489308   |  1.0205169   |  0.6489318   | 2.205397e-14 | \n",
       "\n",
       "\n"
      ],
      "text/plain": [
       "               mean       sd         0.025quant 0.5quant   0.975quant\n",
       "(Intercept)    41.9454232 0.10680204 41.7348957 41.9453584 42.1559971\n",
       "z_relative_mob -0.3462273 0.03967026 -0.4241215 -0.3462297 -0.2683918\n",
       "z_gini          0.2673735 0.03730377  0.1941225  0.2673725  0.3405617\n",
       "log_population -0.2453682 0.03932484 -0.3225767 -0.2453730 -0.1682047\n",
       "log_income      0.6489384 0.18938874  0.2770556  0.6489308  1.0205169\n",
       "               mode       kld         \n",
       "(Intercept)    41.9452361 3.193314e-19\n",
       "z_relative_mob -0.3462314 1.984141e-14\n",
       "z_gini          0.2673737 2.243867e-14\n",
       "log_population -0.2453794 2.243501e-14\n",
       "log_income      0.6489318 2.205397e-14"
      ]
     },
     "metadata": {},
     "output_type": "display_data"
    }
   ],
   "source": [
    "f1_1$summary.fixed"
   ]
  },
  {
   "cell_type": "code",
   "execution_count": 856,
   "metadata": {},
   "outputs": [
    {
     "data": {
      "text/html": [
       "<table>\n",
       "<thead><tr><th></th><th scope=col>mean</th><th scope=col>sd</th><th scope=col>q0.025</th><th scope=col>q0.5</th><th scope=col>q0.975</th><th scope=col>mode</th></tr></thead>\n",
       "<tbody>\n",
       "\t<tr><th scope=row>SD for the Gaussian observations</th><td>1.0845787 </td><td>0.02001332</td><td>1.0459740 </td><td>1.0842817 </td><td>1.1245466 </td><td>1.0836591 </td></tr>\n",
       "\t<tr><th scope=row>SD for state</th><td>0.6833374 </td><td>0.08319916</td><td>0.5361704 </td><td>0.6774347 </td><td>0.8624172 </td><td>0.6656124 </td></tr>\n",
       "</tbody>\n",
       "</table>\n"
      ],
      "text/latex": [
       "\\begin{tabular}{r|llllll}\n",
       "  & mean & sd & q0.025 & q0.5 & q0.975 & mode\\\\\n",
       "\\hline\n",
       "\tSD for the Gaussian observations & 1.0845787  & 0.02001332 & 1.0459740  & 1.0842817  & 1.1245466  & 1.0836591 \\\\\n",
       "\tSD for state & 0.6833374  & 0.08319916 & 0.5361704  & 0.6774347  & 0.8624172  & 0.6656124 \\\\\n",
       "\\end{tabular}\n"
      ],
      "text/markdown": [
       "\n",
       "| <!--/--> | mean | sd | q0.025 | q0.5 | q0.975 | mode | \n",
       "|---|---|\n",
       "| SD for the Gaussian observations | 1.0845787  | 0.02001332 | 1.0459740  | 1.0842817  | 1.1245466  | 1.0836591  | \n",
       "| SD for state | 0.6833374  | 0.08319916 | 0.5361704  | 0.6774347  | 0.8624172  | 0.6656124  | \n",
       "\n",
       "\n"
      ],
      "text/plain": [
       "                                 mean      sd         q0.025    q0.5     \n",
       "SD for the Gaussian observations 1.0845787 0.02001332 1.0459740 1.0842817\n",
       "SD for state                     0.6833374 0.08319916 0.5361704 0.6774347\n",
       "                                 q0.975    mode     \n",
       "SD for the Gaussian observations 1.1245466 1.0836591\n",
       "SD for state                     0.8624172 0.6656124"
      ]
     },
     "metadata": {},
     "output_type": "display_data"
    }
   ],
   "source": [
    "bri.hyperpar.summary(f1_1)"
   ]
  },
  {
   "cell_type": "code",
   "execution_count": 857,
   "metadata": {},
   "outputs": [],
   "source": [
    "# simulate values per quartile\n",
    "sim_female_f1 = data.table()\n",
    "\n",
    "for (i in 1:4) {\n",
    "    model_name = paste0('f1_', i)\n",
    "    s = simulate_pred_no_re(model=get(model_name), \n",
    "                                          data=relative_mob_pred_data, \n",
    "                                          contrast='z_relative_mob', \n",
    "                                          nsim = 2000)\n",
    "    d = s[, .(q = i, fd = diff(pred)), by = sim][, .(q, fd)]\n",
    "    sim_female_f1 = rbind(sim_female_f1, d)\n",
    "    }"
   ]
  },
  {
   "cell_type": "code",
   "execution_count": 858,
   "metadata": {},
   "outputs": [],
   "source": [
    "fwrite(sim_female_f1, file = '../data/sim_female_f1.csv')"
   ]
  },
  {
   "cell_type": "markdown",
   "metadata": {},
   "source": [
    "# Adjusting for contextual variables"
   ]
  },
  {
   "cell_type": "markdown",
   "metadata": {},
   "source": [
    "### Male"
   ]
  },
  {
   "cell_type": "code",
   "execution_count": 859,
   "metadata": {},
   "outputs": [],
   "source": [
    "# -Demographic: % Black, Hispanic (since Chetty uses this to race adjust)\n",
    "# -Social: Crime rate, segregation\n",
    "# -Economic: Gini, possibly unemployment\n",
    "# -Health Access: uninsured, medicare expenses"
   ]
  },
  {
   "cell_type": "code",
   "execution_count": 860,
   "metadata": {},
   "outputs": [],
   "source": [
    "# define PC prior\n",
    "lmod <- lm(le ~ z_relative_mob  + z_gini + log_population + log_income + \n",
    "           log_crime_rate + z_segregation_income +  log_pct_black + log_pct_hispanic + \n",
    "           log_unemployment +  z_uninsured + z_medicare_expenses, male)\n",
    "\n",
    "\n",
    "sdres <- sd(residuals(lmod))\n",
    "pcprior <- list(prec = list(prior=\"pc.prec\", param = c(3*sdres,0.01)))"
   ]
  },
  {
   "cell_type": "code",
   "execution_count": 861,
   "metadata": {},
   "outputs": [],
   "source": [
    "# models per quartile\n",
    "for (i in 1:4) {\n",
    "    formula = le ~ z_relative_mob  + z_gini + log_population + log_income + \n",
    "        log_crime_rate + z_segregation_income +  log_pct_black + log_pct_hispanic + \n",
    "        log_unemployment +  z_uninsured + z_medicare_expenses +\n",
    "        f(state, model = \"iid\", hyper = pcprior)\n",
    "    model = inla(formula, family = \"gaussian\", data = male[income_qr==i],\n",
    "#           control.predictor=list(compute = TRUE),\n",
    "          control.compute = list(config = TRUE, dic = TRUE,\n",
    "                                 waic = TRUE, cpo = TRUE), \n",
    "#           control.inla = list(strategy =\"gaussian\"),\n",
    "          verbose = TRUE)\n",
    "    \n",
    "    model_name = paste0('m2_', i)\n",
    "    assign(model_name, model)\n",
    "    \n",
    "    }"
   ]
  },
  {
   "cell_type": "code",
   "execution_count": 862,
   "metadata": {},
   "outputs": [
    {
     "data": {
      "text/html": [
       "<table>\n",
       "<thead><tr><th></th><th scope=col>mean</th><th scope=col>sd</th><th scope=col>0.025quant</th><th scope=col>0.5quant</th><th scope=col>0.975quant</th><th scope=col>mode</th><th scope=col>kld</th></tr></thead>\n",
       "<tbody>\n",
       "\t<tr><th scope=row>(Intercept)</th><td>36.40819210 </td><td>0.12772455  </td><td>36.158657553</td><td>36.40731864 </td><td>36.662404222</td><td>36.40558614 </td><td>6.968851e-12</td></tr>\n",
       "\t<tr><th scope=row>z_relative_mob</th><td>-0.39106851 </td><td>0.04700954  </td><td>-0.483389234</td><td>-0.39106600 </td><td>-0.298847603</td><td>-0.39105696 </td><td>1.883950e-14</td></tr>\n",
       "\t<tr><th scope=row>z_gini</th><td> 0.22616832 </td><td>0.04252952  </td><td> 0.142669129</td><td> 0.22616268 </td><td> 0.309621075</td><td> 0.22615496 </td><td>1.822228e-14</td></tr>\n",
       "\t<tr><th scope=row>log_population</th><td>-0.07253597 </td><td>0.05576730  </td><td>-0.181987264</td><td>-0.07255615 </td><td> 0.036925218</td><td>-0.07259200 </td><td>1.185305e-14</td></tr>\n",
       "\t<tr><th scope=row>log_income</th><td> 1.66689946 </td><td>0.22158534  </td><td> 1.231767140</td><td> 1.66690066 </td><td> 2.101620575</td><td> 1.66692189 </td><td>2.035029e-14</td></tr>\n",
       "\t<tr><th scope=row>log_crime_rate</th><td>-0.21794905 </td><td>0.06325348  </td><td>-0.342137247</td><td>-0.21795708 </td><td>-0.093831923</td><td>-0.21796784 </td><td>2.254575e-14</td></tr>\n",
       "\t<tr><th scope=row>z_segregation_income</th><td>-0.02413533 </td><td>0.05258644  </td><td>-0.127425531</td><td>-0.02412653 </td><td> 0.079010155</td><td>-0.02410438 </td><td>1.574158e-14</td></tr>\n",
       "\t<tr><th scope=row>log_pct_black</th><td>-0.06721010 </td><td>0.03084784  </td><td>-0.127765877</td><td>-0.06721701 </td><td>-0.006672350</td><td>-0.06722830 </td><td>1.845762e-14</td></tr>\n",
       "\t<tr><th scope=row>log_pct_hispanic</th><td>-0.08308339 </td><td>0.04337508  </td><td>-0.168292717</td><td>-0.08307208 </td><td> 0.001984155</td><td>-0.08304563 </td><td>2.143742e-14</td></tr>\n",
       "\t<tr><th scope=row>log_unemployment</th><td> 0.28562925 </td><td>0.14912812  </td><td>-0.007288275</td><td> 0.28565450 </td><td> 0.578134788</td><td> 0.28571790 </td><td>1.872071e-14</td></tr>\n",
       "\t<tr><th scope=row>z_uninsured</th><td> 0.41292839 </td><td>0.07121826  </td><td> 0.273450369</td><td> 0.41280673 </td><td> 0.552952688</td><td> 0.41256837 </td><td>0.000000e+00</td></tr>\n",
       "\t<tr><th scope=row>z_medicare_expenses</th><td>-0.29188764 </td><td>0.04494768  </td><td>-0.380087478</td><td>-0.29190924 </td><td>-0.203650138</td><td>-0.29194889 </td><td>1.373839e-14</td></tr>\n",
       "</tbody>\n",
       "</table>\n"
      ],
      "text/latex": [
       "\\begin{tabular}{r|lllllll}\n",
       "  & mean & sd & 0.025quant & 0.5quant & 0.975quant & mode & kld\\\\\n",
       "\\hline\n",
       "\t(Intercept) & 36.40819210  & 0.12772455   & 36.158657553 & 36.40731864  & 36.662404222 & 36.40558614  & 6.968851e-12\\\\\n",
       "\tz\\_relative\\_mob & -0.39106851  & 0.04700954   & -0.483389234 & -0.39106600  & -0.298847603 & -0.39105696  & 1.883950e-14\\\\\n",
       "\tz\\_gini &  0.22616832  & 0.04252952   &  0.142669129 &  0.22616268  &  0.309621075 &  0.22615496  & 1.822228e-14\\\\\n",
       "\tlog\\_population & -0.07253597  & 0.05576730   & -0.181987264 & -0.07255615  &  0.036925218 & -0.07259200  & 1.185305e-14\\\\\n",
       "\tlog\\_income &  1.66689946  & 0.22158534   &  1.231767140 &  1.66690066  &  2.101620575 &  1.66692189  & 2.035029e-14\\\\\n",
       "\tlog\\_crime\\_rate & -0.21794905  & 0.06325348   & -0.342137247 & -0.21795708  & -0.093831923 & -0.21796784  & 2.254575e-14\\\\\n",
       "\tz\\_segregation\\_income & -0.02413533  & 0.05258644   & -0.127425531 & -0.02412653  &  0.079010155 & -0.02410438  & 1.574158e-14\\\\\n",
       "\tlog\\_pct\\_black & -0.06721010  & 0.03084784   & -0.127765877 & -0.06721701  & -0.006672350 & -0.06722830  & 1.845762e-14\\\\\n",
       "\tlog\\_pct\\_hispanic & -0.08308339  & 0.04337508   & -0.168292717 & -0.08307208  &  0.001984155 & -0.08304563  & 2.143742e-14\\\\\n",
       "\tlog\\_unemployment &  0.28562925  & 0.14912812   & -0.007288275 &  0.28565450  &  0.578134788 &  0.28571790  & 1.872071e-14\\\\\n",
       "\tz\\_uninsured &  0.41292839  & 0.07121826   &  0.273450369 &  0.41280673  &  0.552952688 &  0.41256837  & 0.000000e+00\\\\\n",
       "\tz\\_medicare\\_expenses & -0.29188764  & 0.04494768   & -0.380087478 & -0.29190924  & -0.203650138 & -0.29194889  & 1.373839e-14\\\\\n",
       "\\end{tabular}\n"
      ],
      "text/markdown": [
       "\n",
       "| <!--/--> | mean | sd | 0.025quant | 0.5quant | 0.975quant | mode | kld | \n",
       "|---|---|---|---|---|---|---|---|---|---|---|---|\n",
       "| (Intercept) | 36.40819210  | 0.12772455   | 36.158657553 | 36.40731864  | 36.662404222 | 36.40558614  | 6.968851e-12 | \n",
       "| z_relative_mob | -0.39106851  | 0.04700954   | -0.483389234 | -0.39106600  | -0.298847603 | -0.39105696  | 1.883950e-14 | \n",
       "| z_gini |  0.22616832  | 0.04252952   |  0.142669129 |  0.22616268  |  0.309621075 |  0.22615496  | 1.822228e-14 | \n",
       "| log_population | -0.07253597  | 0.05576730   | -0.181987264 | -0.07255615  |  0.036925218 | -0.07259200  | 1.185305e-14 | \n",
       "| log_income |  1.66689946  | 0.22158534   |  1.231767140 |  1.66690066  |  2.101620575 |  1.66692189  | 2.035029e-14 | \n",
       "| log_crime_rate | -0.21794905  | 0.06325348   | -0.342137247 | -0.21795708  | -0.093831923 | -0.21796784  | 2.254575e-14 | \n",
       "| z_segregation_income | -0.02413533  | 0.05258644   | -0.127425531 | -0.02412653  |  0.079010155 | -0.02410438  | 1.574158e-14 | \n",
       "| log_pct_black | -0.06721010  | 0.03084784   | -0.127765877 | -0.06721701  | -0.006672350 | -0.06722830  | 1.845762e-14 | \n",
       "| log_pct_hispanic | -0.08308339  | 0.04337508   | -0.168292717 | -0.08307208  |  0.001984155 | -0.08304563  | 2.143742e-14 | \n",
       "| log_unemployment |  0.28562925  | 0.14912812   | -0.007288275 |  0.28565450  |  0.578134788 |  0.28571790  | 1.872071e-14 | \n",
       "| z_uninsured |  0.41292839  | 0.07121826   |  0.273450369 |  0.41280673  |  0.552952688 |  0.41256837  | 0.000000e+00 | \n",
       "| z_medicare_expenses | -0.29188764  | 0.04494768   | -0.380087478 | -0.29190924  | -0.203650138 | -0.29194889  | 1.373839e-14 | \n",
       "\n",
       "\n"
      ],
      "text/plain": [
       "                     mean        sd         0.025quant   0.5quant   \n",
       "(Intercept)          36.40819210 0.12772455 36.158657553 36.40731864\n",
       "z_relative_mob       -0.39106851 0.04700954 -0.483389234 -0.39106600\n",
       "z_gini                0.22616832 0.04252952  0.142669129  0.22616268\n",
       "log_population       -0.07253597 0.05576730 -0.181987264 -0.07255615\n",
       "log_income            1.66689946 0.22158534  1.231767140  1.66690066\n",
       "log_crime_rate       -0.21794905 0.06325348 -0.342137247 -0.21795708\n",
       "z_segregation_income -0.02413533 0.05258644 -0.127425531 -0.02412653\n",
       "log_pct_black        -0.06721010 0.03084784 -0.127765877 -0.06721701\n",
       "log_pct_hispanic     -0.08308339 0.04337508 -0.168292717 -0.08307208\n",
       "log_unemployment      0.28562925 0.14912812 -0.007288275  0.28565450\n",
       "z_uninsured           0.41292839 0.07121826  0.273450369  0.41280673\n",
       "z_medicare_expenses  -0.29188764 0.04494768 -0.380087478 -0.29190924\n",
       "                     0.975quant   mode        kld         \n",
       "(Intercept)          36.662404222 36.40558614 6.968851e-12\n",
       "z_relative_mob       -0.298847603 -0.39105696 1.883950e-14\n",
       "z_gini                0.309621075  0.22615496 1.822228e-14\n",
       "log_population        0.036925218 -0.07259200 1.185305e-14\n",
       "log_income            2.101620575  1.66692189 2.035029e-14\n",
       "log_crime_rate       -0.093831923 -0.21796784 2.254575e-14\n",
       "z_segregation_income  0.079010155 -0.02410438 1.574158e-14\n",
       "log_pct_black        -0.006672350 -0.06722830 1.845762e-14\n",
       "log_pct_hispanic      0.001984155 -0.08304563 2.143742e-14\n",
       "log_unemployment      0.578134788  0.28571790 1.872071e-14\n",
       "z_uninsured           0.552952688  0.41256837 0.000000e+00\n",
       "z_medicare_expenses  -0.203650138 -0.29194889 1.373839e-14"
      ]
     },
     "metadata": {},
     "output_type": "display_data"
    }
   ],
   "source": [
    "m2_1$summary.fixed"
   ]
  },
  {
   "cell_type": "code",
   "execution_count": 863,
   "metadata": {},
   "outputs": [
    {
     "data": {
      "text/html": [
       "<table>\n",
       "<thead><tr><th></th><th scope=col>mean</th><th scope=col>sd</th><th scope=col>q0.025</th><th scope=col>q0.5</th><th scope=col>q0.975</th><th scope=col>mode</th></tr></thead>\n",
       "<tbody>\n",
       "\t<tr><th scope=row>SD for the Gaussian observations</th><td>1.0409372 </td><td>0.01930077</td><td>1.003781  </td><td>1.0406196 </td><td>1.079555  </td><td>1.0399182 </td></tr>\n",
       "\t<tr><th scope=row>SD for state</th><td>0.8279269 </td><td>0.10227067</td><td>0.648109  </td><td>0.8202341 </td><td>1.049101  </td><td>0.8040011 </td></tr>\n",
       "</tbody>\n",
       "</table>\n"
      ],
      "text/latex": [
       "\\begin{tabular}{r|llllll}\n",
       "  & mean & sd & q0.025 & q0.5 & q0.975 & mode\\\\\n",
       "\\hline\n",
       "\tSD for the Gaussian observations & 1.0409372  & 0.01930077 & 1.003781   & 1.0406196  & 1.079555   & 1.0399182 \\\\\n",
       "\tSD for state & 0.8279269  & 0.10227067 & 0.648109   & 0.8202341  & 1.049101   & 0.8040011 \\\\\n",
       "\\end{tabular}\n"
      ],
      "text/markdown": [
       "\n",
       "| <!--/--> | mean | sd | q0.025 | q0.5 | q0.975 | mode | \n",
       "|---|---|\n",
       "| SD for the Gaussian observations | 1.0409372  | 0.01930077 | 1.003781   | 1.0406196  | 1.079555   | 1.0399182  | \n",
       "| SD for state | 0.8279269  | 0.10227067 | 0.648109   | 0.8202341  | 1.049101   | 0.8040011  | \n",
       "\n",
       "\n"
      ],
      "text/plain": [
       "                                 mean      sd         q0.025   q0.5     \n",
       "SD for the Gaussian observations 1.0409372 0.01930077 1.003781 1.0406196\n",
       "SD for state                     0.8279269 0.10227067 0.648109 0.8202341\n",
       "                                 q0.975   mode     \n",
       "SD for the Gaussian observations 1.079555 1.0399182\n",
       "SD for state                     1.049101 0.8040011"
      ]
     },
     "metadata": {},
     "output_type": "display_data"
    }
   ],
   "source": [
    "bri.hyperpar.summary(m2_1)"
   ]
  },
  {
   "cell_type": "code",
   "execution_count": 864,
   "metadata": {},
   "outputs": [],
   "source": [
    "# create data for predictions\n",
    "nrep =  2 # 2 contrast values\n",
    "relative_mob_pred_data = data.table(\n",
    "    z_relative_mob       = c(0.0, 1.0),\n",
    "    z_gini               = rep(0, nrep),\n",
    "    log_population       = rep(0, nrep), \n",
    "    log_income           = rep(0, nrep),\n",
    "    log_crime_rate       = rep(0, nrep),\n",
    "#     log_poverty          = rep(0, nrep),\n",
    "#     log_mig_inflow       = rep(0, nrep),\n",
    "#     log_mig_outflow      = rep(0, nrep),\n",
    "#     log_foreign          = rep(0, nrep),\n",
    "    log_pct_black        = rep(0, nrep),\n",
    "    log_pct_hispanic     = rep(0, nrep),\n",
    "#     log_house_value      = rep(0, nrep),\n",
    "#     log_local_gov_exp    = rep(0, nrep),\n",
    "    log_unemployment     = rep(0, nrep),\n",
    "    z_segregation_income = rep(0, nrep),\n",
    "#     z_religion           = rep(0, nrep),\n",
    "#     z_labor_force        = rep(0, nrep),\n",
    "#     z_college            = rep(0, nrep),\n",
    "#     z_middle_class       = rep(0, nrep),\n",
    "    z_uninsured          = rep(0, nrep), \n",
    "    z_medicare_expenses  = rep(0, nrep))"
   ]
  },
  {
   "cell_type": "code",
   "execution_count": 865,
   "metadata": {},
   "outputs": [],
   "source": [
    "# simulate by quartile\n",
    "sim_male_m2 = data.table()\n",
    "\n",
    "for (i in 1:4) {\n",
    "    model_name = paste0('m2_', i)\n",
    "    s = simulate_pred_no_re(model=get(model_name), \n",
    "                                          data=relative_mob_pred_data, \n",
    "                                          contrast='z_relative_mob', \n",
    "                                          nsim = 2000)\n",
    "    d = s[, .(q = i, fd = diff(pred)), by = sim][, .(q, fd)]\n",
    "    sim_male_m2 = rbind(sim_male_m2, d)\n",
    "    }"
   ]
  },
  {
   "cell_type": "code",
   "execution_count": 866,
   "metadata": {},
   "outputs": [],
   "source": [
    "fwrite(sim_male_m2, file = '../data/sim_male_m2.csv')"
   ]
  },
  {
   "cell_type": "markdown",
   "metadata": {},
   "source": [
    "### Female"
   ]
  },
  {
   "cell_type": "code",
   "execution_count": 867,
   "metadata": {},
   "outputs": [],
   "source": [
    "lmod <- lm(le ~ z_relative_mob  + z_gini + log_population + log_income + \n",
    "       log_crime_rate + z_segregation_income +  log_pct_black + log_pct_hispanic + \n",
    "       log_unemployment +  z_uninsured + z_medicare_expenses, female)\n",
    "\n",
    "# pc prior\n",
    "sdres <- sd(residuals(lmod))\n",
    "pcprior <- list(prec = list(prior=\"pc.prec\", param = c(3*sdres,0.01)))"
   ]
  },
  {
   "cell_type": "code",
   "execution_count": null,
   "metadata": {},
   "outputs": [],
   "source": [
    "for (i in 1:4) {\n",
    "    formula = le ~ z_relative_mob  + z_gini + log_population + log_income + \n",
    "        log_crime_rate + z_segregation_income +  log_pct_black + log_pct_hispanic + \n",
    "        log_unemployment +  z_uninsured + z_medicare_expenses +\n",
    "        f(state, model = \"iid\", hyper = pcprior)\n",
    "    model = inla(formula, family = \"gaussian\", data = female[income_qr==i],\n",
    "#           control.predictor=list(compute = TRUE),\n",
    "          control.compute = list(config = TRUE, dic = TRUE,\n",
    "                                 waic = TRUE, cpo = TRUE), \n",
    "#           control.inla = list(strategy =\"gaussian\"),\n",
    "          verbose = TRUE)\n",
    "    \n",
    "    model_name = paste0('f2_', i)\n",
    "    assign(model_name, model)\n",
    "    \n",
    "    }"
   ]
  },
  {
   "cell_type": "code",
   "execution_count": null,
   "metadata": {},
   "outputs": [],
   "source": [
    "f2_1$summary.fixed"
   ]
  },
  {
   "cell_type": "code",
   "execution_count": null,
   "metadata": {},
   "outputs": [],
   "source": [
    "bri.hyperpar.summary(f2_1)"
   ]
  },
  {
   "cell_type": "code",
   "execution_count": null,
   "metadata": {},
   "outputs": [],
   "source": [
    "# simulate per quartile\n",
    "sim_female_f2 = data.table()\n",
    "\n",
    "for (i in 1:4) {\n",
    "    model_name = paste0('f2_', i)\n",
    "    s = simulate_pred_no_re(model=get(model_name), \n",
    "                                          data=relative_mob_pred_data, \n",
    "                                          contrast='z_relative_mob', \n",
    "                                          nsim = 2000)\n",
    "    d = s[, .(q = i, fd = diff(pred)), by = sim][, .(q, fd)]\n",
    "    sim_female_f2 = rbind(sim_female_f2, d)\n",
    "    }"
   ]
  },
  {
   "cell_type": "code",
   "execution_count": null,
   "metadata": {},
   "outputs": [],
   "source": [
    "fwrite(sim_female_f2, file = '../data/sim_female_f2.csv')"
   ]
  },
  {
   "cell_type": "markdown",
   "metadata": {},
   "source": [
    "# Table by income quartile"
   ]
  },
  {
   "cell_type": "code",
   "execution_count": 873,
   "metadata": {},
   "outputs": [],
   "source": [
    "library(texreg)\n",
    "source('functions/extract_inla.R')"
   ]
  },
  {
   "cell_type": "code",
   "execution_count": 874,
   "metadata": {},
   "outputs": [],
   "source": [
    "for (i in 1:4) {\n",
    "    cmodels <- rep(c('Women', 'Men'), 2)\n",
    "    models <- list(get(paste0('f1_', i)),\n",
    "                   get(paste0('m1_', i)),\n",
    "                   get(paste0('f2_', i)),\n",
    "                   get(paste0('m2_', i)))\n",
    "\n",
    "    cnames <- list(\"(Intercept)\" = 'Constant',\n",
    "                   'z_relative_mob' = 'Standardized Income mobility (Rank-Rank Slope)',\n",
    "                   'z_gini' = 'Standardized Gini',\n",
    "                   \"sd for state\" = \"SD states\",\n",
    "                   \"sd for the Gaussian observations\" = \"SD observations\")\n",
    "\n",
    "    # screenreg(models)\n",
    "    t = texreg(models,\n",
    "                include.dic = TRUE, include.waic = TRUE,\n",
    "                ci.test = FALSE,\n",
    "                float.pos = \"htp\",\n",
    "                caption = \"Life Expectancy (40) Models\",\n",
    "                booktabs = TRUE,\n",
    "                use.packages = FALSE,\n",
    "                dcolumn = TRUE,\n",
    "                caption.above = TRUE,\n",
    "                scalebox = 0.65,\n",
    "                label = \"inla_models\",\n",
    "                # sideways = TRUE,\n",
    "                digits = 2,\n",
    "                custom.model.names = cmodels,\n",
    "                custom.coef.map = cnames,\n",
    "                groups = list(\"Random Effects\" = c(4:5)),\n",
    "                custom.note = \"Note: Selected coefficients \n",
    "                (mean of marginal posterior distribution). 95\\\\% credibility intervals.\")\n",
    "    \n",
    "    assign(paste0('tab_', i), t)\n",
    "    \n",
    "}"
   ]
  },
  {
   "cell_type": "code",
   "execution_count": 875,
   "metadata": {},
   "outputs": [],
   "source": [
    "heading = '\\\\renewcommand{\\\\arraystretch}{1.2}\\n\n",
    "\\\\begin{table}[htp]\\n\n",
    "\\\\begin{threeparttable}\\n\n",
    "\\\\caption{Life Expectancy (40) Models\\\\tnote{1}}\\\\label{inla_models}\\n\n",
    "\\\\centering\\n\n",
    "\\\\setlength{\\\\tabcolsep}{1pt}\\n\n",
    "\\\\scriptsize\\n\n",
    "\\\\begin{tabular}{l D{.}{.}{5.11} D{.}{.}{5.11} D{.}{.}{5.11} D{.}{.}{5.11} }\\n\n",
    "\\\\toprule\\n\n",
    "& \\\\multicolumn{2}{c}{Baseline\\\\tnote{2}} & \\\\multicolumn{2}{c}{Social Indicators\\\\tnote{3}} \\\\\\\\\\n\n",
    "& \\\\multicolumn{1}{c}{Women} & \\\\multicolumn{1}{c}{Men} & \\\\multicolumn{1}{c}{Women} & \\\\multicolumn{1}{c}{Men} \\\\\\\\\\n\n",
    "\\\\midrule\\n'"
   ]
  },
  {
   "cell_type": "code",
   "execution_count": 876,
   "metadata": {},
   "outputs": [],
   "source": [
    "heading =  gsub(\"\\n\\n\", \"\\n\", heading)"
   ]
  },
  {
   "cell_type": "code",
   "execution_count": 877,
   "metadata": {},
   "outputs": [],
   "source": [
    "bottom = '\\\\addlinespace[5pt]\\n\n",
    "\\\\bottomrule\\n\n",
    "\\\\end{tabular}\n",
    "\\n\\\\begin{tablenotes}[flushleft]\\n\n",
    "\\\\scriptsize\\n\n",
    "\\\\item [1] Four separated models (one per income quartile). Selected coefficients, mean of marginal posterior distribution and 95\\\\% credibility intervals in brackets.\\n\n",
    "\\\\item [2] Baseline model adjusts for log population and log income.\\n\n",
    "\\\\item [3] Social indicators model adjusts for log population, log income, log crime rate, log \\\\% black, log \\\\% hispanic, log unemployment, z-score income segregation, z-score \\\\% uninsured, and z-score medicare expenses.\\n\\\\end{tablenotes}\\n\\\\end{threeparttable}\\n\n",
    "\\\\end{table}\\n'"
   ]
  },
  {
   "cell_type": "code",
   "execution_count": 878,
   "metadata": {},
   "outputs": [],
   "source": [
    "bottom =  gsub(\"\\n\\n\", \"\\n\", bottom)"
   ]
  },
  {
   "cell_type": "code",
   "execution_count": 879,
   "metadata": {},
   "outputs": [],
   "source": [
    "sep = NA\n",
    "for (i in 1:4) {\n",
    "  sep[i] = paste0(\"\\\\addlinespace[10pt]\\n\\\\multicolumn{5}{l}{\\\\textbf{Income Quartile \", i, \"}} \\\\\\\\\\n\\\\addlinespace[10pt]\\n\")\n",
    "}"
   ]
  },
  {
   "cell_type": "code",
   "execution_count": 880,
   "metadata": {},
   "outputs": [],
   "source": [
    "tabs = list(tab_1, tab_2, tab_3, tab_4)"
   ]
  },
  {
   "cell_type": "code",
   "execution_count": 881,
   "metadata": {},
   "outputs": [],
   "source": [
    "out = list()\n",
    "for (i in 1:4) {\n",
    "    out[[i]] = gsub('(.+)(Constant.+)(Random.+)', '\\\\2', tabs[[i]])\n",
    "}"
   ]
  },
  {
   "cell_type": "code",
   "execution_count": 882,
   "metadata": {},
   "outputs": [],
   "source": [
    "# export table\n",
    "cat(heading, \n",
    "    sep[[1]], out[[1]], \n",
    "    sep[[2]], out[[2]], \n",
    "    sep[[3]], out[[3]], \n",
    "    sep[[4]], out[[4]], \n",
    "    bottom, \n",
    "    file = 'tables/inla_models_quartile.tex')"
   ]
  },
  {
   "cell_type": "markdown",
   "metadata": {},
   "source": [
    "# Prediction per county"
   ]
  },
  {
   "cell_type": "code",
   "execution_count": 883,
   "metadata": {},
   "outputs": [],
   "source": [
    "library(sdazar)\n",
    "library(ggridges)\n",
    "library(forcats)"
   ]
  },
  {
   "cell_type": "code",
   "execution_count": 884,
   "metadata": {},
   "outputs": [],
   "source": [
    "# order data by le\n",
    "setorder(male, le)\n",
    "setorder(female, le)"
   ]
  },
  {
   "cell_type": "code",
   "execution_count": 886,
   "metadata": {},
   "outputs": [
    {
     "data": {},
     "metadata": {},
     "output_type": "display_data"
    },
    {
     "data": {
      "text/html": [
       "<table>\n",
       "<thead><tr><th scope=col>cn</th><th scope=col>state</th><th scope=col>county</th></tr></thead>\n",
       "<tbody>\n",
       "\t<tr><td>Autauga, AL </td><td>1           </td><td>1001        </td></tr>\n",
       "\t<tr><td>Baldwin, AL </td><td>1           </td><td>1003        </td></tr>\n",
       "\t<tr><td>Barbour, AL </td><td>1           </td><td>1005        </td></tr>\n",
       "\t<tr><td>Blount, AL  </td><td>1           </td><td>1009        </td></tr>\n",
       "\t<tr><td>Calhoun, AL </td><td>1           </td><td>1015        </td></tr>\n",
       "\t<tr><td>Chambers, AL</td><td>1           </td><td>1017        </td></tr>\n",
       "</tbody>\n",
       "</table>\n"
      ],
      "text/latex": [
       "\\begin{tabular}{r|lll}\n",
       " cn & state & county\\\\\n",
       "\\hline\n",
       "\t Autauga, AL  & 1            & 1001        \\\\\n",
       "\t Baldwin, AL  & 1            & 1003        \\\\\n",
       "\t Barbour, AL  & 1            & 1005        \\\\\n",
       "\t Blount, AL   & 1            & 1009        \\\\\n",
       "\t Calhoun, AL  & 1            & 1015        \\\\\n",
       "\t Chambers, AL & 1            & 1017        \\\\\n",
       "\\end{tabular}\n"
      ],
      "text/markdown": [
       "\n",
       "cn | state | county | \n",
       "|---|---|---|---|---|---|\n",
       "| Autauga, AL  | 1            | 1001         | \n",
       "| Baldwin, AL  | 1            | 1003         | \n",
       "| Barbour, AL  | 1            | 1005         | \n",
       "| Blount, AL   | 1            | 1009         | \n",
       "| Calhoun, AL  | 1            | 1015         | \n",
       "| Chambers, AL | 1            | 1017         | \n",
       "\n",
       "\n"
      ],
      "text/plain": [
       "  cn           state county\n",
       "1 Autauga, AL  1     1001  \n",
       "2 Baldwin, AL  1     1003  \n",
       "3 Barbour, AL  1     1005  \n",
       "4 Blount, AL   1     1009  \n",
       "5 Calhoun, AL  1     1015  \n",
       "6 Chambers, AL 1     1017  "
      ]
     },
     "metadata": {},
     "output_type": "display_data"
    }
   ],
   "source": [
    "# county state labes\n",
    "df[, cn := paste0(county_name, \", \", stateabbrv)]\n",
    "cn = df[, .(cn, state, county)]\n",
    "cn = cn[!duplicated(cn)]\n",
    "head(cn)"
   ]
  },
  {
   "cell_type": "code",
   "execution_count": 889,
   "metadata": {},
   "outputs": [],
   "source": [
    "# selected variables\n",
    "vars = c('le', 'county', 'state', 'z_relative_mob', 'z_gini', 'log_population', 'log_income' ,  \n",
    "        'log_crime_rate', 'z_segregation_income', 'log_pct_black', 'log_pct_hispanic', \n",
    "        'log_unemployment', 'z_uninsured', 'z_medicare_expenses')"
   ]
  },
  {
   "cell_type": "markdown",
   "metadata": {},
   "source": [
    "### Male"
   ]
  },
  {
   "cell_type": "code",
   "execution_count": 890,
   "metadata": {},
   "outputs": [],
   "source": [
    "min_mob = min(male$z_relative_mob)"
   ]
  },
  {
   "cell_type": "code",
   "execution_count": 891,
   "metadata": {},
   "outputs": [
    {
     "data": {},
     "metadata": {},
     "output_type": "display_data"
    },
    {
     "data": {},
     "metadata": {},
     "output_type": "display_data"
    },
    {
     "data": {},
     "metadata": {},
     "output_type": "display_data"
    },
    {
     "data": {
      "text/html": [
       "0"
      ],
      "text/latex": [
       "0"
      ],
      "text/markdown": [
       "0"
      ],
      "text/plain": [
       "[1] 0"
      ]
     },
     "metadata": {},
     "output_type": "display_data"
    }
   ],
   "source": [
    "bottom_male = head(male[income_qr==1, vars, with=FALSE], 10)\n",
    "bottom_male_c = copy(bottom_male)\n",
    "bottom_male_c[, z_relative_mob := min_mob]\n",
    "tot_bottom_male = rbind(bottom_male, bottom_male_c) \n",
    "tot_bottom_male[, ranking := .GRP, by = .(county, state)]\n",
    "tot_bottom_male[, order := seq_len(.N), by = .(county, state)]\n",
    "anyDuplicated(tot_bottom_male[,.(state, county, z_relative_mob)])"
   ]
  },
  {
   "cell_type": "code",
   "execution_count": 892,
   "metadata": {},
   "outputs": [],
   "source": [
    "# simulate values\n",
    "source('functions/simulation_random_intercept.R')"
   ]
  },
  {
   "cell_type": "code",
   "execution_count": 893,
   "metadata": {},
   "outputs": [
    {
     "data": {
      "text/html": [
       "<table>\n",
       "<thead><tr><th scope=col>county</th><th scope=col>state</th><th scope=col>pred</th><th scope=col>sim</th><th scope=col>z_relative_mob</th><th scope=col>le</th><th scope=col>ranking</th><th scope=col>order</th><th scope=col>cn</th></tr></thead>\n",
       "<tbody>\n",
       "\t<tr><td>48025      </td><td>41         </td><td>34.36800   </td><td>1          </td><td> 0.03526187</td><td>31.51167   </td><td>1          </td><td>1          </td><td>Bee, TX    </td></tr>\n",
       "\t<tr><td>48025      </td><td>41         </td><td>36.04396   </td><td>1          </td><td>-3.53846431</td><td>31.51167   </td><td>1          </td><td>2          </td><td>Bee, TX    </td></tr>\n",
       "\t<tr><td>48025      </td><td>41         </td><td>34.37797   </td><td>2          </td><td> 0.03526187</td><td>31.51167   </td><td>1          </td><td>1          </td><td>Bee, TX    </td></tr>\n",
       "\t<tr><td>48025      </td><td>41         </td><td>35.11921   </td><td>2          </td><td>-3.53846431</td><td>31.51167   </td><td>1          </td><td>2          </td><td>Bee, TX    </td></tr>\n",
       "\t<tr><td>48025      </td><td>41         </td><td>34.73910   </td><td>3          </td><td> 0.03526187</td><td>31.51167   </td><td>1          </td><td>1          </td><td>Bee, TX    </td></tr>\n",
       "\t<tr><td>48025      </td><td>41         </td><td>35.54174   </td><td>3          </td><td>-3.53846431</td><td>31.51167   </td><td>1          </td><td>2          </td><td>Bee, TX    </td></tr>\n",
       "</tbody>\n",
       "</table>\n"
      ],
      "text/latex": [
       "\\begin{tabular}{r|lllllllll}\n",
       " county & state & pred & sim & z\\_relative\\_mob & le & ranking & order & cn\\\\\n",
       "\\hline\n",
       "\t 48025       & 41          & 34.36800    & 1           &  0.03526187 & 31.51167    & 1           & 1           & Bee, TX    \\\\\n",
       "\t 48025       & 41          & 36.04396    & 1           & -3.53846431 & 31.51167    & 1           & 2           & Bee, TX    \\\\\n",
       "\t 48025       & 41          & 34.37797    & 2           &  0.03526187 & 31.51167    & 1           & 1           & Bee, TX    \\\\\n",
       "\t 48025       & 41          & 35.11921    & 2           & -3.53846431 & 31.51167    & 1           & 2           & Bee, TX    \\\\\n",
       "\t 48025       & 41          & 34.73910    & 3           &  0.03526187 & 31.51167    & 1           & 1           & Bee, TX    \\\\\n",
       "\t 48025       & 41          & 35.54174    & 3           & -3.53846431 & 31.51167    & 1           & 2           & Bee, TX    \\\\\n",
       "\\end{tabular}\n"
      ],
      "text/markdown": [
       "\n",
       "county | state | pred | sim | z_relative_mob | le | ranking | order | cn | \n",
       "|---|---|---|---|---|---|\n",
       "| 48025       | 41          | 34.36800    | 1           |  0.03526187 | 31.51167    | 1           | 1           | Bee, TX     | \n",
       "| 48025       | 41          | 36.04396    | 1           | -3.53846431 | 31.51167    | 1           | 2           | Bee, TX     | \n",
       "| 48025       | 41          | 34.37797    | 2           |  0.03526187 | 31.51167    | 1           | 1           | Bee, TX     | \n",
       "| 48025       | 41          | 35.11921    | 2           | -3.53846431 | 31.51167    | 1           | 2           | Bee, TX     | \n",
       "| 48025       | 41          | 34.73910    | 3           |  0.03526187 | 31.51167    | 1           | 1           | Bee, TX     | \n",
       "| 48025       | 41          | 35.54174    | 3           | -3.53846431 | 31.51167    | 1           | 2           | Bee, TX     | \n",
       "\n",
       "\n"
      ],
      "text/plain": [
       "  county state pred     sim z_relative_mob le       ranking order cn     \n",
       "1 48025  41    34.36800 1    0.03526187    31.51167 1       1     Bee, TX\n",
       "2 48025  41    36.04396 1   -3.53846431    31.51167 1       2     Bee, TX\n",
       "3 48025  41    34.37797 2    0.03526187    31.51167 1       1     Bee, TX\n",
       "4 48025  41    35.11921 2   -3.53846431    31.51167 1       2     Bee, TX\n",
       "5 48025  41    34.73910 3    0.03526187    31.51167 1       1     Bee, TX\n",
       "6 48025  41    35.54174 3   -3.53846431    31.51167 1       2     Bee, TX"
      ]
     },
     "metadata": {},
     "output_type": "display_data"
    }
   ],
   "source": [
    "sim_male_bottom = simulate_predictions(m2_1, nsim=2000, tot_bottom, contrast='z_relative_mob', \n",
    "                  random_intercept='state')\n",
    "\n",
    "sim_male_bottom = merge(sim_male_bottom, cn, by = c('county', 'state'))\n",
    "setorder(sim_male_bottom, ranking)\n",
    "head(sim_male_bottom)"
   ]
  },
  {
   "cell_type": "code",
   "execution_count": 894,
   "metadata": {},
   "outputs": [
    {
     "data": {},
     "metadata": {},
     "output_type": "display_data"
    }
   ],
   "source": [
    "sim_male_bottom[, fcn := fct_rev(factor(cn))]"
   ]
  },
  {
   "cell_type": "code",
   "execution_count": 895,
   "metadata": {},
   "outputs": [
    {
     "data": {
      "text/html": [
       "31.5116653442383"
      ],
      "text/latex": [
       "31.5116653442383"
      ],
      "text/markdown": [
       "31.5116653442383"
      ],
      "text/plain": [
       "[1] 31.51167"
      ]
     },
     "metadata": {},
     "output_type": "display_data"
    }
   ],
   "source": [
    "sim_male_bottom[fcn=='Bee, TX', le][1]"
   ]
  },
  {
   "cell_type": "code",
   "execution_count": 896,
   "metadata": {},
   "outputs": [
    {
     "data": {
      "text/html": [
       "32.9813079833984"
      ],
      "text/latex": [
       "32.9813079833984"
      ],
      "text/markdown": [
       "32.9813079833984"
      ],
      "text/plain": [
       "[1] 32.98131"
      ]
     },
     "metadata": {},
     "output_type": "display_data"
    }
   ],
   "source": [
    "sim_male_bottom[fcn=='Shelby, IN', le][1]"
   ]
  },
  {
   "cell_type": "code",
   "execution_count": 905,
   "metadata": {},
   "outputs": [
    {
     "name": "stderr",
     "output_type": "stream",
     "text": [
      "Picking joint bandwidth of 0.0427\n"
     ]
    },
    {
     "data": {
      "text/html": [
       "<strong>pdf:</strong> 2"
      ],
      "text/latex": [
       "\\textbf{pdf:} 2"
      ],
      "text/markdown": [
       "**pdf:** 2"
      ],
      "text/plain": [
       "pdf \n",
       "  2 "
      ]
     },
     "metadata": {},
     "output_type": "display_data"
    }
   ],
   "source": [
    "# plot\n",
    "savepdf('plots/counties_male')\n",
    "plot = ggplot(sim_male_bottom[ranking<9], aes(y =fcn)) + \n",
    "  geom_density_ridges(aes(x = pred, fill = paste(order)), \n",
    "           alpha = .5, color = \"white\", from = 33, to = 38, scale = 1) +\n",
    "  labs(x = \"E(40)\",\n",
    "       y = \"\") +  theme_ridges()+ \n",
    "  scale_y_discrete(expand = c(0.01, 0)) +\n",
    "  scale_x_continuous(expand = c(0.01, 0))  +\n",
    "  scale_fill_cyclical(values = c(\"#ff0000\", \"#0000ff\", \"#ff8080\", \"#8080ff\"), \n",
    "                     guide= 'legend', name='', \n",
    "                     labels = c('Observed Rank-Rank Slope','Lowest Rank-Rank Slope')) + \n",
    "  theme(legend.position = \"top\", \n",
    "        axis.title=element_text(size=10), \n",
    "        axis.text.x = element_text(size=10), \n",
    "        axis.text.y = element_text(size=10))\n",
    "print(plot)\n",
    "dev.off()"
   ]
  },
  {
   "cell_type": "markdown",
   "metadata": {},
   "source": [
    "### Female"
   ]
  },
  {
   "cell_type": "code",
   "execution_count": 898,
   "metadata": {},
   "outputs": [],
   "source": [
    "min_mob = min(female$z_relative_mob)"
   ]
  },
  {
   "cell_type": "code",
   "execution_count": 900,
   "metadata": {},
   "outputs": [
    {
     "data": {},
     "metadata": {},
     "output_type": "display_data"
    },
    {
     "data": {},
     "metadata": {},
     "output_type": "display_data"
    },
    {
     "data": {},
     "metadata": {},
     "output_type": "display_data"
    },
    {
     "data": {
      "text/html": [
       "0"
      ],
      "text/latex": [
       "0"
      ],
      "text/markdown": [
       "0"
      ],
      "text/plain": [
       "[1] 0"
      ]
     },
     "metadata": {},
     "output_type": "display_data"
    }
   ],
   "source": [
    "bottom_female = head(female[income_qr==1, vars, with=FALSE], 10)\n",
    "bottom_female_c = copy(bottom_female)\n",
    "bottom_female_c[, z_relative_mob := min_mob]\n",
    "tot_bottom_female = rbind(bottom_female, bottom_female_c) \n",
    "tot_bottom_female[, ranking := .GRP, by = .(county, state)]\n",
    "tot_bottom_female[, order := seq_len(.N), by = .(county, state)]\n",
    "anyDuplicated(tot_bottom_female[,.(state, county, z_relative_mob)])"
   ]
  },
  {
   "cell_type": "code",
   "execution_count": 901,
   "metadata": {},
   "outputs": [
    {
     "data": {
      "text/html": [
       "<table>\n",
       "<thead><tr><th scope=col>county</th><th scope=col>state</th><th scope=col>pred</th><th scope=col>sim</th><th scope=col>z_relative_mob</th><th scope=col>le</th><th scope=col>ranking</th><th scope=col>order</th><th scope=col>cn</th></tr></thead>\n",
       "<tbody>\n",
       "\t<tr><td>48025      </td><td>41         </td><td>39.76154   </td><td>1          </td><td> 0.03526187</td><td>31.51167   </td><td>1          </td><td>1          </td><td>Bee, TX    </td></tr>\n",
       "\t<tr><td>48025      </td><td>41         </td><td>41.18461   </td><td>1          </td><td>-3.53846431</td><td>31.51167   </td><td>1          </td><td>2          </td><td>Bee, TX    </td></tr>\n",
       "\t<tr><td>48025      </td><td>41         </td><td>39.91690   </td><td>2          </td><td> 0.03526187</td><td>31.51167   </td><td>1          </td><td>1          </td><td>Bee, TX    </td></tr>\n",
       "\t<tr><td>48025      </td><td>41         </td><td>41.21468   </td><td>2          </td><td>-3.53846431</td><td>31.51167   </td><td>1          </td><td>2          </td><td>Bee, TX    </td></tr>\n",
       "\t<tr><td>48025      </td><td>41         </td><td>40.26671   </td><td>3          </td><td> 0.03526187</td><td>31.51167   </td><td>1          </td><td>1          </td><td>Bee, TX    </td></tr>\n",
       "\t<tr><td>48025      </td><td>41         </td><td>41.86972   </td><td>3          </td><td>-3.53846431</td><td>31.51167   </td><td>1          </td><td>2          </td><td>Bee, TX    </td></tr>\n",
       "</tbody>\n",
       "</table>\n"
      ],
      "text/latex": [
       "\\begin{tabular}{r|lllllllll}\n",
       " county & state & pred & sim & z\\_relative\\_mob & le & ranking & order & cn\\\\\n",
       "\\hline\n",
       "\t 48025       & 41          & 39.76154    & 1           &  0.03526187 & 31.51167    & 1           & 1           & Bee, TX    \\\\\n",
       "\t 48025       & 41          & 41.18461    & 1           & -3.53846431 & 31.51167    & 1           & 2           & Bee, TX    \\\\\n",
       "\t 48025       & 41          & 39.91690    & 2           &  0.03526187 & 31.51167    & 1           & 1           & Bee, TX    \\\\\n",
       "\t 48025       & 41          & 41.21468    & 2           & -3.53846431 & 31.51167    & 1           & 2           & Bee, TX    \\\\\n",
       "\t 48025       & 41          & 40.26671    & 3           &  0.03526187 & 31.51167    & 1           & 1           & Bee, TX    \\\\\n",
       "\t 48025       & 41          & 41.86972    & 3           & -3.53846431 & 31.51167    & 1           & 2           & Bee, TX    \\\\\n",
       "\\end{tabular}\n"
      ],
      "text/markdown": [
       "\n",
       "county | state | pred | sim | z_relative_mob | le | ranking | order | cn | \n",
       "|---|---|---|---|---|---|\n",
       "| 48025       | 41          | 39.76154    | 1           |  0.03526187 | 31.51167    | 1           | 1           | Bee, TX     | \n",
       "| 48025       | 41          | 41.18461    | 1           | -3.53846431 | 31.51167    | 1           | 2           | Bee, TX     | \n",
       "| 48025       | 41          | 39.91690    | 2           |  0.03526187 | 31.51167    | 1           | 1           | Bee, TX     | \n",
       "| 48025       | 41          | 41.21468    | 2           | -3.53846431 | 31.51167    | 1           | 2           | Bee, TX     | \n",
       "| 48025       | 41          | 40.26671    | 3           |  0.03526187 | 31.51167    | 1           | 1           | Bee, TX     | \n",
       "| 48025       | 41          | 41.86972    | 3           | -3.53846431 | 31.51167    | 1           | 2           | Bee, TX     | \n",
       "\n",
       "\n"
      ],
      "text/plain": [
       "  county state pred     sim z_relative_mob le       ranking order cn     \n",
       "1 48025  41    39.76154 1    0.03526187    31.51167 1       1     Bee, TX\n",
       "2 48025  41    41.18461 1   -3.53846431    31.51167 1       2     Bee, TX\n",
       "3 48025  41    39.91690 2    0.03526187    31.51167 1       1     Bee, TX\n",
       "4 48025  41    41.21468 2   -3.53846431    31.51167 1       2     Bee, TX\n",
       "5 48025  41    40.26671 3    0.03526187    31.51167 1       1     Bee, TX\n",
       "6 48025  41    41.86972 3   -3.53846431    31.51167 1       2     Bee, TX"
      ]
     },
     "metadata": {},
     "output_type": "display_data"
    }
   ],
   "source": [
    "sim_female_bottom = simulate_predictions(f2_1, nsim=2000, tot_bottom, contrast='z_relative_mob', \n",
    "                  random_intercept='state')\n",
    "\n",
    "sim_female_bottom = merge(sim_female_bottom, cn, by = c('county', 'state'))\n",
    "setorder(sim_female_bottom, ranking)\n",
    "head(sim_female_bottom)"
   ]
  },
  {
   "cell_type": "code",
   "execution_count": 902,
   "metadata": {},
   "outputs": [
    {
     "data": {},
     "metadata": {},
     "output_type": "display_data"
    }
   ],
   "source": [
    "sim_female_bottom[, fcn := fct_rev(factor(cn))]"
   ]
  },
  {
   "cell_type": "code",
   "execution_count": 906,
   "metadata": {},
   "outputs": [
    {
     "name": "stderr",
     "output_type": "stream",
     "text": [
      "Picking joint bandwidth of 0.0423\n"
     ]
    },
    {
     "data": {
      "text/html": [
       "<strong>pdf:</strong> 2"
      ],
      "text/latex": [
       "\\textbf{pdf:} 2"
      ],
      "text/markdown": [
       "**pdf:** 2"
      ],
      "text/plain": [
       "pdf \n",
       "  2 "
      ]
     },
     "metadata": {},
     "output_type": "display_data"
    }
   ],
   "source": [
    "# plot\n",
    "savepdf('plots/counties_female')\n",
    "plot = ggplot(sim_female_bottom[ranking<9], aes(y = fcn)) + \n",
    "  geom_density_ridges(aes(x = pred, fill = paste(order)), \n",
    "           alpha = .5, color = \"white\", from = 39, to = 44, scale = 1) +\n",
    "  labs(x = \"E(40)\",\n",
    "       y = \"\") +  theme_ridges()+ \n",
    "  scale_y_discrete(expand = c(0.01, 0)) +\n",
    "  scale_x_continuous(expand = c(0.01, 0))  +\n",
    "  scale_fill_cyclical(values = c(\"#ff0000\", \"#0000ff\", \"#ff8080\", \"#8080ff\"), \n",
    "                     guide= 'legend', name='', \n",
    "                     labels = c('Observed Rank-Rank Slope','Lowest Rank-Rank Slope')) + \n",
    "  theme(legend.position = \"top\", \n",
    "        axis.title=element_text(size=10), \n",
    "        axis.text.x = element_text(size=10), \n",
    "        axis.text.y = element_text(size=10))\n",
    "print(plot)\n",
    "dev.off()"
   ]
  },
  {
   "cell_type": "code",
   "execution_count": null,
   "metadata": {},
   "outputs": [],
   "source": []
  }
 ],
 "metadata": {
  "kernelspec": {
   "display_name": "R",
   "language": "R",
   "name": "ir"
  },
  "language_info": {
   "codemirror_mode": "r",
   "file_extension": ".r",
   "mimetype": "text/x-r-source",
   "name": "R",
   "pygments_lexer": "r",
   "version": "3.4.1"
  }
 },
 "nbformat": 4,
 "nbformat_minor": 2
}
