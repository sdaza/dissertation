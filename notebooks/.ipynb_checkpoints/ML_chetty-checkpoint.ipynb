{
 "cells": [
  {
   "cell_type": "markdown",
   "metadata": {},
   "source": [
    "# Examining feature importance using ML techniques"
   ]
  },
  {
   "cell_type": "markdown",
   "metadata": {},
   "source": [
    "We explore feature importance using machine learning using Chetty's data (life expectancy in the US)."
   ]
  },
  {
   "cell_type": "code",
   "execution_count": 585,
   "metadata": {},
   "outputs": [],
   "source": [
    "import pandas as pd \n",
    "import numpy as np \n",
    "import matplotlib.pyplot as plt\n",
    "import seaborn as sns\n",
    "import re\n",
    "import pickle\n",
    "%matplotlib inline\n",
    "plt.style.use('seaborn')"
   ]
  },
  {
   "cell_type": "code",
   "execution_count": 79,
   "metadata": {},
   "outputs": [
    {
     "name": "stdout",
     "output_type": "stream",
     "text": [
      "(3138, 83)\n",
      "(12472, 9)\n"
     ]
    }
   ],
   "source": [
    "# load data\n",
    "\n",
    "# covariates\n",
    "cov = pd.read_stata('/Users/sdaza/GoogleDrive/00Dissertation/Chapters/ch02/data/cty_full_covariates.dta')\n",
    "print('covariates: ' + cov.shape)\n",
    "\n",
    "# life expectancy\n",
    "le = pd.read_stata('/Users/sdaza/GoogleDrive/00Dissertation/Chapters/ch02/data/cty_leBY_gnd_hhincquartile.dta')\n",
    "print('life expectancy: ' + le.shape)"
   ]
  },
  {
   "cell_type": "code",
   "execution_count": 80,
   "metadata": {},
   "outputs": [],
   "source": [
    "# life expectancy\n",
    "q_values = ['Q'+i.astype('str') for i in le.hh_inc_q.unique()]\n",
    "d = dict(zip(range(1,5), q_values))\n",
    "le['income_q'] = le.hh_inc_q.map(d)\n",
    "\n",
    "le.rename(columns = {'cty':'county', 'gnd':'gender', 'le_raceadj':'le'}, inplace=True)\n",
    "\n",
    "vars = ['county', 'gender', 'income_q', 'le']\n",
    "le = le.loc[:,vars]"
   ]
  },
  {
   "cell_type": "code",
   "execution_count": 486,
   "metadata": {},
   "outputs": [],
   "source": [
    "# covariates \n",
    "# cov.columns"
   ]
  },
  {
   "cell_type": "code",
   "execution_count": null,
   "metadata": {},
   "outputs": [],
   "source": [
    "# transform variables per quartile\n",
    "pd.melt(cov, id_vars='cty', value_vars=['bmi_obese_q1', 'bmi_obese_q2', 'bmi_obese_q3',\n",
    "                                         'bmi_obese_q4'], value_name='bmi_obese')"
   ]
  },
  {
   "cell_type": "code",
   "execution_count": 84,
   "metadata": {},
   "outputs": [],
   "source": [
    "cov = pd.wide_to_long(cov, ['bmi_obese_q', 'cur_smoke_q', 'exercise_any_q'], i='cty', j='income_q')"
   ]
  },
  {
   "cell_type": "code",
   "execution_count": 85,
   "metadata": {},
   "outputs": [],
   "source": [
    "cov.reset_index(inplace=True)"
   ]
  },
  {
   "cell_type": "code",
   "execution_count": 86,
   "metadata": {},
   "outputs": [
    {
     "data": {
      "text/html": [
       "<div>\n",
       "<style>\n",
       "    .dataframe thead tr:only-child th {\n",
       "        text-align: right;\n",
       "    }\n",
       "\n",
       "    .dataframe thead th {\n",
       "        text-align: left;\n",
       "    }\n",
       "\n",
       "    .dataframe tbody tr th {\n",
       "        vertical-align: top;\n",
       "    }\n",
       "</style>\n",
       "<table border=\"1\" class=\"dataframe\">\n",
       "  <thead>\n",
       "    <tr style=\"text-align: right;\">\n",
       "      <th></th>\n",
       "      <th>income_q</th>\n",
       "      <th>bmi_obese_q</th>\n",
       "    </tr>\n",
       "  </thead>\n",
       "  <tbody>\n",
       "    <tr>\n",
       "      <th>0</th>\n",
       "      <td>1</td>\n",
       "      <td>0.375000</td>\n",
       "    </tr>\n",
       "    <tr>\n",
       "      <th>3138</th>\n",
       "      <td>2</td>\n",
       "      <td>0.238095</td>\n",
       "    </tr>\n",
       "    <tr>\n",
       "      <th>6276</th>\n",
       "      <td>3</td>\n",
       "      <td>0.260870</td>\n",
       "    </tr>\n",
       "    <tr>\n",
       "      <th>9414</th>\n",
       "      <td>4</td>\n",
       "      <td>0.133333</td>\n",
       "    </tr>\n",
       "  </tbody>\n",
       "</table>\n",
       "</div>"
      ],
      "text/plain": [
       "     income_q  bmi_obese_q\n",
       "0           1     0.375000\n",
       "3138        2     0.238095\n",
       "6276        3     0.260870\n",
       "9414        4     0.133333"
      ]
     },
     "execution_count": 86,
     "metadata": {},
     "output_type": "execute_result"
    }
   ],
   "source": [
    "cov.loc[cov.cty == 1001, ['income_q', 'bmi_obese_q']]"
   ]
  },
  {
   "cell_type": "code",
   "execution_count": 87,
   "metadata": {},
   "outputs": [],
   "source": [
    "# renaming variables \n",
    "\n",
    "names = ['cty', 'income_q', 'county_name', 'cty_pop2000', 'statename', 'stateabbrv', \n",
    "        'pop_density', 'gini99', 's_rank', 'e_rank_b', 'cs00_seg_inc', \n",
    "         'cs_race_theil_2000', 'hhinc00', 'poor_share', 'frac_middleclass', \n",
    "        'mig_inflow', 'mig_outflow', 'cs_born_foreign', 'rel_tot', 'crime_total',\n",
    "         'puninsured2010',  'cs_labforce', 'unemp_rate', 'cs_frac_black', 'cs_frac_hisp',\n",
    "         'bmi_obese_q', 'cur_smoke_q','exercise_any_q'       \n",
    "        ]\n"
   ]
  },
  {
   "cell_type": "code",
   "execution_count": 88,
   "metadata": {},
   "outputs": [],
   "source": [
    "nnames = ['county', 'income_q', 'county_name', 'population', 'statename', 'stateabbrv', \n",
    "        'density', 'gini', 'relative_mob', 'absolute_mob', 'segregation_income', \n",
    "          'segregation_race', 'income', 'poverty', 'middle_class', 'mig_inflow', \n",
    "          'mig_outflow', 'foreign', 'religion', 'crime_rate', 'uninsured', \n",
    "        'labor_force', 'unemployment', 'pct_black', 'pct_hispanic', \n",
    "          'obesity', 'smoking', 'exercise'\n",
    "         ]\n",
    "\n",
    "\n",
    "d = dict(zip(names, nnames))\n",
    "cov.rename(columns=d, inplace=True)\n",
    "cov = cov.loc[:, nnames]\n",
    "cov['income_q']  = 'Q'+cov['income_q'].astype('str')"
   ]
  },
  {
   "cell_type": "code",
   "execution_count": 90,
   "metadata": {},
   "outputs": [
    {
     "data": {
      "text/html": [
       "<div>\n",
       "<style>\n",
       "    .dataframe thead tr:only-child th {\n",
       "        text-align: right;\n",
       "    }\n",
       "\n",
       "    .dataframe thead th {\n",
       "        text-align: left;\n",
       "    }\n",
       "\n",
       "    .dataframe tbody tr th {\n",
       "        vertical-align: top;\n",
       "    }\n",
       "</style>\n",
       "<table border=\"1\" class=\"dataframe\">\n",
       "  <thead>\n",
       "    <tr style=\"text-align: right;\">\n",
       "      <th></th>\n",
       "      <th>county</th>\n",
       "      <th>income_q</th>\n",
       "      <th>county_name</th>\n",
       "      <th>population</th>\n",
       "      <th>statename</th>\n",
       "      <th>stateabbrv</th>\n",
       "      <th>density</th>\n",
       "      <th>gini</th>\n",
       "      <th>relative_mob</th>\n",
       "      <th>absolute_mob</th>\n",
       "      <th>...</th>\n",
       "      <th>religion</th>\n",
       "      <th>crime_rate</th>\n",
       "      <th>uninsured</th>\n",
       "      <th>labor_force</th>\n",
       "      <th>unemployment</th>\n",
       "      <th>pct_black</th>\n",
       "      <th>pct_hispanic</th>\n",
       "      <th>obesity</th>\n",
       "      <th>smoking</th>\n",
       "      <th>exercise</th>\n",
       "    </tr>\n",
       "  </thead>\n",
       "  <tbody>\n",
       "    <tr>\n",
       "      <th>0</th>\n",
       "      <td>1001</td>\n",
       "      <td>Q1</td>\n",
       "      <td>Autauga</td>\n",
       "      <td>43671</td>\n",
       "      <td>Alabama</td>\n",
       "      <td>AL</td>\n",
       "      <td>73.277412</td>\n",
       "      <td>0.379976</td>\n",
       "      <td>40.602394</td>\n",
       "      <td>41.872879</td>\n",
       "      <td>...</td>\n",
       "      <td>56.112755</td>\n",
       "      <td>0.009353</td>\n",
       "      <td>13.601278</td>\n",
       "      <td>0.651493</td>\n",
       "      <td>0.037379</td>\n",
       "      <td>17.008999</td>\n",
       "      <td>1.396808</td>\n",
       "      <td>0.375000</td>\n",
       "      <td>0.333333</td>\n",
       "      <td>0.500000</td>\n",
       "    </tr>\n",
       "    <tr>\n",
       "      <th>1</th>\n",
       "      <td>1003</td>\n",
       "      <td>Q1</td>\n",
       "      <td>Baldwin</td>\n",
       "      <td>140415</td>\n",
       "      <td>Alabama</td>\n",
       "      <td>AL</td>\n",
       "      <td>87.960236</td>\n",
       "      <td>0.489738</td>\n",
       "      <td>25.488312</td>\n",
       "      <td>44.492390</td>\n",
       "      <td>...</td>\n",
       "      <td>47.242817</td>\n",
       "      <td>0.007371</td>\n",
       "      <td>19.085325</td>\n",
       "      <td>0.598249</td>\n",
       "      <td>0.039112</td>\n",
       "      <td>10.224691</td>\n",
       "      <td>1.756222</td>\n",
       "      <td>0.298050</td>\n",
       "      <td>0.268097</td>\n",
       "      <td>0.599432</td>\n",
       "    </tr>\n",
       "    <tr>\n",
       "      <th>2</th>\n",
       "      <td>1005</td>\n",
       "      <td>Q1</td>\n",
       "      <td>Barbour</td>\n",
       "      <td>29038</td>\n",
       "      <td>Alabama</td>\n",
       "      <td>AL</td>\n",
       "      <td>32.814877</td>\n",
       "      <td>0.490637</td>\n",
       "      <td>42.124779</td>\n",
       "      <td>37.718758</td>\n",
       "      <td>...</td>\n",
       "      <td>41.170193</td>\n",
       "      <td>0.007748</td>\n",
       "      <td>18.513805</td>\n",
       "      <td>0.480174</td>\n",
       "      <td>0.068132</td>\n",
       "      <td>46.039669</td>\n",
       "      <td>1.646119</td>\n",
       "      <td>0.294118</td>\n",
       "      <td>0.228571</td>\n",
       "      <td>0.542857</td>\n",
       "    </tr>\n",
       "    <tr>\n",
       "      <th>3</th>\n",
       "      <td>1007</td>\n",
       "      <td>Q1</td>\n",
       "      <td>Bibb</td>\n",
       "      <td>20826</td>\n",
       "      <td>Alabama</td>\n",
       "      <td>AL</td>\n",
       "      <td>33.427227</td>\n",
       "      <td>0.417098</td>\n",
       "      <td>45.493622</td>\n",
       "      <td>42.245155</td>\n",
       "      <td>...</td>\n",
       "      <td>46.365120</td>\n",
       "      <td>0.004514</td>\n",
       "      <td>17.718826</td>\n",
       "      <td>0.528893</td>\n",
       "      <td>0.061639</td>\n",
       "      <td>22.010948</td>\n",
       "      <td>1.008355</td>\n",
       "      <td>0.466667</td>\n",
       "      <td>0.244444</td>\n",
       "      <td>0.422222</td>\n",
       "    </tr>\n",
       "    <tr>\n",
       "      <th>4</th>\n",
       "      <td>1009</td>\n",
       "      <td>Q1</td>\n",
       "      <td>Blount</td>\n",
       "      <td>51024</td>\n",
       "      <td>Alabama</td>\n",
       "      <td>AL</td>\n",
       "      <td>79.035255</td>\n",
       "      <td>0.333042</td>\n",
       "      <td>25.050438</td>\n",
       "      <td>49.043320</td>\n",
       "      <td>...</td>\n",
       "      <td>50.791782</td>\n",
       "      <td>0.002019</td>\n",
       "      <td>19.280413</td>\n",
       "      <td>0.605729</td>\n",
       "      <td>0.032847</td>\n",
       "      <td>1.171997</td>\n",
       "      <td>5.326905</td>\n",
       "      <td>0.347826</td>\n",
       "      <td>0.304348</td>\n",
       "      <td>0.565217</td>\n",
       "    </tr>\n",
       "  </tbody>\n",
       "</table>\n",
       "<p>5 rows × 28 columns</p>\n",
       "</div>"
      ],
      "text/plain": [
       "   county income_q county_name  population statename stateabbrv    density  \\\n",
       "0    1001       Q1     Autauga       43671   Alabama         AL  73.277412   \n",
       "1    1003       Q1     Baldwin      140415   Alabama         AL  87.960236   \n",
       "2    1005       Q1     Barbour       29038   Alabama         AL  32.814877   \n",
       "3    1007       Q1        Bibb       20826   Alabama         AL  33.427227   \n",
       "4    1009       Q1      Blount       51024   Alabama         AL  79.035255   \n",
       "\n",
       "       gini  relative_mob  absolute_mob    ...      religion  crime_rate  \\\n",
       "0  0.379976     40.602394     41.872879    ...     56.112755    0.009353   \n",
       "1  0.489738     25.488312     44.492390    ...     47.242817    0.007371   \n",
       "2  0.490637     42.124779     37.718758    ...     41.170193    0.007748   \n",
       "3  0.417098     45.493622     42.245155    ...     46.365120    0.004514   \n",
       "4  0.333042     25.050438     49.043320    ...     50.791782    0.002019   \n",
       "\n",
       "   uninsured  labor_force  unemployment  pct_black  pct_hispanic   obesity  \\\n",
       "0  13.601278     0.651493      0.037379  17.008999      1.396808  0.375000   \n",
       "1  19.085325     0.598249      0.039112  10.224691      1.756222  0.298050   \n",
       "2  18.513805     0.480174      0.068132  46.039669      1.646119  0.294118   \n",
       "3  17.718826     0.528893      0.061639  22.010948      1.008355  0.466667   \n",
       "4  19.280413     0.605729      0.032847   1.171997      5.326905  0.347826   \n",
       "\n",
       "    smoking  exercise  \n",
       "0  0.333333  0.500000  \n",
       "1  0.268097  0.599432  \n",
       "2  0.228571  0.542857  \n",
       "3  0.244444  0.422222  \n",
       "4  0.304348  0.565217  \n",
       "\n",
       "[5 rows x 28 columns]"
      ]
     },
     "execution_count": 90,
     "metadata": {},
     "output_type": "execute_result"
    }
   ],
   "source": [
    "cov.head()"
   ]
  },
  {
   "cell_type": "code",
   "execution_count": 91,
   "metadata": {},
   "outputs": [],
   "source": [
    "# combining datasets\n",
    "df = pd.merge(le, cov, left_on=['county', 'income_q'], right_on=['county', 'income_q'], how='left')\n",
    "df = df.dropna(subset=['le', 'relative_mob', 'absolute_mob', 'income'])"
   ]
  },
  {
   "cell_type": "code",
   "execution_count": 92,
   "metadata": {},
   "outputs": [
    {
     "data": {
      "text/plain": [
       "(12448, 30)"
      ]
     },
     "execution_count": 92,
     "metadata": {},
     "output_type": "execute_result"
    }
   ],
   "source": [
    "df.shape"
   ]
  },
  {
   "cell_type": "code",
   "execution_count": 93,
   "metadata": {},
   "outputs": [],
   "source": [
    "# create dummy variables\n",
    "df['male'] = pd.get_dummies(pd.Series(df.gender), drop_first=True)\n",
    "df = pd.concat([df, pd.get_dummies(pd.Series(df.income_q), drop_first=True)], axis=1) \n",
    "df.columns = df.columns.str.lower()"
   ]
  },
  {
   "cell_type": "code",
   "execution_count": 94,
   "metadata": {},
   "outputs": [],
   "source": [
    "df.head()"
   ]
  },
  {
   "cell_type": "markdown",
   "metadata": {},
   "source": [
    "# Split data (test set)"
   ]
  },
  {
   "cell_type": "code",
   "execution_count": 97,
   "metadata": {},
   "outputs": [],
   "source": [
    "# split dataset \n",
    "\n",
    "from sklearn.model_selection import GridSearchCV\n",
    "from sklearn.model_selection import train_test_split\n",
    "from sklearn.metrics import mean_squared_error, r2_score, explained_variance_score"
   ]
  },
  {
   "cell_type": "code",
   "execution_count": 98,
   "metadata": {},
   "outputs": [],
   "source": [
    "y = df.loc[:,'le'].as_matrix()"
   ]
  },
  {
   "cell_type": "code",
   "execution_count": 99,
   "metadata": {},
   "outputs": [],
   "source": [
    "varnames = list(df.columns)"
   ]
  },
  {
   "cell_type": "code",
   "execution_count": 100,
   "metadata": {},
   "outputs": [],
   "source": [
    "states = list(filter(re.compile(r'state_').search, varnames))"
   ]
  },
  {
   "cell_type": "code",
   "execution_count": 102,
   "metadata": {},
   "outputs": [],
   "source": [
    "# define covariates\n",
    "covariates = ['county', 'statename', 'population', 'density', 'gini', 'relative_mob', 'absolute_mob', \n",
    "              'segregation_income', 'income', 'poverty', 'middle_class', \n",
    "              'mig_inflow', 'mig_outflow', 'foreign', 'religion', 'crime_rate', 'uninsured', \n",
    "              'labor_force', 'unemployment', 'pct_black', 'pct_hispanic',  'obesity', 'smoking', \n",
    "              'exercise', 'male', 'q2', 'q3', 'q4'\n",
    "             ]"
   ]
  },
  {
   "cell_type": "code",
   "execution_count": 103,
   "metadata": {},
   "outputs": [],
   "source": [
    "strata =  df.loc[:,['male', 'q2', 'q3', 'q4']].as_matrix()"
   ]
  },
  {
   "cell_type": "code",
   "execution_count": 104,
   "metadata": {},
   "outputs": [],
   "source": [
    "# split data sets using stratification\n",
    "# X_train, X_test, y_train, y_test = train_test_split(df.loc[:,covariates], \n",
    "#                                                     y, random_state=42, stratify=strata)"
   ]
  },
  {
   "cell_type": "code",
   "execution_count": 586,
   "metadata": {},
   "outputs": [],
   "source": [
    "PIK = \"split_dataframe\"\n",
    "\n",
    "# data = [X_train, X_test, y_train, y_test]\n",
    "# with open(PIK, \"wb\") as f:\n",
    "#       pickle.dump(data, f)\n",
    "    "
   ]
  },
  {
   "cell_type": "code",
   "execution_count": 587,
   "metadata": {},
   "outputs": [],
   "source": [
    "with open(PIK, \"rb\") as f:\n",
    "    data = pickle.load(f) # list object"
   ]
  },
  {
   "cell_type": "code",
   "execution_count": 588,
   "metadata": {},
   "outputs": [],
   "source": [
    "X_train_df = data[0]\n",
    "X_test_df = data[1]\n",
    "y_train_df = data[2]\n",
    "y_test_df = data[3]"
   ]
  },
  {
   "cell_type": "code",
   "execution_count": 589,
   "metadata": {},
   "outputs": [
    {
     "data": {
      "text/html": [
       "<div>\n",
       "<style>\n",
       "    .dataframe thead tr:only-child th {\n",
       "        text-align: right;\n",
       "    }\n",
       "\n",
       "    .dataframe thead th {\n",
       "        text-align: left;\n",
       "    }\n",
       "\n",
       "    .dataframe tbody tr th {\n",
       "        vertical-align: top;\n",
       "    }\n",
       "</style>\n",
       "<table border=\"1\" class=\"dataframe\">\n",
       "  <thead>\n",
       "    <tr style=\"text-align: right;\">\n",
       "      <th></th>\n",
       "      <th>county</th>\n",
       "      <th>statename</th>\n",
       "      <th>population</th>\n",
       "      <th>density</th>\n",
       "      <th>gini</th>\n",
       "      <th>relative_mob</th>\n",
       "      <th>absolute_mob</th>\n",
       "      <th>segregation_income</th>\n",
       "      <th>income</th>\n",
       "      <th>poverty</th>\n",
       "      <th>...</th>\n",
       "      <th>unemployment</th>\n",
       "      <th>pct_black</th>\n",
       "      <th>pct_hispanic</th>\n",
       "      <th>obesity</th>\n",
       "      <th>smoking</th>\n",
       "      <th>exercise</th>\n",
       "      <th>male</th>\n",
       "      <th>q2</th>\n",
       "      <th>q3</th>\n",
       "      <th>q4</th>\n",
       "    </tr>\n",
       "  </thead>\n",
       "  <tbody>\n",
       "    <tr>\n",
       "      <th>295</th>\n",
       "      <td>1117</td>\n",
       "      <td>Alabama</td>\n",
       "      <td>143293</td>\n",
       "      <td>180.312103</td>\n",
       "      <td>0.437519</td>\n",
       "      <td>29.034760</td>\n",
       "      <td>44.660240</td>\n",
       "      <td>0.078369</td>\n",
       "      <td>47774.160156</td>\n",
       "      <td>0.063136</td>\n",
       "      <td>...</td>\n",
       "      <td>0.026540</td>\n",
       "      <td>7.376494</td>\n",
       "      <td>2.030804</td>\n",
       "      <td>0.184758</td>\n",
       "      <td>0.138636</td>\n",
       "      <td>0.865854</td>\n",
       "      <td>1</td>\n",
       "      <td>0</td>\n",
       "      <td>0</td>\n",
       "      <td>1</td>\n",
       "    </tr>\n",
       "    <tr>\n",
       "      <th>7742</th>\n",
       "      <td>37195</td>\n",
       "      <td>North Carolina</td>\n",
       "      <td>73814</td>\n",
       "      <td>198.911789</td>\n",
       "      <td>0.514278</td>\n",
       "      <td>40.644012</td>\n",
       "      <td>37.517418</td>\n",
       "      <td>0.080646</td>\n",
       "      <td>31562.498047</td>\n",
       "      <td>0.184722</td>\n",
       "      <td>...</td>\n",
       "      <td>0.074603</td>\n",
       "      <td>39.133499</td>\n",
       "      <td>6.038150</td>\n",
       "      <td>0.317647</td>\n",
       "      <td>0.159091</td>\n",
       "      <td>0.829545</td>\n",
       "      <td>1</td>\n",
       "      <td>0</td>\n",
       "      <td>1</td>\n",
       "      <td>0</td>\n",
       "    </tr>\n",
       "    <tr>\n",
       "      <th>3705</th>\n",
       "      <td>21043</td>\n",
       "      <td>Kentucky</td>\n",
       "      <td>26889</td>\n",
       "      <td>65.487236</td>\n",
       "      <td>0.364777</td>\n",
       "      <td>28.831184</td>\n",
       "      <td>45.690773</td>\n",
       "      <td>0.009451</td>\n",
       "      <td>24446.972656</td>\n",
       "      <td>0.223003</td>\n",
       "      <td>...</td>\n",
       "      <td>0.103172</td>\n",
       "      <td>0.126446</td>\n",
       "      <td>0.587601</td>\n",
       "      <td>0.334842</td>\n",
       "      <td>0.278761</td>\n",
       "      <td>0.637755</td>\n",
       "      <td>0</td>\n",
       "      <td>1</td>\n",
       "      <td>0</td>\n",
       "      <td>0</td>\n",
       "    </tr>\n",
       "    <tr>\n",
       "      <th>6165</th>\n",
       "      <td>31001</td>\n",
       "      <td>Nebraska</td>\n",
       "      <td>31151</td>\n",
       "      <td>55.290302</td>\n",
       "      <td>0.385143</td>\n",
       "      <td>19.235413</td>\n",
       "      <td>51.407990</td>\n",
       "      <td>0.048392</td>\n",
       "      <td>34088.835938</td>\n",
       "      <td>0.093160</td>\n",
       "      <td>...</td>\n",
       "      <td>0.030712</td>\n",
       "      <td>0.590671</td>\n",
       "      <td>4.584123</td>\n",
       "      <td>0.280289</td>\n",
       "      <td>0.216169</td>\n",
       "      <td>0.774081</td>\n",
       "      <td>1</td>\n",
       "      <td>1</td>\n",
       "      <td>0</td>\n",
       "      <td>0</td>\n",
       "    </tr>\n",
       "    <tr>\n",
       "      <th>5433</th>\n",
       "      <td>27163</td>\n",
       "      <td>Minnesota</td>\n",
       "      <td>201130</td>\n",
       "      <td>513.474792</td>\n",
       "      <td>0.251623</td>\n",
       "      <td>17.478523</td>\n",
       "      <td>52.369339</td>\n",
       "      <td>0.084809</td>\n",
       "      <td>50821.703125</td>\n",
       "      <td>0.029118</td>\n",
       "      <td>...</td>\n",
       "      <td>0.030611</td>\n",
       "      <td>1.795853</td>\n",
       "      <td>1.935067</td>\n",
       "      <td>0.205433</td>\n",
       "      <td>0.247525</td>\n",
       "      <td>0.787472</td>\n",
       "      <td>0</td>\n",
       "      <td>1</td>\n",
       "      <td>0</td>\n",
       "      <td>0</td>\n",
       "    </tr>\n",
       "  </tbody>\n",
       "</table>\n",
       "<p>5 rows × 28 columns</p>\n",
       "</div>"
      ],
      "text/plain": [
       "      county       statename  population     density      gini  relative_mob  \\\n",
       "295     1117         Alabama      143293  180.312103  0.437519     29.034760   \n",
       "7742   37195  North Carolina       73814  198.911789  0.514278     40.644012   \n",
       "3705   21043        Kentucky       26889   65.487236  0.364777     28.831184   \n",
       "6165   31001        Nebraska       31151   55.290302  0.385143     19.235413   \n",
       "5433   27163       Minnesota      201130  513.474792  0.251623     17.478523   \n",
       "\n",
       "      absolute_mob  segregation_income        income   poverty ...  \\\n",
       "295      44.660240            0.078369  47774.160156  0.063136 ...   \n",
       "7742     37.517418            0.080646  31562.498047  0.184722 ...   \n",
       "3705     45.690773            0.009451  24446.972656  0.223003 ...   \n",
       "6165     51.407990            0.048392  34088.835938  0.093160 ...   \n",
       "5433     52.369339            0.084809  50821.703125  0.029118 ...   \n",
       "\n",
       "      unemployment  pct_black  pct_hispanic   obesity   smoking  exercise  \\\n",
       "295       0.026540   7.376494      2.030804  0.184758  0.138636  0.865854   \n",
       "7742      0.074603  39.133499      6.038150  0.317647  0.159091  0.829545   \n",
       "3705      0.103172   0.126446      0.587601  0.334842  0.278761  0.637755   \n",
       "6165      0.030712   0.590671      4.584123  0.280289  0.216169  0.774081   \n",
       "5433      0.030611   1.795853      1.935067  0.205433  0.247525  0.787472   \n",
       "\n",
       "      male  q2  q3  q4  \n",
       "295      1   0   0   1  \n",
       "7742     1   0   1   0  \n",
       "3705     0   1   0   0  \n",
       "6165     1   1   0   0  \n",
       "5433     0   1   0   0  \n",
       "\n",
       "[5 rows x 28 columns]"
      ]
     },
     "execution_count": 589,
     "metadata": {},
     "output_type": "execute_result"
    }
   ],
   "source": [
    "X_train_df.head()"
   ]
  },
  {
   "cell_type": "code",
   "execution_count": null,
   "metadata": {},
   "outputs": [],
   "source": [
    "X_train_df.isnull().sum()/len(X_train) # small number of missing data"
   ]
  },
  {
   "cell_type": "code",
   "execution_count": 591,
   "metadata": {},
   "outputs": [],
   "source": [
    "X_train_selection = X_train_df.drop(['absolute_mob', 'county', 'statename'], axis=1)\n",
    "X_test_selection = X_test_df.drop(['absolute_mob', 'county', 'statename'], axis=1)"
   ]
  },
  {
   "cell_type": "code",
   "execution_count": 592,
   "metadata": {},
   "outputs": [],
   "source": [
    "# features\n",
    "features = X_train_selection.columns.tolist()"
   ]
  },
  {
   "cell_type": "code",
   "execution_count": 593,
   "metadata": {},
   "outputs": [],
   "source": [
    "X_train = X_train_selection.as_matrix()\n",
    "X_test = X_test_selection.as_matrix()"
   ]
  },
  {
   "cell_type": "markdown",
   "metadata": {},
   "source": [
    "# Baseline (average model)"
   ]
  },
  {
   "cell_type": "markdown",
   "metadata": {},
   "source": [
    "Baseline model to compare performance."
   ]
  },
  {
   "cell_type": "code",
   "execution_count": 114,
   "metadata": {},
   "outputs": [],
   "source": [
    "# baseline using mean\n",
    "\n",
    "from sklearn import base\n",
    "\n",
    "class averageEstimator(base.BaseEstimator, base.RegressorMixin):\n",
    "    def __init__(self):\n",
    "        self.avg = 0.0\n",
    "    \n",
    "    def fit(self, X, y):\n",
    "        self.avg = y.mean()\n",
    "        return self\n",
    "    \n",
    "    def predict(self, X): \n",
    "        return [self.avg for row in X]"
   ]
  },
  {
   "cell_type": "code",
   "execution_count": 115,
   "metadata": {},
   "outputs": [],
   "source": [
    "baseline_model = averageEstimator()"
   ]
  },
  {
   "cell_type": "code",
   "execution_count": 116,
   "metadata": {},
   "outputs": [
    {
     "data": {
      "text/plain": [
       "averageEstimator()"
      ]
     },
     "execution_count": 116,
     "metadata": {},
     "output_type": "execute_result"
    }
   ],
   "source": [
    "baseline_model.fit(X_train, y_train)"
   ]
  },
  {
   "cell_type": "code",
   "execution_count": 117,
   "metadata": {},
   "outputs": [
    {
     "data": {
      "text/plain": [
       "12.922528"
      ]
     },
     "execution_count": 117,
     "metadata": {},
     "output_type": "execute_result"
    }
   ],
   "source": [
    "from sklearn.metrics import mean_squared_error, explained_variance_score, r2_score\n",
    "\n",
    "mean_squared_error(y_train, baseline_model.predict(X_train))"
   ]
  },
  {
   "cell_type": "markdown",
   "metadata": {},
   "source": [
    "# Regression "
   ]
  },
  {
   "cell_type": "markdown",
   "metadata": {},
   "source": [
    "Just plain linear regression, with all the predictors (i.e., also mediators)"
   ]
  },
  {
   "cell_type": "code",
   "execution_count": 596,
   "metadata": {},
   "outputs": [],
   "source": [
    "from sklearn import  linear_model, utils, preprocessing\n",
    "from sklearn.model_selection import cross_val_score\n",
    "from sklearn.pipeline import Pipeline\n",
    "from sklearn.preprocessing import Imputer"
   ]
  },
  {
   "cell_type": "code",
   "execution_count": 636,
   "metadata": {},
   "outputs": [],
   "source": [
    "reg_estimator = Pipeline([('imputer', Imputer(missing_values=np.nan,\n",
    "                                          strategy='mean',\n",
    "                                          axis=0)),\n",
    "                          ('regression', linear_model.LinearRegression(fit_intercept=True))\n",
    "                         ])"
   ]
  },
  {
   "cell_type": "code",
   "execution_count": 675,
   "metadata": {},
   "outputs": [
    {
     "data": {
      "text/plain": [
       "Pipeline(memory=None,\n",
       "     steps=[('imputer', Imputer(axis=0, copy=True, missing_values=nan, strategy='mean', verbose=0)), ('regression', LinearRegression(copy_X=True, fit_intercept=True, n_jobs=1, normalize=False))])"
      ]
     },
     "execution_count": 675,
     "metadata": {},
     "output_type": "execute_result"
    }
   ],
   "source": [
    "reg_estimator.fit(X_train, y_train)"
   ]
  },
  {
   "cell_type": "code",
   "execution_count": 677,
   "metadata": {},
   "outputs": [
    {
     "data": {
      "text/plain": [
       "2.0739537588923991"
      ]
     },
     "execution_count": 677,
     "metadata": {},
     "output_type": "execute_result"
    }
   ],
   "source": [
    "mean_squared_error(y_train, reg_estimator.predict(X_train))"
   ]
  },
  {
   "cell_type": "markdown",
   "metadata": {},
   "source": [
    "Not bad reduction!"
   ]
  },
  {
   "cell_type": "code",
   "execution_count": 678,
   "metadata": {},
   "outputs": [],
   "source": [
    "lreg_scores = cross_val_score(reg_estimator, X_train, y_train, cv=5, scoring='neg_mean_squared_error')"
   ]
  },
  {
   "cell_type": "code",
   "execution_count": 679,
   "metadata": {},
   "outputs": [
    {
     "data": {
      "text/plain": [
       "array([-2.14177798, -1.99418521, -2.0490566 , -2.32243575, -1.97353176])"
      ]
     },
     "execution_count": 679,
     "metadata": {},
     "output_type": "execute_result"
    }
   ],
   "source": [
    "lreg_scores"
   ]
  },
  {
   "cell_type": "code",
   "execution_count": 681,
   "metadata": {},
   "outputs": [],
   "source": [
    "pred_reg = reg_estimator.predict(X_train)"
   ]
  },
  {
   "cell_type": "code",
   "execution_count": 683,
   "metadata": {},
   "outputs": [
    {
     "data": {
      "image/png": "[encoded data removed]",
      "text/plain": [
       "<matplotlib.figure.Figure at 0x15d1e3ac8>"
      ]
     },
     "metadata": {},
     "output_type": "display_data"
    }
   ],
   "source": [
    "g = sns.jointplot(pred_reg, y_train, alpha=0.20, \n",
    "                  annot_kws=dict(stat=\"r\"))\n",
    "g.set_axis_labels(xlabel='Observed', ylabel='Predicted');"
   ]
  },
  {
   "cell_type": "markdown",
   "metadata": {},
   "source": [
    "There is a problem when predicting the bottom of the distribution, an split in the predicted values at LE 80 that is not observed in the data. "
   ]
  },
  {
   "cell_type": "markdown",
   "metadata": {},
   "source": [
    "# Random Forest "
   ]
  },
  {
   "cell_type": "markdown",
   "metadata": {},
   "source": [
    "Let's start just exploring the parameter space and selecting the best random forest setup. "
   ]
  },
  {
   "cell_type": "code",
   "execution_count": 597,
   "metadata": {},
   "outputs": [],
   "source": [
    "from sklearn.ensemble import RandomForestRegressor"
   ]
  },
  {
   "cell_type": "code",
   "execution_count": 628,
   "metadata": {},
   "outputs": [],
   "source": [
    "# explore parameter space\n",
    "param_grid = {\"forest__n_estimators\": np.arange(650, 850, 50),\n",
    "              \"forest__max_depth\": np.arange(5, 10, 1),\n",
    "              \"forest__min_samples_split\": np.arange(20,40,2),\n",
    "              \"forest__min_samples_leaf\": np.arange(10,25,1),\n",
    "              \"forest__max_leaf_nodes\": np.arange(4,24,2),\n",
    "              \"forest__min_weight_fraction_leaf\": np.arange(0.01,0.05, 0.01)}"
   ]
  },
  {
   "cell_type": "code",
   "execution_count": 661,
   "metadata": {},
   "outputs": [],
   "source": [
    "#np.arange(0.01,0.02, 0.01)"
   ]
  },
  {
   "cell_type": "code",
   "execution_count": 629,
   "metadata": {},
   "outputs": [],
   "source": [
    "forest_estimator = Pipeline([('imputer', Imputer(missing_values=np.nan,\n",
    "                                          strategy='mean', # no big number of missing data\n",
    "                                          axis=0)),\n",
    "                            ('forest', RandomForestRegressor(random_state = 42))\n",
    "                         ])"
   ]
  },
  {
   "cell_type": "code",
   "execution_count": 630,
   "metadata": {},
   "outputs": [],
   "source": [
    "# explore parameters\n",
    "def evaluate_param(parameter, num_range, index):\n",
    "    grid_search = GridSearchCV(forest_estimator, param_grid = {parameter: num_range},\n",
    "                              scoring='neg_mean_squared_error')\n",
    "    \n",
    "    grid_search.fit(X_train, y_train)\n",
    "    \n",
    "    p = np.array([i[parameter] for i in grid_search.cv_results_['params']])\n",
    "    s = grid_search.cv_results_['mean_test_score']\n",
    "\n",
    "    df = pd.DataFrame(list(zip(p,s)), columns=['index', 'score'])\n",
    "    df = df.sort_values(by='index')\n",
    " \n",
    "    plt.subplot(3,2,index)\n",
    "    plot = plt.plot(df['index'], df['score'])\n",
    "    plt.title(parameter)\n",
    "    return plot"
   ]
  },
  {
   "cell_type": "code",
   "execution_count": 622,
   "metadata": {},
   "outputs": [],
   "source": [
    "# explore parameter space\n",
    "# param_grid = {\"forest__n_estimators\": np.arange(60, 120, 2),\n",
    "#               \"forest__max_depth\": np.arange(5, 15, 1),\n",
    "#               \"forest__min_samples_split\": np.arange(10,50,2),\n",
    "#               \"forest__min_samples_leaf\": np.arange(10,30,1),\n",
    "#               \"forest__max_leaf_nodes\": np.arange(5,15,1),\n",
    "#               \"forest__min_weight_fraction_leaf\": np.arange(0.01,0.03, 0.01)}"
   ]
  },
  {
   "cell_type": "code",
   "execution_count": 631,
   "metadata": {},
   "outputs": [
    {
     "data": {
      "image/png": "[encoded data removed]",
      "text/plain": [
       "<matplotlib.figure.Figure at 0x123ee3080>"
      ]
     },
     "metadata": {},
     "output_type": "display_data"
    }
   ],
   "source": [
    "index = 1\n",
    "plt.figure(figsize=(16,12))\n",
    "for parameter, param_range in dict.items(param_grid):   \n",
    "    evaluate_param(parameter, param_range, index)\n",
    "    index += 1"
   ]
  },
  {
   "cell_type": "code",
   "execution_count": null,
   "metadata": {},
   "outputs": [],
   "source": [
    "# rfreg_scores = cross_val_score(forest_estimator, X_train, y_train, cv=5, \n",
    "#                                scoring='neg_mean_squared_error')"
   ]
  },
  {
   "cell_type": "code",
   "execution_count": null,
   "metadata": {},
   "outputs": [],
   "source": [
    "param_grid = {\"forest__n_estimators\": [700, 1200, 50],\n",
    "              \"forest__max_depth\": [9, 15, 20],\n",
    "              \"forest__min_samples_split\": [30,40,50],\n",
    "              \"forest__min_samples_leaf\": [10, 12, 14],\n",
    "              \"forest__max_leaf_nodes\": [15, 20, 30],\n",
    "              \"forest__min_weight_fraction_leaf\": [0.1]}\n",
    "\n",
    "\n",
    "grid_search = GridSearchCV(forest_estimator, param_grid=param_grid, \n",
    "                           scoring='neg_mean_squared_error')\n",
    "grid_search.fit(X_train, y_train)"
   ]
  },
  {
   "cell_type": "code",
   "execution_count": 633,
   "metadata": {},
   "outputs": [
    {
     "data": {
      "text/plain": [
       "-3.6298145012779255"
      ]
     },
     "execution_count": 633,
     "metadata": {},
     "output_type": "execute_result"
    }
   ],
   "source": [
    "grid_search.best_score_"
   ]
  },
  {
   "cell_type": "code",
   "execution_count": 634,
   "metadata": {},
   "outputs": [
    {
     "data": {
      "text/plain": [
       "{'forest__max_depth': 9,\n",
       " 'forest__max_leaf_nodes': 15,\n",
       " 'forest__min_samples_leaf': 10,\n",
       " 'forest__min_samples_split': 30,\n",
       " 'forest__min_weight_fraction_leaf': 0.1,\n",
       " 'forest__n_estimators': 760}"
      ]
     },
     "execution_count": 634,
     "metadata": {},
     "output_type": "execute_result"
    }
   ],
   "source": [
    "grid_search.best_params_"
   ]
  },
  {
   "cell_type": "code",
   "execution_count": null,
   "metadata": {},
   "outputs": [],
   "source": [
    "# using final parameters\n",
    "grid_search.predict()"
   ]
  },
  {
   "cell_type": "code",
   "execution_count": 380,
   "metadata": {},
   "outputs": [],
   "source": [
    "# plot of feature importance\n",
    "def importance_plot(feature_importance, features, thresold = 0.0):\n",
    "    im = sorted(zip(map(lambda x: round(x, 3), forest_estimator.steps[1][1].feature_importances_), \n",
    "           features))\n",
    "    im  = pd.DataFrame(importance, columns=['importance', 'feature'])\n",
    "    im = importance.loc[importance.importance > thresold,:] # filter\n",
    "    plot = importance.plot.barh(x='feature',legend=None)\n",
    "    plt.ylabel('Features')\n",
    "    plt.xlabel('Importance')\n",
    "    return plot"
   ]
  },
  {
   "cell_type": "code",
   "execution_count": 382,
   "metadata": {},
   "outputs": [],
   "source": [
    "importances = forest_estimator.steps[1][1].feature_importances_\n",
    "importance_plot(importances, features);"
   ]
  },
  {
   "cell_type": "markdown",
   "metadata": {},
   "source": [
    "So, the key demographic variables (gender and income quartile) are the strongest predictors. Mobility improves predictions only slightly. These scores are tricky because of correlation between features. "
   ]
  },
  {
   "cell_type": "code",
   "execution_count": 656,
   "metadata": {},
   "outputs": [],
   "source": [
    "# predictions over observed valued\n",
    "pred = reg_estimator.predict(X_train)"
   ]
  },
  {
   "cell_type": "code",
   "execution_count": 659,
   "metadata": {},
   "outputs": [],
   "source": [
    "params = {'forest__n_estimators': 1000}"
   ]
  },
  {
   "cell_type": "code",
   "execution_count": 708,
   "metadata": {},
   "outputs": [
    {
     "data": {
      "text/plain": [
       "Pipeline(memory=None,\n",
       "     steps=[('imputer', Imputer(axis=0, copy=True, missing_values=nan, strategy='mean', verbose=0)), ('forest', RandomForestRegressor(bootstrap=True, criterion='mse', max_depth=None,\n",
       "           max_features='auto', max_leaf_nodes=None,\n",
       "           min_impurity_decrease=0.0, min_impurity_split=None,\n",
       "           min_samples_leaf=10, min_samples_split=2,\n",
       "           min_weight_fraction_leaf=0.0, n_estimators=1000, n_jobs=2,\n",
       "           oob_score=True, random_state=42, verbose=0, warm_start=False))])"
      ]
     },
     "execution_count": 708,
     "metadata": {},
     "output_type": "execute_result"
    }
   ],
   "source": [
    "forest_estimator.set_params(forest__n_estimators=1000, \n",
    "                            forest__min_samples_leaf=10, \n",
    "                            forest__oob_score=True,\n",
    "                            forest__n_jobs=2)"
   ]
  },
  {
   "cell_type": "code",
   "execution_count": null,
   "metadata": {},
   "outputs": [],
   "source": [
    "rf_scores = cross_val_score(forest_estimator, X_train, y_train, \n",
    "                            cv=5, \n",
    "                            scoring='neg_mean_squared_error')"
   ]
  },
  {
   "cell_type": "code",
   "execution_count": null,
   "metadata": {},
   "outputs": [],
   "source": [
    "rf_scores"
   ]
  },
  {
   "cell_type": "code",
   "execution_count": 699,
   "metadata": {},
   "outputs": [
    {
     "data": {
      "text/plain": [
       "Pipeline(memory=None,\n",
       "     steps=[('imputer', Imputer(axis=0, copy=True, missing_values=nan, strategy='mean', verbose=0)), ('forest', RandomForestRegressor(bootstrap=True, criterion='mse', max_depth=None,\n",
       "           max_features='auto', max_leaf_nodes=None,\n",
       "           min_impurity_decrease=0.0, min_impurity_split=None,\n",
       "           min_samples_leaf=10, min_samples_split=2,\n",
       "           min_weight_fraction_leaf=0.0, n_estimators=1000, n_jobs=1,\n",
       "           oob_score=True, random_state=42, verbose=0, warm_start=False))])"
      ]
     },
     "execution_count": 699,
     "metadata": {},
     "output_type": "execute_result"
    }
   ],
   "source": [
    "forest_estimator.fit(X_train, y_train)"
   ]
  },
  {
   "cell_type": "code",
   "execution_count": 700,
   "metadata": {},
   "outputs": [],
   "source": [
    "pred = forest_estimator.predict(X_train)"
   ]
  },
  {
   "cell_type": "code",
   "execution_count": 710,
   "metadata": {},
   "outputs": [],
   "source": [
    "# forest_estimator.steps[1][1].oob_score_"
   ]
  },
  {
   "cell_type": "code",
   "execution_count": 701,
   "metadata": {},
   "outputs": [
    {
     "data": {
      "text/plain": [
       "0.91200264509588314"
      ]
     },
     "execution_count": 701,
     "metadata": {},
     "output_type": "execute_result"
    }
   ],
   "source": [
    "mean_squared_error(y_train, pred)"
   ]
  },
  {
   "cell_type": "code",
   "execution_count": 702,
   "metadata": {},
   "outputs": [
    {
     "data": {
      "image/png": "[encoded data removed]",
      "text/plain": [
       "<matplotlib.figure.Figure at 0x15d130be0>"
      ]
     },
     "metadata": {},
     "output_type": "display_data"
    }
   ],
   "source": [
    "g = sns.jointplot(pred, y_train, alpha=0.20, \n",
    "                  annot_kws=dict(stat=\"r\"))\n",
    "g.set_axis_labels(xlabel='Observed', ylabel='Predicted');"
   ]
  },
  {
   "cell_type": "markdown",
   "metadata": {},
   "source": [
    "Better predictions as expected, but some risk of overfitting. "
   ]
  },
  {
   "cell_type": "markdown",
   "metadata": {},
   "source": [
    "# Without mediators"
   ]
  },
  {
   "cell_type": "markdown",
   "metadata": {},
   "source": [
    "Let's now remove mediators (smoking, exercising, obesity). \n",
    "\n",
    "Even if I remove *relative mobility* as feature, the importance *inequality* (gini) does not improve. In this dataset, the gini coefficient doesn't have a lot of predictive power. \n",
    "\n",
    "Then, I try removing mediators. \n"
   ]
  },
  {
   "cell_type": "code",
   "execution_count": 225,
   "metadata": {},
   "outputs": [],
   "source": [
    "X_train_selection = X_train_df.drop(['absolute_mob', 'county', 'statename', 'obesity', \n",
    "                                    'smoking', 'exercise'], axis=1)\n",
    "X_test_selection = X_test_df.drop(['absolute_mob', 'county', 'statename', \n",
    "                                  'obesity', 'smoking', 'exercise'], axis=1)"
   ]
  },
  {
   "cell_type": "code",
   "execution_count": 217,
   "metadata": {},
   "outputs": [],
   "source": [
    "X_train = X_train_selection.as_matrix()\n",
    "X_test = X_test_selection.as_matrix()"
   ]
  },
  {
   "cell_type": "code",
   "execution_count": 218,
   "metadata": {},
   "outputs": [],
   "source": [
    "features = X_train_selection.columns.tolist()"
   ]
  },
  {
   "cell_type": "code",
   "execution_count": 219,
   "metadata": {},
   "outputs": [
    {
     "data": {
      "text/plain": [
       "Pipeline(memory=None,\n",
       "     steps=[('imputer', Imputer(axis=0, copy=True, missing_values=nan, strategy='mean', verbose=0)), ('forest', RandomForestRegressor(bootstrap=True, criterion='mse', max_depth=None,\n",
       "           max_features='auto', max_leaf_nodes=30,\n",
       "           min_impurity_decrease=0.0, min_impurity_split=None,\n",
       "           min_samples_leaf=1, min_samples_split=2,\n",
       "           min_weight_fraction_leaf=0.0, n_estimators=1000, n_jobs=-1,\n",
       "           oob_score=False, random_state=None, verbose=0, warm_start=False))])"
      ]
     },
     "execution_count": 219,
     "metadata": {},
     "output_type": "execute_result"
    }
   ],
   "source": [
    "forest_estimator.fit(X_train, y_train)"
   ]
  }
 ],
 "metadata": {
  "kernelspec": {
   "display_name": "Python [conda root]",
   "language": "python",
   "name": "conda-root-py"
  },
  "language_info": {
   "codemirror_mode": {
    "name": "ipython",
    "version": 3
   },
   "file_extension": ".py",
   "mimetype": "text/x-python",
   "name": "python",
   "nbconvert_exporter": "python",
   "pygments_lexer": "ipython3",
   "version": "3.6.1"
  }
 },
 "nbformat": 4,
 "nbformat_minor": 2
}
