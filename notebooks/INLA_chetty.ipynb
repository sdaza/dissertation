{
 "cells": [
  {
   "cell_type": "markdown",
   "metadata": {},
   "source": [
    "# Create models and assess predictions"
   ]
  },
  {
   "cell_type": "code",
   "execution_count": 1,
   "metadata": {},
   "outputs": [
    {
     "name": "stderr",
     "output_type": "stream",
     "text": [
      "Loading required package: sp\n",
      "Loading required package: Matrix\n",
      "This is INLA_17.05.31 built 2017-05-31 13:53:28 UTC.\n",
      "See www.r-inla.org/contact-us for how to get help.\n"
     ]
    }
   ],
   "source": [
    "#library(rstanarm)\n",
    "library(INLA)\n",
    "library(data.table)"
   ]
  },
  {
   "cell_type": "code",
   "execution_count": 10,
   "metadata": {},
   "outputs": [],
   "source": [
    "# read data\n",
    "df = fread('../data/le_cov.csv')\n",
    "df[, V1 := NULL]\n",
    "nrow(df)"
   ]
  },
  {
   "cell_type": "code",
   "execution_count": 13,
   "metadata": {},
   "outputs": [
    {
     "data": {
      "text/html": [
       "<ol class=list-inline>\n",
       "\t<li>'county'</li>\n",
       "\t<li>'gender'</li>\n",
       "\t<li>'income_q'</li>\n",
       "\t<li>'le'</li>\n",
       "\t<li>'county_name'</li>\n",
       "\t<li>'population'</li>\n",
       "\t<li>'statename'</li>\n",
       "\t<li>'stateabbrv'</li>\n",
       "\t<li>'density'</li>\n",
       "\t<li>'gini'</li>\n",
       "\t<li>'relative_mob'</li>\n",
       "\t<li>'absolute_mob'</li>\n",
       "\t<li>'segregation_income'</li>\n",
       "\t<li>'segregation_race'</li>\n",
       "\t<li>'income'</li>\n",
       "\t<li>'poverty'</li>\n",
       "\t<li>'middle_class'</li>\n",
       "\t<li>'mig_inflow'</li>\n",
       "\t<li>'mig_outflow'</li>\n",
       "\t<li>'foreign'</li>\n",
       "\t<li>'religion'</li>\n",
       "\t<li>'crime_rate'</li>\n",
       "\t<li>'uninsured'</li>\n",
       "\t<li>'labor_force'</li>\n",
       "\t<li>'unemployment'</li>\n",
       "\t<li>'pct_black'</li>\n",
       "\t<li>'pct_hispanic'</li>\n",
       "\t<li>'obesity'</li>\n",
       "\t<li>'smoking'</li>\n",
       "\t<li>'exercise'</li>\n",
       "\t<li>'male'</li>\n",
       "\t<li>'q2'</li>\n",
       "\t<li>'q3'</li>\n",
       "\t<li>'q4'</li>\n",
       "</ol>\n"
      ],
      "text/latex": [
       "\\begin{enumerate*}\n",
       "\\item 'county'\n",
       "\\item 'gender'\n",
       "\\item 'income\\_q'\n",
       "\\item 'le'\n",
       "\\item 'county\\_name'\n",
       "\\item 'population'\n",
       "\\item 'statename'\n",
       "\\item 'stateabbrv'\n",
       "\\item 'density'\n",
       "\\item 'gini'\n",
       "\\item 'relative\\_mob'\n",
       "\\item 'absolute\\_mob'\n",
       "\\item 'segregation\\_income'\n",
       "\\item 'segregation\\_race'\n",
       "\\item 'income'\n",
       "\\item 'poverty'\n",
       "\\item 'middle\\_class'\n",
       "\\item 'mig\\_inflow'\n",
       "\\item 'mig\\_outflow'\n",
       "\\item 'foreign'\n",
       "\\item 'religion'\n",
       "\\item 'crime\\_rate'\n",
       "\\item 'uninsured'\n",
       "\\item 'labor\\_force'\n",
       "\\item 'unemployment'\n",
       "\\item 'pct\\_black'\n",
       "\\item 'pct\\_hispanic'\n",
       "\\item 'obesity'\n",
       "\\item 'smoking'\n",
       "\\item 'exercise'\n",
       "\\item 'male'\n",
       "\\item 'q2'\n",
       "\\item 'q3'\n",
       "\\item 'q4'\n",
       "\\end{enumerate*}\n"
      ],
      "text/markdown": [
       "1. 'county'\n",
       "2. 'gender'\n",
       "3. 'income_q'\n",
       "4. 'le'\n",
       "5. 'county_name'\n",
       "6. 'population'\n",
       "7. 'statename'\n",
       "8. 'stateabbrv'\n",
       "9. 'density'\n",
       "10. 'gini'\n",
       "11. 'relative_mob'\n",
       "12. 'absolute_mob'\n",
       "13. 'segregation_income'\n",
       "14. 'segregation_race'\n",
       "15. 'income'\n",
       "16. 'poverty'\n",
       "17. 'middle_class'\n",
       "18. 'mig_inflow'\n",
       "19. 'mig_outflow'\n",
       "20. 'foreign'\n",
       "21. 'religion'\n",
       "22. 'crime_rate'\n",
       "23. 'uninsured'\n",
       "24. 'labor_force'\n",
       "25. 'unemployment'\n",
       "26. 'pct_black'\n",
       "27. 'pct_hispanic'\n",
       "28. 'obesity'\n",
       "29. 'smoking'\n",
       "30. 'exercise'\n",
       "31. 'male'\n",
       "32. 'q2'\n",
       "33. 'q3'\n",
       "34. 'q4'\n",
       "\n",
       "\n"
      ],
      "text/plain": [
       " [1] \"county\"             \"gender\"             \"income_q\"          \n",
       " [4] \"le\"                 \"county_name\"        \"population\"        \n",
       " [7] \"statename\"          \"stateabbrv\"         \"density\"           \n",
       "[10] \"gini\"               \"relative_mob\"       \"absolute_mob\"      \n",
       "[13] \"segregation_income\" \"segregation_race\"   \"income\"            \n",
       "[16] \"poverty\"            \"middle_class\"       \"mig_inflow\"        \n",
       "[19] \"mig_outflow\"        \"foreign\"            \"religion\"          \n",
       "[22] \"crime_rate\"         \"uninsured\"          \"labor_force\"       \n",
       "[25] \"unemployment\"       \"pct_black\"          \"pct_hispanic\"      \n",
       "[28] \"obesity\"            \"smoking\"            \"exercise\"          \n",
       "[31] \"male\"               \"q2\"                 \"q3\"                \n",
       "[34] \"q4\"                "
      ]
     },
     "metadata": {},
     "output_type": "display_data"
    }
   ],
   "source": [
    "names(df)"
   ]
  },
  {
   "cell_type": "code",
   "execution_count": 384,
   "metadata": {},
   "outputs": [],
   "source": [
    "# function to log center or standardize\n",
    "log_center = function(data, vars, type = 'log') {\n",
    "    for (name in vars) {\n",
    "        if (type == 'log') {\n",
    "            variable = log(ifelse(data[, get(name)]==0.0 | data[, get(name)] < 0.0, 0.01, \n",
    "                                  data[, get(name)]))\n",
    "            \n",
    "            data[, paste0(type, '_', name) := variable - mean(variable, na.rm=TRUE)]\n",
    "            }\n",
    "        else if (type == 'z') { \n",
    "            data[, paste0(type, '_', name) := (get(name) - mean(get(name), na.rm=TRUE))\n",
    "                 / sd(get(name), na.rm=TRUE)]\n",
    "        }\n",
    "    }\n",
    "    return(data)\n",
    " }"
   ]
  },
  {
   "cell_type": "code",
   "execution_count": 386,
   "metadata": {},
   "outputs": [
    {
     "data": {},
     "metadata": {},
     "output_type": "display_data"
    }
   ],
   "source": [
    "vars = c('pct_black', 'ct_foreign', 'house_value', 'college', 'population', \n",
    "        'income')\n",
    "log_center(cov, vars, type='log')"
   ]
  },
  {
   "cell_type": "code",
   "execution_count": 387,
   "metadata": {},
   "outputs": [
    {
     "data": {},
     "metadata": {},
     "output_type": "display_data"
    }
   ],
   "source": [
    "vars = c('gini', 'relative_mob', 'absolute_mob')\n",
    "log_center(cov, vars, type='z')"
   ]
  },
  {
   "cell_type": "code",
   "execution_count": 388,
   "metadata": {},
   "outputs": [],
   "source": [
    "setkey(cov, county)\n",
    "\n",
    "setnames(le, c('cty', 'gnd', 'hh_inc_q', 'le_raceadj'),\n",
    "         c('county', 'gender', 'income_q', 'le'))\n",
    "\n",
    "\n",
    "le = copy(le[, c('county', 'gender', 'income_q', 'le')])\n",
    "\n",
    "setkey(le, county)\n",
    "\n",
    "dat = cov[le]"
   ]
  },
  {
   "cell_type": "code",
   "execution_count": 389,
   "metadata": {},
   "outputs": [
    {
     "data": {
      "text/html": [
       "<ol class=list-inline>\n",
       "\t<li>12472</li>\n",
       "\t<li>34</li>\n",
       "</ol>\n"
      ],
      "text/latex": [
       "\\begin{enumerate*}\n",
       "\\item 12472\n",
       "\\item 34\n",
       "\\end{enumerate*}\n"
      ],
      "text/markdown": [
       "1. 12472\n",
       "2. 34\n",
       "\n",
       "\n"
      ],
      "text/plain": [
       "[1] 12472    34"
      ]
     },
     "metadata": {},
     "output_type": "display_data"
    }
   ],
   "source": [
    "dim(dat)"
   ]
  },
  {
   "cell_type": "code",
   "execution_count": 390,
   "metadata": {},
   "outputs": [
    {
     "data": {},
     "metadata": {},
     "output_type": "display_data"
    }
   ],
   "source": [
    "dat[, state := .GRP, by = statename]"
   ]
  },
  {
   "cell_type": "code",
   "execution_count": 391,
   "metadata": {},
   "outputs": [
    {
     "data": {},
     "metadata": {},
     "output_type": "display_data"
    }
   ],
   "source": [
    "dat[, income_q := as.numeric(income_q)]"
   ]
  },
  {
   "cell_type": "markdown",
   "metadata": {},
   "source": [
    "# Models"
   ]
  },
  {
   "cell_type": "code",
   "execution_count": 392,
   "metadata": {},
   "outputs": [
    {
     "data": {
      "text/plain": [
       "\n",
       "Call:\n",
       "lm(formula = le ~ z_relative_mob, data = dat)\n",
       "\n",
       "Residuals:\n",
       "     Min       1Q   Median       3Q      Max \n",
       "-16.3457  -2.0617   0.4507   2.6243  11.3661 \n",
       "\n",
       "Coefficients:\n",
       "               Estimate Std. Error t value Pr(>|t|)    \n",
       "(Intercept)    83.02370    0.03204 2591.00   <2e-16 ***\n",
       "z_relative_mob -0.49660    0.03924  -12.66   <2e-16 ***\n",
       "---\n",
       "Signif. codes:  0 ‘***’ 0.001 ‘**’ 0.01 ‘*’ 0.05 ‘.’ 0.1 ‘ ’ 1\n",
       "\n",
       "Residual standard error: 3.572 on 12446 degrees of freedom\n",
       "  (24 observations deleted due to missingness)\n",
       "Multiple R-squared:  0.01271,\tAdjusted R-squared:  0.01263 \n",
       "F-statistic: 160.2 on 1 and 12446 DF,  p-value: < 2.2e-16\n"
      ]
     },
     "metadata": {},
     "output_type": "display_data"
    }
   ],
   "source": [
    "m1 = lm(le ~  z_relative_mob, data = dat)\n",
    "summary(m1)"
   ]
  },
  {
   "cell_type": "markdown",
   "metadata": {},
   "source": [
    "# INLA (default priors)"
   ]
  },
  {
   "cell_type": "code",
   "execution_count": 393,
   "metadata": {},
   "outputs": [],
   "source": [
    "#names(dat)"
   ]
  },
  {
   "cell_type": "code",
   "execution_count": 394,
   "metadata": {},
   "outputs": [
    {
     "data": {},
     "metadata": {},
     "output_type": "display_data"
    },
    {
     "data": {},
     "metadata": {},
     "output_type": "display_data"
    },
    {
     "data": {},
     "metadata": {},
     "output_type": "display_data"
    },
    {
     "data": {},
     "metadata": {},
     "output_type": "display_data"
    },
    {
     "data": {},
     "metadata": {},
     "output_type": "display_data"
    },
    {
     "data": {},
     "metadata": {},
     "output_type": "display_data"
    },
    {
     "data": {},
     "metadata": {},
     "output_type": "display_data"
    }
   ],
   "source": [
    "# create auxiliary variables\n",
    "dat[, state_mob := state]\n",
    "dat[, state_gini := state]\n",
    "dat[, cty := county]\n",
    "dat[, cty_mob := county]\n",
    "dat[, cty_gini := county]\n",
    "dat[, q_mob := income_q]\n",
    "dat[, q_gini := income_q]"
   ]
  },
  {
   "cell_type": "code",
   "execution_count": 395,
   "metadata": {},
   "outputs": [],
   "source": [
    "female = dat[gender=='F']\n",
    "male= dat[gender=='M']"
   ]
  },
  {
   "cell_type": "code",
   "execution_count": 397,
   "metadata": {},
   "outputs": [],
   "source": [
    "formula = le ~ z_relative_mob  + z_gini + log_population + log_income + \n",
    "       f(state, model = \"iid\") + \n",
    "       f(cty, model = \"iid\") + \n",
    "       f(income_q, model = \"iid\") + \n",
    "       f(q_mob, z_relative_mob , model = \"iid\") + \n",
    "       f(q_gini, z_gini , model = \"iid\") \n",
    "\n",
    "\n",
    "m1 = inla(formula, family = \"gaussian\", dat = male,\n",
    "          control.predictor=list(compute = TRUE),\n",
    "          control.compute = list(config = TRUE, dic = TRUE,\n",
    "                                 waic = TRUE, cpo = TRUE),\n",
    "          verbose = TRUE)"
   ]
  },
  {
   "cell_type": "code",
   "execution_count": 398,
   "metadata": {},
   "outputs": [],
   "source": [
    "formula = le ~ z_relative_mob  + z_gini + log_population + log_income + \n",
    "       f(state, model = \"iid\") + \n",
    "       f(cty, model = \"iid\") + \n",
    "       f(income_q, model = \"iid\") + \n",
    "       f(q_mob, z_relative_mob , model = \"iid\") + \n",
    "       f(q_gini, z_gini , model = \"iid\") \n",
    "\n",
    "\n",
    "f1 = inla(formula, family = \"gaussian\", dat = female,\n",
    "          control.predictor=list(compute = TRUE),\n",
    "          control.compute = list(config = TRUE, dic = TRUE,\n",
    "                                 waic = TRUE, cpo = TRUE),\n",
    "          verbose = TRUE)"
   ]
  },
  {
   "cell_type": "code",
   "execution_count": 399,
   "metadata": {},
   "outputs": [
    {
     "data": {
      "text/plain": [
       "\n",
       "Call:\n",
       "c(\"inla(formula = formula, family = \\\"gaussian\\\", data = female, verbose = TRUE, \",  \"    control.compute = list(config = TRUE, dic = TRUE, waic = TRUE, \",  \"        cpo = TRUE), control.predictor = list(compute = TRUE))\" )\n",
       "\n",
       "Time used:\n",
       " Pre-processing    Running inla Post-processing           Total \n",
       "         2.0067         47.1928          1.8047         51.0041 \n",
       "\n",
       "Fixed effects:\n",
       "                  mean     sd 0.025quant 0.5quant 0.975quant    mode kld\n",
       "(Intercept)    85.0879 1.1169    82.8574  85.0879    87.3169 85.0879   0\n",
       "z_relative_mob -0.2736 0.0382    -0.3486  -0.2736    -0.1987 -0.2736   0\n",
       "z_gini          0.1466 0.0697     0.0087   0.1466     0.2842  0.1466   0\n",
       "log_population -0.2156 0.0274    -0.2693  -0.2156    -0.1619 -0.2156   0\n",
       "log_income      1.0977 0.1306     0.8411   1.0976     1.3540  1.0976   0\n",
       "\n",
       "Random effects:\n",
       "Name\t  Model\n",
       " state   IID model \n",
       "cty   IID model \n",
       "income_q   IID model \n",
       "q_mob   IID model \n",
       "q_gini   IID model \n",
       "\n",
       "Model hyperparameters:\n",
       "                                             mean        sd 0.025quant 0.5quant\n",
       "Precision for the Gaussian observations    0.7409    0.0157     0.7116   0.7403\n",
       "Precision for state                        3.8063    0.9118     2.2875   3.7176\n",
       "Precision for cty                          3.7373    0.3323     3.1017   3.7334\n",
       "Precision for income_q                     0.2969    0.2094     0.0645   0.2441\n",
       "Precision for q_mob                     1107.8461 1314.0626    82.1755 710.1957\n",
       "Precision for q_gini                      73.6539   52.7152    12.9558  60.9726\n",
       "                                        0.975quant     mode\n",
       "Precision for the Gaussian observations     0.7733   0.7383\n",
       "Precision for state                         5.8549   3.5503\n",
       "Precision for cty                           4.4067   3.7384\n",
       "Precision for income_q                      0.8442   0.1587\n",
       "Precision for q_mob                      4554.1253 223.3781\n",
       "Precision for q_gini                      209.5558  35.6340\n",
       "\n",
       "Expected number of effective parameters(std dev): 722.28(28.65)\n",
       "Number of equivalent replicates : 8.634 \n",
       "\n",
       "Deviance Information Criterion (DIC) ...: 20292.34\n",
       "Effective number of parameters .........: 723.31\n",
       "\n",
       "Watanabe-Akaike information criterion (WAIC) ...: 20322.02\n",
       "Effective number of parameters .................: 683.22\n",
       "\n",
       "Marginal log-Likelihood:  -10397.98 \n",
       "CPO and PIT are computed\n",
       "\n",
       "Posterior marginals for linear predictor and fitted values computed\n"
      ]
     },
     "metadata": {},
     "output_type": "display_data"
    }
   ],
   "source": [
    "summary(f1)"
   ]
  },
  {
   "cell_type": "markdown",
   "metadata": {},
   "source": [
    "# Simulate values"
   ]
  },
  {
   "cell_type": "code",
   "execution_count": 400,
   "metadata": {},
   "outputs": [],
   "source": [
    "# function to simulate predicted values\n",
    "\n",
    "simulate_predictions = function(model, data, nsim = 1000, contrast='z_relative_mob', \n",
    "                               random = 'q_mob') {\n",
    "    \n",
    "    # simulate posterior distribution\n",
    "    simData <- inla.posterior.sample(n=nsim, result=model)\n",
    "    \n",
    "    # define matrix model\n",
    "    f = formula(paste0('~ ', paste0(names(data), collapse = ' + ')))\n",
    "    X = model.matrix(f, dat = data)\n",
    "    N = nrow(data)\n",
    "    Ysim = matrix(nrow = N, ncol = nsim) \n",
    "    \n",
    "    # loop\n",
    "    for (i in 1:nsim) {\n",
    "        rnames <- rownames(simData[[i]]$latent)\n",
    "        rndQinc <- simData[[i]]$latent[grep('income_q', rnames)]\n",
    "        rndIncCoef <- simData[[i]]$latent[grep(random, rnames)]\n",
    "        coefNames <- rownames(model$summary.fixed)\n",
    "        Betas = simData[[i]]$latent[-grep(\"^Pred|^state|^cty|^obs|^income_q|q_mob|q_gini\", rnames)]\n",
    "        names(Betas) = coefNames\n",
    "        mt = matrix(rep(Betas, N), ncol = length(coefNames), nrow = N, byrow = TRUE)\n",
    "        indc = grep(contrast, coefNames)\n",
    "        indi = grep('Intercept', coefNames)\n",
    "        mt[, indc] = mt[,indc] + rep(rndIncCoef, 2)\n",
    "        # mt[,indi] = mt[,indi] + rep(rndQinc, 2)\n",
    "        for (j in 1:N) {\n",
    "            Ysim[j, i] <- X[j, ] %*% mt[j,]\n",
    "        }\n",
    "    }\n",
    "    \n",
    "    t = data.table(Ysim)\n",
    "    t[, q := rep(1:4, times = 2)]\n",
    "    t[, (contrast) := rep(c(0.0, 1.0), times = 1 , each = 4)]\n",
    "    return(melt(t, id.vars = c('q', contrast)))\n",
    "}\n",
    "\n",
    "# compute first difference\n",
    "\n",
    "first_difference = function(data, contrast = 'z_gini', group = 'q', model = 'm1') {\n",
    "    c = gtools::combinations(n = 4, r = 2, v = c(1:4), repeats.allowed = FALSE)\n",
    "    t = list()\n",
    "    for (i in 1:nrow(c)) {\n",
    "        a = data[get(group) == c[i,1] & get(contrast) == 1, value] - data[get(group) == c[i,1] & get(contrast) == 0, value]\n",
    "        b = data[get(group) == c[i,2] & get(contrast) == 1, value] - data[get(group) == c[i,2] & get(contrast) == 0, value]\n",
    "        varname = paste0(c[i,1], '-', c[i,2]) \n",
    "        t[[i]] = data.table(type =contrast,  contrast = varname, model = model, values = (a - b))\n",
    "    }\n",
    "    return(rbindlist(t))\n",
    "}"
   ]
  },
  {
   "cell_type": "markdown",
   "metadata": {},
   "source": [
    "# Male"
   ]
  },
  {
   "cell_type": "code",
   "execution_count": 401,
   "metadata": {},
   "outputs": [],
   "source": [
    "formula = le ~ z_relative_mob  + z_gini + log_population + log_income + \n",
    "       f(state, model = \"iid\") + \n",
    "       f(cty, model = \"iid\") + \n",
    "       f(income_q, model = \"iid\") + \n",
    "       f(q_mob, z_relative_mob , model = \"iid\") + \n",
    "       f(q_gini, z_gini , model = \"iid\") \n",
    "\n",
    "\n",
    "m1 = inla(formula, family = \"gaussian\", dat = male,\n",
    "          control.predictor=list(compute = TRUE),\n",
    "          control.compute = list(config = TRUE, dic = TRUE,\n",
    "                                 waic = TRUE, cpo = TRUE),\n",
    "          verbose = TRUE)"
   ]
  },
  {
   "cell_type": "code",
   "execution_count": 402,
   "metadata": {},
   "outputs": [],
   "source": [
    "nrep = 4 * 2 # 4 quartiles for 2 contrast values\n",
    "relative_mob_pred_data_m1 = data.table(\n",
    "    z_relative_mob = rep(c(0.0, 1.0), times = 1 , each = 4),\n",
    "    z_gini = rep(0, nrep),\n",
    "    log_population = rep(0, nrep), \n",
    "    log_income = rep(0, nrep))\n",
    "\n",
    "# simulate\n",
    "sim_relative_mob_m1 = simulate_predictions(model=m1, data=relative_mob_pred_data_m1, \n",
    "                                           nsim=1000, \n",
    "                                           contrast='z_relative_mob', \n",
    "                                           random='q_mob')"
   ]
  },
  {
   "cell_type": "code",
   "execution_count": 403,
   "metadata": {},
   "outputs": [],
   "source": [
    "nrep = 4 * 2 # 4 quartiles for 2 contrast values\n",
    "gini_pred_data_m1 = data.table(\n",
    "    z_relative_mob = rep(0, nrep),\n",
    "    z_gini = rep(c(0.0, 1.0), times = 1 , each = 4),\n",
    "    log_population = rep(0, nrep),     \n",
    "    log_income = rep(0, nrep)\n",
    ")\n",
    "\n",
    "sim_gini_m1 = simulate_predictions(m1, gini_pred_data_m1, \n",
    "                                   1000, contrast = 'z_gini', \n",
    "                                   random = 'q_gini')"
   ]
  },
  {
   "cell_type": "code",
   "execution_count": 404,
   "metadata": {},
   "outputs": [],
   "source": [
    "gini_diff_m1 = first_difference(sim_gini_m1, contrast='z_gini', model='m1')\n",
    "relative_mob_diff_m1 = first_difference(sim_relative_mob_m1, contrast='z_relative_mob', model='m1')"
   ]
  },
  {
   "cell_type": "code",
   "execution_count": 405,
   "metadata": {},
   "outputs": [],
   "source": [
    "formula = le ~ z_absolute_mob  + z_gini + log_population + log_income + \n",
    "       f(state, model = \"iid\") + \n",
    "       f(cty, model = \"iid\") + \n",
    "       f(income_q, model = \"iid\") + \n",
    "       f(q_mob, z_absolute_mob , model = \"iid\") + \n",
    "       f(q_gini, z_gini , model = \"iid\") \n",
    "\n",
    "\n",
    "m2 = inla(formula, family = \"gaussian\", dat = male,\n",
    "          control.predictor=list(compute = TRUE),\n",
    "          control.compute = list(config = TRUE, dic = TRUE,\n",
    "                                 waic = TRUE, cpo = TRUE),\n",
    "          verbose = TRUE)"
   ]
  },
  {
   "cell_type": "code",
   "execution_count": 406,
   "metadata": {},
   "outputs": [
    {
     "data": {
      "text/plain": [
       "\n",
       "Call:\n",
       "c(\"inla(formula = formula, family = \\\"gaussian\\\", data = male, verbose = TRUE, \",  \"    control.compute = list(config = TRUE, dic = TRUE, waic = TRUE, \",  \"        cpo = TRUE), control.predictor = list(compute = TRUE))\" )\n",
       "\n",
       "Time used:\n",
       " Pre-processing    Running inla Post-processing           Total \n",
       "         2.0870         44.5215          1.8280         48.4365 \n",
       "\n",
       "Fixed effects:\n",
       "                  mean     sd 0.025quant 0.5quant 0.975quant    mode kld\n",
       "(Intercept)    81.4119 1.7991    77.8490  81.4118    84.9688 81.4117   0\n",
       "z_absolute_mob  0.3990 0.0697     0.2619   0.3990     0.5361  0.3990   0\n",
       "z_gini          0.2927 0.0875     0.1195   0.2926     0.4655  0.2926   0\n",
       "log_population -0.1572 0.0295    -0.2151  -0.1572    -0.0993 -0.1572   0\n",
       "log_income      1.2481 0.1356     0.9818   1.2481     1.5141  1.2481   0\n",
       "\n",
       "Random effects:\n",
       "Name\t  Model\n",
       " state   IID model \n",
       "cty   IID model \n",
       "income_q   IID model \n",
       "q_mob   IID model \n",
       "q_gini   IID model \n",
       "\n",
       "Model hyperparameters:\n",
       "                                            mean       sd 0.025quant 0.5quant\n",
       "Precision for the Gaussian observations   0.7746   0.0165     0.7407   0.7753\n",
       "Precision for state                       1.9259   0.4486     1.2358   1.8596\n",
       "Precision for cty                         3.8323   0.7087     2.9573   3.6659\n",
       "Precision for income_q                    0.1209   0.0823     0.0271   0.1007\n",
       "Precision for q_mob                     182.2814 184.6364    24.8402 128.0326\n",
       "Precision for q_gini                     63.7328  47.6232    12.4448  51.4040\n",
       "                                        0.975quant    mode\n",
       "Precision for the Gaussian observations     0.8053  0.7782\n",
       "Precision for state                         2.9846  1.7276\n",
       "Precision for cty                           5.6161  3.2020\n",
       "Precision for income_q                      0.3352  0.0667\n",
       "Precision for q_mob                       668.4857 63.6511\n",
       "Precision for q_gini                      188.2688 31.6160\n",
       "\n",
       "Expected number of effective parameters(std dev): 805.04(30.98)\n",
       "Number of equivalent replicates : 7.746 \n",
       "\n",
       "Deviance Information Criterion (DIC) ...: 20097.22\n",
       "Effective number of parameters .........: 808.92\n",
       "\n",
       "Watanabe-Akaike information criterion (WAIC) ...: 20136.60\n",
       "Effective number of parameters .................: 762.62\n",
       "\n",
       "Marginal log-Likelihood:  -10343.10 \n",
       "CPO and PIT are computed\n",
       "\n",
       "Posterior marginals for linear predictor and fitted values computed\n"
      ]
     },
     "metadata": {},
     "output_type": "display_data"
    }
   ],
   "source": [
    "summary(m2)"
   ]
  },
  {
   "cell_type": "code",
   "execution_count": 407,
   "metadata": {},
   "outputs": [],
   "source": [
    "nrep = 4 * 2 # 4 quartiles for 2 contrast values\n",
    "absolute_mob_pred_data_m2 = data.table(\n",
    "    z_absolute_mob = rep(c(0.0, 1.0), times = 1 , each = 4),\n",
    "    z_gini = rep(0, nrep),\n",
    "    log_population = rep(0, nrep), \n",
    "    log_income = rep(0, nrep))"
   ]
  },
  {
   "cell_type": "code",
   "execution_count": 424,
   "metadata": {},
   "outputs": [],
   "source": [
    "# simulate\n",
    "sim_absolute_mob_m2 = simulate_predictions(model=m2, data=absolute_mob_pred_data_m2, \n",
    "                                           nsim=1000, \n",
    "                                           contrast='z_absolute_mob', \n",
    "                                           random='q_mob')"
   ]
  },
  {
   "cell_type": "code",
   "execution_count": 410,
   "metadata": {},
   "outputs": [],
   "source": [
    "nrep = 4 * 2 # 4 quartiles for 2 contrast values\n",
    "gini_pred_data_m2 = data.table(\n",
    "    z_absolute_mob = rep(0, nrep),\n",
    "    z_gini = rep(c(0.0, 1.0), times = 1 , each = 4),\n",
    "    log_population = rep(0, nrep),     \n",
    "    log_income = rep(0, nrep)\n",
    ")\n",
    "\n",
    "sim_gini_m2 = simulate_predictions(m2, gini_pred_data_m2, \n",
    "                                   1000, contrast = 'z_gini', \n",
    "                                   random = 'q_gini')"
   ]
  },
  {
   "cell_type": "code",
   "execution_count": 425,
   "metadata": {},
   "outputs": [],
   "source": [
    "gini_diff_m2 = first_difference(sim_gini_m2, contrast='z_gini', model='m2')\n",
    "absolute_mob_diff_m2 = first_difference(sim_absolute_mob_m2, contrast='z_absolute_mob', model='m2')"
   ]
  },
  {
   "cell_type": "code",
   "execution_count": 412,
   "metadata": {},
   "outputs": [
    {
     "data": {
      "text/html": [
       "<table>\n",
       "<thead><tr><th scope=col>type</th><th scope=col>contrast</th><th scope=col>model</th><th scope=col>values</th></tr></thead>\n",
       "<tbody>\n",
       "\t<tr><td>z_gini   </td><td>1-2      </td><td>m2       </td><td>0.2578644</td></tr>\n",
       "\t<tr><td>z_gini   </td><td>1-2      </td><td>m2       </td><td>0.3111568</td></tr>\n",
       "\t<tr><td>z_gini   </td><td>1-2      </td><td>m2       </td><td>0.2796426</td></tr>\n",
       "\t<tr><td>z_gini   </td><td>1-2      </td><td>m2       </td><td>0.2891941</td></tr>\n",
       "\t<tr><td>z_gini   </td><td>1-2      </td><td>m2       </td><td>0.3051559</td></tr>\n",
       "\t<tr><td>z_gini   </td><td>1-2      </td><td>m2       </td><td>0.3330343</td></tr>\n",
       "</tbody>\n",
       "</table>\n"
      ],
      "text/latex": [
       "\\begin{tabular}{r|llll}\n",
       " type & contrast & model & values\\\\\n",
       "\\hline\n",
       "\t z\\_gini  & 1-2       & m2        & 0.2578644\\\\\n",
       "\t z\\_gini  & 1-2       & m2        & 0.3111568\\\\\n",
       "\t z\\_gini  & 1-2       & m2        & 0.2796426\\\\\n",
       "\t z\\_gini  & 1-2       & m2        & 0.2891941\\\\\n",
       "\t z\\_gini  & 1-2       & m2        & 0.3051559\\\\\n",
       "\t z\\_gini  & 1-2       & m2        & 0.3330343\\\\\n",
       "\\end{tabular}\n"
      ],
      "text/markdown": [
       "\n",
       "type | contrast | model | values | \n",
       "|---|---|---|---|---|---|\n",
       "| z_gini    | 1-2       | m2        | 0.2578644 | \n",
       "| z_gini    | 1-2       | m2        | 0.3111568 | \n",
       "| z_gini    | 1-2       | m2        | 0.2796426 | \n",
       "| z_gini    | 1-2       | m2        | 0.2891941 | \n",
       "| z_gini    | 1-2       | m2        | 0.3051559 | \n",
       "| z_gini    | 1-2       | m2        | 0.3330343 | \n",
       "\n",
       "\n"
      ],
      "text/plain": [
       "  type   contrast model values   \n",
       "1 z_gini 1-2      m2    0.2578644\n",
       "2 z_gini 1-2      m2    0.3111568\n",
       "3 z_gini 1-2      m2    0.2796426\n",
       "4 z_gini 1-2      m2    0.2891941\n",
       "5 z_gini 1-2      m2    0.3051559\n",
       "6 z_gini 1-2      m2    0.3330343"
      ]
     },
     "metadata": {},
     "output_type": "display_data"
    }
   ],
   "source": [
    "head(gini_diff_m2)"
   ]
  },
  {
   "cell_type": "code",
   "execution_count": 413,
   "metadata": {},
   "outputs": [
    {
     "data": {
      "text/html": [
       "<table>\n",
       "<thead><tr><th scope=col>type</th><th scope=col>contrast</th><th scope=col>model</th><th scope=col>values</th></tr></thead>\n",
       "<tbody>\n",
       "\t<tr><td>z_absolute_mob</td><td>1-2           </td><td>m2            </td><td>0.14038211    </td></tr>\n",
       "\t<tr><td>z_absolute_mob</td><td>1-2           </td><td>m2            </td><td>0.09571482    </td></tr>\n",
       "\t<tr><td>z_absolute_mob</td><td>1-2           </td><td>m2            </td><td>0.08377865    </td></tr>\n",
       "\t<tr><td>z_absolute_mob</td><td>1-2           </td><td>m2            </td><td>0.09543425    </td></tr>\n",
       "\t<tr><td>z_absolute_mob</td><td>1-2           </td><td>m2            </td><td>0.03019762    </td></tr>\n",
       "\t<tr><td>z_absolute_mob</td><td>1-2           </td><td>m2            </td><td>0.17061946    </td></tr>\n",
       "</tbody>\n",
       "</table>\n"
      ],
      "text/latex": [
       "\\begin{tabular}{r|llll}\n",
       " type & contrast & model & values\\\\\n",
       "\\hline\n",
       "\t z\\_absolute\\_mob & 1-2                & m2                 & 0.14038211        \\\\\n",
       "\t z\\_absolute\\_mob & 1-2                & m2                 & 0.09571482        \\\\\n",
       "\t z\\_absolute\\_mob & 1-2                & m2                 & 0.08377865        \\\\\n",
       "\t z\\_absolute\\_mob & 1-2                & m2                 & 0.09543425        \\\\\n",
       "\t z\\_absolute\\_mob & 1-2                & m2                 & 0.03019762        \\\\\n",
       "\t z\\_absolute\\_mob & 1-2                & m2                 & 0.17061946        \\\\\n",
       "\\end{tabular}\n"
      ],
      "text/markdown": [
       "\n",
       "type | contrast | model | values | \n",
       "|---|---|---|---|---|---|\n",
       "| z_absolute_mob | 1-2            | m2             | 0.14038211     | \n",
       "| z_absolute_mob | 1-2            | m2             | 0.09571482     | \n",
       "| z_absolute_mob | 1-2            | m2             | 0.08377865     | \n",
       "| z_absolute_mob | 1-2            | m2             | 0.09543425     | \n",
       "| z_absolute_mob | 1-2            | m2             | 0.03019762     | \n",
       "| z_absolute_mob | 1-2            | m2             | 0.17061946     | \n",
       "\n",
       "\n"
      ],
      "text/plain": [
       "  type           contrast model values    \n",
       "1 z_absolute_mob 1-2      m2    0.14038211\n",
       "2 z_absolute_mob 1-2      m2    0.09571482\n",
       "3 z_absolute_mob 1-2      m2    0.08377865\n",
       "4 z_absolute_mob 1-2      m2    0.09543425\n",
       "5 z_absolute_mob 1-2      m2    0.03019762\n",
       "6 z_absolute_mob 1-2      m2    0.17061946"
      ]
     },
     "metadata": {},
     "output_type": "display_data"
    }
   ],
   "source": [
    "head(absolute_mob_diff_m2)"
   ]
  },
  {
   "cell_type": "markdown",
   "metadata": {},
   "source": [
    "# Female"
   ]
  },
  {
   "cell_type": "code",
   "execution_count": 414,
   "metadata": {},
   "outputs": [],
   "source": [
    "formula = le ~ z_relative_mob  + z_gini + log_population + log_income + \n",
    "       f(state, model = \"iid\") + \n",
    "       f(cty, model = \"iid\") + \n",
    "       f(income_q, model = \"iid\") + \n",
    "       f(q_mob, z_relative_mob , model = \"iid\") + \n",
    "       f(q_gini, z_gini , model = \"iid\") \n",
    "\n",
    "\n",
    "f1 = inla(formula, family = \"gaussian\", dat = female,\n",
    "          control.predictor=list(compute = TRUE),\n",
    "          control.compute = list(config = TRUE, dic = TRUE,\n",
    "                                 waic = TRUE, cpo = TRUE),\n",
    "          verbose = TRUE)"
   ]
  },
  {
   "cell_type": "code",
   "execution_count": 415,
   "metadata": {},
   "outputs": [
    {
     "data": {
      "text/plain": [
       "\n",
       "Call:\n",
       "c(\"inla(formula = formula, family = \\\"gaussian\\\", data = female, verbose = TRUE, \",  \"    control.compute = list(config = TRUE, dic = TRUE, waic = TRUE, \",  \"        cpo = TRUE), control.predictor = list(compute = TRUE))\" )\n",
       "\n",
       "Time used:\n",
       " Pre-processing    Running inla Post-processing           Total \n",
       "         2.1600         52.5059          2.6897         57.3556 \n",
       "\n",
       "Fixed effects:\n",
       "                  mean     sd 0.025quant 0.5quant 0.975quant    mode kld\n",
       "(Intercept)    85.0879 1.1169    82.8574  85.0879    87.3169 85.0879   0\n",
       "z_relative_mob -0.2736 0.0382    -0.3486  -0.2736    -0.1987 -0.2736   0\n",
       "z_gini          0.1466 0.0697     0.0087   0.1466     0.2842  0.1466   0\n",
       "log_population -0.2156 0.0274    -0.2693  -0.2156    -0.1619 -0.2156   0\n",
       "log_income      1.0977 0.1306     0.8411   1.0976     1.3540  1.0976   0\n",
       "\n",
       "Random effects:\n",
       "Name\t  Model\n",
       " state   IID model \n",
       "cty   IID model \n",
       "income_q   IID model \n",
       "q_mob   IID model \n",
       "q_gini   IID model \n",
       "\n",
       "Model hyperparameters:\n",
       "                                             mean        sd 0.025quant 0.5quant\n",
       "Precision for the Gaussian observations    0.7409    0.0157     0.7116   0.7403\n",
       "Precision for state                        3.8063    0.9118     2.2875   3.7176\n",
       "Precision for cty                          3.7373    0.3323     3.1017   3.7334\n",
       "Precision for income_q                     0.2969    0.2094     0.0645   0.2441\n",
       "Precision for q_mob                     1107.8461 1314.0626    82.1755 710.1957\n",
       "Precision for q_gini                      73.6539   52.7152    12.9558  60.9726\n",
       "                                        0.975quant     mode\n",
       "Precision for the Gaussian observations     0.7733   0.7383\n",
       "Precision for state                         5.8549   3.5503\n",
       "Precision for cty                           4.4067   3.7384\n",
       "Precision for income_q                      0.8442   0.1587\n",
       "Precision for q_mob                      4554.1253 223.3781\n",
       "Precision for q_gini                      209.5558  35.6340\n",
       "\n",
       "Expected number of effective parameters(std dev): 722.28(28.65)\n",
       "Number of equivalent replicates : 8.634 \n",
       "\n",
       "Deviance Information Criterion (DIC) ...: 20292.34\n",
       "Effective number of parameters .........: 723.31\n",
       "\n",
       "Watanabe-Akaike information criterion (WAIC) ...: 20322.02\n",
       "Effective number of parameters .................: 683.22\n",
       "\n",
       "Marginal log-Likelihood:  -10397.98 \n",
       "CPO and PIT are computed\n",
       "\n",
       "Posterior marginals for linear predictor and fitted values computed\n"
      ]
     },
     "metadata": {},
     "output_type": "display_data"
    }
   ],
   "source": [
    "summary(f1)"
   ]
  },
  {
   "cell_type": "code",
   "execution_count": 416,
   "metadata": {},
   "outputs": [],
   "source": [
    "nrep = 4 * 2 # 4 quartiles for 2 contrast values\n",
    "relative_mob_pred_data_f1 = data.table(\n",
    "    z_relative_mob = rep(c(0.0, 1.0), times = 1 , each = 4),\n",
    "    z_gini = rep(0, nrep),\n",
    "    log_population = rep(0, nrep), \n",
    "    log_income = rep(0, nrep)\n",
    ")\n",
    "\n",
    "# simulate\n",
    "sim_relative_mob_f1 = simulate_predictions(model=f1, data=relative_mob_pred_data_f1, \n",
    "                                           nsim=1000, \n",
    "                                           contrast = 'z_relative_mob', \n",
    "                                           random = 'q_mob')\n",
    "\n",
    "nrep = 4 * 2 # 4 quartiles for 2 contrast values\n",
    "gini_pred_data_f1 = data.table(\n",
    "    z_relative_mob = rep(0, nrep),\n",
    "    z_gini = rep(c(0.0, 1.0), times = 1 , each = 4),\n",
    "    log_population = rep(0, nrep), \n",
    "    log_income = rep(0, nrep)\n",
    ")\n",
    "\n",
    "sim_gini_f1 = simulate_predictions(model=f1, \n",
    "                                   data=gini_pred_data_f1, \n",
    "                                   nsim=1000, \n",
    "                                   contrast='z_gini', \n",
    "                                   random='q_gini')"
   ]
  },
  {
   "cell_type": "code",
   "execution_count": 417,
   "metadata": {},
   "outputs": [],
   "source": [
    "gini_diff_f1 = first_difference(sim_gini_f1, contrast='z_gini', model='f1')\n",
    "relative_mob_diff_f1 = first_difference(sim_relative_mob_f1, contrast='z_relative_mob', model='f1')"
   ]
  },
  {
   "cell_type": "code",
   "execution_count": 418,
   "metadata": {},
   "outputs": [],
   "source": [
    "formula = le ~ z_absolute_mob  + z_gini + log_population + log_income + \n",
    "       f(state, model = \"iid\") + \n",
    "       f(cty, model = \"iid\") + \n",
    "       f(income_q, model = \"iid\") + \n",
    "       f(q_mob, z_absolute_mob , model = \"iid\") + \n",
    "       f(q_gini, z_gini , model = \"iid\") \n",
    "\n",
    "\n",
    "f2 = inla(formula, family = \"gaussian\", dat = female,\n",
    "          control.predictor=list(compute = TRUE),\n",
    "          control.compute = list(config = TRUE, dic = TRUE,\n",
    "                                 waic = TRUE, cpo = TRUE),\n",
    "          verbose = TRUE)"
   ]
  },
  {
   "cell_type": "code",
   "execution_count": 419,
   "metadata": {},
   "outputs": [
    {
     "data": {
      "text/plain": [
       "\n",
       "Call:\n",
       "c(\"inla(formula = formula, family = \\\"gaussian\\\", data = female, verbose = TRUE, \",  \"    control.compute = list(config = TRUE, dic = TRUE, waic = TRUE, \",  \"        cpo = TRUE), control.predictor = list(compute = TRUE))\" )\n",
       "\n",
       "Time used:\n",
       " Pre-processing    Running inla Post-processing           Total \n",
       "         1.9378         63.6707          1.8629         67.4714 \n",
       "\n",
       "Fixed effects:\n",
       "                  mean     sd 0.025quant 0.5quant 0.975quant    mode kld\n",
       "(Intercept)    85.1031 1.1405    82.8085  85.1030    87.3979 85.1031   0\n",
       "z_absolute_mob  0.3538 0.0423     0.2707   0.3538     0.4368  0.3538   0\n",
       "z_gini          0.2097 0.0745     0.0609   0.2097     0.3585  0.2097   0\n",
       "log_population -0.1493 0.0286    -0.2054  -0.1493    -0.0932 -0.1493   0\n",
       "log_income      1.0531 0.1317     0.7946   1.0531     1.3115  1.0531   0\n",
       "\n",
       "Random effects:\n",
       "Name\t  Model\n",
       " state   IID model \n",
       "cty   IID model \n",
       "income_q   IID model \n",
       "q_mob   IID model \n",
       "q_gini   IID model \n",
       "\n",
       "Model hyperparameters:\n",
       "                                             mean        sd 0.025quant\n",
       "Precision for the Gaussian observations 7.424e-01 1.540e-02     0.7121\n",
       "Precision for state                     3.692e+00 9.202e-01     2.0531\n",
       "Precision for cty                       3.765e+00 3.417e-01     3.1815\n",
       "Precision for income_q                  2.680e-01 1.876e-01     0.0572\n",
       "Precision for q_mob                     2.078e+04 2.038e+04  1693.0862\n",
       "Precision for q_gini                    8.253e+01 5.764e+01    13.3306\n",
       "                                         0.5quant 0.975quant      mode\n",
       "Precision for the Gaussian observations 7.425e-01  7.724e-01    0.7432\n",
       "Precision for state                     3.652e+00  5.619e+00    3.5845\n",
       "Precision for cty                       3.732e+00  4.519e+00    3.6458\n",
       "Precision for income_q                  2.213e-01  7.552e-01    0.1433\n",
       "Precision for q_mob                     1.485e+04  7.480e+04 4771.1684\n",
       "Precision for q_gini                    6.934e+01  2.287e+02   38.4931\n",
       "\n",
       "Expected number of effective parameters(std dev): 724.79(35.93)\n",
       "Number of equivalent replicates : 8.604 \n",
       "\n",
       "Deviance Information Criterion (DIC) ...: 20292.86\n",
       "Effective number of parameters .........: 728.71\n",
       "\n",
       "Watanabe-Akaike information criterion (WAIC) ...: 20322.52\n",
       "Effective number of parameters .................: 687.94\n",
       "\n",
       "Marginal log-Likelihood:  -10393.63 \n",
       "CPO and PIT are computed\n",
       "\n",
       "Posterior marginals for linear predictor and fitted values computed\n"
      ]
     },
     "metadata": {},
     "output_type": "display_data"
    }
   ],
   "source": [
    "summary(f2)"
   ]
  },
  {
   "cell_type": "code",
   "execution_count": 420,
   "metadata": {},
   "outputs": [],
   "source": [
    "nrep = 4 * 2 # 4 quartiles for 2 contrast values\n",
    "absolute_mob_pred_data_f2 = data.table(\n",
    "    z_absolute_mob = rep(c(0.0, 1.0), times = 1 , each = 4),\n",
    "    z_gini = rep(0, nrep),\n",
    "    log_population = rep(0, nrep), \n",
    "    log_income = rep(0, nrep)\n",
    ")\n",
    "\n",
    "# simulate\n",
    "sim_absolute_mob_f2 = simulate_predictions(model=f2, data=absolute_mob_pred_data_f2, \n",
    "                                           nsim=1000, \n",
    "                                           contrast = 'z_absolute_mob', \n",
    "                                           random = 'q_mob')\n",
    "\n",
    "nrep = 4 * 2 # 4 quartiles for 2 contrast values\n",
    "gini_pred_data_f2 = data.table(\n",
    "    z_absolute_mob = rep(0, nrep),\n",
    "    z_gini = rep(c(0.0, 1.0), times = 1 , each = 4),\n",
    "    log_population = rep(0, nrep), \n",
    "    log_income = rep(0, nrep)\n",
    ")\n",
    "\n",
    "sim_gini_f2 = simulate_predictions(model=f2, \n",
    "                                   data=gini_pred_data_f2, \n",
    "                                   nsim=1000, \n",
    "                                   contrast='z_gini', \n",
    "                                   random='q_gini')"
   ]
  },
  {
   "cell_type": "code",
   "execution_count": 421,
   "metadata": {},
   "outputs": [],
   "source": [
    "gini_diff_f2 = first_difference(sim_gini_f2, contrast='z_gini', model='f2')\n",
    "absolute_mob_diff_f2 = first_difference(sim_absolute_mob_f2, contrast='z_absolute_mob', model='f2')"
   ]
  },
  {
   "cell_type": "markdown",
   "metadata": {},
   "source": [
    "# Join comparisons"
   ]
  },
  {
   "cell_type": "code",
   "execution_count": 426,
   "metadata": {},
   "outputs": [],
   "source": [
    "final = rbind(gini_diff_m1, relative_mob_diff_m1, \n",
    "              gini_diff_f1, relative_mob_diff_f1, \n",
    "              gini_diff_m2, absolute_mob_diff_m2,\n",
    "              gini_diff_f2, absolute_mob_diff_f2\n",
    "             )\n",
    "fwrite(final, file='models.csv')"
   ]
  },
  {
   "cell_type": "code",
   "execution_count": 427,
   "metadata": {},
   "outputs": [
    {
     "data": {
      "text/html": [
       "48000"
      ],
      "text/latex": [
       "48000"
      ],
      "text/markdown": [
       "48000"
      ],
      "text/plain": [
       "[1] 48000"
      ]
     },
     "metadata": {},
     "output_type": "display_data"
    }
   ],
   "source": [
    "nrow(final)"
   ]
  }
 ],
 "metadata": {
  "kernelspec": {
   "display_name": "R",
   "language": "R",
   "name": "ir"
  },
  "language_info": {
   "codemirror_mode": "r",
   "file_extension": ".r",
   "mimetype": "text/x-r-source",
   "name": "R",
   "pygments_lexer": "r",
   "version": "3.4.1"
  }
 },
 "nbformat": 4,
 "nbformat_minor": 2
}
