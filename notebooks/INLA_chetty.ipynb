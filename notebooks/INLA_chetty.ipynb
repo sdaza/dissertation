{
 "cells": [
  {
   "cell_type": "markdown",
   "metadata": {},
   "source": [
    "# INLA: Create models and assess predictions"
   ]
  },
  {
   "cell_type": "code",
   "execution_count": 2,
   "metadata": {},
   "outputs": [
    {
     "name": "stderr",
     "output_type": "stream",
     "text": [
      "Loading required package: sp\n",
      "Loading required package: Matrix\n",
      "This is INLA_17.05.31 built 2017-05-31 13:53:28 UTC.\n",
      "See www.r-inla.org/contact-us for how to get help.\n"
     ]
    }
   ],
   "source": [
    "#library(rstanarm)\n",
    "library(INLA)\n",
    "library(brinla)\n",
    "library(data.table)\n",
    "library(ggplot2)\n",
    "options(repr.plot.width=3, repr.plot.height=3)"
   ]
  },
  {
   "cell_type": "code",
   "execution_count": 3,
   "metadata": {},
   "outputs": [
    {
     "data": {
      "text/html": [
       "12400"
      ],
      "text/latex": [
       "12400"
      ],
      "text/markdown": [
       "12400"
      ],
      "text/plain": [
       "[1] 12400"
      ]
     },
     "metadata": {},
     "output_type": "display_data"
    }
   ],
   "source": [
    "# read data\n",
    "df = fread('../data/le_cov_tr.csv')\n",
    "nrow(df)"
   ]
  },
  {
   "cell_type": "code",
   "execution_count": 4,
   "metadata": {},
   "outputs": [
    {
     "name": "stdout",
     "output_type": "stream",
     "text": [
      " [1] \"county\"               \"gender\"               \"income_q\"            \n",
      " [4] \"le\"                   \"county_name\"          \"population\"          \n",
      " [7] \"statename\"            \"stateabbrv\"           \"density\"             \n",
      "[10] \"gini\"                 \"relative_mob\"         \"absolute_mob\"        \n",
      "[13] \"segregation_income\"   \"segregation_race\"     \"income\"              \n",
      "[16] \"poverty\"              \"middle_class\"         \"mig_inflow\"          \n",
      "[19] \"mig_outflow\"          \"foreign\"              \"religion\"            \n",
      "[22] \"crime_rate\"           \"uninsured\"            \"labor_force\"         \n",
      "[25] \"unemployment\"         \"pct_black\"            \"pct_hispanic\"        \n",
      "[28] \"obesity\"              \"smoking\"              \"exercise\"            \n",
      "[31] \"house_value\"          \"college\"              \"medicare_expenses\"   \n",
      "[34] \"local_gov_exp\"        \"male\"                 \"q2\"                  \n",
      "[37] \"q3\"                   \"q4\"                   \"log_population\"      \n",
      "[40] \"log_crime_rate\"       \"log_poverty\"          \"log_mig_inflow\"      \n",
      "[43] \"log_mig_outflow\"      \"log_foreign\"          \"log_pct_black\"       \n",
      "[46] \"log_pct_hispanic\"     \"log_house_value\"      \"log_local_gov_exp\"   \n",
      "[49] \"log_unemployment\"     \"log_income\"           \"z_gini\"              \n",
      "[52] \"z_relative_mob\"       \"z_absolute_mob\"       \"z_middle_class\"      \n",
      "[55] \"z_segregation_income\" \"z_religion\"           \"z_labor_force\"       \n",
      "[58] \"z_uninsured\"          \"z_medicare_expenses\"  \"z_college\"           \n",
      "[61] \"z_obesity\"            \"z_smoking\"            \"z_exercise\"          \n"
     ]
    }
   ],
   "source": [
    "print(names(df))"
   ]
  },
  {
   "cell_type": "code",
   "execution_count": 5,
   "metadata": {},
   "outputs": [
    {
     "data": {},
     "metadata": {},
     "output_type": "display_data"
    },
    {
     "data": {},
     "metadata": {},
     "output_type": "display_data"
    }
   ],
   "source": [
    "df[, state := .GRP, by = statename]\n",
    "df[, income_qr := .GRP, by = income_q]"
   ]
  },
  {
   "cell_type": "code",
   "execution_count": 6,
   "metadata": {},
   "outputs": [
    {
     "data": {
      "text/plain": [
       "         income_q\n",
       "income_qr   Q1   Q2   Q3   Q4\n",
       "        1 3100    0    0    0\n",
       "        2    0 3102    0    0\n",
       "        3    0    0 3098    0\n",
       "        4    0    0    0 3100"
      ]
     },
     "metadata": {},
     "output_type": "display_data"
    }
   ],
   "source": [
    "table(df[, .(income_qr, income_q)]) # ok, right!"
   ]
  },
  {
   "cell_type": "markdown",
   "metadata": {},
   "source": [
    "# INLA Models (using PC prior)"
   ]
  },
  {
   "cell_type": "code",
   "execution_count": 14,
   "metadata": {},
   "outputs": [],
   "source": [
    "#names(dat)"
   ]
  },
  {
   "cell_type": "code",
   "execution_count": 7,
   "metadata": {},
   "outputs": [
    {
     "data": {},
     "metadata": {},
     "output_type": "display_data"
    },
    {
     "data": {},
     "metadata": {},
     "output_type": "display_data"
    },
    {
     "data": {},
     "metadata": {},
     "output_type": "display_data"
    },
    {
     "data": {},
     "metadata": {},
     "output_type": "display_data"
    },
    {
     "data": {},
     "metadata": {},
     "output_type": "display_data"
    },
    {
     "data": {},
     "metadata": {},
     "output_type": "display_data"
    },
    {
     "data": {},
     "metadata": {},
     "output_type": "display_data"
    }
   ],
   "source": [
    "# create auxiliary variables\n",
    "df[, state_mob := state]\n",
    "df[, state_gini := state]\n",
    "df[, cty := county]\n",
    "df[, cty_mob := county]\n",
    "df[, cty_gini := county]\n",
    "df[, q_mob := income_qr]\n",
    "df[, q_gini := income_qr]"
   ]
  },
  {
   "cell_type": "code",
   "execution_count": 8,
   "metadata": {},
   "outputs": [],
   "source": [
    "female = df[gender=='F']\n",
    "male = df[gender=='M']"
   ]
  },
  {
   "cell_type": "markdown",
   "metadata": {},
   "source": [
    "# Baseline model"
   ]
  },
  {
   "cell_type": "markdown",
   "metadata": {},
   "source": [
    "### Male"
   ]
  },
  {
   "cell_type": "code",
   "execution_count": 17,
   "metadata": {},
   "outputs": [],
   "source": [
    "lmod <- lm(le ~ z_relative_mob  + z_gini + log_population + log_income, male)\n",
    "\n",
    "# pc prior\n",
    "sdres <- sd(residuals(lmod))\n",
    "pcprior <- list(prec = list(prior=\"pc.prec\", param = c(3*sdres,0.01)))"
   ]
  },
  {
   "cell_type": "code",
   "execution_count": null,
   "metadata": {},
   "outputs": [],
   "source": [
    "formula = le ~ z_relative_mob  + z_gini + log_population + log_income + \n",
    "       f(state, model = \"iid\", hyper = pcprior) + \n",
    "       f(cty, model = \"iid\", hyper = pcprior) + \n",
    "       f(income_qr, model = \"iid\", hyper = pcprior) + \n",
    "       f(q_mob, z_relative_mob , model = \"iid\", hyper = pcprior) + \n",
    "       f(q_gini, z_gini , model = \"iid\", hyper = pcprior)\n",
    "\n",
    "m1 = inla(formula, family = \"gaussian\", data = male,\n",
    "#           control.predictor=list(compute = TRUE),\n",
    "          control.compute = list(config = TRUE, dic = TRUE,\n",
    "                                 waic = TRUE, cpo = TRUE), \n",
    "#           control.inla = list(strategy =\"gaussian\"),\n",
    "          verbose = TRUE)"
   ]
  },
  {
   "cell_type": "code",
   "execution_count": 19,
   "metadata": {},
   "outputs": [
    {
     "data": {
      "text/plain": [
       "\n",
       "Call:\n",
       "c(\"inla(formula = formula, family = \\\"gaussian\\\", data = male, verbose = TRUE, \",  \"    control.compute = list(config = TRUE, dic = TRUE, waic = TRUE, \",  \"        cpo = TRUE))\")\n",
       "\n",
       "Time used:\n",
       " Pre-processing    Running inla Post-processing           Total \n",
       "         2.8433         47.4151          2.2996         52.5580 \n",
       "\n",
       "Fixed effects:\n",
       "                  mean     sd 0.025quant 0.5quant 0.975quant    mode kld\n",
       "(Intercept)    81.2476 2.0756    77.0603  81.2476    85.4367 81.2478   0\n",
       "z_relative_mob -0.3054 0.1346    -0.5660  -0.3054    -0.0433 -0.3052   0\n",
       "z_gini          0.2244 0.1874    -0.1420   0.2243     0.5913  0.2245   0\n",
       "log_population -0.2283 0.0280    -0.2832  -0.2283    -0.1734 -0.2283   0\n",
       "log_income      1.2320 0.1338     0.9692   1.2320     1.4946  1.2321   0\n",
       "\n",
       "Random effects:\n",
       "Name\t  Model\n",
       " state   IID model \n",
       "cty   IID model \n",
       "income_qr   IID model \n",
       "q_mob   IID model \n",
       "q_gini   IID model \n",
       "\n",
       "Model hyperparameters:\n",
       "                                           mean      sd 0.025quant 0.5quant\n",
       "Precision for the Gaussian observations  0.7810  0.0169     0.7506   0.7799\n",
       "Precision for state                      2.1655  0.5088     1.2602   2.1423\n",
       "Precision for cty                        3.5028  0.4186     2.9081   3.4245\n",
       "Precision for income_qr                  0.0941  0.0693     0.0198   0.0760\n",
       "Precision for q_mob                     43.3211 45.7396     2.9573  29.5994\n",
       "Precision for q_gini                    22.8955 23.3444     1.7049  15.9862\n",
       "                                        0.975quant   mode\n",
       "Precision for the Gaussian observations     0.8169 0.7762\n",
       "Precision for state                         3.2368 2.1046\n",
       "Precision for cty                           4.5079 3.1943\n",
       "Precision for income_qr                     0.2756 0.0484\n",
       "Precision for q_mob                       165.5080 8.0988\n",
       "Precision for q_gini                       84.3358 4.6964\n",
       "\n",
       "Expected number of effective parameters(std dev): 785.77(39.73)\n",
       "Number of equivalent replicates : 7.89 \n",
       "\n",
       "Deviance Information Criterion (DIC) ...: 19923.05\n",
       "Effective number of parameters .........: 786.84\n",
       "\n",
       "Watanabe-Akaike information criterion (WAIC) ...: 19961.39\n",
       "Effective number of parameters .................: 742.61\n",
       "\n",
       "Marginal log-Likelihood:  -10224.10 \n",
       "CPO and PIT are computed\n",
       "\n",
       "Posterior marginals for linear predictor and fitted values computed\n"
      ]
     },
     "metadata": {},
     "output_type": "display_data"
    }
   ],
   "source": [
    "m1$summary.fixed"
   ]
  },
  {
   "cell_type": "code",
   "execution_count": 20,
   "metadata": {},
   "outputs": [
    {
     "data": {
      "text/html": [
       "<table>\n",
       "<thead><tr><th></th><th scope=col>mean</th><th scope=col>sd</th><th scope=col>q0.025</th><th scope=col>q0.5</th><th scope=col>q0.975</th><th scope=col>mode</th></tr></thead>\n",
       "<tbody>\n",
       "\t<tr><th scope=row>SD for the Gaussian observations</th><td>1.1317247 </td><td>0.01211908</td><td>1.10658445</td><td>1.1323237 </td><td>1.1539800 </td><td>1.1347625 </td></tr>\n",
       "\t<tr><th scope=row>SD for state</th><td>0.6942886 </td><td>0.08535555</td><td>0.55672067</td><td>0.6830516 </td><td>0.8895159 </td><td>0.6548753 </td></tr>\n",
       "\t<tr><th scope=row>SD for cty</th><td>0.5370075 </td><td>0.03005964</td><td>0.47129057</td><td>0.5403433 </td><td>0.5859431 </td><td>0.5551366 </td></tr>\n",
       "\t<tr><th scope=row>SD for income_qr</th><td>3.8519119 </td><td>1.32871292</td><td>1.90993057</td><td>3.6248208 </td><td>7.0737405 </td><td>3.2183385 </td></tr>\n",
       "\t<tr><th scope=row>SD for q_mob</th><td>0.2205882 </td><td>0.13244463</td><td>0.07811555</td><td>0.1834379 </td><td>0.5760160 </td><td>0.1349803 </td></tr>\n",
       "\t<tr><th scope=row>SD for q_gini</th><td>0.2977208 </td><td>0.17325169</td><td>0.10889687</td><td>0.2496264 </td><td>0.7618955 </td><td>0.1857306 </td></tr>\n",
       "</tbody>\n",
       "</table>\n"
      ],
      "text/latex": [
       "\\begin{tabular}{r|llllll}\n",
       "  & mean & sd & q0.025 & q0.5 & q0.975 & mode\\\\\n",
       "\\hline\n",
       "\tSD for the Gaussian observations & 1.1317247  & 0.01211908 & 1.10658445 & 1.1323237  & 1.1539800  & 1.1347625 \\\\\n",
       "\tSD for state & 0.6942886  & 0.08535555 & 0.55672067 & 0.6830516  & 0.8895159  & 0.6548753 \\\\\n",
       "\tSD for cty & 0.5370075  & 0.03005964 & 0.47129057 & 0.5403433  & 0.5859431  & 0.5551366 \\\\\n",
       "\tSD for income\\_qr & 3.8519119  & 1.32871292 & 1.90993057 & 3.6248208  & 7.0737405  & 3.2183385 \\\\\n",
       "\tSD for q\\_mob & 0.2205882  & 0.13244463 & 0.07811555 & 0.1834379  & 0.5760160  & 0.1349803 \\\\\n",
       "\tSD for q\\_gini & 0.2977208  & 0.17325169 & 0.10889687 & 0.2496264  & 0.7618955  & 0.1857306 \\\\\n",
       "\\end{tabular}\n"
      ],
      "text/markdown": [
       "\n",
       "| <!--/--> | mean | sd | q0.025 | q0.5 | q0.975 | mode | \n",
       "|---|---|---|---|---|---|\n",
       "| SD for the Gaussian observations | 1.1317247  | 0.01211908 | 1.10658445 | 1.1323237  | 1.1539800  | 1.1347625  | \n",
       "| SD for state | 0.6942886  | 0.08535555 | 0.55672067 | 0.6830516  | 0.8895159  | 0.6548753  | \n",
       "| SD for cty | 0.5370075  | 0.03005964 | 0.47129057 | 0.5403433  | 0.5859431  | 0.5551366  | \n",
       "| SD for income_qr | 3.8519119  | 1.32871292 | 1.90993057 | 3.6248208  | 7.0737405  | 3.2183385  | \n",
       "| SD for q_mob | 0.2205882  | 0.13244463 | 0.07811555 | 0.1834379  | 0.5760160  | 0.1349803  | \n",
       "| SD for q_gini | 0.2977208  | 0.17325169 | 0.10889687 | 0.2496264  | 0.7618955  | 0.1857306  | \n",
       "\n",
       "\n"
      ],
      "text/plain": [
       "                                 mean      sd         q0.025     q0.5     \n",
       "SD for the Gaussian observations 1.1317247 0.01211908 1.10658445 1.1323237\n",
       "SD for state                     0.6942886 0.08535555 0.55672067 0.6830516\n",
       "SD for cty                       0.5370075 0.03005964 0.47129057 0.5403433\n",
       "SD for income_qr                 3.8519119 1.32871292 1.90993057 3.6248208\n",
       "SD for q_mob                     0.2205882 0.13244463 0.07811555 0.1834379\n",
       "SD for q_gini                    0.2977208 0.17325169 0.10889687 0.2496264\n",
       "                                 q0.975    mode     \n",
       "SD for the Gaussian observations 1.1539800 1.1347625\n",
       "SD for state                     0.8895159 0.6548753\n",
       "SD for cty                       0.5859431 0.5551366\n",
       "SD for income_qr                 7.0737405 3.2183385\n",
       "SD for q_mob                     0.5760160 0.1349803\n",
       "SD for q_gini                    0.7618955 0.1857306"
      ]
     },
     "metadata": {},
     "output_type": "display_data"
    }
   ],
   "source": [
    "bri.hyperpar.summary(m1)"
   ]
  },
  {
   "cell_type": "markdown",
   "metadata": {},
   "source": [
    "### Female"
   ]
  },
  {
   "cell_type": "code",
   "execution_count": 37,
   "metadata": {},
   "outputs": [],
   "source": [
    "lmod <- lm(le ~ z_relative_mob  + z_gini + log_population + log_income, female)\n",
    "\n",
    "# pc prior\n",
    "sdres <- sd(residuals(lmod))\n",
    "pcprior <- list(prec = list(prior=\"pc.prec\", param = c(3*sdres,0.01)))"
   ]
  },
  {
   "cell_type": "code",
   "execution_count": 38,
   "metadata": {},
   "outputs": [],
   "source": [
    "formula = le ~ z_relative_mob  + z_gini + log_population + log_income + \n",
    "       f(state, model = \"iid\", hyper = pcprior) + \n",
    "       f(cty, model = \"iid\", hyper = pcprior) + \n",
    "       f(income_qr, model = \"iid\", hyper = pcprior) + \n",
    "       f(q_mob, z_relative_mob , model = \"iid\", hyper = pcprior) + \n",
    "       f(q_gini, z_gini , model = \"iid\", hyper = pcprior)\n",
    "\n",
    "\n",
    "f1 = inla(formula, family = \"gaussian\", data = female,\n",
    "#           control.predictor=list(compute = TRUE),\n",
    "          control.compute = list(config = TRUE, dic = TRUE,\n",
    "                                 waic = TRUE, cpo = TRUE), \n",
    "#           control.inla = list(strategy =\"gaussian\"),\n",
    "          verbose = TRUE)"
   ]
  },
  {
   "cell_type": "code",
   "execution_count": 23,
   "metadata": {},
   "outputs": [
    {
     "ename": "ERROR",
     "evalue": "Error in eval(expr, envir, enclos): object 'f1' not found\n",
     "execution_count": 23,
     "output_type": "error",
     "traceback": [
      "Error in eval(expr, envir, enclos): object 'f1' not found\nTraceback:\n"
     ]
    }
   ],
   "source": [
    "f1$summary.fixed"
   ]
  },
  {
   "cell_type": "code",
   "execution_count": 27,
   "metadata": {},
   "outputs": [
    {
     "data": {
      "text/html": [
       "<table>\n",
       "<thead><tr><th></th><th scope=col>mean</th><th scope=col>sd</th><th scope=col>q0.025</th><th scope=col>q0.5</th><th scope=col>q0.975</th><th scope=col>mode</th></tr></thead>\n",
       "<tbody>\n",
       "\t<tr><th scope=row>SD for the Gaussian observations</th><td>1.15963278</td><td>0.01191264</td><td>1.13689746</td><td>1.15934386</td><td>1.1836520 </td><td>1.15851530</td></tr>\n",
       "\t<tr><th scope=row>SD for state</th><td>0.54690120</td><td>0.07004732</td><td>0.43149425</td><td>0.53858846</td><td>0.7051523 </td><td>0.51870145</td></tr>\n",
       "\t<tr><th scope=row>SD for cty</th><td>0.52466497</td><td>0.02203057</td><td>0.48181655</td><td>0.52455596</td><td>0.5682688 </td><td>0.52498093</td></tr>\n",
       "\t<tr><th scope=row>SD for income_qr</th><td>2.54320251</td><td>0.94900487</td><td>1.26164343</td><td>2.34395349</td><td>4.9316836 </td><td>2.00805761</td></tr>\n",
       "\t<tr><th scope=row>SD for q_mob</th><td>0.08795318</td><td>0.05720506</td><td>0.02551899</td><td>0.07236143</td><td>0.2409428 </td><td>0.05153076</td></tr>\n",
       "\t<tr><th scope=row>SD for q_gini</th><td>0.27765261</td><td>0.15396563</td><td>0.10137775</td><td>0.23704051</td><td>0.6855605 </td><td>0.18042773</td></tr>\n",
       "</tbody>\n",
       "</table>\n"
      ],
      "text/latex": [
       "\\begin{tabular}{r|llllll}\n",
       "  & mean & sd & q0.025 & q0.5 & q0.975 & mode\\\\\n",
       "\\hline\n",
       "\tSD for the Gaussian observations & 1.15963278 & 0.01191264 & 1.13689746 & 1.15934386 & 1.1836520  & 1.15851530\\\\\n",
       "\tSD for state & 0.54690120 & 0.07004732 & 0.43149425 & 0.53858846 & 0.7051523  & 0.51870145\\\\\n",
       "\tSD for cty & 0.52466497 & 0.02203057 & 0.48181655 & 0.52455596 & 0.5682688  & 0.52498093\\\\\n",
       "\tSD for income\\_qr & 2.54320251 & 0.94900487 & 1.26164343 & 2.34395349 & 4.9316836  & 2.00805761\\\\\n",
       "\tSD for q\\_mob & 0.08795318 & 0.05720506 & 0.02551899 & 0.07236143 & 0.2409428  & 0.05153076\\\\\n",
       "\tSD for q\\_gini & 0.27765261 & 0.15396563 & 0.10137775 & 0.23704051 & 0.6855605  & 0.18042773\\\\\n",
       "\\end{tabular}\n"
      ],
      "text/markdown": [
       "\n",
       "| <!--/--> | mean | sd | q0.025 | q0.5 | q0.975 | mode | \n",
       "|---|---|---|---|---|---|\n",
       "| SD for the Gaussian observations | 1.15963278 | 0.01191264 | 1.13689746 | 1.15934386 | 1.1836520  | 1.15851530 | \n",
       "| SD for state | 0.54690120 | 0.07004732 | 0.43149425 | 0.53858846 | 0.7051523  | 0.51870145 | \n",
       "| SD for cty | 0.52466497 | 0.02203057 | 0.48181655 | 0.52455596 | 0.5682688  | 0.52498093 | \n",
       "| SD for income_qr | 2.54320251 | 0.94900487 | 1.26164343 | 2.34395349 | 4.9316836  | 2.00805761 | \n",
       "| SD for q_mob | 0.08795318 | 0.05720506 | 0.02551899 | 0.07236143 | 0.2409428  | 0.05153076 | \n",
       "| SD for q_gini | 0.27765261 | 0.15396563 | 0.10137775 | 0.23704051 | 0.6855605  | 0.18042773 | \n",
       "\n",
       "\n"
      ],
      "text/plain": [
       "                                 mean       sd         q0.025     q0.5      \n",
       "SD for the Gaussian observations 1.15963278 0.01191264 1.13689746 1.15934386\n",
       "SD for state                     0.54690120 0.07004732 0.43149425 0.53858846\n",
       "SD for cty                       0.52466497 0.02203057 0.48181655 0.52455596\n",
       "SD for income_qr                 2.54320251 0.94900487 1.26164343 2.34395349\n",
       "SD for q_mob                     0.08795318 0.05720506 0.02551899 0.07236143\n",
       "SD for q_gini                    0.27765261 0.15396563 0.10137775 0.23704051\n",
       "                                 q0.975    mode      \n",
       "SD for the Gaussian observations 1.1836520 1.15851530\n",
       "SD for state                     0.7051523 0.51870145\n",
       "SD for cty                       0.5682688 0.52498093\n",
       "SD for income_qr                 4.9316836 2.00805761\n",
       "SD for q_mob                     0.2409428 0.05153076\n",
       "SD for q_gini                    0.6855605 0.18042773"
      ]
     },
     "metadata": {},
     "output_type": "display_data"
    }
   ],
   "source": [
    "bri.hyperpar.summary(f1)"
   ]
  },
  {
   "cell_type": "markdown",
   "metadata": {},
   "source": [
    "## First differences (simulation, baseline)"
   ]
  },
  {
   "cell_type": "code",
   "execution_count": 78,
   "metadata": {},
   "outputs": [],
   "source": [
    "setorder(male, -le)\n",
    "top_male = male[, .(county, state, le)][1:11]"
   ]
  },
  {
   "cell_type": "code",
   "execution_count": 79,
   "metadata": {},
   "outputs": [],
   "source": [
    "setorder(male, le)\n",
    "bottom_male = male[, .(county, state, le, income_q)][1:11]"
   ]
  },
  {
   "cell_type": "code",
   "execution_count": 9,
   "metadata": {},
   "outputs": [],
   "source": [
    "# function to simulate predicted values\n",
    "\n",
    "simulate_predictions = function(model, data, nsim = 1000, contrast='z_relative_mob', \n",
    "                               random = 'q_mob') {\n",
    "    \n",
    "    # simulate posterior distribution\n",
    "    simData <- inla.posterior.sample(n=nsim, result=model)\n",
    "    \n",
    "    # define matrix model\n",
    "    f = formula(paste0('~ ', paste0(names(data), collapse = ' + ')))\n",
    "    X = model.matrix(f, dat = data)\n",
    "    N = nrow(data)\n",
    "    Ysim = matrix(nrow = N, ncol = nsim) \n",
    "    \n",
    "    # loop\n",
    "    for (i in 1:nsim) {\n",
    "        rnames <- rownames(simData[[i]]$latent)\n",
    "        rndQinc <- simData[[i]]$latent[grep('income_qr', rnames)]\n",
    "        rndIncCoef <- simData[[i]]$latent[grep(random, rnames)]\n",
    "        coefNames <- rownames(model$summary.fixed)\n",
    "        Betas = simData[[i]]$latent[-grep(\"^Pred|^state|^cty|^obs|^income_qr|q_mob|q_gini\", rnames)]\n",
    "        names(Betas) = coefNames\n",
    "        mt = matrix(rep(Betas, N), ncol = length(coefNames), nrow = N, byrow = TRUE)\n",
    "        indc = grep(contrast, coefNames)\n",
    "        indi = grep('Intercept', coefNames)\n",
    "        mt[, indc] = mt[,indc] + rep(rndIncCoef, 2)\n",
    "        # mt[,indi] = mt[,indi] + rep(rndQinc, 2)\n",
    "        for (j in 1:N) {\n",
    "            Ysim[j, i] <- X[j, ] %*% mt[j,]\n",
    "        }\n",
    "    }\n",
    "    \n",
    "    t = data.table(Ysim)\n",
    "    t[, q := rep(1:4, times = 2)]\n",
    "    t[, (contrast) := rep(c(0.0, 1.0), times = 1 , each = 4)]\n",
    "    return(melt(t, id.vars = c('q', contrast)))\n",
    "}\n",
    "\n",
    "# first difference function\n",
    "first_difference = function(simulated_data, value_variable, constrast_variable, \n",
    "                            simulation_index, group_variable) {\n",
    "    output = data.table()\n",
    "    gr = simulated_data[, unique(get(group_variable))]\n",
    "    for (g in gr) { \n",
    "        diff = simulated_data[get(group_variable)==g, \n",
    "                     .(q=g, diff = diff(get(value_variable))), by=.(sim=get(simulation_index))]\n",
    "        output = rbind(output, diff )\n",
    "    }\n",
    "    return(output)\n",
    "}\n",
    "\n",
    "# btw grouups\n",
    "\n",
    "first_difference_between_groups = function(data, contrast = 'z_gini', group = 'q', model = 'm1') {\n",
    "    c = gtools::combinations(n = 4, r = 2, v = c(1:4), repeats.allowed = FALSE)\n",
    "    t = list()\n",
    "    for (i in 1:nrow(c)) {\n",
    "        a = data[get(group) == c[i,1] & get(contrast) == 1, value] - data[get(group) == c[i,1] & get(contrast) == 0, value]\n",
    "        b = data[get(group) == c[i,2] & get(contrast) == 1, value] - data[get(group) == c[i,2] & get(contrast) == 0, value]\n",
    "        varname = paste0(c[i,1], '-', c[i,2]) \n",
    "        t[[i]] = data.table(type =contrast,  contrast = varname, model = model, values = (a - b))\n",
    "    }\n",
    "    return(rbindlist(t))\n",
    "}"
   ]
  },
  {
   "cell_type": "markdown",
   "metadata": {},
   "source": [
    "### Income mobility "
   ]
  },
  {
   "cell_type": "code",
   "execution_count": 29,
   "metadata": {},
   "outputs": [],
   "source": [
    "nrep = 4 * 2 # 4 quartiles for 2 contrast values\n",
    "relative_mob_pred_data = data.table(\n",
    "    z_relative_mob = rep(c(0.0, 1.0), times = 1 , each = 4),\n",
    "    z_gini = rep(0, nrep),\n",
    "    log_population = rep(0, nrep), \n",
    "    log_income = rep(0, nrep))"
   ]
  },
  {
   "cell_type": "code",
   "execution_count": 31,
   "metadata": {},
   "outputs": [],
   "source": [
    "sim_mob_male = simulate_predictions(model=m1, data=relative_mob_pred_data, \n",
    "                                           nsim=2000, \n",
    "                                           contrast='z_relative_mob', \n",
    "                                           random='q_mob')"
   ]
  },
  {
   "cell_type": "code",
   "execution_count": 49,
   "metadata": {},
   "outputs": [],
   "source": [
    "sim_mob_male_m1 = first_difference(sim_mob_male, 'value', 'z_relative_mob', 'variable', 'q')\n",
    "fwrite(sim_mob_male_m1, file='../data/sim_mob_male_m1.csv')"
   ]
  },
  {
   "cell_type": "code",
   "execution_count": 41,
   "metadata": {},
   "outputs": [],
   "source": [
    "sim_mob_female = simulate_predictions(model=f1, data=relative_mob_pred_data, \n",
    "                                           nsim=2000, \n",
    "                                           contrast='z_relative_mob', \n",
    "                                           random='q_mob')"
   ]
  },
  {
   "cell_type": "code",
   "execution_count": 53,
   "metadata": {},
   "outputs": [],
   "source": [
    "sim_mob_female_m1 = first_difference(sim_mob_female, 'value', 'z_relative_mob', 'variable', 'q')\n",
    "fwrite(sim_mob_female_m1, file='../data/sim_mob_female_m1.csv')"
   ]
  },
  {
   "cell_type": "markdown",
   "metadata": {},
   "source": [
    "### Inequality\n"
   ]
  },
  {
   "cell_type": "code",
   "execution_count": 55,
   "metadata": {},
   "outputs": [],
   "source": [
    "nrep = 4 * 2 # 4 quartiles for 2 contrast values\n",
    "gini_pred_data = data.table(\n",
    "    z_relative_mob = rep(0, nrep),\n",
    "    z_gini = rep(c(0.0, 1.0), times = 1 , each = 4),\n",
    "    log_population = rep(0, nrep),     \n",
    "    log_income = rep(0, nrep)\n",
    ")"
   ]
  },
  {
   "cell_type": "code",
   "execution_count": null,
   "metadata": {},
   "outputs": [],
   "source": [
    "sim_gini_male = simulate_predictions(model=m1, data=gini_pred_data, \n",
    "                                           nsim=2000, \n",
    "                                           contrast='z_gini', \n",
    "                                           random='q_gini')"
   ]
  },
  {
   "cell_type": "code",
   "execution_count": 57,
   "metadata": {},
   "outputs": [],
   "source": [
    "sim_gini_male_m1 = first_difference(sim_gini_male, 'value', 'z_gini', 'variable', 'q')\n",
    "fwrite(sim_gini_male_m1, file='../data/sim_gini_male_m1.csv')"
   ]
  },
  {
   "cell_type": "code",
   "execution_count": null,
   "metadata": {},
   "outputs": [],
   "source": [
    "sim_gini_female = simulate_predictions(model=f1, data=gini_pred_data, \n",
    "                                           nsim=2000, \n",
    "                                           contrast='z_gini', \n",
    "                                           random='q_gini')"
   ]
  },
  {
   "cell_type": "code",
   "execution_count": 59,
   "metadata": {},
   "outputs": [],
   "source": [
    "sim_gini_female_m1 = first_difference(sim_gini_female, 'value', 'z_gini', 'variable', 'q')\n",
    "fwrite(sim_gini_female_m1, file='../data/sim_gini_female_m1.csv')"
   ]
  },
  {
   "cell_type": "markdown",
   "metadata": {},
   "source": [
    "# Adjusting for contextual variables"
   ]
  },
  {
   "cell_type": "markdown",
   "metadata": {},
   "source": [
    "### Male"
   ]
  },
  {
   "cell_type": "code",
   "execution_count": 10,
   "metadata": {},
   "outputs": [],
   "source": [
    "lmod <- lm(le ~ z_relative_mob  + z_gini + log_population + log_income + \n",
    "           log_crime_rate + log_poverty + log_mig_inflow + log_mig_outflow + \n",
    "           log_foreign + log_pct_black + log_pct_hispanic + log_house_value + \n",
    "           log_local_gov_exp + log_unemployment + z_segregation_income + z_religion + \n",
    "           z_labor_force + z_college + z_middle_class, male)\n",
    "\n",
    "# pc prior\n",
    "sdres <- sd(residuals(lmod))\n",
    "pcprior <- list(prec = list(prior=\"pc.prec\", param = c(3*sdres,0.01)))"
   ]
  },
  {
   "cell_type": "code",
   "execution_count": 11,
   "metadata": {},
   "outputs": [],
   "source": [
    "formula = le ~ z_relative_mob  + z_gini + log_population + log_income +\n",
    "       log_crime_rate + log_poverty + log_mig_inflow + log_mig_outflow + \n",
    "       log_foreign + log_pct_black + log_pct_hispanic + log_house_value + \n",
    "       log_local_gov_exp + log_unemployment + z_segregation_income + z_religion + \n",
    "       z_labor_force + z_college + z_middle_class + \n",
    "       f(state, model = \"iid\", hyper = pcprior) + \n",
    "       f(cty, model = \"iid\", hyper = pcprior) + \n",
    "       f(income_qr, model = \"iid\", hyper = pcprior) + \n",
    "       f(q_mob, z_relative_mob , model = \"iid\", hyper = pcprior) + \n",
    "       f(q_gini, z_gini , model = \"iid\", hyper = pcprior)\n",
    "\n",
    "\n",
    "m2 = inla(formula, family = \"gaussian\", data = male,\n",
    "          control.predictor=list(compute = TRUE),\n",
    "          control.compute = list(config = TRUE, dic = TRUE,\n",
    "                                 waic = TRUE, cpo = TRUE),\n",
    "          verbose = TRUE)"
   ]
  },
  {
   "cell_type": "code",
   "execution_count": 27,
   "metadata": {},
   "outputs": [
    {
     "data": {
      "text/html": [
       "<table>\n",
       "<thead><tr><th></th><th scope=col>mean</th><th scope=col>sd</th><th scope=col>q0.025</th><th scope=col>q0.5</th><th scope=col>q0.975</th><th scope=col>mode</th></tr></thead>\n",
       "<tbody>\n",
       "\t<tr><th scope=row>SD for the Gaussian observations</th><td>1.1486979 </td><td>0.01044650</td><td>1.12655089</td><td>1.1494305 </td><td>1.1672743 </td><td>1.1523909 </td></tr>\n",
       "\t<tr><th scope=row>SD for state</th><td>0.5060942 </td><td>0.06764672</td><td>0.39735464</td><td>0.4971061 </td><td>0.6612060 </td><td>0.4752792 </td></tr>\n",
       "\t<tr><th scope=row>SD for cty</th><td>0.4160783 </td><td>0.03679549</td><td>0.36103255</td><td>0.4099513 </td><td>0.5024892 </td><td>0.3909014 </td></tr>\n",
       "\t<tr><th scope=row>SD for income_qr</th><td>3.8934809 </td><td>1.39807360</td><td>1.94939541</td><td>3.6183372 </td><td>7.3686851 </td><td>3.1442084 </td></tr>\n",
       "\t<tr><th scope=row>SD for q_mob</th><td>0.2005374 </td><td>0.10677314</td><td>0.07448484</td><td>0.1733685 </td><td>0.4812912 </td><td>0.1341940 </td></tr>\n",
       "\t<tr><th scope=row>SD for q_gini</th><td>0.2954147 </td><td>0.17246655</td><td>0.11101168</td><td>0.2465936 </td><td>0.7588431 </td><td>0.1822891 </td></tr>\n",
       "</tbody>\n",
       "</table>\n"
      ],
      "text/latex": [
       "\\begin{tabular}{r|llllll}\n",
       "  & mean & sd & q0.025 & q0.5 & q0.975 & mode\\\\\n",
       "\\hline\n",
       "\tSD for the Gaussian observations & 1.1486979  & 0.01044650 & 1.12655089 & 1.1494305  & 1.1672743  & 1.1523909 \\\\\n",
       "\tSD for state & 0.5060942  & 0.06764672 & 0.39735464 & 0.4971061  & 0.6612060  & 0.4752792 \\\\\n",
       "\tSD for cty & 0.4160783  & 0.03679549 & 0.36103255 & 0.4099513  & 0.5024892  & 0.3909014 \\\\\n",
       "\tSD for income\\_qr & 3.8934809  & 1.39807360 & 1.94939541 & 3.6183372  & 7.3686851  & 3.1442084 \\\\\n",
       "\tSD for q\\_mob & 0.2005374  & 0.10677314 & 0.07448484 & 0.1733685  & 0.4812912  & 0.1341940 \\\\\n",
       "\tSD for q\\_gini & 0.2954147  & 0.17246655 & 0.11101168 & 0.2465936  & 0.7588431  & 0.1822891 \\\\\n",
       "\\end{tabular}\n"
      ],
      "text/markdown": [
       "\n",
       "| <!--/--> | mean | sd | q0.025 | q0.5 | q0.975 | mode | \n",
       "|---|---|---|---|---|---|\n",
       "| SD for the Gaussian observations | 1.1486979  | 0.01044650 | 1.12655089 | 1.1494305  | 1.1672743  | 1.1523909  | \n",
       "| SD for state | 0.5060942  | 0.06764672 | 0.39735464 | 0.4971061  | 0.6612060  | 0.4752792  | \n",
       "| SD for cty | 0.4160783  | 0.03679549 | 0.36103255 | 0.4099513  | 0.5024892  | 0.3909014  | \n",
       "| SD for income_qr | 3.8934809  | 1.39807360 | 1.94939541 | 3.6183372  | 7.3686851  | 3.1442084  | \n",
       "| SD for q_mob | 0.2005374  | 0.10677314 | 0.07448484 | 0.1733685  | 0.4812912  | 0.1341940  | \n",
       "| SD for q_gini | 0.2954147  | 0.17246655 | 0.11101168 | 0.2465936  | 0.7588431  | 0.1822891  | \n",
       "\n",
       "\n"
      ],
      "text/plain": [
       "                                 mean      sd         q0.025     q0.5     \n",
       "SD for the Gaussian observations 1.1486979 0.01044650 1.12655089 1.1494305\n",
       "SD for state                     0.5060942 0.06764672 0.39735464 0.4971061\n",
       "SD for cty                       0.4160783 0.03679549 0.36103255 0.4099513\n",
       "SD for income_qr                 3.8934809 1.39807360 1.94939541 3.6183372\n",
       "SD for q_mob                     0.2005374 0.10677314 0.07448484 0.1733685\n",
       "SD for q_gini                    0.2954147 0.17246655 0.11101168 0.2465936\n",
       "                                 q0.975    mode     \n",
       "SD for the Gaussian observations 1.1672743 1.1523909\n",
       "SD for state                     0.6612060 0.4752792\n",
       "SD for cty                       0.5024892 0.3909014\n",
       "SD for income_qr                 7.3686851 3.1442084\n",
       "SD for q_mob                     0.4812912 0.1341940\n",
       "SD for q_gini                    0.7588431 0.1822891"
      ]
     },
     "metadata": {},
     "output_type": "display_data"
    }
   ],
   "source": [
    "bri.hyperpar.summary(m2)"
   ]
  },
  {
   "cell_type": "code",
   "execution_count": 26,
   "metadata": {},
   "outputs": [
    {
     "data": {
      "text/html": [
       "<table>\n",
       "<thead><tr><th></th><th scope=col>mean</th><th scope=col>sd</th><th scope=col>0.025quant</th><th scope=col>0.5quant</th><th scope=col>0.975quant</th><th scope=col>mode</th><th scope=col>kld</th></tr></thead>\n",
       "<tbody>\n",
       "\t<tr><th scope=row>(Intercept)</th><td>81.143784271</td><td>1.92308108  </td><td>77.288145831</td><td>81.143695036</td><td>84.998410740</td><td>81.143784521</td><td>3.238176e-10</td></tr>\n",
       "\t<tr><th scope=row>z_relative_mob</th><td> 0.001129495</td><td>0.11030376  </td><td>-0.220734870</td><td> 0.001125470</td><td> 0.223052960</td><td> 0.001154498</td><td>3.922970e-06</td></tr>\n",
       "\t<tr><th scope=row>z_gini</th><td> 0.122126913</td><td>0.15387469  </td><td>-0.185590148</td><td> 0.122110226</td><td> 0.429880277</td><td> 0.122163537</td><td>6.429428e-05</td></tr>\n",
       "\t<tr><th scope=row>log_population</th><td>-0.138195533</td><td>0.03658584  </td><td>-0.210038351</td><td>-0.138198574</td><td>-0.066403552</td><td>-0.138201594</td><td>9.007183e-14</td></tr>\n",
       "\t<tr><th scope=row>log_income</th><td>-0.116869698</td><td>0.24852252  </td><td>-0.604822402</td><td>-0.116910210</td><td> 0.370850261</td><td>-0.116968795</td><td>8.101570e-14</td></tr>\n",
       "\t<tr><th scope=row>log_crime_rate</th><td> 0.001593200</td><td>0.03121518  </td><td>-0.059683515</td><td> 0.001587991</td><td> 0.062842150</td><td> 0.001579938</td><td>2.406434e-15</td></tr>\n",
       "\t<tr><th scope=row>log_poverty</th><td> 0.164000540</td><td>0.12855740  </td><td>-0.088395716</td><td> 0.163973439</td><td> 0.416310031</td><td> 0.163930670</td><td>8.921850e-14</td></tr>\n",
       "\t<tr><th scope=row>log_mig_inflow</th><td> 0.016120583</td><td>0.09113387  </td><td>-0.162845027</td><td> 0.016116587</td><td> 0.194940173</td><td> 0.016116419</td><td>8.166385e-14</td></tr>\n",
       "\t<tr><th scope=row>log_mig_outflow</th><td>-0.329586464</td><td>0.11210406  </td><td>-0.549734881</td><td>-0.329590713</td><td>-0.109621577</td><td>-0.329589774</td><td>8.199246e-14</td></tr>\n",
       "\t<tr><th scope=row>log_foreign</th><td> 0.067402169</td><td>0.05167286  </td><td>-0.034055609</td><td> 0.067394498</td><td> 0.168807210</td><td> 0.067383660</td><td>8.543402e-14</td></tr>\n",
       "\t<tr><th scope=row>log_pct_black</th><td>-0.157215950</td><td>0.02074028  </td><td>-0.197942623</td><td>-0.157218175</td><td>-0.116515333</td><td>-0.157220770</td><td>9.678587e-14</td></tr>\n",
       "\t<tr><th scope=row>log_pct_hispanic</th><td>-0.162763595</td><td>0.04117246  </td><td>-0.243650480</td><td>-0.162754372</td><td>-0.082004533</td><td>-0.162732954</td><td>1.002865e-13</td></tr>\n",
       "\t<tr><th scope=row>log_house_value</th><td> 0.632838498</td><td>0.13497122  </td><td> 0.367644614</td><td> 0.632877116</td><td> 0.897565511</td><td> 0.632963167</td><td>1.020804e-13</td></tr>\n",
       "\t<tr><th scope=row>log_local_gov_exp</th><td>-0.026413509</td><td>0.02839754  </td><td>-0.082176403</td><td>-0.026416386</td><td> 0.029312737</td><td>-0.026419744</td><td>9.868357e-14</td></tr>\n",
       "\t<tr><th scope=row>log_unemployment</th><td> 0.045765911</td><td>0.11354687  </td><td>-0.177301582</td><td> 0.045786826</td><td> 0.268505510</td><td> 0.045837092</td><td>9.749742e-14</td></tr>\n",
       "\t<tr><th scope=row>z_segregation_income</th><td>-0.080774987</td><td>0.03734593  </td><td>-0.154119416</td><td>-0.080774727</td><td>-0.007501085</td><td>-0.080771146</td><td>8.302231e-14</td></tr>\n",
       "\t<tr><th scope=row>z_religion</th><td> 0.057064666</td><td>0.02462713  </td><td> 0.008704838</td><td> 0.057062852</td><td> 0.105389136</td><td> 0.057061372</td><td>8.544966e-14</td></tr>\n",
       "\t<tr><th scope=row>z_labor_force</th><td>-0.025335460</td><td>0.03671342  </td><td>-0.097424520</td><td>-0.025339654</td><td> 0.046709283</td><td>-0.025344689</td><td>8.470106e-14</td></tr>\n",
       "\t<tr><th scope=row>z_college</th><td> 0.553749634</td><td>0.04485329  </td><td> 0.465677625</td><td> 0.553744039</td><td> 0.641769751</td><td> 0.553736677</td><td>8.967570e-14</td></tr>\n",
       "\t<tr><th scope=row>z_middle_class</th><td> 0.158957342</td><td>0.03228473  </td><td> 0.095562310</td><td> 0.158953410</td><td> 0.222314422</td><td> 0.158948397</td><td>9.985898e-14</td></tr>\n",
       "</tbody>\n",
       "</table>\n"
      ],
      "text/latex": [
       "\\begin{tabular}{r|lllllll}\n",
       "  & mean & sd & 0.025quant & 0.5quant & 0.975quant & mode & kld\\\\\n",
       "\\hline\n",
       "\t(Intercept) & 81.143784271 & 1.92308108   & 77.288145831 & 81.143695036 & 84.998410740 & 81.143784521 & 3.238176e-10\\\\\n",
       "\tz\\_relative\\_mob &  0.001129495 & 0.11030376   & -0.220734870 &  0.001125470 &  0.223052960 &  0.001154498 & 3.922970e-06\\\\\n",
       "\tz\\_gini &  0.122126913 & 0.15387469   & -0.185590148 &  0.122110226 &  0.429880277 &  0.122163537 & 6.429428e-05\\\\\n",
       "\tlog\\_population & -0.138195533 & 0.03658584   & -0.210038351 & -0.138198574 & -0.066403552 & -0.138201594 & 9.007183e-14\\\\\n",
       "\tlog\\_income & -0.116869698 & 0.24852252   & -0.604822402 & -0.116910210 &  0.370850261 & -0.116968795 & 8.101570e-14\\\\\n",
       "\tlog\\_crime\\_rate &  0.001593200 & 0.03121518   & -0.059683515 &  0.001587991 &  0.062842150 &  0.001579938 & 2.406434e-15\\\\\n",
       "\tlog\\_poverty &  0.164000540 & 0.12855740   & -0.088395716 &  0.163973439 &  0.416310031 &  0.163930670 & 8.921850e-14\\\\\n",
       "\tlog\\_mig\\_inflow &  0.016120583 & 0.09113387   & -0.162845027 &  0.016116587 &  0.194940173 &  0.016116419 & 8.166385e-14\\\\\n",
       "\tlog\\_mig\\_outflow & -0.329586464 & 0.11210406   & -0.549734881 & -0.329590713 & -0.109621577 & -0.329589774 & 8.199246e-14\\\\\n",
       "\tlog\\_foreign &  0.067402169 & 0.05167286   & -0.034055609 &  0.067394498 &  0.168807210 &  0.067383660 & 8.543402e-14\\\\\n",
       "\tlog\\_pct\\_black & -0.157215950 & 0.02074028   & -0.197942623 & -0.157218175 & -0.116515333 & -0.157220770 & 9.678587e-14\\\\\n",
       "\tlog\\_pct\\_hispanic & -0.162763595 & 0.04117246   & -0.243650480 & -0.162754372 & -0.082004533 & -0.162732954 & 1.002865e-13\\\\\n",
       "\tlog\\_house\\_value &  0.632838498 & 0.13497122   &  0.367644614 &  0.632877116 &  0.897565511 &  0.632963167 & 1.020804e-13\\\\\n",
       "\tlog\\_local\\_gov\\_exp & -0.026413509 & 0.02839754   & -0.082176403 & -0.026416386 &  0.029312737 & -0.026419744 & 9.868357e-14\\\\\n",
       "\tlog\\_unemployment &  0.045765911 & 0.11354687   & -0.177301582 &  0.045786826 &  0.268505510 &  0.045837092 & 9.749742e-14\\\\\n",
       "\tz\\_segregation\\_income & -0.080774987 & 0.03734593   & -0.154119416 & -0.080774727 & -0.007501085 & -0.080771146 & 8.302231e-14\\\\\n",
       "\tz\\_religion &  0.057064666 & 0.02462713   &  0.008704838 &  0.057062852 &  0.105389136 &  0.057061372 & 8.544966e-14\\\\\n",
       "\tz\\_labor\\_force & -0.025335460 & 0.03671342   & -0.097424520 & -0.025339654 &  0.046709283 & -0.025344689 & 8.470106e-14\\\\\n",
       "\tz\\_college &  0.553749634 & 0.04485329   &  0.465677625 &  0.553744039 &  0.641769751 &  0.553736677 & 8.967570e-14\\\\\n",
       "\tz\\_middle\\_class &  0.158957342 & 0.03228473   &  0.095562310 &  0.158953410 &  0.222314422 &  0.158948397 & 9.985898e-14\\\\\n",
       "\\end{tabular}\n"
      ],
      "text/markdown": [
       "\n",
       "| <!--/--> | mean | sd | 0.025quant | 0.5quant | 0.975quant | mode | kld | \n",
       "|---|---|---|---|---|---|---|---|---|---|---|---|---|---|---|---|---|---|---|---|\n",
       "| (Intercept) | 81.143784271 | 1.92308108   | 77.288145831 | 81.143695036 | 84.998410740 | 81.143784521 | 3.238176e-10 | \n",
       "| z_relative_mob |  0.001129495 | 0.11030376   | -0.220734870 |  0.001125470 |  0.223052960 |  0.001154498 | 3.922970e-06 | \n",
       "| z_gini |  0.122126913 | 0.15387469   | -0.185590148 |  0.122110226 |  0.429880277 |  0.122163537 | 6.429428e-05 | \n",
       "| log_population | -0.138195533 | 0.03658584   | -0.210038351 | -0.138198574 | -0.066403552 | -0.138201594 | 9.007183e-14 | \n",
       "| log_income | -0.116869698 | 0.24852252   | -0.604822402 | -0.116910210 |  0.370850261 | -0.116968795 | 8.101570e-14 | \n",
       "| log_crime_rate |  0.001593200 | 0.03121518   | -0.059683515 |  0.001587991 |  0.062842150 |  0.001579938 | 2.406434e-15 | \n",
       "| log_poverty |  0.164000540 | 0.12855740   | -0.088395716 |  0.163973439 |  0.416310031 |  0.163930670 | 8.921850e-14 | \n",
       "| log_mig_inflow |  0.016120583 | 0.09113387   | -0.162845027 |  0.016116587 |  0.194940173 |  0.016116419 | 8.166385e-14 | \n",
       "| log_mig_outflow | -0.329586464 | 0.11210406   | -0.549734881 | -0.329590713 | -0.109621577 | -0.329589774 | 8.199246e-14 | \n",
       "| log_foreign |  0.067402169 | 0.05167286   | -0.034055609 |  0.067394498 |  0.168807210 |  0.067383660 | 8.543402e-14 | \n",
       "| log_pct_black | -0.157215950 | 0.02074028   | -0.197942623 | -0.157218175 | -0.116515333 | -0.157220770 | 9.678587e-14 | \n",
       "| log_pct_hispanic | -0.162763595 | 0.04117246   | -0.243650480 | -0.162754372 | -0.082004533 | -0.162732954 | 1.002865e-13 | \n",
       "| log_house_value |  0.632838498 | 0.13497122   |  0.367644614 |  0.632877116 |  0.897565511 |  0.632963167 | 1.020804e-13 | \n",
       "| log_local_gov_exp | -0.026413509 | 0.02839754   | -0.082176403 | -0.026416386 |  0.029312737 | -0.026419744 | 9.868357e-14 | \n",
       "| log_unemployment |  0.045765911 | 0.11354687   | -0.177301582 |  0.045786826 |  0.268505510 |  0.045837092 | 9.749742e-14 | \n",
       "| z_segregation_income | -0.080774987 | 0.03734593   | -0.154119416 | -0.080774727 | -0.007501085 | -0.080771146 | 8.302231e-14 | \n",
       "| z_religion |  0.057064666 | 0.02462713   |  0.008704838 |  0.057062852 |  0.105389136 |  0.057061372 | 8.544966e-14 | \n",
       "| z_labor_force | -0.025335460 | 0.03671342   | -0.097424520 | -0.025339654 |  0.046709283 | -0.025344689 | 8.470106e-14 | \n",
       "| z_college |  0.553749634 | 0.04485329   |  0.465677625 |  0.553744039 |  0.641769751 |  0.553736677 | 8.967570e-14 | \n",
       "| z_middle_class |  0.158957342 | 0.03228473   |  0.095562310 |  0.158953410 |  0.222314422 |  0.158948397 | 9.985898e-14 | \n",
       "\n",
       "\n"
      ],
      "text/plain": [
       "                     mean         sd         0.025quant   0.5quant    \n",
       "(Intercept)          81.143784271 1.92308108 77.288145831 81.143695036\n",
       "z_relative_mob        0.001129495 0.11030376 -0.220734870  0.001125470\n",
       "z_gini                0.122126913 0.15387469 -0.185590148  0.122110226\n",
       "log_population       -0.138195533 0.03658584 -0.210038351 -0.138198574\n",
       "log_income           -0.116869698 0.24852252 -0.604822402 -0.116910210\n",
       "log_crime_rate        0.001593200 0.03121518 -0.059683515  0.001587991\n",
       "log_poverty           0.164000540 0.12855740 -0.088395716  0.163973439\n",
       "log_mig_inflow        0.016120583 0.09113387 -0.162845027  0.016116587\n",
       "log_mig_outflow      -0.329586464 0.11210406 -0.549734881 -0.329590713\n",
       "log_foreign           0.067402169 0.05167286 -0.034055609  0.067394498\n",
       "log_pct_black        -0.157215950 0.02074028 -0.197942623 -0.157218175\n",
       "log_pct_hispanic     -0.162763595 0.04117246 -0.243650480 -0.162754372\n",
       "log_house_value       0.632838498 0.13497122  0.367644614  0.632877116\n",
       "log_local_gov_exp    -0.026413509 0.02839754 -0.082176403 -0.026416386\n",
       "log_unemployment      0.045765911 0.11354687 -0.177301582  0.045786826\n",
       "z_segregation_income -0.080774987 0.03734593 -0.154119416 -0.080774727\n",
       "z_religion            0.057064666 0.02462713  0.008704838  0.057062852\n",
       "z_labor_force        -0.025335460 0.03671342 -0.097424520 -0.025339654\n",
       "z_college             0.553749634 0.04485329  0.465677625  0.553744039\n",
       "z_middle_class        0.158957342 0.03228473  0.095562310  0.158953410\n",
       "                     0.975quant   mode         kld         \n",
       "(Intercept)          84.998410740 81.143784521 3.238176e-10\n",
       "z_relative_mob        0.223052960  0.001154498 3.922970e-06\n",
       "z_gini                0.429880277  0.122163537 6.429428e-05\n",
       "log_population       -0.066403552 -0.138201594 9.007183e-14\n",
       "log_income            0.370850261 -0.116968795 8.101570e-14\n",
       "log_crime_rate        0.062842150  0.001579938 2.406434e-15\n",
       "log_poverty           0.416310031  0.163930670 8.921850e-14\n",
       "log_mig_inflow        0.194940173  0.016116419 8.166385e-14\n",
       "log_mig_outflow      -0.109621577 -0.329589774 8.199246e-14\n",
       "log_foreign           0.168807210  0.067383660 8.543402e-14\n",
       "log_pct_black        -0.116515333 -0.157220770 9.678587e-14\n",
       "log_pct_hispanic     -0.082004533 -0.162732954 1.002865e-13\n",
       "log_house_value       0.897565511  0.632963167 1.020804e-13\n",
       "log_local_gov_exp     0.029312737 -0.026419744 9.868357e-14\n",
       "log_unemployment      0.268505510  0.045837092 9.749742e-14\n",
       "z_segregation_income -0.007501085 -0.080771146 8.302231e-14\n",
       "z_religion            0.105389136  0.057061372 8.544966e-14\n",
       "z_labor_force         0.046709283 -0.025344689 8.470106e-14\n",
       "z_college             0.641769751  0.553736677 8.967570e-14\n",
       "z_middle_class        0.222314422  0.158948397 9.985898e-14"
      ]
     },
     "metadata": {},
     "output_type": "display_data"
    }
   ],
   "source": [
    "m2$summary.fixed"
   ]
  },
  {
   "cell_type": "markdown",
   "metadata": {},
   "source": [
    "#### Variables\n",
    "\n",
    "```\n",
    "[1] \"county\"               \"gender\"               \"income_q\"            \n",
    " [4] \"le\"                   \"county_name\"          \"population\"          \n",
    " [7] \"statename\"            \"stateabbrv\"           \"density\"             \n",
    "[10] \"gini\"                 \"relative_mob\"         \"absolute_mob\"        \n",
    "[13] \"segregation_income\"   \"segregation_race\"     \"income\"              \n",
    "[16] \"poverty\"              \"middle_class\"         \"mig_inflow\"          \n",
    "[19] \"mig_outflow\"          \"foreign\"              \"religion\"            \n",
    "[22] \"crime_rate\"           \"uninsured\"            \"labor_force\"         \n",
    "[25] \"unemployment\"         \"pct_black\"            \"pct_hispanic\"        \n",
    "[28] \"obesity\"              \"smoking\"              \"exercise\"            \n",
    "[31] \"house_value\"          \"college\"              \"medicare_expenses\"   \n",
    "[34] \"local_gov_exp\"        \"male\"                 \"q2\"                  \n",
    "[37] \"q3\"                   \"q4\"                   \"log_population\"      \n",
    "[40] \"log_crime_rate\"       \"log_poverty\"          \"log_mig_inflow\"      \n",
    "[43] \"log_mig_outflow\"      \"log_foreign\"          \"log_pct_black\"       \n",
    "[46] \"log_pct_hispanic\"     \"log_house_value\"      \"log_local_gov_exp\"   \n",
    "[49] \"log_unemployment\"     \"log_income\"           \"z_gini\"              \n",
    "[52] \"z_relative_mob\"       \"z_absolute_mob\"       \"z_middle_class\"      \n",
    "[55] \"z_segregation_income\" \"z_religion\"           \"z_labor_force\"       \n",
    "[58] \"z_uninsured\"          \"z_medicare_expenses\"  \"z_college\"           \n",
    "[61] \"z_obesity\"            \"z_smoking\"            \"z_exercise\" ```"
   ]
  },
  {
   "cell_type": "code",
   "execution_count": 29,
   "metadata": {},
   "outputs": [],
   "source": [
    "nrep = 4 * 2 # 4 quartiles for 2 contrast values\n",
    "relative_mob_pred = data.table(\n",
    "    z_relative_mob       = rep(c(0.0, 1.0), times = 1 , each = 4),\n",
    "    z_gini               = rep(0, nrep),\n",
    "    log_population       = rep(0, nrep), \n",
    "    log_income           = rep(0, nrep),\n",
    "    log_crime_rate       = rep(0, nrep),\n",
    "    log_poverty          = rep(0, nrep),\n",
    "    log_mig_inflow       = rep(0, nrep),\n",
    "    log_mig_outflow      = rep(0, nrep),\n",
    "    log_foreign          = rep(0, nrep),\n",
    "    log_pct_black        = rep(0, nrep),\n",
    "    log_pct_hispanic     = rep(0, nrep),\n",
    "    log_house_value      = rep(0, nrep),\n",
    "    log_local_gov_exp    = rep(0, nrep),\n",
    "    log_unemployment     = rep(0, nrep),\n",
    "    z_segregation_income = rep(0, nrep),\n",
    "    z_religion           = rep(0, nrep),\n",
    "    z_labor_force        = rep(0, nrep),\n",
    "    z_college            = rep(0, nrep),\n",
    "    z_middle_class       = rep(0, nrep))\n",
    "\n",
    "gini_pred = data.table(\n",
    "    z_relative_mob        = rep(0, nrep),\n",
    "    z_gini               = rep(c(0.0, 1.0), times = 1 , each = 4),\n",
    "    log_population       = rep(0, nrep), \n",
    "    log_income           = rep(0, nrep),\n",
    "    log_crime_rate       = rep(0, nrep),\n",
    "    log_poverty          = rep(0, nrep),\n",
    "    log_mig_inflow       = rep(0, nrep),\n",
    "    log_mig_outflow      = rep(0, nrep),\n",
    "    log_foreign          = rep(0, nrep),\n",
    "    log_pct_black        = rep(0, nrep),\n",
    "    log_pct_hispanic     = rep(0, nrep),\n",
    "    log_house_value      = rep(0, nrep),\n",
    "    log_local_gov_exp    = rep(0, nrep),\n",
    "    log_unemployment     = rep(0, nrep),\n",
    "    z_segregation_income = rep(0, nrep),\n",
    "    z_religion           = rep(0, nrep),\n",
    "    z_labor_force        = rep(0, nrep),\n",
    "    z_college            = rep(0, nrep),\n",
    "    z_middle_class       = rep(0, nrep))"
   ]
  },
  {
   "cell_type": "code",
   "execution_count": 30,
   "metadata": {},
   "outputs": [],
   "source": [
    "# simulate\n",
    "sim_mob_male = simulate_predictions(model=m2, data=relative_mob_pred, \n",
    "                                           nsim=2000, \n",
    "                                           contrast='z_relative_mob', \n",
    "                                           random='q_mob')\n",
    "\n",
    "sim_mob_male_m2 = first_difference(sim_mob_male, 'value', 'z_relative_mob', 'variable', 'q')\n",
    "fwrite(sim_mob_male_m2, file='../data/sim_mob_male_m2.csv')"
   ]
  },
  {
   "cell_type": "code",
   "execution_count": 34,
   "metadata": {},
   "outputs": [],
   "source": [
    "sim_gini_male = simulate_predictions(model=m2, data=gini_pred, \n",
    "                                           nsim=2000, \n",
    "                                           contrast='z_gini', \n",
    "                                           random='q_gini')\n",
    "\n",
    "sim_gini_male_m2 = first_difference(sim_gini_male, 'value', 'z_gini', 'variable', 'q')\n",
    "fwrite(sim_gini_male_m2, file='../data/sim_gini_male_m2.csv')"
   ]
  },
  {
   "cell_type": "markdown",
   "metadata": {},
   "source": [
    "### Female"
   ]
  },
  {
   "cell_type": "code",
   "execution_count": 18,
   "metadata": {},
   "outputs": [],
   "source": [
    "lmod <- lm(le ~ z_relative_mob  + z_gini + log_population + log_income + \n",
    "           log_crime_rate + log_poverty + log_mig_inflow + log_mig_outflow + \n",
    "           log_foreign + log_pct_black + log_pct_hispanic + log_house_value + \n",
    "           log_local_gov_exp + log_unemployment + z_segregation_income + z_religion + \n",
    "           z_labor_force + z_college + z_middle_class , female)\n",
    "\n",
    "# pc prior\n",
    "sdres <- sd(residuals(lmod))\n",
    "pcprior <- list(prec = list(prior=\"pc.prec\", param = c(3*sdres,0.01)))"
   ]
  },
  {
   "cell_type": "code",
   "execution_count": 19,
   "metadata": {},
   "outputs": [],
   "source": [
    "formula = le ~ z_relative_mob  + z_gini + log_population + log_income +\n",
    "       log_crime_rate + log_poverty + log_mig_inflow + log_mig_outflow + \n",
    "       log_foreign + log_pct_black + log_pct_hispanic + log_house_value + \n",
    "       log_local_gov_exp + log_unemployment + z_segregation_income + z_religion + \n",
    "       z_labor_force + z_college + z_middle_class + \n",
    "       f(state, model = \"iid\", hyper = pcprior) + \n",
    "       f(cty, model = \"iid\", hyper = pcprior) + \n",
    "       f(income_qr, model = \"iid\", hyper = pcprior) + \n",
    "       f(q_mob, z_relative_mob , model = \"iid\", hyper = pcprior) + \n",
    "       f(q_gini, z_gini , model = \"iid\", hyper = pcprior)\n",
    "\n",
    "\n",
    "f2 = inla(formula, family = \"gaussian\", dat = female,\n",
    "          control.predictor=list(compute = TRUE),\n",
    "          control.compute = list(config = TRUE, dic = TRUE,\n",
    "                                 waic = TRUE, cpo = TRUE),\n",
    "          verbose = TRUE)"
   ]
  },
  {
   "cell_type": "code",
   "execution_count": 20,
   "metadata": {},
   "outputs": [
    {
     "data": {
      "text/html": [
       "<table>\n",
       "<thead><tr><th></th><th scope=col>mean</th><th scope=col>sd</th><th scope=col>0.025quant</th><th scope=col>0.5quant</th><th scope=col>0.975quant</th><th scope=col>mode</th><th scope=col>kld</th></tr></thead>\n",
       "<tbody>\n",
       "\t<tr><th scope=row>(Intercept)</th><td>84.88548688 </td><td>1.36040151  </td><td>82.15012730 </td><td>84.88543764 </td><td>87.62104211 </td><td>84.88559136 </td><td>1.125225e-09</td></tr>\n",
       "\t<tr><th scope=row>z_relative_mob</th><td> 0.02366167 </td><td>0.07014106  </td><td>-0.12006760 </td><td> 0.02365424 </td><td> 0.16757586 </td><td> 0.02365964 </td><td>4.044910e-11</td></tr>\n",
       "\t<tr><th scope=row>z_gini</th><td> 0.13972977 </td><td>0.15729051  </td><td>-0.18042233 </td><td> 0.13971617 </td><td> 0.46024940 </td><td> 0.13973556 </td><td>1.228536e-07</td></tr>\n",
       "\t<tr><th scope=row>log_population</th><td>-0.11871743 </td><td>0.03805566  </td><td>-0.19343562 </td><td>-0.11872131 </td><td>-0.04404700 </td><td>-0.11872567 </td><td>1.826676e-14</td></tr>\n",
       "\t<tr><th scope=row>log_income</th><td>-0.36578137 </td><td>0.25882401  </td><td>-0.87403603 </td><td>-0.36578020 </td><td> 0.14199389 </td><td>-0.36575663 </td><td>1.905895e-14</td></tr>\n",
       "\t<tr><th scope=row>log_crime_rate</th><td> 0.08614786 </td><td>0.03184942  </td><td> 0.02361332 </td><td> 0.08614736 </td><td> 0.14862782 </td><td> 0.08614904 </td><td>1.710122e-15</td></tr>\n",
       "\t<tr><th scope=row>log_poverty</th><td>-0.16525883 </td><td>0.13358486  </td><td>-0.42757345 </td><td>-0.16526053 </td><td> 0.09682111 </td><td>-0.16525297 </td><td>1.847010e-14</td></tr>\n",
       "\t<tr><th scope=row>log_mig_inflow</th><td>-0.03342343 </td><td>0.09470920  </td><td>-0.21939552 </td><td>-0.03342597 </td><td> 0.15238999 </td><td>-0.03342300 </td><td>1.778028e-14</td></tr>\n",
       "\t<tr><th scope=row>log_mig_outflow</th><td>-0.16960561 </td><td>0.11672308  </td><td>-0.39879098 </td><td>-0.16961335 </td><td> 0.05941010 </td><td>-0.16961863 </td><td>1.897156e-14</td></tr>\n",
       "\t<tr><th scope=row>log_foreign</th><td>-0.01487367 </td><td>0.05359919  </td><td>-0.12014283 </td><td>-0.01486783 </td><td> 0.09026569 </td><td>-0.01485125 </td><td>1.758651e-14</td></tr>\n",
       "\t<tr><th scope=row>log_pct_black</th><td>-0.13428421 </td><td>0.02138918  </td><td>-0.17629101 </td><td>-0.13428248 </td><td>-0.09232594 </td><td>-0.13427709 </td><td>2.085474e-14</td></tr>\n",
       "\t<tr><th scope=row>log_pct_hispanic</th><td>-0.15463287 </td><td>0.04252865  </td><td>-0.23806169 </td><td>-0.15466214 </td><td>-0.07112012 </td><td>-0.15471780 </td><td>2.157990e-14</td></tr>\n",
       "\t<tr><th scope=row>log_house_value</th><td> 0.53351631 </td><td>0.13859098  </td><td> 0.26138274 </td><td> 0.53350919 </td><td> 0.80543622 </td><td> 0.53350689 </td><td>2.095310e-14</td></tr>\n",
       "\t<tr><th scope=row>log_local_gov_exp</th><td>-0.03471397 </td><td>0.02946225  </td><td>-0.09256157 </td><td>-0.03471640 </td><td> 0.02309349 </td><td>-0.03471866 </td><td>1.836097e-14</td></tr>\n",
       "\t<tr><th scope=row>log_unemployment</th><td> 0.03960230 </td><td>0.11680869  </td><td>-0.18983761 </td><td> 0.03962401 </td><td> 0.26870962 </td><td> 0.03967821 </td><td>1.803789e-14</td></tr>\n",
       "\t<tr><th scope=row>z_segregation_income</th><td>-0.03493718 </td><td>0.03896380  </td><td>-0.11146469 </td><td>-0.03493231 </td><td> 0.04149193 </td><td>-0.03491953 </td><td>1.856782e-14</td></tr>\n",
       "\t<tr><th scope=row>z_religion</th><td> 0.10448082 </td><td>0.02547751  </td><td> 0.05444223 </td><td> 0.10448369 </td><td> 0.15445714 </td><td> 0.10449170 </td><td>2.004367e-14</td></tr>\n",
       "\t<tr><th scope=row>z_labor_force</th><td>-0.05117401 </td><td>0.03806794  </td><td>-0.12592536 </td><td>-0.05117479 </td><td> 0.02351227 </td><td>-0.05117309 </td><td>1.780608e-14</td></tr>\n",
       "\t<tr><th scope=row>z_college</th><td> 0.41958527 </td><td>0.04660348  </td><td> 0.32808275 </td><td> 0.41958113 </td><td> 0.51102598 </td><td> 0.41957701 </td><td>2.555898e-14</td></tr>\n",
       "\t<tr><th scope=row>z_middle_class</th><td> 0.14916425 </td><td>0.03333038  </td><td> 0.08371685 </td><td> 0.14916320 </td><td> 0.21455674 </td><td> 0.14916402 </td><td>1.873833e-14</td></tr>\n",
       "</tbody>\n",
       "</table>\n"
      ],
      "text/latex": [
       "\\begin{tabular}{r|lllllll}\n",
       "  & mean & sd & 0.025quant & 0.5quant & 0.975quant & mode & kld\\\\\n",
       "\\hline\n",
       "\t(Intercept) & 84.88548688  & 1.36040151   & 82.15012730  & 84.88543764  & 87.62104211  & 84.88559136  & 1.125225e-09\\\\\n",
       "\tz\\_relative\\_mob &  0.02366167  & 0.07014106   & -0.12006760  &  0.02365424  &  0.16757586  &  0.02365964  & 4.044910e-11\\\\\n",
       "\tz\\_gini &  0.13972977  & 0.15729051   & -0.18042233  &  0.13971617  &  0.46024940  &  0.13973556  & 1.228536e-07\\\\\n",
       "\tlog\\_population & -0.11871743  & 0.03805566   & -0.19343562  & -0.11872131  & -0.04404700  & -0.11872567  & 1.826676e-14\\\\\n",
       "\tlog\\_income & -0.36578137  & 0.25882401   & -0.87403603  & -0.36578020  &  0.14199389  & -0.36575663  & 1.905895e-14\\\\\n",
       "\tlog\\_crime\\_rate &  0.08614786  & 0.03184942   &  0.02361332  &  0.08614736  &  0.14862782  &  0.08614904  & 1.710122e-15\\\\\n",
       "\tlog\\_poverty & -0.16525883  & 0.13358486   & -0.42757345  & -0.16526053  &  0.09682111  & -0.16525297  & 1.847010e-14\\\\\n",
       "\tlog\\_mig\\_inflow & -0.03342343  & 0.09470920   & -0.21939552  & -0.03342597  &  0.15238999  & -0.03342300  & 1.778028e-14\\\\\n",
       "\tlog\\_mig\\_outflow & -0.16960561  & 0.11672308   & -0.39879098  & -0.16961335  &  0.05941010  & -0.16961863  & 1.897156e-14\\\\\n",
       "\tlog\\_foreign & -0.01487367  & 0.05359919   & -0.12014283  & -0.01486783  &  0.09026569  & -0.01485125  & 1.758651e-14\\\\\n",
       "\tlog\\_pct\\_black & -0.13428421  & 0.02138918   & -0.17629101  & -0.13428248  & -0.09232594  & -0.13427709  & 2.085474e-14\\\\\n",
       "\tlog\\_pct\\_hispanic & -0.15463287  & 0.04252865   & -0.23806169  & -0.15466214  & -0.07112012  & -0.15471780  & 2.157990e-14\\\\\n",
       "\tlog\\_house\\_value &  0.53351631  & 0.13859098   &  0.26138274  &  0.53350919  &  0.80543622  &  0.53350689  & 2.095310e-14\\\\\n",
       "\tlog\\_local\\_gov\\_exp & -0.03471397  & 0.02946225   & -0.09256157  & -0.03471640  &  0.02309349  & -0.03471866  & 1.836097e-14\\\\\n",
       "\tlog\\_unemployment &  0.03960230  & 0.11680869   & -0.18983761  &  0.03962401  &  0.26870962  &  0.03967821  & 1.803789e-14\\\\\n",
       "\tz\\_segregation\\_income & -0.03493718  & 0.03896380   & -0.11146469  & -0.03493231  &  0.04149193  & -0.03491953  & 1.856782e-14\\\\\n",
       "\tz\\_religion &  0.10448082  & 0.02547751   &  0.05444223  &  0.10448369  &  0.15445714  &  0.10449170  & 2.004367e-14\\\\\n",
       "\tz\\_labor\\_force & -0.05117401  & 0.03806794   & -0.12592536  & -0.05117479  &  0.02351227  & -0.05117309  & 1.780608e-14\\\\\n",
       "\tz\\_college &  0.41958527  & 0.04660348   &  0.32808275  &  0.41958113  &  0.51102598  &  0.41957701  & 2.555898e-14\\\\\n",
       "\tz\\_middle\\_class &  0.14916425  & 0.03333038   &  0.08371685  &  0.14916320  &  0.21455674  &  0.14916402  & 1.873833e-14\\\\\n",
       "\\end{tabular}\n"
      ],
      "text/markdown": [
       "\n",
       "| <!--/--> | mean | sd | 0.025quant | 0.5quant | 0.975quant | mode | kld | \n",
       "|---|---|---|---|---|---|---|---|---|---|---|---|---|---|---|---|---|---|---|---|\n",
       "| (Intercept) | 84.88548688  | 1.36040151   | 82.15012730  | 84.88543764  | 87.62104211  | 84.88559136  | 1.125225e-09 | \n",
       "| z_relative_mob |  0.02366167  | 0.07014106   | -0.12006760  |  0.02365424  |  0.16757586  |  0.02365964  | 4.044910e-11 | \n",
       "| z_gini |  0.13972977  | 0.15729051   | -0.18042233  |  0.13971617  |  0.46024940  |  0.13973556  | 1.228536e-07 | \n",
       "| log_population | -0.11871743  | 0.03805566   | -0.19343562  | -0.11872131  | -0.04404700  | -0.11872567  | 1.826676e-14 | \n",
       "| log_income | -0.36578137  | 0.25882401   | -0.87403603  | -0.36578020  |  0.14199389  | -0.36575663  | 1.905895e-14 | \n",
       "| log_crime_rate |  0.08614786  | 0.03184942   |  0.02361332  |  0.08614736  |  0.14862782  |  0.08614904  | 1.710122e-15 | \n",
       "| log_poverty | -0.16525883  | 0.13358486   | -0.42757345  | -0.16526053  |  0.09682111  | -0.16525297  | 1.847010e-14 | \n",
       "| log_mig_inflow | -0.03342343  | 0.09470920   | -0.21939552  | -0.03342597  |  0.15238999  | -0.03342300  | 1.778028e-14 | \n",
       "| log_mig_outflow | -0.16960561  | 0.11672308   | -0.39879098  | -0.16961335  |  0.05941010  | -0.16961863  | 1.897156e-14 | \n",
       "| log_foreign | -0.01487367  | 0.05359919   | -0.12014283  | -0.01486783  |  0.09026569  | -0.01485125  | 1.758651e-14 | \n",
       "| log_pct_black | -0.13428421  | 0.02138918   | -0.17629101  | -0.13428248  | -0.09232594  | -0.13427709  | 2.085474e-14 | \n",
       "| log_pct_hispanic | -0.15463287  | 0.04252865   | -0.23806169  | -0.15466214  | -0.07112012  | -0.15471780  | 2.157990e-14 | \n",
       "| log_house_value |  0.53351631  | 0.13859098   |  0.26138274  |  0.53350919  |  0.80543622  |  0.53350689  | 2.095310e-14 | \n",
       "| log_local_gov_exp | -0.03471397  | 0.02946225   | -0.09256157  | -0.03471640  |  0.02309349  | -0.03471866  | 1.836097e-14 | \n",
       "| log_unemployment |  0.03960230  | 0.11680869   | -0.18983761  |  0.03962401  |  0.26870962  |  0.03967821  | 1.803789e-14 | \n",
       "| z_segregation_income | -0.03493718  | 0.03896380   | -0.11146469  | -0.03493231  |  0.04149193  | -0.03491953  | 1.856782e-14 | \n",
       "| z_religion |  0.10448082  | 0.02547751   |  0.05444223  |  0.10448369  |  0.15445714  |  0.10449170  | 2.004367e-14 | \n",
       "| z_labor_force | -0.05117401  | 0.03806794   | -0.12592536  | -0.05117479  |  0.02351227  | -0.05117309  | 1.780608e-14 | \n",
       "| z_college |  0.41958527  | 0.04660348   |  0.32808275  |  0.41958113  |  0.51102598  |  0.41957701  | 2.555898e-14 | \n",
       "| z_middle_class |  0.14916425  | 0.03333038   |  0.08371685  |  0.14916320  |  0.21455674  |  0.14916402  | 1.873833e-14 | \n",
       "\n",
       "\n"
      ],
      "text/plain": [
       "                     mean        sd         0.025quant  0.5quant    0.975quant \n",
       "(Intercept)          84.88548688 1.36040151 82.15012730 84.88543764 87.62104211\n",
       "z_relative_mob        0.02366167 0.07014106 -0.12006760  0.02365424  0.16757586\n",
       "z_gini                0.13972977 0.15729051 -0.18042233  0.13971617  0.46024940\n",
       "log_population       -0.11871743 0.03805566 -0.19343562 -0.11872131 -0.04404700\n",
       "log_income           -0.36578137 0.25882401 -0.87403603 -0.36578020  0.14199389\n",
       "log_crime_rate        0.08614786 0.03184942  0.02361332  0.08614736  0.14862782\n",
       "log_poverty          -0.16525883 0.13358486 -0.42757345 -0.16526053  0.09682111\n",
       "log_mig_inflow       -0.03342343 0.09470920 -0.21939552 -0.03342597  0.15238999\n",
       "log_mig_outflow      -0.16960561 0.11672308 -0.39879098 -0.16961335  0.05941010\n",
       "log_foreign          -0.01487367 0.05359919 -0.12014283 -0.01486783  0.09026569\n",
       "log_pct_black        -0.13428421 0.02138918 -0.17629101 -0.13428248 -0.09232594\n",
       "log_pct_hispanic     -0.15463287 0.04252865 -0.23806169 -0.15466214 -0.07112012\n",
       "log_house_value       0.53351631 0.13859098  0.26138274  0.53350919  0.80543622\n",
       "log_local_gov_exp    -0.03471397 0.02946225 -0.09256157 -0.03471640  0.02309349\n",
       "log_unemployment      0.03960230 0.11680869 -0.18983761  0.03962401  0.26870962\n",
       "z_segregation_income -0.03493718 0.03896380 -0.11146469 -0.03493231  0.04149193\n",
       "z_religion            0.10448082 0.02547751  0.05444223  0.10448369  0.15445714\n",
       "z_labor_force        -0.05117401 0.03806794 -0.12592536 -0.05117479  0.02351227\n",
       "z_college             0.41958527 0.04660348  0.32808275  0.41958113  0.51102598\n",
       "z_middle_class        0.14916425 0.03333038  0.08371685  0.14916320  0.21455674\n",
       "                     mode        kld         \n",
       "(Intercept)          84.88559136 1.125225e-09\n",
       "z_relative_mob        0.02365964 4.044910e-11\n",
       "z_gini                0.13973556 1.228536e-07\n",
       "log_population       -0.11872567 1.826676e-14\n",
       "log_income           -0.36575663 1.905895e-14\n",
       "log_crime_rate        0.08614904 1.710122e-15\n",
       "log_poverty          -0.16525297 1.847010e-14\n",
       "log_mig_inflow       -0.03342300 1.778028e-14\n",
       "log_mig_outflow      -0.16961863 1.897156e-14\n",
       "log_foreign          -0.01485125 1.758651e-14\n",
       "log_pct_black        -0.13427709 2.085474e-14\n",
       "log_pct_hispanic     -0.15471780 2.157990e-14\n",
       "log_house_value       0.53350689 2.095310e-14\n",
       "log_local_gov_exp    -0.03471866 1.836097e-14\n",
       "log_unemployment      0.03967821 1.803789e-14\n",
       "z_segregation_income -0.03491953 1.856782e-14\n",
       "z_religion            0.10449170 2.004367e-14\n",
       "z_labor_force        -0.05117309 1.780608e-14\n",
       "z_college             0.41957701 2.555898e-14\n",
       "z_middle_class        0.14916402 1.873833e-14"
      ]
     },
     "metadata": {},
     "output_type": "display_data"
    }
   ],
   "source": [
    "f2$summary.fixed"
   ]
  },
  {
   "cell_type": "code",
   "execution_count": 21,
   "metadata": {},
   "outputs": [
    {
     "data": {
      "text/html": [
       "<table>\n",
       "<thead><tr><th></th><th scope=col>mean</th><th scope=col>sd</th><th scope=col>q0.025</th><th scope=col>q0.5</th><th scope=col>q0.975</th><th scope=col>mode</th></tr></thead>\n",
       "<tbody>\n",
       "\t<tr><th scope=row>SD for the Gaussian observations</th><td>1.15838217</td><td>0.01271800</td><td>1.13546826</td><td>1.15754227</td><td>1.1851819 </td><td>1.15466139</td></tr>\n",
       "\t<tr><th scope=row>SD for state</th><td>0.44179551</td><td>0.05816655</td><td>0.33541641</td><td>0.43926855</td><td>0.5632949 </td><td>0.43560952</td></tr>\n",
       "\t<tr><th scope=row>SD for cty</th><td>0.43880666</td><td>0.02351718</td><td>0.39252374</td><td>0.43897415</td><td>0.4846981 </td><td>0.44062415</td></tr>\n",
       "\t<tr><th scope=row>SD for income_qr</th><td>2.51904917</td><td>0.93382775</td><td>1.19160663</td><td>2.34743031</td><td>4.8142394 </td><td>2.04738595</td></tr>\n",
       "\t<tr><th scope=row>SD for q_mob</th><td>0.08668094</td><td>0.04969179</td><td>0.02367787</td><td>0.07578752</td><td>0.2132839 </td><td>0.05557902</td></tr>\n",
       "\t<tr><th scope=row>SD for q_gini</th><td>0.24919136</td><td>0.14174106</td><td>0.08774491</td><td>0.21170500</td><td>0.6252977 </td><td>0.15981182</td></tr>\n",
       "</tbody>\n",
       "</table>\n"
      ],
      "text/latex": [
       "\\begin{tabular}{r|llllll}\n",
       "  & mean & sd & q0.025 & q0.5 & q0.975 & mode\\\\\n",
       "\\hline\n",
       "\tSD for the Gaussian observations & 1.15838217 & 0.01271800 & 1.13546826 & 1.15754227 & 1.1851819  & 1.15466139\\\\\n",
       "\tSD for state & 0.44179551 & 0.05816655 & 0.33541641 & 0.43926855 & 0.5632949  & 0.43560952\\\\\n",
       "\tSD for cty & 0.43880666 & 0.02351718 & 0.39252374 & 0.43897415 & 0.4846981  & 0.44062415\\\\\n",
       "\tSD for income\\_qr & 2.51904917 & 0.93382775 & 1.19160663 & 2.34743031 & 4.8142394  & 2.04738595\\\\\n",
       "\tSD for q\\_mob & 0.08668094 & 0.04969179 & 0.02367787 & 0.07578752 & 0.2132839  & 0.05557902\\\\\n",
       "\tSD for q\\_gini & 0.24919136 & 0.14174106 & 0.08774491 & 0.21170500 & 0.6252977  & 0.15981182\\\\\n",
       "\\end{tabular}\n"
      ],
      "text/markdown": [
       "\n",
       "| <!--/--> | mean | sd | q0.025 | q0.5 | q0.975 | mode | \n",
       "|---|---|---|---|---|---|\n",
       "| SD for the Gaussian observations | 1.15838217 | 0.01271800 | 1.13546826 | 1.15754227 | 1.1851819  | 1.15466139 | \n",
       "| SD for state | 0.44179551 | 0.05816655 | 0.33541641 | 0.43926855 | 0.5632949  | 0.43560952 | \n",
       "| SD for cty | 0.43880666 | 0.02351718 | 0.39252374 | 0.43897415 | 0.4846981  | 0.44062415 | \n",
       "| SD for income_qr | 2.51904917 | 0.93382775 | 1.19160663 | 2.34743031 | 4.8142394  | 2.04738595 | \n",
       "| SD for q_mob | 0.08668094 | 0.04969179 | 0.02367787 | 0.07578752 | 0.2132839  | 0.05557902 | \n",
       "| SD for q_gini | 0.24919136 | 0.14174106 | 0.08774491 | 0.21170500 | 0.6252977  | 0.15981182 | \n",
       "\n",
       "\n"
      ],
      "text/plain": [
       "                                 mean       sd         q0.025     q0.5      \n",
       "SD for the Gaussian observations 1.15838217 0.01271800 1.13546826 1.15754227\n",
       "SD for state                     0.44179551 0.05816655 0.33541641 0.43926855\n",
       "SD for cty                       0.43880666 0.02351718 0.39252374 0.43897415\n",
       "SD for income_qr                 2.51904917 0.93382775 1.19160663 2.34743031\n",
       "SD for q_mob                     0.08668094 0.04969179 0.02367787 0.07578752\n",
       "SD for q_gini                    0.24919136 0.14174106 0.08774491 0.21170500\n",
       "                                 q0.975    mode      \n",
       "SD for the Gaussian observations 1.1851819 1.15466139\n",
       "SD for state                     0.5632949 0.43560952\n",
       "SD for cty                       0.4846981 0.44062415\n",
       "SD for income_qr                 4.8142394 2.04738595\n",
       "SD for q_mob                     0.2132839 0.05557902\n",
       "SD for q_gini                    0.6252977 0.15981182"
      ]
     },
     "metadata": {},
     "output_type": "display_data"
    }
   ],
   "source": [
    "bri.hyperpar.summary(f2)"
   ]
  },
  {
   "cell_type": "code",
   "execution_count": 32,
   "metadata": {},
   "outputs": [],
   "source": [
    "# simulate\n",
    "sim_mob_female = simulate_predictions(model=f2, data=relative_mob_pred, \n",
    "                                           nsim=2000, \n",
    "                                           contrast='z_relative_mob', \n",
    "                                           random='q_mob')\n",
    "\n",
    "sim_mob_female_m2 = first_difference(sim_mob_female, 'value', 'z_relative_mob', 'variable', 'q')\n",
    "fwrite(sim_mob_female_m2, file='../data/sim_mob_female_m2.csv')"
   ]
  },
  {
   "cell_type": "code",
   "execution_count": 33,
   "metadata": {},
   "outputs": [],
   "source": [
    "sim_gini_female = simulate_predictions(model=f2, data=gini_pred, \n",
    "                                           nsim=2000, \n",
    "                                           contrast='z_gini', \n",
    "                                           random='q_gini')\n",
    "\n",
    "sim_gini_female_m2 = first_difference(sim_gini_female, 'value', 'z_gini', 'variable', 'q')\n",
    "fwrite(sim_gini_female_m2, file='../data/sim_gini_female_m2.csv')"
   ]
  },
  {
   "cell_type": "code",
   "execution_count": 407,
   "metadata": {},
   "outputs": [],
   "source": []
  },
  {
   "cell_type": "code",
   "execution_count": 407,
   "metadata": {},
   "outputs": [],
   "source": []
  },
  {
   "cell_type": "code",
   "execution_count": 407,
   "metadata": {},
   "outputs": [],
   "source": []
  },
  {
   "cell_type": "code",
   "execution_count": 407,
   "metadata": {},
   "outputs": [],
   "source": []
  },
  {
   "cell_type": "code",
   "execution_count": 407,
   "metadata": {},
   "outputs": [],
   "source": []
  },
  {
   "cell_type": "code",
   "execution_count": 407,
   "metadata": {},
   "outputs": [],
   "source": []
  }
 ],
 "metadata": {
  "kernelspec": {
   "display_name": "R",
   "language": "R",
   "name": "ir"
  },
  "language_info": {
   "codemirror_mode": "r",
   "file_extension": ".r",
   "mimetype": "text/x-r-source",
   "name": "R",
   "pygments_lexer": "r",
   "version": "3.4.1"
  }
 },
 "nbformat": 4,
 "nbformat_minor": 2
}
