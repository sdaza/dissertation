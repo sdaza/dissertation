{
 "cells": [
  {
   "cell_type": "markdown",
   "metadata": {},
   "source": [
    "# INLA: Create models and assess predictions"
   ]
  },
  {
   "cell_type": "code",
   "execution_count": 35,
   "metadata": {},
   "outputs": [],
   "source": [
    "#library(rstanarm)\n",
    "library(INLA)\n",
    "library(brinla)\n",
    "library(data.table)\n",
    "library(ggplot2)\n",
    "options(repr.plot.width=3, repr.plot.height=3)"
   ]
  },
  {
   "cell_type": "code",
   "execution_count": 36,
   "metadata": {},
   "outputs": [
    {
     "data": {
      "text/html": [
       "12400"
      ],
      "text/latex": [
       "12400"
      ],
      "text/markdown": [
       "12400"
      ],
      "text/plain": [
       "[1] 12400"
      ]
     },
     "metadata": {},
     "output_type": "display_data"
    }
   ],
   "source": [
    "# read data\n",
    "df = fread('../data/le_cov_tr.csv')\n",
    "nrow(df)"
   ]
  },
  {
   "cell_type": "code",
   "execution_count": 37,
   "metadata": {},
   "outputs": [
    {
     "name": "stdout",
     "output_type": "stream",
     "text": [
      " [1] \"county\"               \"gender\"               \"income_q\"            \n",
      " [4] \"le\"                   \"county_name\"          \"population\"          \n",
      " [7] \"statename\"            \"stateabbrv\"           \"density\"             \n",
      "[10] \"gini\"                 \"relative_mob\"         \"absolute_mob\"        \n",
      "[13] \"segregation_income\"   \"segregation_race\"     \"income\"              \n",
      "[16] \"poverty\"              \"middle_class\"         \"mig_inflow\"          \n",
      "[19] \"mig_outflow\"          \"foreign\"              \"religion\"            \n",
      "[22] \"crime_rate\"           \"uninsured\"            \"labor_force\"         \n",
      "[25] \"unemployment\"         \"pct_black\"            \"pct_hispanic\"        \n",
      "[28] \"obesity\"              \"smoking\"              \"exercise\"            \n",
      "[31] \"house_value\"          \"college\"              \"medicare_expenses\"   \n",
      "[34] \"local_gov_exp\"        \"male\"                 \"q2\"                  \n",
      "[37] \"q3\"                   \"q4\"                   \"log_population\"      \n",
      "[40] \"log_crime_rate\"       \"log_poverty\"          \"log_mig_inflow\"      \n",
      "[43] \"log_mig_outflow\"      \"log_foreign\"          \"log_pct_black\"       \n",
      "[46] \"log_pct_hispanic\"     \"log_house_value\"      \"log_local_gov_exp\"   \n",
      "[49] \"log_unemployment\"     \"log_income\"           \"z_gini\"              \n",
      "[52] \"z_relative_mob\"       \"z_absolute_mob\"       \"z_middle_class\"      \n",
      "[55] \"z_segregation_income\" \"z_religion\"           \"z_labor_force\"       \n",
      "[58] \"z_uninsured\"          \"z_medicare_expenses\"  \"z_college\"           \n",
      "[61] \"z_obesity\"            \"z_smoking\"            \"z_exercise\"          \n"
     ]
    }
   ],
   "source": [
    "print(names(df))"
   ]
  },
  {
   "cell_type": "code",
   "execution_count": 38,
   "metadata": {},
   "outputs": [
    {
     "data": {},
     "metadata": {},
     "output_type": "display_data"
    },
    {
     "data": {},
     "metadata": {},
     "output_type": "display_data"
    }
   ],
   "source": [
    "df[, state := .GRP, by = statename]\n",
    "df[, income_qr := .GRP, by = income_q]"
   ]
  },
  {
   "cell_type": "code",
   "execution_count": 39,
   "metadata": {},
   "outputs": [
    {
     "data": {
      "text/plain": [
       "         income_q\n",
       "income_qr   Q1   Q2   Q3   Q4\n",
       "        1 3100    0    0    0\n",
       "        2    0 3102    0    0\n",
       "        3    0    0 3098    0\n",
       "        4    0    0    0 3100"
      ]
     },
     "metadata": {},
     "output_type": "display_data"
    }
   ],
   "source": [
    "table(df[, .(income_qr, income_q)]) # ok, right!"
   ]
  },
  {
   "cell_type": "markdown",
   "metadata": {},
   "source": [
    "# INLA Models (using PC prior)"
   ]
  },
  {
   "cell_type": "code",
   "execution_count": 40,
   "metadata": {},
   "outputs": [],
   "source": [
    "#names(dat)"
   ]
  },
  {
   "cell_type": "code",
   "execution_count": 41,
   "metadata": {},
   "outputs": [
    {
     "data": {},
     "metadata": {},
     "output_type": "display_data"
    },
    {
     "data": {},
     "metadata": {},
     "output_type": "display_data"
    },
    {
     "data": {},
     "metadata": {},
     "output_type": "display_data"
    },
    {
     "data": {},
     "metadata": {},
     "output_type": "display_data"
    },
    {
     "data": {},
     "metadata": {},
     "output_type": "display_data"
    },
    {
     "data": {},
     "metadata": {},
     "output_type": "display_data"
    },
    {
     "data": {},
     "metadata": {},
     "output_type": "display_data"
    }
   ],
   "source": [
    "# create auxiliary variables\n",
    "df[, state_mob := state]\n",
    "df[, state_gini := state]\n",
    "df[, cty := county]\n",
    "df[, cty_mob := county]\n",
    "df[, cty_gini := county]\n",
    "df[, q_mob := income_qr]\n",
    "df[, q_gini := income_qr]"
   ]
  },
  {
   "cell_type": "code",
   "execution_count": 42,
   "metadata": {},
   "outputs": [],
   "source": [
    "female = df[gender=='F']\n",
    "male = df[gender=='M']"
   ]
  },
  {
   "cell_type": "markdown",
   "metadata": {},
   "source": [
    "# Baseline model"
   ]
  },
  {
   "cell_type": "markdown",
   "metadata": {},
   "source": [
    "### Male"
   ]
  },
  {
   "cell_type": "markdown",
   "metadata": {},
   "source": [
    "lmod <- lm(le ~ z_relative_mob  + z_gini + log_population + log_income, male)\n",
    "\n",
    "# pc prior\n",
    "sdres <- sd(residuals(lmod))\n",
    "pcprior <- list(prec = list(prior=\"pc.prec\", param = c(3*sdres,0.01)))"
   ]
  },
  {
   "cell_type": "code",
   "execution_count": 44,
   "metadata": {},
   "outputs": [],
   "source": [
    "formula = le ~ z_relative_mob  + z_gini + log_population + log_income + \n",
    "       f(state, model = \"iid\", hyper = pcprior) + \n",
    "       f(cty, model = \"iid\", hyper = pcprior) + \n",
    "       f(income_qr, model = \"iid\", hyper = pcprior) + \n",
    "       f(q_mob, z_relative_mob , model = \"iid\", hyper = pcprior) + \n",
    "       f(q_gini, z_gini , model = \"iid\", hyper = pcprior)\n",
    "\n",
    "m1 = inla(formula, family = \"gaussian\", data = male,\n",
    "#           control.predictor=list(compute = TRUE),\n",
    "          control.compute = list(config = TRUE, dic = TRUE,\n",
    "                                 waic = TRUE, cpo = TRUE), \n",
    "#           control.inla = list(strategy =\"gaussian\"),\n",
    "          verbose = TRUE)"
   ]
  },
  {
   "cell_type": "code",
   "execution_count": 45,
   "metadata": {},
   "outputs": [
    {
     "data": {
      "text/html": [
       "<table>\n",
       "<thead><tr><th></th><th scope=col>mean</th><th scope=col>sd</th><th scope=col>0.025quant</th><th scope=col>0.5quant</th><th scope=col>0.975quant</th><th scope=col>mode</th><th scope=col>kld</th></tr></thead>\n",
       "<tbody>\n",
       "\t<tr><th scope=row>(Intercept)</th><td>81.2476318  </td><td>2.07555635  </td><td>77.0603137  </td><td>81.2475557  </td><td>85.43674696 </td><td>81.2477717  </td><td>1.795559e-10</td></tr>\n",
       "\t<tr><th scope=row>z_relative_mob</th><td>-0.3053746  </td><td>0.13462126  </td><td>-0.5660218  </td><td>-0.3053650  </td><td>-0.04328471 </td><td>-0.3051921  </td><td>3.718951e-05</td></tr>\n",
       "\t<tr><th scope=row>z_gini</th><td> 0.2243529  </td><td>0.18743681  </td><td>-0.1420261  </td><td> 0.2243442  </td><td> 0.59125172 </td><td> 0.2244549  </td><td>2.838629e-05</td></tr>\n",
       "\t<tr><th scope=row>log_population</th><td>-0.2282930  </td><td>0.02795351  </td><td>-0.2831673  </td><td>-0.2283007  </td><td>-0.17342846 </td><td>-0.2283140  </td><td>2.442026e-14</td></tr>\n",
       "\t<tr><th scope=row>log_income</th><td> 1.2320390  </td><td>0.13380876  </td><td> 0.9692450  </td><td> 1.2320440  </td><td> 1.49456007 </td><td> 1.2320662  </td><td>2.790317e-14</td></tr>\n",
       "</tbody>\n",
       "</table>\n"
      ],
      "text/latex": [
       "\\begin{tabular}{r|lllllll}\n",
       "  & mean & sd & 0.025quant & 0.5quant & 0.975quant & mode & kld\\\\\n",
       "\\hline\n",
       "\t(Intercept) & 81.2476318   & 2.07555635   & 77.0603137   & 81.2475557   & 85.43674696  & 81.2477717   & 1.795559e-10\\\\\n",
       "\tz\\_relative\\_mob & -0.3053746   & 0.13462126   & -0.5660218   & -0.3053650   & -0.04328471  & -0.3051921   & 3.718951e-05\\\\\n",
       "\tz\\_gini &  0.2243529   & 0.18743681   & -0.1420261   &  0.2243442   &  0.59125172  &  0.2244549   & 2.838629e-05\\\\\n",
       "\tlog\\_population & -0.2282930   & 0.02795351   & -0.2831673   & -0.2283007   & -0.17342846  & -0.2283140   & 2.442026e-14\\\\\n",
       "\tlog\\_income &  1.2320390   & 0.13380876   &  0.9692450   &  1.2320440   &  1.49456007  &  1.2320662   & 2.790317e-14\\\\\n",
       "\\end{tabular}\n"
      ],
      "text/markdown": [
       "\n",
       "| <!--/--> | mean | sd | 0.025quant | 0.5quant | 0.975quant | mode | kld | \n",
       "|---|---|---|---|---|\n",
       "| (Intercept) | 81.2476318   | 2.07555635   | 77.0603137   | 81.2475557   | 85.43674696  | 81.2477717   | 1.795559e-10 | \n",
       "| z_relative_mob | -0.3053746   | 0.13462126   | -0.5660218   | -0.3053650   | -0.04328471  | -0.3051921   | 3.718951e-05 | \n",
       "| z_gini |  0.2243529   | 0.18743681   | -0.1420261   |  0.2243442   |  0.59125172  |  0.2244549   | 2.838629e-05 | \n",
       "| log_population | -0.2282930   | 0.02795351   | -0.2831673   | -0.2283007   | -0.17342846  | -0.2283140   | 2.442026e-14 | \n",
       "| log_income |  1.2320390   | 0.13380876   |  0.9692450   |  1.2320440   |  1.49456007  |  1.2320662   | 2.790317e-14 | \n",
       "\n",
       "\n"
      ],
      "text/plain": [
       "               mean       sd         0.025quant 0.5quant   0.975quant \n",
       "(Intercept)    81.2476318 2.07555635 77.0603137 81.2475557 85.43674696\n",
       "z_relative_mob -0.3053746 0.13462126 -0.5660218 -0.3053650 -0.04328471\n",
       "z_gini          0.2243529 0.18743681 -0.1420261  0.2243442  0.59125172\n",
       "log_population -0.2282930 0.02795351 -0.2831673 -0.2283007 -0.17342846\n",
       "log_income      1.2320390 0.13380876  0.9692450  1.2320440  1.49456007\n",
       "               mode       kld         \n",
       "(Intercept)    81.2477717 1.795559e-10\n",
       "z_relative_mob -0.3051921 3.718951e-05\n",
       "z_gini          0.2244549 2.838629e-05\n",
       "log_population -0.2283140 2.442026e-14\n",
       "log_income      1.2320662 2.790317e-14"
      ]
     },
     "metadata": {},
     "output_type": "display_data"
    }
   ],
   "source": [
    "m1$summary.fixed"
   ]
  },
  {
   "cell_type": "code",
   "execution_count": 46,
   "metadata": {},
   "outputs": [
    {
     "data": {
      "text/html": [
       "<table>\n",
       "<thead><tr><th></th><th scope=col>mean</th><th scope=col>sd</th><th scope=col>q0.025</th><th scope=col>q0.5</th><th scope=col>q0.975</th><th scope=col>mode</th></tr></thead>\n",
       "<tbody>\n",
       "\t<tr><th scope=row>SD for the Gaussian observations</th><td>1.1317247 </td><td>0.01211908</td><td>1.10658445</td><td>1.1323237 </td><td>1.1539800 </td><td>1.1347625 </td></tr>\n",
       "\t<tr><th scope=row>SD for state</th><td>0.6942886 </td><td>0.08535555</td><td>0.55672067</td><td>0.6830516 </td><td>0.8895159 </td><td>0.6548753 </td></tr>\n",
       "\t<tr><th scope=row>SD for cty</th><td>0.5370075 </td><td>0.03005964</td><td>0.47129057</td><td>0.5403433 </td><td>0.5859431 </td><td>0.5551366 </td></tr>\n",
       "\t<tr><th scope=row>SD for income_qr</th><td>3.8519119 </td><td>1.32871292</td><td>1.90993057</td><td>3.6248208 </td><td>7.0737405 </td><td>3.2183385 </td></tr>\n",
       "\t<tr><th scope=row>SD for q_mob</th><td>0.2205882 </td><td>0.13244463</td><td>0.07811555</td><td>0.1834379 </td><td>0.5760160 </td><td>0.1349803 </td></tr>\n",
       "\t<tr><th scope=row>SD for q_gini</th><td>0.2977208 </td><td>0.17325169</td><td>0.10889687</td><td>0.2496264 </td><td>0.7618955 </td><td>0.1857306 </td></tr>\n",
       "</tbody>\n",
       "</table>\n"
      ],
      "text/latex": [
       "\\begin{tabular}{r|llllll}\n",
       "  & mean & sd & q0.025 & q0.5 & q0.975 & mode\\\\\n",
       "\\hline\n",
       "\tSD for the Gaussian observations & 1.1317247  & 0.01211908 & 1.10658445 & 1.1323237  & 1.1539800  & 1.1347625 \\\\\n",
       "\tSD for state & 0.6942886  & 0.08535555 & 0.55672067 & 0.6830516  & 0.8895159  & 0.6548753 \\\\\n",
       "\tSD for cty & 0.5370075  & 0.03005964 & 0.47129057 & 0.5403433  & 0.5859431  & 0.5551366 \\\\\n",
       "\tSD for income\\_qr & 3.8519119  & 1.32871292 & 1.90993057 & 3.6248208  & 7.0737405  & 3.2183385 \\\\\n",
       "\tSD for q\\_mob & 0.2205882  & 0.13244463 & 0.07811555 & 0.1834379  & 0.5760160  & 0.1349803 \\\\\n",
       "\tSD for q\\_gini & 0.2977208  & 0.17325169 & 0.10889687 & 0.2496264  & 0.7618955  & 0.1857306 \\\\\n",
       "\\end{tabular}\n"
      ],
      "text/markdown": [
       "\n",
       "| <!--/--> | mean | sd | q0.025 | q0.5 | q0.975 | mode | \n",
       "|---|---|---|---|---|---|\n",
       "| SD for the Gaussian observations | 1.1317247  | 0.01211908 | 1.10658445 | 1.1323237  | 1.1539800  | 1.1347625  | \n",
       "| SD for state | 0.6942886  | 0.08535555 | 0.55672067 | 0.6830516  | 0.8895159  | 0.6548753  | \n",
       "| SD for cty | 0.5370075  | 0.03005964 | 0.47129057 | 0.5403433  | 0.5859431  | 0.5551366  | \n",
       "| SD for income_qr | 3.8519119  | 1.32871292 | 1.90993057 | 3.6248208  | 7.0737405  | 3.2183385  | \n",
       "| SD for q_mob | 0.2205882  | 0.13244463 | 0.07811555 | 0.1834379  | 0.5760160  | 0.1349803  | \n",
       "| SD for q_gini | 0.2977208  | 0.17325169 | 0.10889687 | 0.2496264  | 0.7618955  | 0.1857306  | \n",
       "\n",
       "\n"
      ],
      "text/plain": [
       "                                 mean      sd         q0.025     q0.5     \n",
       "SD for the Gaussian observations 1.1317247 0.01211908 1.10658445 1.1323237\n",
       "SD for state                     0.6942886 0.08535555 0.55672067 0.6830516\n",
       "SD for cty                       0.5370075 0.03005964 0.47129057 0.5403433\n",
       "SD for income_qr                 3.8519119 1.32871292 1.90993057 3.6248208\n",
       "SD for q_mob                     0.2205882 0.13244463 0.07811555 0.1834379\n",
       "SD for q_gini                    0.2977208 0.17325169 0.10889687 0.2496264\n",
       "                                 q0.975    mode     \n",
       "SD for the Gaussian observations 1.1539800 1.1347625\n",
       "SD for state                     0.8895159 0.6548753\n",
       "SD for cty                       0.5859431 0.5551366\n",
       "SD for income_qr                 7.0737405 3.2183385\n",
       "SD for q_mob                     0.5760160 0.1349803\n",
       "SD for q_gini                    0.7618955 0.1857306"
      ]
     },
     "metadata": {},
     "output_type": "display_data"
    }
   ],
   "source": [
    "bri.hyperpar.summary(m1)"
   ]
  },
  {
   "cell_type": "markdown",
   "metadata": {},
   "source": [
    "### Female"
   ]
  },
  {
   "cell_type": "code",
   "execution_count": 47,
   "metadata": {},
   "outputs": [],
   "source": [
    "lmod <- lm(le ~ z_relative_mob  + z_gini + log_population + log_income, female)\n",
    "\n",
    "# pc prior\n",
    "sdres <- sd(residuals(lmod))\n",
    "pcprior <- list(prec = list(prior=\"pc.prec\", param = c(3*sdres,0.01)))"
   ]
  },
  {
   "cell_type": "code",
   "execution_count": 48,
   "metadata": {},
   "outputs": [],
   "source": [
    "formula = le ~ z_relative_mob  + z_gini + log_population + log_income + \n",
    "       f(state, model = \"iid\", hyper = pcprior) + \n",
    "       f(cty, model = \"iid\", hyper = pcprior) + \n",
    "       f(income_qr, model = \"iid\", hyper = pcprior) + \n",
    "       f(q_mob, z_relative_mob , model = \"iid\", hyper = pcprior) + \n",
    "       f(q_gini, z_gini , model = \"iid\", hyper = pcprior)\n",
    "\n",
    "\n",
    "f1 = inla(formula, family = \"gaussian\", data = female,\n",
    "#           control.predictor=list(compute = TRUE),\n",
    "          control.compute = list(config = TRUE, dic = TRUE,\n",
    "                                 waic = TRUE, cpo = TRUE), \n",
    "#           control.inla = list(strategy =\"gaussian\"),\n",
    "          verbose = TRUE)"
   ]
  },
  {
   "cell_type": "code",
   "execution_count": 49,
   "metadata": {},
   "outputs": [
    {
     "data": {
      "text/html": [
       "<table>\n",
       "<thead><tr><th></th><th scope=col>mean</th><th scope=col>sd</th><th scope=col>0.025quant</th><th scope=col>0.5quant</th><th scope=col>0.975quant</th><th scope=col>mode</th><th scope=col>kld</th></tr></thead>\n",
       "<tbody>\n",
       "\t<tr><th scope=row>(Intercept)</th><td>84.9474985  </td><td>1.30870501  </td><td>82.3049016  </td><td>84.9474310  </td><td>87.59134890 </td><td>84.9475011  </td><td>5.603111e-09</td></tr>\n",
       "\t<tr><th scope=row>z_relative_mob</th><td>-0.2228830  </td><td>0.06356958  </td><td>-0.3470683  </td><td>-0.2228987  </td><td>-0.09854405 </td><td>-0.2228937  </td><td>5.322257e-06</td></tr>\n",
       "\t<tr><th scope=row>z_gini</th><td> 0.1439463  </td><td>0.15918393  </td><td>-0.1717756  </td><td> 0.1439453  </td><td> 0.45946306 </td><td> 0.1440033  </td><td>1.979700e-05</td></tr>\n",
       "\t<tr><th scope=row>log_population</th><td>-0.2148667  </td><td>0.02759201  </td><td>-0.2690440  </td><td>-0.2148683  </td><td>-0.16073085 </td><td>-0.2148693  </td><td>1.822861e-14</td></tr>\n",
       "\t<tr><th scope=row>log_income</th><td> 1.0988020  </td><td>0.13204315  </td><td> 0.8395284  </td><td> 1.0987960  </td><td> 1.35786746 </td><td> 1.0987951  </td><td>2.547056e-14</td></tr>\n",
       "</tbody>\n",
       "</table>\n"
      ],
      "text/latex": [
       "\\begin{tabular}{r|lllllll}\n",
       "  & mean & sd & 0.025quant & 0.5quant & 0.975quant & mode & kld\\\\\n",
       "\\hline\n",
       "\t(Intercept) & 84.9474985   & 1.30870501   & 82.3049016   & 84.9474310   & 87.59134890  & 84.9475011   & 5.603111e-09\\\\\n",
       "\tz\\_relative\\_mob & -0.2228830   & 0.06356958   & -0.3470683   & -0.2228987   & -0.09854405  & -0.2228937   & 5.322257e-06\\\\\n",
       "\tz\\_gini &  0.1439463   & 0.15918393   & -0.1717756   &  0.1439453   &  0.45946306  &  0.1440033   & 1.979700e-05\\\\\n",
       "\tlog\\_population & -0.2148667   & 0.02759201   & -0.2690440   & -0.2148683   & -0.16073085  & -0.2148693   & 1.822861e-14\\\\\n",
       "\tlog\\_income &  1.0988020   & 0.13204315   &  0.8395284   &  1.0987960   &  1.35786746  &  1.0987951   & 2.547056e-14\\\\\n",
       "\\end{tabular}\n"
      ],
      "text/markdown": [
       "\n",
       "| <!--/--> | mean | sd | 0.025quant | 0.5quant | 0.975quant | mode | kld | \n",
       "|---|---|---|---|---|\n",
       "| (Intercept) | 84.9474985   | 1.30870501   | 82.3049016   | 84.9474310   | 87.59134890  | 84.9475011   | 5.603111e-09 | \n",
       "| z_relative_mob | -0.2228830   | 0.06356958   | -0.3470683   | -0.2228987   | -0.09854405  | -0.2228937   | 5.322257e-06 | \n",
       "| z_gini |  0.1439463   | 0.15918393   | -0.1717756   |  0.1439453   |  0.45946306  |  0.1440033   | 1.979700e-05 | \n",
       "| log_population | -0.2148667   | 0.02759201   | -0.2690440   | -0.2148683   | -0.16073085  | -0.2148693   | 1.822861e-14 | \n",
       "| log_income |  1.0988020   | 0.13204315   |  0.8395284   |  1.0987960   |  1.35786746  |  1.0987951   | 2.547056e-14 | \n",
       "\n",
       "\n"
      ],
      "text/plain": [
       "               mean       sd         0.025quant 0.5quant   0.975quant \n",
       "(Intercept)    84.9474985 1.30870501 82.3049016 84.9474310 87.59134890\n",
       "z_relative_mob -0.2228830 0.06356958 -0.3470683 -0.2228987 -0.09854405\n",
       "z_gini          0.1439463 0.15918393 -0.1717756  0.1439453  0.45946306\n",
       "log_population -0.2148667 0.02759201 -0.2690440 -0.2148683 -0.16073085\n",
       "log_income      1.0988020 0.13204315  0.8395284  1.0987960  1.35786746\n",
       "               mode       kld         \n",
       "(Intercept)    84.9475011 5.603111e-09\n",
       "z_relative_mob -0.2228937 5.322257e-06\n",
       "z_gini          0.1440033 1.979700e-05\n",
       "log_population -0.2148693 1.822861e-14\n",
       "log_income      1.0987951 2.547056e-14"
      ]
     },
     "metadata": {},
     "output_type": "display_data"
    }
   ],
   "source": [
    "f1$summary.fixed"
   ]
  },
  {
   "cell_type": "code",
   "execution_count": 50,
   "metadata": {},
   "outputs": [
    {
     "data": {
      "text/html": [
       "<table>\n",
       "<thead><tr><th></th><th scope=col>mean</th><th scope=col>sd</th><th scope=col>q0.025</th><th scope=col>q0.5</th><th scope=col>q0.975</th><th scope=col>mode</th></tr></thead>\n",
       "<tbody>\n",
       "\t<tr><th scope=row>SD for the Gaussian observations</th><td>1.15963278</td><td>0.01191264</td><td>1.13689746</td><td>1.15934386</td><td>1.1836520 </td><td>1.15851530</td></tr>\n",
       "\t<tr><th scope=row>SD for state</th><td>0.54690120</td><td>0.07004732</td><td>0.43149425</td><td>0.53858846</td><td>0.7051523 </td><td>0.51870145</td></tr>\n",
       "\t<tr><th scope=row>SD for cty</th><td>0.52466497</td><td>0.02203057</td><td>0.48181655</td><td>0.52455596</td><td>0.5682688 </td><td>0.52498093</td></tr>\n",
       "\t<tr><th scope=row>SD for income_qr</th><td>2.54320251</td><td>0.94900487</td><td>1.26164343</td><td>2.34395349</td><td>4.9316836 </td><td>2.00805761</td></tr>\n",
       "\t<tr><th scope=row>SD for q_mob</th><td>0.08795318</td><td>0.05720506</td><td>0.02551899</td><td>0.07236143</td><td>0.2409428 </td><td>0.05153076</td></tr>\n",
       "\t<tr><th scope=row>SD for q_gini</th><td>0.27765261</td><td>0.15396563</td><td>0.10137775</td><td>0.23704051</td><td>0.6855605 </td><td>0.18042773</td></tr>\n",
       "</tbody>\n",
       "</table>\n"
      ],
      "text/latex": [
       "\\begin{tabular}{r|llllll}\n",
       "  & mean & sd & q0.025 & q0.5 & q0.975 & mode\\\\\n",
       "\\hline\n",
       "\tSD for the Gaussian observations & 1.15963278 & 0.01191264 & 1.13689746 & 1.15934386 & 1.1836520  & 1.15851530\\\\\n",
       "\tSD for state & 0.54690120 & 0.07004732 & 0.43149425 & 0.53858846 & 0.7051523  & 0.51870145\\\\\n",
       "\tSD for cty & 0.52466497 & 0.02203057 & 0.48181655 & 0.52455596 & 0.5682688  & 0.52498093\\\\\n",
       "\tSD for income\\_qr & 2.54320251 & 0.94900487 & 1.26164343 & 2.34395349 & 4.9316836  & 2.00805761\\\\\n",
       "\tSD for q\\_mob & 0.08795318 & 0.05720506 & 0.02551899 & 0.07236143 & 0.2409428  & 0.05153076\\\\\n",
       "\tSD for q\\_gini & 0.27765261 & 0.15396563 & 0.10137775 & 0.23704051 & 0.6855605  & 0.18042773\\\\\n",
       "\\end{tabular}\n"
      ],
      "text/markdown": [
       "\n",
       "| <!--/--> | mean | sd | q0.025 | q0.5 | q0.975 | mode | \n",
       "|---|---|---|---|---|---|\n",
       "| SD for the Gaussian observations | 1.15963278 | 0.01191264 | 1.13689746 | 1.15934386 | 1.1836520  | 1.15851530 | \n",
       "| SD for state | 0.54690120 | 0.07004732 | 0.43149425 | 0.53858846 | 0.7051523  | 0.51870145 | \n",
       "| SD for cty | 0.52466497 | 0.02203057 | 0.48181655 | 0.52455596 | 0.5682688  | 0.52498093 | \n",
       "| SD for income_qr | 2.54320251 | 0.94900487 | 1.26164343 | 2.34395349 | 4.9316836  | 2.00805761 | \n",
       "| SD for q_mob | 0.08795318 | 0.05720506 | 0.02551899 | 0.07236143 | 0.2409428  | 0.05153076 | \n",
       "| SD for q_gini | 0.27765261 | 0.15396563 | 0.10137775 | 0.23704051 | 0.6855605  | 0.18042773 | \n",
       "\n",
       "\n"
      ],
      "text/plain": [
       "                                 mean       sd         q0.025     q0.5      \n",
       "SD for the Gaussian observations 1.15963278 0.01191264 1.13689746 1.15934386\n",
       "SD for state                     0.54690120 0.07004732 0.43149425 0.53858846\n",
       "SD for cty                       0.52466497 0.02203057 0.48181655 0.52455596\n",
       "SD for income_qr                 2.54320251 0.94900487 1.26164343 2.34395349\n",
       "SD for q_mob                     0.08795318 0.05720506 0.02551899 0.07236143\n",
       "SD for q_gini                    0.27765261 0.15396563 0.10137775 0.23704051\n",
       "                                 q0.975    mode      \n",
       "SD for the Gaussian observations 1.1836520 1.15851530\n",
       "SD for state                     0.7051523 0.51870145\n",
       "SD for cty                       0.5682688 0.52498093\n",
       "SD for income_qr                 4.9316836 2.00805761\n",
       "SD for q_mob                     0.2409428 0.05153076\n",
       "SD for q_gini                    0.6855605 0.18042773"
      ]
     },
     "metadata": {},
     "output_type": "display_data"
    }
   ],
   "source": [
    "bri.hyperpar.summary(f1)"
   ]
  },
  {
   "cell_type": "markdown",
   "metadata": {},
   "source": [
    "## First differences (simulation, baseline)"
   ]
  },
  {
   "cell_type": "code",
   "execution_count": 51,
   "metadata": {},
   "outputs": [],
   "source": [
    "setorder(male, -le)\n",
    "top_male = male[, .(county, state, le)][1:11]"
   ]
  },
  {
   "cell_type": "code",
   "execution_count": 52,
   "metadata": {},
   "outputs": [],
   "source": [
    "setorder(male, le)\n",
    "bottom_male = male[, .(county, state, le, income_q)][1:11]"
   ]
  },
  {
   "cell_type": "code",
   "execution_count": 53,
   "metadata": {},
   "outputs": [],
   "source": [
    "# function to simulate predicted values\n",
    "\n",
    "simulate_predictions = function(model, data, nsim = 1000, contrast='z_relative_mob', \n",
    "                               random = 'q_mob') {\n",
    "    \n",
    "    # simulate posterior distribution\n",
    "    simData <- inla.posterior.sample(n=nsim, result=model)\n",
    "    \n",
    "    # define matrix model\n",
    "    f = formula(paste0('~ ', paste0(names(data), collapse = ' + ')))\n",
    "    X = model.matrix(f, dat = data)\n",
    "    N = nrow(data)\n",
    "    Ysim = matrix(nrow = N, ncol = nsim) \n",
    "    \n",
    "    # loop\n",
    "    for (i in 1:nsim) {\n",
    "        rnames <- rownames(simData[[i]]$latent)\n",
    "        rndQinc <- simData[[i]]$latent[grep('income_qr', rnames)]\n",
    "        rndIncCoef <- simData[[i]]$latent[grep(random, rnames)]\n",
    "        coefNames <- rownames(model$summary.fixed)\n",
    "        Betas = simData[[i]]$latent[-grep(\"^Pred|^state|^cty|^obs|^income_qr|q_mob|q_gini\", rnames)]\n",
    "        names(Betas) = coefNames\n",
    "        mt = matrix(rep(Betas, N), ncol = length(coefNames), nrow = N, byrow = TRUE)\n",
    "        indc = grep(contrast, coefNames)\n",
    "        indi = grep('Intercept', coefNames)\n",
    "        mt[, indc] = mt[,indc] + rep(rndIncCoef, 2)\n",
    "        # mt[,indi] = mt[,indi] + rep(rndQinc, 2)\n",
    "        for (j in 1:N) {\n",
    "            Ysim[j, i] <- X[j, ] %*% mt[j,]\n",
    "        }\n",
    "    }\n",
    "    \n",
    "    t = data.table(Ysim)\n",
    "    t[, q := rep(1:4, times = 2)]\n",
    "    t[, (contrast) := rep(c(0.0, 1.0), times = 1 , each = 4)]\n",
    "    return(melt(t, id.vars = c('q', contrast)))\n",
    "}\n",
    "\n",
    "# first difference function\n",
    "first_difference = function(simulated_data, value_variable, constrast_variable, \n",
    "                            simulation_index, group_variable) {\n",
    "    output = data.table()\n",
    "    gr = simulated_data[, unique(get(group_variable))]\n",
    "    for (g in gr) { \n",
    "        diff = simulated_data[get(group_variable)==g, \n",
    "                     .(q=g, diff = diff(get(value_variable))), by=.(sim=get(simulation_index))]\n",
    "        output = rbind(output, diff )\n",
    "    }\n",
    "    return(output)\n",
    "}\n",
    "\n",
    "# btw grouups\n",
    "\n",
    "first_difference_between_groups = function(data, contrast = 'z_gini', group = 'q', model = 'm1') {\n",
    "    c = gtools::combinations(n = 4, r = 2, v = c(1:4), repeats.allowed = FALSE)\n",
    "    t = list()\n",
    "    for (i in 1:nrow(c)) {\n",
    "        a = data[get(group) == c[i,1] & get(contrast) == 1, value] - data[get(group) == c[i,1] & get(contrast) == 0, value]\n",
    "        b = data[get(group) == c[i,2] & get(contrast) == 1, value] - data[get(group) == c[i,2] & get(contrast) == 0, value]\n",
    "        varname = paste0(c[i,1], '-', c[i,2]) \n",
    "        t[[i]] = data.table(type =contrast,  contrast = varname, model = model, values = (a - b))\n",
    "    }\n",
    "    return(rbindlist(t))\n",
    "}"
   ]
  },
  {
   "cell_type": "markdown",
   "metadata": {},
   "source": [
    "### Income mobility "
   ]
  },
  {
   "cell_type": "code",
   "execution_count": 54,
   "metadata": {},
   "outputs": [],
   "source": [
    "nrep = 4 * 2 # 4 quartiles for 2 contrast values\n",
    "relative_mob_pred_data = data.table(\n",
    "    z_relative_mob = rep(c(0.0, 1.0), times = 1 , each = 4),\n",
    "    z_gini = rep(0, nrep),\n",
    "    log_population = rep(0, nrep), \n",
    "    log_income = rep(0, nrep))"
   ]
  },
  {
   "cell_type": "code",
   "execution_count": 55,
   "metadata": {},
   "outputs": [],
   "source": [
    "sim_mob_male = simulate_predictions(model=m1, data=relative_mob_pred_data, \n",
    "                                           nsim=2000, \n",
    "                                           contrast='z_relative_mob', \n",
    "                                           random='q_mob')"
   ]
  },
  {
   "cell_type": "code",
   "execution_count": 56,
   "metadata": {},
   "outputs": [],
   "source": [
    "sim_mob_male_m1 = first_difference(sim_mob_male, 'value', 'z_relative_mob', 'variable', 'q')\n",
    "fwrite(sim_mob_male_m1, file='../data/sim_mob_male_m1.csv')"
   ]
  },
  {
   "cell_type": "code",
   "execution_count": 57,
   "metadata": {},
   "outputs": [],
   "source": [
    "sim_mob_female = simulate_predictions(model=f1, data=relative_mob_pred_data, \n",
    "                                           nsim=2000, \n",
    "                                           contrast='z_relative_mob', \n",
    "                                           random='q_mob')"
   ]
  },
  {
   "cell_type": "code",
   "execution_count": 58,
   "metadata": {},
   "outputs": [],
   "source": [
    "sim_mob_female_m1 = first_difference(sim_mob_female, 'value', 'z_relative_mob', 'variable', 'q')\n",
    "fwrite(sim_mob_female_m1, file='../data/sim_mob_female_m1.csv')"
   ]
  },
  {
   "cell_type": "markdown",
   "metadata": {},
   "source": [
    "### Inequality\n"
   ]
  },
  {
   "cell_type": "code",
   "execution_count": 59,
   "metadata": {},
   "outputs": [],
   "source": [
    "nrep = 4 * 2 # 4 quartiles for 2 contrast values\n",
    "gini_pred_data = data.table(\n",
    "    z_relative_mob = rep(0, nrep),\n",
    "    z_gini = rep(c(0.0, 1.0), times = 1 , each = 4),\n",
    "    log_population = rep(0, nrep),     \n",
    "    log_income = rep(0, nrep)\n",
    ")"
   ]
  },
  {
   "cell_type": "code",
   "execution_count": 60,
   "metadata": {},
   "outputs": [],
   "source": [
    "sim_gini_male = simulate_predictions(model=m1, data=gini_pred_data, \n",
    "                                           nsim=2000, \n",
    "                                           contrast='z_gini', \n",
    "                                           random='q_gini')"
   ]
  },
  {
   "cell_type": "code",
   "execution_count": 61,
   "metadata": {},
   "outputs": [],
   "source": [
    "sim_gini_male_m1 = first_difference(sim_gini_male, 'value', 'z_gini', 'variable', 'q')\n",
    "fwrite(sim_gini_male_m1, file='../data/sim_gini_male_m1.csv')"
   ]
  },
  {
   "cell_type": "code",
   "execution_count": 62,
   "metadata": {},
   "outputs": [],
   "source": [
    "sim_gini_female = simulate_predictions(model=f1, data=gini_pred_data, \n",
    "                                           nsim=2000, \n",
    "                                           contrast='z_gini', \n",
    "                                           random='q_gini')"
   ]
  },
  {
   "cell_type": "code",
   "execution_count": 63,
   "metadata": {},
   "outputs": [],
   "source": [
    "sim_gini_female_m1 = first_difference(sim_gini_female, 'value', 'z_gini', 'variable', 'q')\n",
    "fwrite(sim_gini_female_m1, file='../data/sim_gini_female_m1.csv')"
   ]
  },
  {
   "cell_type": "markdown",
   "metadata": {},
   "source": [
    "# Adjusting for contextual variables"
   ]
  },
  {
   "cell_type": "markdown",
   "metadata": {},
   "source": [
    "### Male"
   ]
  },
  {
   "cell_type": "code",
   "execution_count": 103,
   "metadata": {},
   "outputs": [],
   "source": [
    "lmod <- lm(le ~ z_relative_mob  + z_gini + log_population + log_income + \n",
    "           log_crime_rate + log_poverty + log_mig_inflow + log_mig_outflow + \n",
    "           log_foreign + log_pct_black + log_pct_hispanic + log_house_value + \n",
    "           log_local_gov_exp + log_unemployment + z_segregation_income + z_religion + \n",
    "           z_labor_force + z_college + z_middle_class + z_uninsured + z_medicare_expenses, male)\n",
    "\n",
    "# pc prior\n",
    "sdres <- sd(residuals(lmod))\n",
    "pcprior <- list(prec = list(prior=\"pc.prec\", param = c(3*sdres,0.01)))"
   ]
  },
  {
   "cell_type": "code",
   "execution_count": 104,
   "metadata": {},
   "outputs": [],
   "source": [
    "formula = le ~ z_relative_mob  + z_gini + log_population + log_income +\n",
    "       log_crime_rate + log_poverty + log_mig_inflow + log_mig_outflow + \n",
    "       log_foreign + log_pct_black + log_pct_hispanic + log_house_value + \n",
    "       log_local_gov_exp + log_unemployment + z_segregation_income + z_religion + \n",
    "       z_labor_force + z_college + z_middle_class + z_uninsured + z_medicare_expenses +\n",
    "       f(state, model = \"iid\", hyper = pcprior) + \n",
    "       f(cty, model = \"iid\", hyper = pcprior) + \n",
    "       f(income_qr, model = \"iid\", hyper = pcprior) + \n",
    "       f(q_mob, z_relative_mob , model = \"iid\", hyper = pcprior) + \n",
    "       f(q_gini, z_gini , model = \"iid\", hyper = pcprior)\n",
    "\n",
    "\n",
    "m2 = inla(formula, family = \"gaussian\", data = male,\n",
    "          control.predictor=list(compute = TRUE),\n",
    "          control.compute = list(config = TRUE, dic = TRUE,\n",
    "                                 waic = TRUE, cpo = TRUE),\n",
    "          verbose = TRUE)"
   ]
  },
  {
   "cell_type": "code",
   "execution_count": 105,
   "metadata": {},
   "outputs": [
    {
     "data": {
      "text/html": [
       "<table>\n",
       "<thead><tr><th></th><th scope=col>mean</th><th scope=col>sd</th><th scope=col>q0.025</th><th scope=col>q0.5</th><th scope=col>q0.975</th><th scope=col>mode</th></tr></thead>\n",
       "<tbody>\n",
       "\t<tr><th scope=row>SD for the Gaussian observations</th><td>1.1444495 </td><td>0.01003046</td><td>1.12358195</td><td>1.1449688 </td><td>1.1628025 </td><td>1.1470537 </td></tr>\n",
       "\t<tr><th scope=row>SD for state</th><td>0.5016463 </td><td>0.06959488</td><td>0.36880004</td><td>0.5012601 </td><td>0.6400222 </td><td>0.5048931 </td></tr>\n",
       "\t<tr><th scope=row>SD for cty</th><td>0.3741101 </td><td>0.02426422</td><td>0.32694229</td><td>0.3740604 </td><td>0.4220598 </td><td>0.3750955 </td></tr>\n",
       "\t<tr><th scope=row>SD for income_qr</th><td>3.9120935 </td><td>1.54969946</td><td>1.90137015</td><td>3.5613673 </td><td>7.8716520 </td><td>2.9873358 </td></tr>\n",
       "\t<tr><th scope=row>SD for q_mob</th><td>0.2236224 </td><td>0.13519896</td><td>0.07647995</td><td>0.1862049 </td><td>0.5858170 </td><td>0.1370398 </td></tr>\n",
       "\t<tr><th scope=row>SD for q_gini</th><td>0.2666925 </td><td>0.12728236</td><td>0.10949935</td><td>0.2360154 </td><td>0.5972853 </td><td>0.1893758 </td></tr>\n",
       "</tbody>\n",
       "</table>\n"
      ],
      "text/latex": [
       "\\begin{tabular}{r|llllll}\n",
       "  & mean & sd & q0.025 & q0.5 & q0.975 & mode\\\\\n",
       "\\hline\n",
       "\tSD for the Gaussian observations & 1.1444495  & 0.01003046 & 1.12358195 & 1.1449688  & 1.1628025  & 1.1470537 \\\\\n",
       "\tSD for state & 0.5016463  & 0.06959488 & 0.36880004 & 0.5012601  & 0.6400222  & 0.5048931 \\\\\n",
       "\tSD for cty & 0.3741101  & 0.02426422 & 0.32694229 & 0.3740604  & 0.4220598  & 0.3750955 \\\\\n",
       "\tSD for income\\_qr & 3.9120935  & 1.54969946 & 1.90137015 & 3.5613673  & 7.8716520  & 2.9873358 \\\\\n",
       "\tSD for q\\_mob & 0.2236224  & 0.13519896 & 0.07647995 & 0.1862049  & 0.5858170  & 0.1370398 \\\\\n",
       "\tSD for q\\_gini & 0.2666925  & 0.12728236 & 0.10949935 & 0.2360154  & 0.5972853  & 0.1893758 \\\\\n",
       "\\end{tabular}\n"
      ],
      "text/markdown": [
       "\n",
       "| <!--/--> | mean | sd | q0.025 | q0.5 | q0.975 | mode | \n",
       "|---|---|---|---|---|---|\n",
       "| SD for the Gaussian observations | 1.1444495  | 0.01003046 | 1.12358195 | 1.1449688  | 1.1628025  | 1.1470537  | \n",
       "| SD for state | 0.5016463  | 0.06959488 | 0.36880004 | 0.5012601  | 0.6400222  | 0.5048931  | \n",
       "| SD for cty | 0.3741101  | 0.02426422 | 0.32694229 | 0.3740604  | 0.4220598  | 0.3750955  | \n",
       "| SD for income_qr | 3.9120935  | 1.54969946 | 1.90137015 | 3.5613673  | 7.8716520  | 2.9873358  | \n",
       "| SD for q_mob | 0.2236224  | 0.13519896 | 0.07647995 | 0.1862049  | 0.5858170  | 0.1370398  | \n",
       "| SD for q_gini | 0.2666925  | 0.12728236 | 0.10949935 | 0.2360154  | 0.5972853  | 0.1893758  | \n",
       "\n",
       "\n"
      ],
      "text/plain": [
       "                                 mean      sd         q0.025     q0.5     \n",
       "SD for the Gaussian observations 1.1444495 0.01003046 1.12358195 1.1449688\n",
       "SD for state                     0.5016463 0.06959488 0.36880004 0.5012601\n",
       "SD for cty                       0.3741101 0.02426422 0.32694229 0.3740604\n",
       "SD for income_qr                 3.9120935 1.54969946 1.90137015 3.5613673\n",
       "SD for q_mob                     0.2236224 0.13519896 0.07647995 0.1862049\n",
       "SD for q_gini                    0.2666925 0.12728236 0.10949935 0.2360154\n",
       "                                 q0.975    mode     \n",
       "SD for the Gaussian observations 1.1628025 1.1470537\n",
       "SD for state                     0.6400222 0.5048931\n",
       "SD for cty                       0.4220598 0.3750955\n",
       "SD for income_qr                 7.8716520 2.9873358\n",
       "SD for q_mob                     0.5858170 0.1370398\n",
       "SD for q_gini                    0.5972853 0.1893758"
      ]
     },
     "metadata": {},
     "output_type": "display_data"
    }
   ],
   "source": [
    "bri.hyperpar.summary(m2)"
   ]
  },
  {
   "cell_type": "code",
   "execution_count": 106,
   "metadata": {},
   "outputs": [
    {
     "data": {
      "text/html": [
       "<table>\n",
       "<thead><tr><th></th><th scope=col>mean</th><th scope=col>sd</th><th scope=col>0.025quant</th><th scope=col>0.5quant</th><th scope=col>0.975quant</th><th scope=col>mode</th><th scope=col>kld</th></tr></thead>\n",
       "<tbody>\n",
       "\t<tr><th scope=row>(Intercept)</th><td>81.142913675</td><td>1.90025927  </td><td>77.33579277 </td><td>81.142784050</td><td>84.948228267</td><td>81.142561866</td><td>1.275072e-10</td></tr>\n",
       "\t<tr><th scope=row>z_relative_mob</th><td>-0.013120886</td><td>0.12076097  </td><td>-0.25618290 </td><td>-0.013140151</td><td> 0.229278433</td><td>-0.013238792</td><td>6.736475e-05</td></tr>\n",
       "\t<tr><th scope=row>z_gini</th><td> 0.063129463</td><td>0.15366097  </td><td>-0.25436726 </td><td> 0.063145842</td><td> 0.380049395</td><td> 0.063077528</td><td>5.703824e-07</td></tr>\n",
       "\t<tr><th scope=row>log_population</th><td>-0.080224649</td><td>0.03691430  </td><td>-0.15272209 </td><td>-0.080221250</td><td>-0.007812378</td><td>-0.080210384</td><td>1.686774e-14</td></tr>\n",
       "\t<tr><th scope=row>log_income</th><td>-0.203730729</td><td>0.24302523  </td><td>-0.68088856 </td><td>-0.203752098</td><td> 0.273103260</td><td>-0.203773947</td><td>1.915028e-14</td></tr>\n",
       "\t<tr><th scope=row>log_crime_rate</th><td> 0.004243439</td><td>0.03098729  </td><td>-0.05660284 </td><td> 0.004244329</td><td> 0.065028945</td><td> 0.004248802</td><td>1.815426e-15</td></tr>\n",
       "\t<tr><th scope=row>log_poverty</th><td>-0.004188920</td><td>0.13024552  </td><td>-0.26003198 </td><td>-0.004160552</td><td> 0.251262571</td><td>-0.004089671</td><td>1.978716e-14</td></tr>\n",
       "\t<tr><th scope=row>log_mig_inflow</th><td> 0.056221614</td><td>0.08924059  </td><td>-0.11898356 </td><td> 0.056209829</td><td> 0.231328952</td><td> 0.056193260</td><td>2.031207e-14</td></tr>\n",
       "\t<tr><th scope=row>log_mig_outflow</th><td>-0.340854218</td><td>0.10955921  </td><td>-0.55598986 </td><td>-0.340854958</td><td>-0.125913622</td><td>-0.340846721</td><td>1.965492e-14</td></tr>\n",
       "\t<tr><th scope=row>log_foreign</th><td>-0.025198862</td><td>0.05324810  </td><td>-0.12992005 </td><td>-0.025144881</td><td> 0.079128266</td><td>-0.025030129</td><td>1.508513e-14</td></tr>\n",
       "\t<tr><th scope=row>log_pct_black</th><td>-0.124032130</td><td>0.02084033  </td><td>-0.16491494 </td><td>-0.124046272</td><td>-0.083109816</td><td>-0.124073672</td><td>1.298089e-14</td></tr>\n",
       "\t<tr><th scope=row>log_pct_hispanic</th><td>-0.187541329</td><td>0.04051918  </td><td>-0.26708925 </td><td>-0.187548249</td><td>-0.108029183</td><td>-0.187558788</td><td>2.641489e-14</td></tr>\n",
       "\t<tr><th scope=row>log_house_value</th><td> 0.605006195</td><td>0.13214218  </td><td> 0.34529603 </td><td> 0.605082232</td><td> 0.864056242</td><td> 0.605248096</td><td>2.066382e-14</td></tr>\n",
       "\t<tr><th scope=row>log_local_gov_exp</th><td>-0.045597453</td><td>0.02780727  </td><td>-0.10020587 </td><td>-0.045596063</td><td> 0.008952974</td><td>-0.045590538</td><td>2.131264e-14</td></tr>\n",
       "\t<tr><th scope=row>log_unemployment</th><td> 0.044958484</td><td>0.11079740  </td><td>-0.17274363 </td><td> 0.045003150</td><td> 0.262212952</td><td> 0.045103932</td><td>1.960668e-14</td></tr>\n",
       "\t<tr><th scope=row>z_segregation_income</th><td>-0.054260053</td><td>0.03732762  </td><td>-0.12754972 </td><td>-0.054263397</td><td> 0.018979821</td><td>-0.054267226</td><td>2.085376e-14</td></tr>\n",
       "\t<tr><th scope=row>z_religion</th><td> 0.071262694</td><td>0.02417997  </td><td> 0.02378519 </td><td> 0.071261168</td><td> 0.118704545</td><td> 0.071260154</td><td>2.002731e-14</td></tr>\n",
       "\t<tr><th scope=row>z_labor_force</th><td>-0.046606639</td><td>0.03595776  </td><td>-0.11720147 </td><td>-0.046611623</td><td> 0.023950145</td><td>-0.046618695</td><td>1.962189e-14</td></tr>\n",
       "\t<tr><th scope=row>z_college</th><td> 0.542894574</td><td>0.04610734  </td><td> 0.45238509 </td><td> 0.542884096</td><td> 0.633377805</td><td> 0.542866739</td><td>6.527999e-15</td></tr>\n",
       "\t<tr><th scope=row>z_middle_class</th><td> 0.092506484</td><td>0.03239982  </td><td> 0.02887902 </td><td> 0.092508133</td><td> 0.156066258</td><td> 0.092514668</td><td>2.106955e-14</td></tr>\n",
       "\t<tr><th scope=row>z_uninsured</th><td> 0.247356208</td><td>0.04972053  </td><td> 0.15049419 </td><td> 0.247095476</td><td> 0.345545697</td><td> 0.246548428</td><td>2.245478e-14</td></tr>\n",
       "\t<tr><th scope=row>z_medicare_expenses</th><td>-0.241951893</td><td>0.03030481  </td><td>-0.30139196 </td><td>-0.241975699</td><td>-0.182436321</td><td>-0.242021942</td><td>1.700002e-14</td></tr>\n",
       "</tbody>\n",
       "</table>\n"
      ],
      "text/latex": [
       "\\begin{tabular}{r|lllllll}\n",
       "  & mean & sd & 0.025quant & 0.5quant & 0.975quant & mode & kld\\\\\n",
       "\\hline\n",
       "\t(Intercept) & 81.142913675 & 1.90025927   & 77.33579277  & 81.142784050 & 84.948228267 & 81.142561866 & 1.275072e-10\\\\\n",
       "\tz\\_relative\\_mob & -0.013120886 & 0.12076097   & -0.25618290  & -0.013140151 &  0.229278433 & -0.013238792 & 6.736475e-05\\\\\n",
       "\tz\\_gini &  0.063129463 & 0.15366097   & -0.25436726  &  0.063145842 &  0.380049395 &  0.063077528 & 5.703824e-07\\\\\n",
       "\tlog\\_population & -0.080224649 & 0.03691430   & -0.15272209  & -0.080221250 & -0.007812378 & -0.080210384 & 1.686774e-14\\\\\n",
       "\tlog\\_income & -0.203730729 & 0.24302523   & -0.68088856  & -0.203752098 &  0.273103260 & -0.203773947 & 1.915028e-14\\\\\n",
       "\tlog\\_crime\\_rate &  0.004243439 & 0.03098729   & -0.05660284  &  0.004244329 &  0.065028945 &  0.004248802 & 1.815426e-15\\\\\n",
       "\tlog\\_poverty & -0.004188920 & 0.13024552   & -0.26003198  & -0.004160552 &  0.251262571 & -0.004089671 & 1.978716e-14\\\\\n",
       "\tlog\\_mig\\_inflow &  0.056221614 & 0.08924059   & -0.11898356  &  0.056209829 &  0.231328952 &  0.056193260 & 2.031207e-14\\\\\n",
       "\tlog\\_mig\\_outflow & -0.340854218 & 0.10955921   & -0.55598986  & -0.340854958 & -0.125913622 & -0.340846721 & 1.965492e-14\\\\\n",
       "\tlog\\_foreign & -0.025198862 & 0.05324810   & -0.12992005  & -0.025144881 &  0.079128266 & -0.025030129 & 1.508513e-14\\\\\n",
       "\tlog\\_pct\\_black & -0.124032130 & 0.02084033   & -0.16491494  & -0.124046272 & -0.083109816 & -0.124073672 & 1.298089e-14\\\\\n",
       "\tlog\\_pct\\_hispanic & -0.187541329 & 0.04051918   & -0.26708925  & -0.187548249 & -0.108029183 & -0.187558788 & 2.641489e-14\\\\\n",
       "\tlog\\_house\\_value &  0.605006195 & 0.13214218   &  0.34529603  &  0.605082232 &  0.864056242 &  0.605248096 & 2.066382e-14\\\\\n",
       "\tlog\\_local\\_gov\\_exp & -0.045597453 & 0.02780727   & -0.10020587  & -0.045596063 &  0.008952974 & -0.045590538 & 2.131264e-14\\\\\n",
       "\tlog\\_unemployment &  0.044958484 & 0.11079740   & -0.17274363  &  0.045003150 &  0.262212952 &  0.045103932 & 1.960668e-14\\\\\n",
       "\tz\\_segregation\\_income & -0.054260053 & 0.03732762   & -0.12754972  & -0.054263397 &  0.018979821 & -0.054267226 & 2.085376e-14\\\\\n",
       "\tz\\_religion &  0.071262694 & 0.02417997   &  0.02378519  &  0.071261168 &  0.118704545 &  0.071260154 & 2.002731e-14\\\\\n",
       "\tz\\_labor\\_force & -0.046606639 & 0.03595776   & -0.11720147  & -0.046611623 &  0.023950145 & -0.046618695 & 1.962189e-14\\\\\n",
       "\tz\\_college &  0.542894574 & 0.04610734   &  0.45238509  &  0.542884096 &  0.633377805 &  0.542866739 & 6.527999e-15\\\\\n",
       "\tz\\_middle\\_class &  0.092506484 & 0.03239982   &  0.02887902  &  0.092508133 &  0.156066258 &  0.092514668 & 2.106955e-14\\\\\n",
       "\tz\\_uninsured &  0.247356208 & 0.04972053   &  0.15049419  &  0.247095476 &  0.345545697 &  0.246548428 & 2.245478e-14\\\\\n",
       "\tz\\_medicare\\_expenses & -0.241951893 & 0.03030481   & -0.30139196  & -0.241975699 & -0.182436321 & -0.242021942 & 1.700002e-14\\\\\n",
       "\\end{tabular}\n"
      ],
      "text/markdown": [
       "\n",
       "| <!--/--> | mean | sd | 0.025quant | 0.5quant | 0.975quant | mode | kld | \n",
       "|---|---|---|---|---|---|---|---|---|---|---|---|---|---|---|---|---|---|---|---|---|---|\n",
       "| (Intercept) | 81.142913675 | 1.90025927   | 77.33579277  | 81.142784050 | 84.948228267 | 81.142561866 | 1.275072e-10 | \n",
       "| z_relative_mob | -0.013120886 | 0.12076097   | -0.25618290  | -0.013140151 |  0.229278433 | -0.013238792 | 6.736475e-05 | \n",
       "| z_gini |  0.063129463 | 0.15366097   | -0.25436726  |  0.063145842 |  0.380049395 |  0.063077528 | 5.703824e-07 | \n",
       "| log_population | -0.080224649 | 0.03691430   | -0.15272209  | -0.080221250 | -0.007812378 | -0.080210384 | 1.686774e-14 | \n",
       "| log_income | -0.203730729 | 0.24302523   | -0.68088856  | -0.203752098 |  0.273103260 | -0.203773947 | 1.915028e-14 | \n",
       "| log_crime_rate |  0.004243439 | 0.03098729   | -0.05660284  |  0.004244329 |  0.065028945 |  0.004248802 | 1.815426e-15 | \n",
       "| log_poverty | -0.004188920 | 0.13024552   | -0.26003198  | -0.004160552 |  0.251262571 | -0.004089671 | 1.978716e-14 | \n",
       "| log_mig_inflow |  0.056221614 | 0.08924059   | -0.11898356  |  0.056209829 |  0.231328952 |  0.056193260 | 2.031207e-14 | \n",
       "| log_mig_outflow | -0.340854218 | 0.10955921   | -0.55598986  | -0.340854958 | -0.125913622 | -0.340846721 | 1.965492e-14 | \n",
       "| log_foreign | -0.025198862 | 0.05324810   | -0.12992005  | -0.025144881 |  0.079128266 | -0.025030129 | 1.508513e-14 | \n",
       "| log_pct_black | -0.124032130 | 0.02084033   | -0.16491494  | -0.124046272 | -0.083109816 | -0.124073672 | 1.298089e-14 | \n",
       "| log_pct_hispanic | -0.187541329 | 0.04051918   | -0.26708925  | -0.187548249 | -0.108029183 | -0.187558788 | 2.641489e-14 | \n",
       "| log_house_value |  0.605006195 | 0.13214218   |  0.34529603  |  0.605082232 |  0.864056242 |  0.605248096 | 2.066382e-14 | \n",
       "| log_local_gov_exp | -0.045597453 | 0.02780727   | -0.10020587  | -0.045596063 |  0.008952974 | -0.045590538 | 2.131264e-14 | \n",
       "| log_unemployment |  0.044958484 | 0.11079740   | -0.17274363  |  0.045003150 |  0.262212952 |  0.045103932 | 1.960668e-14 | \n",
       "| z_segregation_income | -0.054260053 | 0.03732762   | -0.12754972  | -0.054263397 |  0.018979821 | -0.054267226 | 2.085376e-14 | \n",
       "| z_religion |  0.071262694 | 0.02417997   |  0.02378519  |  0.071261168 |  0.118704545 |  0.071260154 | 2.002731e-14 | \n",
       "| z_labor_force | -0.046606639 | 0.03595776   | -0.11720147  | -0.046611623 |  0.023950145 | -0.046618695 | 1.962189e-14 | \n",
       "| z_college |  0.542894574 | 0.04610734   |  0.45238509  |  0.542884096 |  0.633377805 |  0.542866739 | 6.527999e-15 | \n",
       "| z_middle_class |  0.092506484 | 0.03239982   |  0.02887902  |  0.092508133 |  0.156066258 |  0.092514668 | 2.106955e-14 | \n",
       "| z_uninsured |  0.247356208 | 0.04972053   |  0.15049419  |  0.247095476 |  0.345545697 |  0.246548428 | 2.245478e-14 | \n",
       "| z_medicare_expenses | -0.241951893 | 0.03030481   | -0.30139196  | -0.241975699 | -0.182436321 | -0.242021942 | 1.700002e-14 | \n",
       "\n",
       "\n"
      ],
      "text/plain": [
       "                     mean         sd         0.025quant  0.5quant    \n",
       "(Intercept)          81.142913675 1.90025927 77.33579277 81.142784050\n",
       "z_relative_mob       -0.013120886 0.12076097 -0.25618290 -0.013140151\n",
       "z_gini                0.063129463 0.15366097 -0.25436726  0.063145842\n",
       "log_population       -0.080224649 0.03691430 -0.15272209 -0.080221250\n",
       "log_income           -0.203730729 0.24302523 -0.68088856 -0.203752098\n",
       "log_crime_rate        0.004243439 0.03098729 -0.05660284  0.004244329\n",
       "log_poverty          -0.004188920 0.13024552 -0.26003198 -0.004160552\n",
       "log_mig_inflow        0.056221614 0.08924059 -0.11898356  0.056209829\n",
       "log_mig_outflow      -0.340854218 0.10955921 -0.55598986 -0.340854958\n",
       "log_foreign          -0.025198862 0.05324810 -0.12992005 -0.025144881\n",
       "log_pct_black        -0.124032130 0.02084033 -0.16491494 -0.124046272\n",
       "log_pct_hispanic     -0.187541329 0.04051918 -0.26708925 -0.187548249\n",
       "log_house_value       0.605006195 0.13214218  0.34529603  0.605082232\n",
       "log_local_gov_exp    -0.045597453 0.02780727 -0.10020587 -0.045596063\n",
       "log_unemployment      0.044958484 0.11079740 -0.17274363  0.045003150\n",
       "z_segregation_income -0.054260053 0.03732762 -0.12754972 -0.054263397\n",
       "z_religion            0.071262694 0.02417997  0.02378519  0.071261168\n",
       "z_labor_force        -0.046606639 0.03595776 -0.11720147 -0.046611623\n",
       "z_college             0.542894574 0.04610734  0.45238509  0.542884096\n",
       "z_middle_class        0.092506484 0.03239982  0.02887902  0.092508133\n",
       "z_uninsured           0.247356208 0.04972053  0.15049419  0.247095476\n",
       "z_medicare_expenses  -0.241951893 0.03030481 -0.30139196 -0.241975699\n",
       "                     0.975quant   mode         kld         \n",
       "(Intercept)          84.948228267 81.142561866 1.275072e-10\n",
       "z_relative_mob        0.229278433 -0.013238792 6.736475e-05\n",
       "z_gini                0.380049395  0.063077528 5.703824e-07\n",
       "log_population       -0.007812378 -0.080210384 1.686774e-14\n",
       "log_income            0.273103260 -0.203773947 1.915028e-14\n",
       "log_crime_rate        0.065028945  0.004248802 1.815426e-15\n",
       "log_poverty           0.251262571 -0.004089671 1.978716e-14\n",
       "log_mig_inflow        0.231328952  0.056193260 2.031207e-14\n",
       "log_mig_outflow      -0.125913622 -0.340846721 1.965492e-14\n",
       "log_foreign           0.079128266 -0.025030129 1.508513e-14\n",
       "log_pct_black        -0.083109816 -0.124073672 1.298089e-14\n",
       "log_pct_hispanic     -0.108029183 -0.187558788 2.641489e-14\n",
       "log_house_value       0.864056242  0.605248096 2.066382e-14\n",
       "log_local_gov_exp     0.008952974 -0.045590538 2.131264e-14\n",
       "log_unemployment      0.262212952  0.045103932 1.960668e-14\n",
       "z_segregation_income  0.018979821 -0.054267226 2.085376e-14\n",
       "z_religion            0.118704545  0.071260154 2.002731e-14\n",
       "z_labor_force         0.023950145 -0.046618695 1.962189e-14\n",
       "z_college             0.633377805  0.542866739 6.527999e-15\n",
       "z_middle_class        0.156066258  0.092514668 2.106955e-14\n",
       "z_uninsured           0.345545697  0.246548428 2.245478e-14\n",
       "z_medicare_expenses  -0.182436321 -0.242021942 1.700002e-14"
      ]
     },
     "metadata": {},
     "output_type": "display_data"
    }
   ],
   "source": [
    "m2$summary.fixed"
   ]
  },
  {
   "cell_type": "markdown",
   "metadata": {},
   "source": [
    "#### Variables\n",
    "\n",
    "```\n",
    "[1] \"county\"               \"gender\"               \"income_q\"            \n",
    " [4] \"le\"                   \"county_name\"          \"population\"          \n",
    " [7] \"statename\"            \"stateabbrv\"           \"density\"             \n",
    "[10] \"gini\"                 \"relative_mob\"         \"absolute_mob\"        \n",
    "[13] \"segregation_income\"   \"segregation_race\"     \"income\"              \n",
    "[16] \"poverty\"              \"middle_class\"         \"mig_inflow\"          \n",
    "[19] \"mig_outflow\"          \"foreign\"              \"religion\"            \n",
    "[22] \"crime_rate\"           \"uninsured\"            \"labor_force\"         \n",
    "[25] \"unemployment\"         \"pct_black\"            \"pct_hispanic\"        \n",
    "[28] \"obesity\"              \"smoking\"              \"exercise\"            \n",
    "[31] \"house_value\"          \"college\"              \"medicare_expenses\"   \n",
    "[34] \"local_gov_exp\"        \"male\"                 \"q2\"                  \n",
    "[37] \"q3\"                   \"q4\"                   \"log_population\"      \n",
    "[40] \"log_crime_rate\"       \"log_poverty\"          \"log_mig_inflow\"      \n",
    "[43] \"log_mig_outflow\"      \"log_foreign\"          \"log_pct_black\"       \n",
    "[46] \"log_pct_hispanic\"     \"log_house_value\"      \"log_local_gov_exp\"   \n",
    "[49] \"log_unemployment\"     \"log_income\"           \"z_gini\"              \n",
    "[52] \"z_relative_mob\"       \"z_absolute_mob\"       \"z_middle_class\"      \n",
    "[55] \"z_segregation_income\" \"z_religion\"           \"z_labor_force\"       \n",
    "[58] \"z_uninsured\"          \"z_medicare_expenses\"  \"z_college\"           \n",
    "[61] \"z_obesity\"            \"z_smoking\"            \"z_exercise\" ```"
   ]
  },
  {
   "cell_type": "code",
   "execution_count": 107,
   "metadata": {},
   "outputs": [],
   "source": [
    "nrep = 4 * 2 # 4 quartiles for 2 contrast values\n",
    "relative_mob_pred = data.table(\n",
    "    z_relative_mob       = rep(c(0.0, 1.0), times = 1 , each = 4),\n",
    "    z_gini               = rep(0, nrep),\n",
    "    log_population       = rep(0, nrep), \n",
    "    log_income           = rep(0, nrep),\n",
    "    log_crime_rate       = rep(0, nrep),\n",
    "    log_poverty          = rep(0, nrep),\n",
    "    log_mig_inflow       = rep(0, nrep),\n",
    "    log_mig_outflow      = rep(0, nrep),\n",
    "    log_foreign          = rep(0, nrep),\n",
    "    log_pct_black        = rep(0, nrep),\n",
    "    log_pct_hispanic     = rep(0, nrep),\n",
    "    log_house_value      = rep(0, nrep),\n",
    "    log_local_gov_exp    = rep(0, nrep),\n",
    "    log_unemployment     = rep(0, nrep),\n",
    "    z_segregation_income = rep(0, nrep),\n",
    "    z_religion           = rep(0, nrep),\n",
    "    z_labor_force        = rep(0, nrep),\n",
    "    z_college            = rep(0, nrep),\n",
    "    z_middle_class       = rep(0, nrep),\n",
    "    z_uninsured          = rep(0, nrep), \n",
    "    z_medicare_expenses  = rep(0, nrep))\n",
    "\n",
    "gini_pred = data.table(\n",
    "    z_relative_mob        = rep(0, nrep),\n",
    "    z_gini               = rep(c(0.0, 1.0), times = 1 , each = 4),\n",
    "    log_population       = rep(0, nrep), \n",
    "    log_income           = rep(0, nrep),\n",
    "    log_crime_rate       = rep(0, nrep),\n",
    "    log_poverty          = rep(0, nrep),\n",
    "    log_mig_inflow       = rep(0, nrep),\n",
    "    log_mig_outflow      = rep(0, nrep),\n",
    "    log_foreign          = rep(0, nrep),\n",
    "    log_pct_black        = rep(0, nrep),\n",
    "    log_pct_hispanic     = rep(0, nrep),\n",
    "    log_house_value      = rep(0, nrep),\n",
    "    log_local_gov_exp    = rep(0, nrep),\n",
    "    log_unemployment     = rep(0, nrep),\n",
    "    z_segregation_income = rep(0, nrep),\n",
    "    z_religion           = rep(0, nrep),\n",
    "    z_labor_force        = rep(0, nrep),\n",
    "    z_college            = rep(0, nrep),\n",
    "    z_middle_class       = rep(0, nrep),\n",
    "    z_uninsured          = rep(0, nrep), \n",
    "    z_medicare_expenses  = rep(0, nrep))"
   ]
  },
  {
   "cell_type": "code",
   "execution_count": 108,
   "metadata": {},
   "outputs": [],
   "source": [
    "# simulate\n",
    "sim_mob_male = simulate_predictions(model=m2, data=relative_mob_pred, \n",
    "                                           nsim=2000, \n",
    "                                           contrast='z_relative_mob', \n",
    "                                           random='q_mob')\n",
    "\n",
    "sim_mob_male_m2 = first_difference(sim_mob_male, 'value', 'z_relative_mob', 'variable', 'q')\n",
    "fwrite(sim_mob_male_m2, file='../data/sim_mob_male_m2.csv')"
   ]
  },
  {
   "cell_type": "code",
   "execution_count": 109,
   "metadata": {},
   "outputs": [],
   "source": [
    "sim_gini_male = simulate_predictions(model=m2, data=gini_pred, \n",
    "                                           nsim=2000, \n",
    "                                           contrast='z_gini', \n",
    "                                           random='q_gini')\n",
    "\n",
    "sim_gini_male_m2 = first_difference(sim_gini_male, 'value', 'z_gini', 'variable', 'q')\n",
    "fwrite(sim_gini_male_m2, file='../data/sim_gini_male_m2.csv')"
   ]
  },
  {
   "cell_type": "markdown",
   "metadata": {},
   "source": [
    "### Female"
   ]
  },
  {
   "cell_type": "code",
   "execution_count": 110,
   "metadata": {},
   "outputs": [],
   "source": [
    "lmod <- lm(le ~ z_relative_mob  + z_gini + log_population + log_income + \n",
    "           log_crime_rate + log_poverty + log_mig_inflow + log_mig_outflow + \n",
    "           log_foreign + log_pct_black + log_pct_hispanic + log_house_value + \n",
    "           log_local_gov_exp + log_unemployment + z_segregation_income + z_religion + \n",
    "           z_labor_force + z_college + z_middle_class + z_uninsured + z_medicare_expenses, female)\n",
    "\n",
    "# pc prior\n",
    "sdres <- sd(residuals(lmod))\n",
    "pcprior <- list(prec = list(prior=\"pc.prec\", param = c(3*sdres,0.01)))"
   ]
  },
  {
   "cell_type": "code",
   "execution_count": 111,
   "metadata": {},
   "outputs": [],
   "source": [
    "formula = le ~ z_relative_mob  + z_gini + log_population + log_income +\n",
    "       log_crime_rate + log_poverty + log_mig_inflow + log_mig_outflow + \n",
    "       log_foreign + log_pct_black + log_pct_hispanic + log_house_value + \n",
    "       log_local_gov_exp + log_unemployment + z_segregation_income + z_religion + \n",
    "       z_labor_force + z_college + z_middle_class + z_uninsured + z_medicare_expenses + \n",
    "       f(state, model = \"iid\", hyper = pcprior) + \n",
    "       f(cty, model = \"iid\", hyper = pcprior) + \n",
    "       f(income_qr, model = \"iid\", hyper = pcprior) + \n",
    "       f(q_mob, z_relative_mob , model = \"iid\", hyper = pcprior) + \n",
    "       f(q_gini, z_gini , model = \"iid\", hyper = pcprior)\n",
    "\n",
    "\n",
    "f2 = inla(formula, family = \"gaussian\", data = female,\n",
    "          control.predictor=list(compute = TRUE),\n",
    "          control.compute = list(config = TRUE, dic = TRUE,\n",
    "                                 waic = TRUE, cpo = TRUE),\n",
    "          verbose = TRUE)"
   ]
  },
  {
   "cell_type": "code",
   "execution_count": 112,
   "metadata": {},
   "outputs": [
    {
     "data": {
      "text/html": [
       "<table>\n",
       "<thead><tr><th></th><th scope=col>mean</th><th scope=col>sd</th><th scope=col>0.025quant</th><th scope=col>0.5quant</th><th scope=col>0.975quant</th><th scope=col>mode</th><th scope=col>kld</th></tr></thead>\n",
       "<tbody>\n",
       "\t<tr><th scope=row>(Intercept)</th><td>84.879309381</td><td>1.32672097  </td><td>82.25287080 </td><td>84.879216073</td><td>87.501537818</td><td>84.879216388</td><td>2.058968e-09</td></tr>\n",
       "\t<tr><th scope=row>z_relative_mob</th><td> 0.009286034</td><td>0.06594163  </td><td>-0.11604545 </td><td> 0.009277622</td><td> 0.134741795</td><td> 0.009271338</td><td>1.450574e-06</td></tr>\n",
       "\t<tr><th scope=row>z_gini</th><td> 0.083124493</td><td>0.14926520  </td><td>-0.19772027 </td><td> 0.083096981</td><td> 0.363768508</td><td> 0.083123068</td><td>1.452596e-04</td></tr>\n",
       "\t<tr><th scope=row>log_population</th><td>-0.061529878</td><td>0.03810786  </td><td>-0.13634950 </td><td>-0.061534115</td><td> 0.013243810</td><td>-0.061539282</td><td>3.016216e-14</td></tr>\n",
       "\t<tr><th scope=row>log_income</th><td>-0.442710101</td><td>0.25259357  </td><td>-0.93871538 </td><td>-0.442713247</td><td> 0.052851796</td><td>-0.442698315</td><td>2.838482e-14</td></tr>\n",
       "\t<tr><th scope=row>log_crime_rate</th><td> 0.089334097</td><td>0.03206673  </td><td> 0.02637812 </td><td> 0.089332285</td><td> 0.152242506</td><td> 0.089331395</td><td>4.217556e-16</td></tr>\n",
       "\t<tr><th scope=row>log_poverty</th><td>-0.316929607</td><td>0.13418503  </td><td>-0.58041363 </td><td>-0.316933966</td><td>-0.053666005</td><td>-0.316931256</td><td>2.793959e-14</td></tr>\n",
       "\t<tr><th scope=row>log_mig_inflow</th><td> 0.001710091</td><td>0.09258113  </td><td>-0.18008595 </td><td> 0.001708603</td><td> 0.183345388</td><td> 0.001713326</td><td>2.874231e-14</td></tr>\n",
       "\t<tr><th scope=row>log_mig_outflow</th><td>-0.180206031</td><td>0.11389338  </td><td>-0.40382787 </td><td>-0.180216011</td><td> 0.043263665</td><td>-0.180226084</td><td>2.995582e-14</td></tr>\n",
       "\t<tr><th scope=row>log_foreign</th><td>-0.099859635</td><td>0.05491421  </td><td>-0.20779284 </td><td>-0.099827743</td><td> 0.007793093</td><td>-0.099762159</td><td>4.141839e-14</td></tr>\n",
       "\t<tr><th scope=row>log_pct_black</th><td>-0.104111080</td><td>0.02132973  </td><td>-0.14599701 </td><td>-0.104110745</td><td>-0.062265888</td><td>-0.104108246</td><td>2.859701e-14</td></tr>\n",
       "\t<tr><th scope=row>log_pct_hispanic</th><td>-0.178254249</td><td>0.04213027  </td><td>-0.26091924 </td><td>-0.178276958</td><td>-0.095538931</td><td>-0.178317541</td><td>3.616125e-14</td></tr>\n",
       "\t<tr><th scope=row>log_house_value</th><td> 0.509898605</td><td>0.13583437  </td><td> 0.24321191 </td><td> 0.509880997</td><td> 0.776435276</td><td> 0.509857601</td><td>3.159004e-14</td></tr>\n",
       "\t<tr><th scope=row>log_local_gov_exp</th><td>-0.053370608</td><td>0.02880487  </td><td>-0.10992755 </td><td>-0.053372916</td><td> 0.003146651</td><td>-0.053375044</td><td>2.848622e-14</td></tr>\n",
       "\t<tr><th scope=row>log_unemployment</th><td> 0.035413042</td><td>0.11408807  </td><td>-0.18861991 </td><td> 0.035412925</td><td> 0.259238816</td><td> 0.035422590</td><td>2.852925e-14</td></tr>\n",
       "\t<tr><th scope=row>z_segregation_income</th><td>-0.010045017</td><td>0.03891727  </td><td>-0.08648986 </td><td>-0.010037516</td><td> 0.066287072</td><td>-0.010019227</td><td>3.207928e-14</td></tr>\n",
       "\t<tr><th scope=row>z_religion</th><td> 0.117811142</td><td>0.02502399  </td><td> 0.06866324 </td><td> 0.117814065</td><td> 0.166897200</td><td> 0.117822034</td><td>2.700983e-14</td></tr>\n",
       "\t<tr><th scope=row>z_labor_force</th><td>-0.071928885</td><td>0.03726306  </td><td>-0.14509978 </td><td>-0.071929532</td><td> 0.001177679</td><td>-0.071927657</td><td>2.717268e-14</td></tr>\n",
       "\t<tr><th scope=row>z_college</th><td> 0.404373095</td><td>0.04773334  </td><td> 0.31064756 </td><td> 0.404370501</td><td> 0.498025958</td><td> 0.404369330</td><td>2.131791e-14</td></tr>\n",
       "\t<tr><th scope=row>z_middle_class</th><td> 0.085087960</td><td>0.03352453  </td><td> 0.01926343 </td><td> 0.085085578</td><td> 0.150864638</td><td> 0.085083714</td><td>2.797582e-14</td></tr>\n",
       "\t<tr><th scope=row>z_uninsured</th><td> 0.226109959</td><td>0.04942974  </td><td> 0.12950328 </td><td> 0.225953421</td><td> 0.323507086</td><td> 0.225656279</td><td>1.313485e-13</td></tr>\n",
       "\t<tr><th scope=row>z_medicare_expenses</th><td>-0.235311154</td><td>0.03102300  </td><td>-0.29623559 </td><td>-0.235309585</td><td>-0.174452035</td><td>-0.235303822</td><td>3.064160e-14</td></tr>\n",
       "</tbody>\n",
       "</table>\n"
      ],
      "text/latex": [
       "\\begin{tabular}{r|lllllll}\n",
       "  & mean & sd & 0.025quant & 0.5quant & 0.975quant & mode & kld\\\\\n",
       "\\hline\n",
       "\t(Intercept) & 84.879309381 & 1.32672097   & 82.25287080  & 84.879216073 & 87.501537818 & 84.879216388 & 2.058968e-09\\\\\n",
       "\tz\\_relative\\_mob &  0.009286034 & 0.06594163   & -0.11604545  &  0.009277622 &  0.134741795 &  0.009271338 & 1.450574e-06\\\\\n",
       "\tz\\_gini &  0.083124493 & 0.14926520   & -0.19772027  &  0.083096981 &  0.363768508 &  0.083123068 & 1.452596e-04\\\\\n",
       "\tlog\\_population & -0.061529878 & 0.03810786   & -0.13634950  & -0.061534115 &  0.013243810 & -0.061539282 & 3.016216e-14\\\\\n",
       "\tlog\\_income & -0.442710101 & 0.25259357   & -0.93871538  & -0.442713247 &  0.052851796 & -0.442698315 & 2.838482e-14\\\\\n",
       "\tlog\\_crime\\_rate &  0.089334097 & 0.03206673   &  0.02637812  &  0.089332285 &  0.152242506 &  0.089331395 & 4.217556e-16\\\\\n",
       "\tlog\\_poverty & -0.316929607 & 0.13418503   & -0.58041363  & -0.316933966 & -0.053666005 & -0.316931256 & 2.793959e-14\\\\\n",
       "\tlog\\_mig\\_inflow &  0.001710091 & 0.09258113   & -0.18008595  &  0.001708603 &  0.183345388 &  0.001713326 & 2.874231e-14\\\\\n",
       "\tlog\\_mig\\_outflow & -0.180206031 & 0.11389338   & -0.40382787  & -0.180216011 &  0.043263665 & -0.180226084 & 2.995582e-14\\\\\n",
       "\tlog\\_foreign & -0.099859635 & 0.05491421   & -0.20779284  & -0.099827743 &  0.007793093 & -0.099762159 & 4.141839e-14\\\\\n",
       "\tlog\\_pct\\_black & -0.104111080 & 0.02132973   & -0.14599701  & -0.104110745 & -0.062265888 & -0.104108246 & 2.859701e-14\\\\\n",
       "\tlog\\_pct\\_hispanic & -0.178254249 & 0.04213027   & -0.26091924  & -0.178276958 & -0.095538931 & -0.178317541 & 3.616125e-14\\\\\n",
       "\tlog\\_house\\_value &  0.509898605 & 0.13583437   &  0.24321191  &  0.509880997 &  0.776435276 &  0.509857601 & 3.159004e-14\\\\\n",
       "\tlog\\_local\\_gov\\_exp & -0.053370608 & 0.02880487   & -0.10992755  & -0.053372916 &  0.003146651 & -0.053375044 & 2.848622e-14\\\\\n",
       "\tlog\\_unemployment &  0.035413042 & 0.11408807   & -0.18861991  &  0.035412925 &  0.259238816 &  0.035422590 & 2.852925e-14\\\\\n",
       "\tz\\_segregation\\_income & -0.010045017 & 0.03891727   & -0.08648986  & -0.010037516 &  0.066287072 & -0.010019227 & 3.207928e-14\\\\\n",
       "\tz\\_religion &  0.117811142 & 0.02502399   &  0.06866324  &  0.117814065 &  0.166897200 &  0.117822034 & 2.700983e-14\\\\\n",
       "\tz\\_labor\\_force & -0.071928885 & 0.03726306   & -0.14509978  & -0.071929532 &  0.001177679 & -0.071927657 & 2.717268e-14\\\\\n",
       "\tz\\_college &  0.404373095 & 0.04773334   &  0.31064756  &  0.404370501 &  0.498025958 &  0.404369330 & 2.131791e-14\\\\\n",
       "\tz\\_middle\\_class &  0.085087960 & 0.03352453   &  0.01926343  &  0.085085578 &  0.150864638 &  0.085083714 & 2.797582e-14\\\\\n",
       "\tz\\_uninsured &  0.226109959 & 0.04942974   &  0.12950328  &  0.225953421 &  0.323507086 &  0.225656279 & 1.313485e-13\\\\\n",
       "\tz\\_medicare\\_expenses & -0.235311154 & 0.03102300   & -0.29623559  & -0.235309585 & -0.174452035 & -0.235303822 & 3.064160e-14\\\\\n",
       "\\end{tabular}\n"
      ],
      "text/markdown": [
       "\n",
       "| <!--/--> | mean | sd | 0.025quant | 0.5quant | 0.975quant | mode | kld | \n",
       "|---|---|---|---|---|---|---|---|---|---|---|---|---|---|---|---|---|---|---|---|---|---|\n",
       "| (Intercept) | 84.879309381 | 1.32672097   | 82.25287080  | 84.879216073 | 87.501537818 | 84.879216388 | 2.058968e-09 | \n",
       "| z_relative_mob |  0.009286034 | 0.06594163   | -0.11604545  |  0.009277622 |  0.134741795 |  0.009271338 | 1.450574e-06 | \n",
       "| z_gini |  0.083124493 | 0.14926520   | -0.19772027  |  0.083096981 |  0.363768508 |  0.083123068 | 1.452596e-04 | \n",
       "| log_population | -0.061529878 | 0.03810786   | -0.13634950  | -0.061534115 |  0.013243810 | -0.061539282 | 3.016216e-14 | \n",
       "| log_income | -0.442710101 | 0.25259357   | -0.93871538  | -0.442713247 |  0.052851796 | -0.442698315 | 2.838482e-14 | \n",
       "| log_crime_rate |  0.089334097 | 0.03206673   |  0.02637812  |  0.089332285 |  0.152242506 |  0.089331395 | 4.217556e-16 | \n",
       "| log_poverty | -0.316929607 | 0.13418503   | -0.58041363  | -0.316933966 | -0.053666005 | -0.316931256 | 2.793959e-14 | \n",
       "| log_mig_inflow |  0.001710091 | 0.09258113   | -0.18008595  |  0.001708603 |  0.183345388 |  0.001713326 | 2.874231e-14 | \n",
       "| log_mig_outflow | -0.180206031 | 0.11389338   | -0.40382787  | -0.180216011 |  0.043263665 | -0.180226084 | 2.995582e-14 | \n",
       "| log_foreign | -0.099859635 | 0.05491421   | -0.20779284  | -0.099827743 |  0.007793093 | -0.099762159 | 4.141839e-14 | \n",
       "| log_pct_black | -0.104111080 | 0.02132973   | -0.14599701  | -0.104110745 | -0.062265888 | -0.104108246 | 2.859701e-14 | \n",
       "| log_pct_hispanic | -0.178254249 | 0.04213027   | -0.26091924  | -0.178276958 | -0.095538931 | -0.178317541 | 3.616125e-14 | \n",
       "| log_house_value |  0.509898605 | 0.13583437   |  0.24321191  |  0.509880997 |  0.776435276 |  0.509857601 | 3.159004e-14 | \n",
       "| log_local_gov_exp | -0.053370608 | 0.02880487   | -0.10992755  | -0.053372916 |  0.003146651 | -0.053375044 | 2.848622e-14 | \n",
       "| log_unemployment |  0.035413042 | 0.11408807   | -0.18861991  |  0.035412925 |  0.259238816 |  0.035422590 | 2.852925e-14 | \n",
       "| z_segregation_income | -0.010045017 | 0.03891727   | -0.08648986  | -0.010037516 |  0.066287072 | -0.010019227 | 3.207928e-14 | \n",
       "| z_religion |  0.117811142 | 0.02502399   |  0.06866324  |  0.117814065 |  0.166897200 |  0.117822034 | 2.700983e-14 | \n",
       "| z_labor_force | -0.071928885 | 0.03726306   | -0.14509978  | -0.071929532 |  0.001177679 | -0.071927657 | 2.717268e-14 | \n",
       "| z_college |  0.404373095 | 0.04773334   |  0.31064756  |  0.404370501 |  0.498025958 |  0.404369330 | 2.131791e-14 | \n",
       "| z_middle_class |  0.085087960 | 0.03352453   |  0.01926343  |  0.085085578 |  0.150864638 |  0.085083714 | 2.797582e-14 | \n",
       "| z_uninsured |  0.226109959 | 0.04942974   |  0.12950328  |  0.225953421 |  0.323507086 |  0.225656279 | 1.313485e-13 | \n",
       "| z_medicare_expenses | -0.235311154 | 0.03102300   | -0.29623559  | -0.235309585 | -0.174452035 | -0.235303822 | 3.064160e-14 | \n",
       "\n",
       "\n"
      ],
      "text/plain": [
       "                     mean         sd         0.025quant  0.5quant    \n",
       "(Intercept)          84.879309381 1.32672097 82.25287080 84.879216073\n",
       "z_relative_mob        0.009286034 0.06594163 -0.11604545  0.009277622\n",
       "z_gini                0.083124493 0.14926520 -0.19772027  0.083096981\n",
       "log_population       -0.061529878 0.03810786 -0.13634950 -0.061534115\n",
       "log_income           -0.442710101 0.25259357 -0.93871538 -0.442713247\n",
       "log_crime_rate        0.089334097 0.03206673  0.02637812  0.089332285\n",
       "log_poverty          -0.316929607 0.13418503 -0.58041363 -0.316933966\n",
       "log_mig_inflow        0.001710091 0.09258113 -0.18008595  0.001708603\n",
       "log_mig_outflow      -0.180206031 0.11389338 -0.40382787 -0.180216011\n",
       "log_foreign          -0.099859635 0.05491421 -0.20779284 -0.099827743\n",
       "log_pct_black        -0.104111080 0.02132973 -0.14599701 -0.104110745\n",
       "log_pct_hispanic     -0.178254249 0.04213027 -0.26091924 -0.178276958\n",
       "log_house_value       0.509898605 0.13583437  0.24321191  0.509880997\n",
       "log_local_gov_exp    -0.053370608 0.02880487 -0.10992755 -0.053372916\n",
       "log_unemployment      0.035413042 0.11408807 -0.18861991  0.035412925\n",
       "z_segregation_income -0.010045017 0.03891727 -0.08648986 -0.010037516\n",
       "z_religion            0.117811142 0.02502399  0.06866324  0.117814065\n",
       "z_labor_force        -0.071928885 0.03726306 -0.14509978 -0.071929532\n",
       "z_college             0.404373095 0.04773334  0.31064756  0.404370501\n",
       "z_middle_class        0.085087960 0.03352453  0.01926343  0.085085578\n",
       "z_uninsured           0.226109959 0.04942974  0.12950328  0.225953421\n",
       "z_medicare_expenses  -0.235311154 0.03102300 -0.29623559 -0.235309585\n",
       "                     0.975quant   mode         kld         \n",
       "(Intercept)          87.501537818 84.879216388 2.058968e-09\n",
       "z_relative_mob        0.134741795  0.009271338 1.450574e-06\n",
       "z_gini                0.363768508  0.083123068 1.452596e-04\n",
       "log_population        0.013243810 -0.061539282 3.016216e-14\n",
       "log_income            0.052851796 -0.442698315 2.838482e-14\n",
       "log_crime_rate        0.152242506  0.089331395 4.217556e-16\n",
       "log_poverty          -0.053666005 -0.316931256 2.793959e-14\n",
       "log_mig_inflow        0.183345388  0.001713326 2.874231e-14\n",
       "log_mig_outflow       0.043263665 -0.180226084 2.995582e-14\n",
       "log_foreign           0.007793093 -0.099762159 4.141839e-14\n",
       "log_pct_black        -0.062265888 -0.104108246 2.859701e-14\n",
       "log_pct_hispanic     -0.095538931 -0.178317541 3.616125e-14\n",
       "log_house_value       0.776435276  0.509857601 3.159004e-14\n",
       "log_local_gov_exp     0.003146651 -0.053375044 2.848622e-14\n",
       "log_unemployment      0.259238816  0.035422590 2.852925e-14\n",
       "z_segregation_income  0.066287072 -0.010019227 3.207928e-14\n",
       "z_religion            0.166897200  0.117822034 2.700983e-14\n",
       "z_labor_force         0.001177679 -0.071927657 2.717268e-14\n",
       "z_college             0.498025958  0.404369330 2.131791e-14\n",
       "z_middle_class        0.150864638  0.085083714 2.797582e-14\n",
       "z_uninsured           0.323507086  0.225656279 1.313485e-13\n",
       "z_medicare_expenses  -0.174452035 -0.235303822 3.064160e-14"
      ]
     },
     "metadata": {},
     "output_type": "display_data"
    }
   ],
   "source": [
    "f2$summary.fixed"
   ]
  },
  {
   "cell_type": "code",
   "execution_count": 113,
   "metadata": {},
   "outputs": [
    {
     "data": {
      "text/html": [
       "<table>\n",
       "<thead><tr><th></th><th scope=col>mean</th><th scope=col>sd</th><th scope=col>q0.025</th><th scope=col>q0.5</th><th scope=col>q0.975</th><th scope=col>mode</th></tr></thead>\n",
       "<tbody>\n",
       "\t<tr><th scope=row>SD for the Gaussian observations</th><td>1.15192350</td><td>0.02345283</td><td>1.09828021</td><td>1.15550759</td><td>1.1865981 </td><td>1.17228996</td></tr>\n",
       "\t<tr><th scope=row>SD for state</th><td>0.46902888</td><td>0.06080145</td><td>0.36398179</td><td>0.46372022</td><td>0.6022787 </td><td>0.45208074</td></tr>\n",
       "\t<tr><th scope=row>SD for cty</th><td>0.40707538</td><td>0.03280718</td><td>0.35550770</td><td>0.40234844</td><td>0.4824804 </td><td>0.38808734</td></tr>\n",
       "\t<tr><th scope=row>SD for income_qr</th><td>2.64564791</td><td>0.83611003</td><td>1.50884148</td><td>2.46974064</td><td>4.7401439 </td><td>2.15020627</td></tr>\n",
       "\t<tr><th scope=row>SD for q_mob</th><td>0.09955766</td><td>0.05732662</td><td>0.03498131</td><td>0.08420696</td><td>0.2519821 </td><td>0.06327253</td></tr>\n",
       "\t<tr><th scope=row>SD for q_gini</th><td>0.29646177</td><td>0.17592683</td><td>0.11358945</td><td>0.24546396</td><td>0.7713704 </td><td>0.17913003</td></tr>\n",
       "</tbody>\n",
       "</table>\n"
      ],
      "text/latex": [
       "\\begin{tabular}{r|llllll}\n",
       "  & mean & sd & q0.025 & q0.5 & q0.975 & mode\\\\\n",
       "\\hline\n",
       "\tSD for the Gaussian observations & 1.15192350 & 0.02345283 & 1.09828021 & 1.15550759 & 1.1865981  & 1.17228996\\\\\n",
       "\tSD for state & 0.46902888 & 0.06080145 & 0.36398179 & 0.46372022 & 0.6022787  & 0.45208074\\\\\n",
       "\tSD for cty & 0.40707538 & 0.03280718 & 0.35550770 & 0.40234844 & 0.4824804  & 0.38808734\\\\\n",
       "\tSD for income\\_qr & 2.64564791 & 0.83611003 & 1.50884148 & 2.46974064 & 4.7401439  & 2.15020627\\\\\n",
       "\tSD for q\\_mob & 0.09955766 & 0.05732662 & 0.03498131 & 0.08420696 & 0.2519821  & 0.06327253\\\\\n",
       "\tSD for q\\_gini & 0.29646177 & 0.17592683 & 0.11358945 & 0.24546396 & 0.7713704  & 0.17913003\\\\\n",
       "\\end{tabular}\n"
      ],
      "text/markdown": [
       "\n",
       "| <!--/--> | mean | sd | q0.025 | q0.5 | q0.975 | mode | \n",
       "|---|---|---|---|---|---|\n",
       "| SD for the Gaussian observations | 1.15192350 | 0.02345283 | 1.09828021 | 1.15550759 | 1.1865981  | 1.17228996 | \n",
       "| SD for state | 0.46902888 | 0.06080145 | 0.36398179 | 0.46372022 | 0.6022787  | 0.45208074 | \n",
       "| SD for cty | 0.40707538 | 0.03280718 | 0.35550770 | 0.40234844 | 0.4824804  | 0.38808734 | \n",
       "| SD for income_qr | 2.64564791 | 0.83611003 | 1.50884148 | 2.46974064 | 4.7401439  | 2.15020627 | \n",
       "| SD for q_mob | 0.09955766 | 0.05732662 | 0.03498131 | 0.08420696 | 0.2519821  | 0.06327253 | \n",
       "| SD for q_gini | 0.29646177 | 0.17592683 | 0.11358945 | 0.24546396 | 0.7713704  | 0.17913003 | \n",
       "\n",
       "\n"
      ],
      "text/plain": [
       "                                 mean       sd         q0.025     q0.5      \n",
       "SD for the Gaussian observations 1.15192350 0.02345283 1.09828021 1.15550759\n",
       "SD for state                     0.46902888 0.06080145 0.36398179 0.46372022\n",
       "SD for cty                       0.40707538 0.03280718 0.35550770 0.40234844\n",
       "SD for income_qr                 2.64564791 0.83611003 1.50884148 2.46974064\n",
       "SD for q_mob                     0.09955766 0.05732662 0.03498131 0.08420696\n",
       "SD for q_gini                    0.29646177 0.17592683 0.11358945 0.24546396\n",
       "                                 q0.975    mode      \n",
       "SD for the Gaussian observations 1.1865981 1.17228996\n",
       "SD for state                     0.6022787 0.45208074\n",
       "SD for cty                       0.4824804 0.38808734\n",
       "SD for income_qr                 4.7401439 2.15020627\n",
       "SD for q_mob                     0.2519821 0.06327253\n",
       "SD for q_gini                    0.7713704 0.17913003"
      ]
     },
     "metadata": {},
     "output_type": "display_data"
    }
   ],
   "source": [
    "bri.hyperpar.summary(f2)"
   ]
  },
  {
   "cell_type": "code",
   "execution_count": 114,
   "metadata": {},
   "outputs": [],
   "source": [
    "# simulate\n",
    "sim_mob_female = simulate_predictions(model=f2, data=relative_mob_pred, \n",
    "                                           nsim=2000, \n",
    "                                           contrast='z_relative_mob', \n",
    "                                           random='q_mob')\n",
    "\n",
    "sim_mob_female_m2 = first_difference(sim_mob_female, 'value', 'z_relative_mob', 'variable', 'q')\n",
    "fwrite(sim_mob_female_m2, file='../data/sim_mob_female_m2.csv')"
   ]
  },
  {
   "cell_type": "code",
   "execution_count": 76,
   "metadata": {},
   "outputs": [],
   "source": [
    "sim_gini_female = simulate_predictions(model=f2, data=gini_pred, \n",
    "                                           nsim=2000, \n",
    "                                           contrast='z_gini', \n",
    "                                           random='q_gini')\n",
    "\n",
    "sim_gini_female_m2 = first_difference(sim_gini_female, 'value', 'z_gini', 'variable', 'q')\n",
    "fwrite(sim_gini_female_m2, file='../data/sim_gini_female_m2.csv')"
   ]
  },
  {
   "cell_type": "markdown",
   "metadata": {},
   "source": [
    "# Adjusting for Health Behaviors"
   ]
  },
  {
   "cell_type": "markdown",
   "metadata": {},
   "source": [
    "### Male"
   ]
  },
  {
   "cell_type": "code",
   "execution_count": null,
   "metadata": {},
   "outputs": [],
   "source": [
    "lmod <- lm(le ~ z_relative_mob  + z_gini + log_population + log_income + \n",
    "           z_smoking + z_exercise +  z_obesity, male)\n",
    "\n",
    "# pc prior\n",
    "sdres <- sd(residuals(lmod))\n",
    "pcprior <- list(prec = list(prior=\"pc.prec\", param = c(3*sdres,0.01)))"
   ]
  },
  {
   "cell_type": "code",
   "execution_count": 91,
   "metadata": {},
   "outputs": [],
   "source": [
    "formula = le ~ z_relative_mob  + z_gini + log_population + log_income + \n",
    "           z_smoking + z_exercise +  z_obesity + \n",
    "       f(state, model = \"iid\", hyper = pcprior) + \n",
    "       f(cty, model = \"iid\", hyper = pcprior) + \n",
    "       f(income_qr, model = \"iid\", hyper = pcprior) + \n",
    "       f(q_mob, z_relative_mob , model = \"iid\", hyper = pcprior) + \n",
    "       f(q_gini, z_gini , model = \"iid\", hyper = pcprior)\n",
    "\n",
    "\n",
    "m3 = inla(formula, family = \"gaussian\", data = male,\n",
    "          control.predictor=list(compute = TRUE),\n",
    "          control.compute = list(config = TRUE, dic = TRUE,\n",
    "                                 waic = TRUE, cpo = TRUE),\n",
    "          verbose = TRUE)"
   ]
  },
  {
   "cell_type": "code",
   "execution_count": 92,
   "metadata": {},
   "outputs": [
    {
     "data": {
      "text/html": [
       "<table>\n",
       "<thead><tr><th></th><th scope=col>mean</th><th scope=col>sd</th><th scope=col>0.025quant</th><th scope=col>0.5quant</th><th scope=col>0.975quant</th><th scope=col>mode</th><th scope=col>kld</th></tr></thead>\n",
       "<tbody>\n",
       "\t<tr><th scope=row>(Intercept)</th><td>81.23418597  </td><td>1.58082445   </td><td>78.04725524  </td><td>81.23413977  </td><td> 8.442187e+01</td><td>81.23421639  </td><td>3.055245e-10 </td></tr>\n",
       "\t<tr><th scope=row>z_relative_mob</th><td>-0.27776599  </td><td>0.11695839   </td><td>-0.51259765  </td><td>-0.27773024  </td><td>-4.456710e-02</td><td>-0.27778990  </td><td>2.100317e-05 </td></tr>\n",
       "\t<tr><th scope=row>z_gini</th><td> 0.20885515  </td><td>0.15583118   </td><td>-0.11125623  </td><td> 0.20881596  </td><td> 5.288205e-01</td><td> 0.20872397  </td><td>3.177029e-07 </td></tr>\n",
       "\t<tr><th scope=row>log_population</th><td>-0.23141664  </td><td>0.02725623   </td><td>-0.28491586  </td><td>-0.23142482  </td><td>-1.779217e-01</td><td>-0.23143878  </td><td>2.101557e-14 </td></tr>\n",
       "\t<tr><th scope=row>log_income</th><td> 1.14529116  </td><td>0.13086912   </td><td> 0.88842041  </td><td> 1.14525124  </td><td> 1.402144e+00</td><td> 1.14518159  </td><td>1.620600e-14 </td></tr>\n",
       "\t<tr><th scope=row>z_smoking</th><td>-0.10975354  </td><td>0.02032315   </td><td>-0.14966383  </td><td>-0.10975147  </td><td>-6.989132e-02</td><td>-0.10974559  </td><td>0.000000e+00 </td></tr>\n",
       "\t<tr><th scope=row>z_exercise</th><td> 0.11994164  </td><td>0.02564266   </td><td> 0.06960379  </td><td> 0.11993784  </td><td> 1.702544e-01</td><td> 0.11993238  </td><td>1.978633e-15 </td></tr>\n",
       "\t<tr><th scope=row>z_obesity</th><td>-0.03514575  </td><td>0.01787669   </td><td>-0.07025370  </td><td>-0.03514324  </td><td>-8.390304e-05</td><td>-0.03513665  </td><td>1.017788e-15 </td></tr>\n",
       "</tbody>\n",
       "</table>\n"
      ],
      "text/latex": [
       "\\begin{tabular}{r|lllllll}\n",
       "  & mean & sd & 0.025quant & 0.5quant & 0.975quant & mode & kld\\\\\n",
       "\\hline\n",
       "\t(Intercept) & 81.23418597   & 1.58082445    & 78.04725524   & 81.23413977   &  8.442187e+01 & 81.23421639   & 3.055245e-10 \\\\\n",
       "\tz\\_relative\\_mob & -0.27776599   & 0.11695839    & -0.51259765   & -0.27773024   & -4.456710e-02 & -0.27778990   & 2.100317e-05 \\\\\n",
       "\tz\\_gini &  0.20885515   & 0.15583118    & -0.11125623   &  0.20881596   &  5.288205e-01 &  0.20872397   & 3.177029e-07 \\\\\n",
       "\tlog\\_population & -0.23141664   & 0.02725623    & -0.28491586   & -0.23142482   & -1.779217e-01 & -0.23143878   & 2.101557e-14 \\\\\n",
       "\tlog\\_income &  1.14529116   & 0.13086912    &  0.88842041   &  1.14525124   &  1.402144e+00 &  1.14518159   & 1.620600e-14 \\\\\n",
       "\tz\\_smoking & -0.10975354   & 0.02032315    & -0.14966383   & -0.10975147   & -6.989132e-02 & -0.10974559   & 0.000000e+00 \\\\\n",
       "\tz\\_exercise &  0.11994164   & 0.02564266    &  0.06960379   &  0.11993784   &  1.702544e-01 &  0.11993238   & 1.978633e-15 \\\\\n",
       "\tz\\_obesity & -0.03514575   & 0.01787669    & -0.07025370   & -0.03514324   & -8.390304e-05 & -0.03513665   & 1.017788e-15 \\\\\n",
       "\\end{tabular}\n"
      ],
      "text/markdown": [
       "\n",
       "| <!--/--> | mean | sd | 0.025quant | 0.5quant | 0.975quant | mode | kld | \n",
       "|---|---|---|---|---|---|---|---|\n",
       "| (Intercept) | 81.23418597   | 1.58082445    | 78.04725524   | 81.23413977   |  8.442187e+01 | 81.23421639   | 3.055245e-10  | \n",
       "| z_relative_mob | -0.27776599   | 0.11695839    | -0.51259765   | -0.27773024   | -4.456710e-02 | -0.27778990   | 2.100317e-05  | \n",
       "| z_gini |  0.20885515   | 0.15583118    | -0.11125623   |  0.20881596   |  5.288205e-01 |  0.20872397   | 3.177029e-07  | \n",
       "| log_population | -0.23141664   | 0.02725623    | -0.28491586   | -0.23142482   | -1.779217e-01 | -0.23143878   | 2.101557e-14  | \n",
       "| log_income |  1.14529116   | 0.13086912    |  0.88842041   |  1.14525124   |  1.402144e+00 |  1.14518159   | 1.620600e-14  | \n",
       "| z_smoking | -0.10975354   | 0.02032315    | -0.14966383   | -0.10975147   | -6.989132e-02 | -0.10974559   | 0.000000e+00  | \n",
       "| z_exercise |  0.11994164   | 0.02564266    |  0.06960379   |  0.11993784   |  1.702544e-01 |  0.11993238   | 1.978633e-15  | \n",
       "| z_obesity | -0.03514575   | 0.01787669    | -0.07025370   | -0.03514324   | -8.390304e-05 | -0.03513665   | 1.017788e-15  | \n",
       "\n",
       "\n"
      ],
      "text/plain": [
       "               mean        sd         0.025quant  0.5quant    0.975quant   \n",
       "(Intercept)    81.23418597 1.58082445 78.04725524 81.23413977  8.442187e+01\n",
       "z_relative_mob -0.27776599 0.11695839 -0.51259765 -0.27773024 -4.456710e-02\n",
       "z_gini          0.20885515 0.15583118 -0.11125623  0.20881596  5.288205e-01\n",
       "log_population -0.23141664 0.02725623 -0.28491586 -0.23142482 -1.779217e-01\n",
       "log_income      1.14529116 0.13086912  0.88842041  1.14525124  1.402144e+00\n",
       "z_smoking      -0.10975354 0.02032315 -0.14966383 -0.10975147 -6.989132e-02\n",
       "z_exercise      0.11994164 0.02564266  0.06960379  0.11993784  1.702544e-01\n",
       "z_obesity      -0.03514575 0.01787669 -0.07025370 -0.03514324 -8.390304e-05\n",
       "               mode        kld         \n",
       "(Intercept)    81.23421639 3.055245e-10\n",
       "z_relative_mob -0.27778990 2.100317e-05\n",
       "z_gini          0.20872397 3.177029e-07\n",
       "log_population -0.23143878 2.101557e-14\n",
       "log_income      1.14518159 1.620600e-14\n",
       "z_smoking      -0.10974559 0.000000e+00\n",
       "z_exercise      0.11993238 1.978633e-15\n",
       "z_obesity      -0.03513665 1.017788e-15"
      ]
     },
     "metadata": {},
     "output_type": "display_data"
    }
   ],
   "source": [
    "m3$summary.fixed"
   ]
  },
  {
   "cell_type": "code",
   "execution_count": 93,
   "metadata": {},
   "outputs": [
    {
     "data": {
      "text/html": [
       "<table>\n",
       "<thead><tr><th></th><th scope=col>mean</th><th scope=col>sd</th><th scope=col>q0.025</th><th scope=col>q0.5</th><th scope=col>q0.975</th><th scope=col>mode</th></tr></thead>\n",
       "<tbody>\n",
       "\t<tr><th scope=row>SD for the Gaussian observations</th><td>1.1341092 </td><td>0.01184189</td><td>1.1115048 </td><td>1.1338235 </td><td>1.1579835 </td><td>1.1329999 </td></tr>\n",
       "\t<tr><th scope=row>SD for state</th><td>0.6581705 </td><td>0.07951981</td><td>0.5064800 </td><td>0.6574437 </td><td>0.8171191 </td><td>0.6604503 </td></tr>\n",
       "\t<tr><th scope=row>SD for cty</th><td>0.5149371 </td><td>0.02234541</td><td>0.4730489 </td><td>0.5141515 </td><td>0.5607561 </td><td>0.5123794 </td></tr>\n",
       "\t<tr><th scope=row>SD for income_qr</th><td>3.1385574 </td><td>1.03069619</td><td>1.7204022 </td><td>2.9279201 </td><td>5.7097992 </td><td>2.5539885 </td></tr>\n",
       "\t<tr><th scope=row>SD for q_mob</th><td>0.1966822 </td><td>0.11522246</td><td>0.0720993 </td><td>0.1644400 </td><td>0.5057930 </td><td>0.1218954 </td></tr>\n",
       "\t<tr><th scope=row>SD for q_gini</th><td>0.2706458 </td><td>0.13113738</td><td>0.1058137 </td><td>0.2400851 </td><td>0.6090776 </td><td>0.1928002 </td></tr>\n",
       "</tbody>\n",
       "</table>\n"
      ],
      "text/latex": [
       "\\begin{tabular}{r|llllll}\n",
       "  & mean & sd & q0.025 & q0.5 & q0.975 & mode\\\\\n",
       "\\hline\n",
       "\tSD for the Gaussian observations & 1.1341092  & 0.01184189 & 1.1115048  & 1.1338235  & 1.1579835  & 1.1329999 \\\\\n",
       "\tSD for state & 0.6581705  & 0.07951981 & 0.5064800  & 0.6574437  & 0.8171191  & 0.6604503 \\\\\n",
       "\tSD for cty & 0.5149371  & 0.02234541 & 0.4730489  & 0.5141515  & 0.5607561  & 0.5123794 \\\\\n",
       "\tSD for income\\_qr & 3.1385574  & 1.03069619 & 1.7204022  & 2.9279201  & 5.7097992  & 2.5539885 \\\\\n",
       "\tSD for q\\_mob & 0.1966822  & 0.11522246 & 0.0720993  & 0.1644400  & 0.5057930  & 0.1218954 \\\\\n",
       "\tSD for q\\_gini & 0.2706458  & 0.13113738 & 0.1058137  & 0.2400851  & 0.6090776  & 0.1928002 \\\\\n",
       "\\end{tabular}\n"
      ],
      "text/markdown": [
       "\n",
       "| <!--/--> | mean | sd | q0.025 | q0.5 | q0.975 | mode | \n",
       "|---|---|---|---|---|---|\n",
       "| SD for the Gaussian observations | 1.1341092  | 0.01184189 | 1.1115048  | 1.1338235  | 1.1579835  | 1.1329999  | \n",
       "| SD for state | 0.6581705  | 0.07951981 | 0.5064800  | 0.6574437  | 0.8171191  | 0.6604503  | \n",
       "| SD for cty | 0.5149371  | 0.02234541 | 0.4730489  | 0.5141515  | 0.5607561  | 0.5123794  | \n",
       "| SD for income_qr | 3.1385574  | 1.03069619 | 1.7204022  | 2.9279201  | 5.7097992  | 2.5539885  | \n",
       "| SD for q_mob | 0.1966822  | 0.11522246 | 0.0720993  | 0.1644400  | 0.5057930  | 0.1218954  | \n",
       "| SD for q_gini | 0.2706458  | 0.13113738 | 0.1058137  | 0.2400851  | 0.6090776  | 0.1928002  | \n",
       "\n",
       "\n"
      ],
      "text/plain": [
       "                                 mean      sd         q0.025    q0.5     \n",
       "SD for the Gaussian observations 1.1341092 0.01184189 1.1115048 1.1338235\n",
       "SD for state                     0.6581705 0.07951981 0.5064800 0.6574437\n",
       "SD for cty                       0.5149371 0.02234541 0.4730489 0.5141515\n",
       "SD for income_qr                 3.1385574 1.03069619 1.7204022 2.9279201\n",
       "SD for q_mob                     0.1966822 0.11522246 0.0720993 0.1644400\n",
       "SD for q_gini                    0.2706458 0.13113738 0.1058137 0.2400851\n",
       "                                 q0.975    mode     \n",
       "SD for the Gaussian observations 1.1579835 1.1329999\n",
       "SD for state                     0.8171191 0.6604503\n",
       "SD for cty                       0.5607561 0.5123794\n",
       "SD for income_qr                 5.7097992 2.5539885\n",
       "SD for q_mob                     0.5057930 0.1218954\n",
       "SD for q_gini                    0.6090776 0.1928002"
      ]
     },
     "metadata": {},
     "output_type": "display_data"
    }
   ],
   "source": [
    "bri.hyperpar.summary(m3)"
   ]
  },
  {
   "cell_type": "code",
   "execution_count": 94,
   "metadata": {},
   "outputs": [],
   "source": [
    "nrep = 4 * 2 # 4 quartiles for 2 contrast values\n",
    "relative_mob_pred = data.table(\n",
    "    z_relative_mob       = rep(c(0.0, 1.0), times = 1 , each = 4),\n",
    "    z_gini               = rep(0, nrep),\n",
    "    log_population       = rep(0, nrep), \n",
    "    log_income           = rep(0, nrep),\n",
    "    z_smoking            = rep(0, nrep),\n",
    "    z_exercise           = rep(0, nrep),\n",
    "    z_obesity            = rep(0, nrep))\n",
    "\n",
    "gini_pred = data.table(\n",
    "    z_relative_mob        = rep(0, nrep),\n",
    "    z_gini               = rep(c(0.0, 1.0), times = 1 , each = 4),\n",
    "    log_population       = rep(0, nrep), \n",
    "    log_income           = rep(0, nrep),\n",
    "    z_smoking            = rep(0, nrep),\n",
    "    z_exercise           = rep(0, nrep),\n",
    "    z_obesity            = rep(0, nrep))"
   ]
  },
  {
   "cell_type": "code",
   "execution_count": 102,
   "metadata": {},
   "outputs": [],
   "source": [
    "sim_mob_male = simulate_predictions(model=m3, data=relative_mob_pred, \n",
    "                                           nsim=2000, \n",
    "                                           contrast='z_relative_mob', \n",
    "                                           random='q_mob')\n",
    "\n",
    "sim_mob_male_m3 = first_difference(sim_mob_male, 'value', 'z_relative_mob', 'variable', 'q')\n",
    "fwrite(sim_mob_male_m3, file='../data/sim_mob_male_m3.csv')"
   ]
  },
  {
   "cell_type": "markdown",
   "metadata": {},
   "source": [
    "### Female"
   ]
  },
  {
   "cell_type": "code",
   "execution_count": 96,
   "metadata": {},
   "outputs": [],
   "source": [
    "lmod <- lm(le ~ z_relative_mob  + z_gini + log_population + log_income + \n",
    "           z_smoking + z_exercise +  z_obesity, female)\n",
    "\n",
    "# pc prior\n",
    "sdres <- sd(residuals(lmod))\n",
    "pcprior <- list(prec = list(prior=\"pc.prec\", param = c(3*sdres,0.01)))"
   ]
  },
  {
   "cell_type": "code",
   "execution_count": 97,
   "metadata": {},
   "outputs": [],
   "source": [
    "formula = le ~ z_relative_mob  + z_gini + log_population + log_income + \n",
    "           z_smoking + z_exercise +  z_obesity + \n",
    "       f(state, model = \"iid\", hyper = pcprior) + \n",
    "       f(cty, model = \"iid\", hyper = pcprior) + \n",
    "       f(income_qr, model = \"iid\", hyper = pcprior) + \n",
    "       f(q_mob, z_relative_mob , model = \"iid\", hyper = pcprior) + \n",
    "       f(q_gini, z_gini , model = \"iid\", hyper = pcprior)\n",
    "\n",
    "\n",
    "f3 = inla(formula, family = \"gaussian\", data = female,\n",
    "          control.predictor=list(compute = TRUE),\n",
    "          control.compute = list(config = TRUE, dic = TRUE,\n",
    "                                 waic = TRUE, cpo = TRUE),\n",
    "          verbose = TRUE)"
   ]
  },
  {
   "cell_type": "code",
   "execution_count": 98,
   "metadata": {},
   "outputs": [
    {
     "data": {
      "text/html": [
       "<table>\n",
       "<thead><tr><th></th><th scope=col>mean</th><th scope=col>sd</th><th scope=col>0.025quant</th><th scope=col>0.5quant</th><th scope=col>0.975quant</th><th scope=col>mode</th><th scope=col>kld</th></tr></thead>\n",
       "<tbody>\n",
       "\t<tr><th scope=row>(Intercept)</th><td>84.941948393</td><td>1.18256365  </td><td>82.55396155 </td><td>84.941874221</td><td>87.33126621 </td><td>84.941913539</td><td>5.154034e-11</td></tr>\n",
       "\t<tr><th scope=row>z_relative_mob</th><td>-0.204854997</td><td>0.06145614  </td><td>-0.33123420 </td><td>-0.204858313</td><td>-0.07844124 </td><td>-0.204859556</td><td>2.219569e-10</td></tr>\n",
       "\t<tr><th scope=row>z_gini</th><td> 0.133334701</td><td>0.15015657  </td><td>-0.17939378 </td><td> 0.133327359</td><td> 0.44586931 </td><td> 0.133345887</td><td>6.604594e-09</td></tr>\n",
       "\t<tr><th scope=row>log_population</th><td>-0.212178210</td><td>0.02742090  </td><td>-0.26601410 </td><td>-0.212181726</td><td>-0.15837290 </td><td>-0.212186492</td><td>1.845681e-14</td></tr>\n",
       "\t<tr><th scope=row>log_income</th><td> 1.061500761</td><td>0.13160812  </td><td> 0.80316158 </td><td> 1.061467352</td><td> 1.31978472 </td><td> 1.061411171</td><td>1.922941e-14</td></tr>\n",
       "\t<tr><th scope=row>z_smoking</th><td>-0.099819595</td><td>0.02074491  </td><td>-0.14055807 </td><td>-0.099817519</td><td>-0.05912998 </td><td>-0.099811572</td><td>1.007737e-15</td></tr>\n",
       "\t<tr><th scope=row>z_exercise</th><td> 0.064483144</td><td>0.02611443  </td><td> 0.01321517 </td><td> 0.064480607</td><td> 0.11571812 </td><td> 0.064477725</td><td>6.359297e-16</td></tr>\n",
       "\t<tr><th scope=row>z_obesity</th><td>-0.003385475</td><td>0.01819595  </td><td>-0.03911763 </td><td>-0.003383883</td><td> 0.03230509 </td><td>-0.003379128</td><td>9.875022e-16</td></tr>\n",
       "</tbody>\n",
       "</table>\n"
      ],
      "text/latex": [
       "\\begin{tabular}{r|lllllll}\n",
       "  & mean & sd & 0.025quant & 0.5quant & 0.975quant & mode & kld\\\\\n",
       "\\hline\n",
       "\t(Intercept) & 84.941948393 & 1.18256365   & 82.55396155  & 84.941874221 & 87.33126621  & 84.941913539 & 5.154034e-11\\\\\n",
       "\tz\\_relative\\_mob & -0.204854997 & 0.06145614   & -0.33123420  & -0.204858313 & -0.07844124  & -0.204859556 & 2.219569e-10\\\\\n",
       "\tz\\_gini &  0.133334701 & 0.15015657   & -0.17939378  &  0.133327359 &  0.44586931  &  0.133345887 & 6.604594e-09\\\\\n",
       "\tlog\\_population & -0.212178210 & 0.02742090   & -0.26601410  & -0.212181726 & -0.15837290  & -0.212186492 & 1.845681e-14\\\\\n",
       "\tlog\\_income &  1.061500761 & 0.13160812   &  0.80316158  &  1.061467352 &  1.31978472  &  1.061411171 & 1.922941e-14\\\\\n",
       "\tz\\_smoking & -0.099819595 & 0.02074491   & -0.14055807  & -0.099817519 & -0.05912998  & -0.099811572 & 1.007737e-15\\\\\n",
       "\tz\\_exercise &  0.064483144 & 0.02611443   &  0.01321517  &  0.064480607 &  0.11571812  &  0.064477725 & 6.359297e-16\\\\\n",
       "\tz\\_obesity & -0.003385475 & 0.01819595   & -0.03911763  & -0.003383883 &  0.03230509  & -0.003379128 & 9.875022e-16\\\\\n",
       "\\end{tabular}\n"
      ],
      "text/markdown": [
       "\n",
       "| <!--/--> | mean | sd | 0.025quant | 0.5quant | 0.975quant | mode | kld | \n",
       "|---|---|---|---|---|---|---|---|\n",
       "| (Intercept) | 84.941948393 | 1.18256365   | 82.55396155  | 84.941874221 | 87.33126621  | 84.941913539 | 5.154034e-11 | \n",
       "| z_relative_mob | -0.204854997 | 0.06145614   | -0.33123420  | -0.204858313 | -0.07844124  | -0.204859556 | 2.219569e-10 | \n",
       "| z_gini |  0.133334701 | 0.15015657   | -0.17939378  |  0.133327359 |  0.44586931  |  0.133345887 | 6.604594e-09 | \n",
       "| log_population | -0.212178210 | 0.02742090   | -0.26601410  | -0.212181726 | -0.15837290  | -0.212186492 | 1.845681e-14 | \n",
       "| log_income |  1.061500761 | 0.13160812   |  0.80316158  |  1.061467352 |  1.31978472  |  1.061411171 | 1.922941e-14 | \n",
       "| z_smoking | -0.099819595 | 0.02074491   | -0.14055807  | -0.099817519 | -0.05912998  | -0.099811572 | 1.007737e-15 | \n",
       "| z_exercise |  0.064483144 | 0.02611443   |  0.01321517  |  0.064480607 |  0.11571812  |  0.064477725 | 6.359297e-16 | \n",
       "| z_obesity | -0.003385475 | 0.01819595   | -0.03911763  | -0.003383883 |  0.03230509  | -0.003379128 | 9.875022e-16 | \n",
       "\n",
       "\n"
      ],
      "text/plain": [
       "               mean         sd         0.025quant  0.5quant     0.975quant \n",
       "(Intercept)    84.941948393 1.18256365 82.55396155 84.941874221 87.33126621\n",
       "z_relative_mob -0.204854997 0.06145614 -0.33123420 -0.204858313 -0.07844124\n",
       "z_gini          0.133334701 0.15015657 -0.17939378  0.133327359  0.44586931\n",
       "log_population -0.212178210 0.02742090 -0.26601410 -0.212181726 -0.15837290\n",
       "log_income      1.061500761 0.13160812  0.80316158  1.061467352  1.31978472\n",
       "z_smoking      -0.099819595 0.02074491 -0.14055807 -0.099817519 -0.05912998\n",
       "z_exercise      0.064483144 0.02611443  0.01321517  0.064480607  0.11571812\n",
       "z_obesity      -0.003385475 0.01819595 -0.03911763 -0.003383883  0.03230509\n",
       "               mode         kld         \n",
       "(Intercept)    84.941913539 5.154034e-11\n",
       "z_relative_mob -0.204859556 2.219569e-10\n",
       "z_gini          0.133345887 6.604594e-09\n",
       "log_population -0.212186492 1.845681e-14\n",
       "log_income      1.061411171 1.922941e-14\n",
       "z_smoking      -0.099811572 1.007737e-15\n",
       "z_exercise      0.064477725 6.359297e-16\n",
       "z_obesity      -0.003379128 9.875022e-16"
      ]
     },
     "metadata": {},
     "output_type": "display_data"
    }
   ],
   "source": [
    "f3$summary.fixed"
   ]
  },
  {
   "cell_type": "code",
   "execution_count": 99,
   "metadata": {},
   "outputs": [
    {
     "data": {
      "text/html": [
       "<table>\n",
       "<thead><tr><th></th><th scope=col>mean</th><th scope=col>sd</th><th scope=col>q0.025</th><th scope=col>q0.5</th><th scope=col>q0.975</th><th scope=col>mode</th></tr></thead>\n",
       "<tbody>\n",
       "\t<tr><th scope=row>SD for the Gaussian observations</th><td>1.16135061</td><td>0.01206989</td><td>1.13738257</td><td>1.16145699</td><td>1.1847574 </td><td>1.16204278</td></tr>\n",
       "\t<tr><th scope=row>SD for state</th><td>0.53100441</td><td>0.06531424</td><td>0.41334135</td><td>0.52728795</td><td>0.6694737 </td><td>0.52030663</td></tr>\n",
       "\t<tr><th scope=row>SD for cty</th><td>0.51038552</td><td>0.02245737</td><td>0.46778814</td><td>0.50980918</td><td>0.5559450 </td><td>0.50867789</td></tr>\n",
       "\t<tr><th scope=row>SD for income_qr</th><td>2.23573564</td><td>0.76306481</td><td>1.11818115</td><td>2.10582284</td><td>4.0842425 </td><td>1.87294939</td></tr>\n",
       "\t<tr><th scope=row>SD for q_mob</th><td>0.08633105</td><td>0.04663242</td><td>0.02689292</td><td>0.07605174</td><td>0.2055061 </td><td>0.05833831</td></tr>\n",
       "\t<tr><th scope=row>SD for q_gini</th><td>0.24804205</td><td>0.14091150</td><td>0.08273996</td><td>0.21228244</td><td>0.6186579 </td><td>0.16055006</td></tr>\n",
       "</tbody>\n",
       "</table>\n"
      ],
      "text/latex": [
       "\\begin{tabular}{r|llllll}\n",
       "  & mean & sd & q0.025 & q0.5 & q0.975 & mode\\\\\n",
       "\\hline\n",
       "\tSD for the Gaussian observations & 1.16135061 & 0.01206989 & 1.13738257 & 1.16145699 & 1.1847574  & 1.16204278\\\\\n",
       "\tSD for state & 0.53100441 & 0.06531424 & 0.41334135 & 0.52728795 & 0.6694737  & 0.52030663\\\\\n",
       "\tSD for cty & 0.51038552 & 0.02245737 & 0.46778814 & 0.50980918 & 0.5559450  & 0.50867789\\\\\n",
       "\tSD for income\\_qr & 2.23573564 & 0.76306481 & 1.11818115 & 2.10582284 & 4.0842425  & 1.87294939\\\\\n",
       "\tSD for q\\_mob & 0.08633105 & 0.04663242 & 0.02689292 & 0.07605174 & 0.2055061  & 0.05833831\\\\\n",
       "\tSD for q\\_gini & 0.24804205 & 0.14091150 & 0.08273996 & 0.21228244 & 0.6186579  & 0.16055006\\\\\n",
       "\\end{tabular}\n"
      ],
      "text/markdown": [
       "\n",
       "| <!--/--> | mean | sd | q0.025 | q0.5 | q0.975 | mode | \n",
       "|---|---|---|---|---|---|\n",
       "| SD for the Gaussian observations | 1.16135061 | 0.01206989 | 1.13738257 | 1.16145699 | 1.1847574  | 1.16204278 | \n",
       "| SD for state | 0.53100441 | 0.06531424 | 0.41334135 | 0.52728795 | 0.6694737  | 0.52030663 | \n",
       "| SD for cty | 0.51038552 | 0.02245737 | 0.46778814 | 0.50980918 | 0.5559450  | 0.50867789 | \n",
       "| SD for income_qr | 2.23573564 | 0.76306481 | 1.11818115 | 2.10582284 | 4.0842425  | 1.87294939 | \n",
       "| SD for q_mob | 0.08633105 | 0.04663242 | 0.02689292 | 0.07605174 | 0.2055061  | 0.05833831 | \n",
       "| SD for q_gini | 0.24804205 | 0.14091150 | 0.08273996 | 0.21228244 | 0.6186579  | 0.16055006 | \n",
       "\n",
       "\n"
      ],
      "text/plain": [
       "                                 mean       sd         q0.025     q0.5      \n",
       "SD for the Gaussian observations 1.16135061 0.01206989 1.13738257 1.16145699\n",
       "SD for state                     0.53100441 0.06531424 0.41334135 0.52728795\n",
       "SD for cty                       0.51038552 0.02245737 0.46778814 0.50980918\n",
       "SD for income_qr                 2.23573564 0.76306481 1.11818115 2.10582284\n",
       "SD for q_mob                     0.08633105 0.04663242 0.02689292 0.07605174\n",
       "SD for q_gini                    0.24804205 0.14091150 0.08273996 0.21228244\n",
       "                                 q0.975    mode      \n",
       "SD for the Gaussian observations 1.1847574 1.16204278\n",
       "SD for state                     0.6694737 0.52030663\n",
       "SD for cty                       0.5559450 0.50867789\n",
       "SD for income_qr                 4.0842425 1.87294939\n",
       "SD for q_mob                     0.2055061 0.05833831\n",
       "SD for q_gini                    0.6186579 0.16055006"
      ]
     },
     "metadata": {},
     "output_type": "display_data"
    }
   ],
   "source": [
    "bri.hyperpar.summary(f3)"
   ]
  },
  {
   "cell_type": "code",
   "execution_count": 101,
   "metadata": {},
   "outputs": [],
   "source": [
    "sim_mob_female = simulate_predictions(model=f3, data=relative_mob_pred, \n",
    "                                           nsim=2000, \n",
    "                                           contrast='z_relative_mob', \n",
    "                                           random='q_mob')\n",
    "\n",
    "sim_mob_female_m3 = first_difference(sim_mob_female, 'value', 'z_relative_mob', 'variable', 'q')\n",
    "fwrite(sim_mob_female_m3, file='../data/sim_mob_female_m3.csv')"
   ]
  },
  {
   "cell_type": "markdown",
   "metadata": {},
   "source": [
    "# Create tables"
   ]
  },
  {
   "cell_type": "code",
   "execution_count": 130,
   "metadata": {},
   "outputs": [],
   "source": [
    "library(texreg)\n",
    "source('../functions/extract_inla.R')"
   ]
  },
  {
   "cell_type": "code",
   "execution_count": 133,
   "metadata": {},
   "outputs": [
    {
     "name": "stderr",
     "output_type": "stream",
     "text": [
      "The table was written to the file 'tables/inla_models.tex'.\n",
      "\n"
     ]
    }
   ],
   "source": [
    "cmodels <- rep(c('Women', 'Men'), 3)\n",
    "\n",
    "models <- list(f1, m1, f3, m3, f2, m2)\n",
    "\n",
    "cnames <- list(\"(Intercept)\" = 'Constant',\n",
    "               'z_relative_mob' = 'Standardized Income mobility (Rank-Rank Slope)',\n",
    "               'z_gini' = 'Standardized Gini',\n",
    "               'log_income' = 'Log income (centered)',\n",
    "               \"sd for state\" = \"SD states\",\n",
    "               \"sd for cty\" = \"SD counties\",\n",
    "               \"sd for income_qr\" = \"SD income quartiles\",\n",
    "               \"sd for q_mob\" = \"SD mobility by income quartile\",\n",
    "               \"sd for q_gini\" = \"SD Gini by income quartile\",\n",
    "               \"sd for the Gaussian observations\" = \"SD observations\")\n",
    "\n",
    "# screenreg(models)\n",
    "texreg(models,\n",
    "            include.dic = TRUE, include.waic = TRUE,\n",
    "            ci.test = FALSE,\n",
    "            float.pos = \"htp\",\n",
    "            caption = \"Life Expectancy (40) Models\",\n",
    "            booktabs = TRUE,\n",
    "            use.packages = FALSE,\n",
    "            dcolumn = TRUE,\n",
    "            caption.above = TRUE,\n",
    "            scalebox = 0.65,\n",
    "            label = \"inla_models\",\n",
    "            # sideways = TRUE,\n",
    "            digits = 2,\n",
    "            custom.model.names = cmodels,\n",
    "            custom.coef.map = cnames,\n",
    "            groups = list(\"Random Effects\" = c(5:10)),\n",
    "            custom.note = \"Note: Selected coefficients (mean of marginal posterior distribution). 95\\\\% credibility intervals.\",\n",
    "             file = \"tables/inla_models.tex\")"
   ]
  },
  {
   "cell_type": "code",
   "execution_count": null,
   "metadata": {},
   "outputs": [],
   "source": []
  }
 ],
 "metadata": {
  "kernelspec": {
   "display_name": "R",
   "language": "R",
   "name": "ir"
  },
  "language_info": {
   "codemirror_mode": "r",
   "file_extension": ".r",
   "mimetype": "text/x-r-source",
   "name": "R",
   "pygments_lexer": "r",
   "version": "3.4.1"
  }
 },
 "nbformat": 4,
 "nbformat_minor": 2
}
