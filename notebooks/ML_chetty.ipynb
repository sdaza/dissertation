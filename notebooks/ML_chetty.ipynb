{
 "cells": [
  {
   "cell_type": "markdown",
   "metadata": {},
   "source": [
    "# Examining feature importance using ML techniques"
   ]
  },
  {
   "cell_type": "markdown",
   "metadata": {},
   "source": [
    "We explore feature importance using machine learning using Chetty's data (life expectancy in the US)."
   ]
  },
  {
   "cell_type": "code",
   "execution_count": 81,
   "metadata": {},
   "outputs": [],
   "source": [
    "import pandas as pd \n",
    "import numpy as np \n",
    "import matplotlib.pyplot as plt\n",
    "import seaborn as sns\n",
    "import re\n",
    "from boruta import BorutaPy\n",
    "import pickle\n",
    "%matplotlib inline\n",
    "plt.style.use('seaborn')\n",
    "# import shap \n",
    "# load JS visualization code to notebook\n",
    "# shap.initjs() "
   ]
  },
  {
   "cell_type": "code",
   "execution_count": 82,
   "metadata": {},
   "outputs": [],
   "source": [
    "import os\n",
    "cwd = os.getcwd()"
   ]
  },
  {
   "cell_type": "markdown",
   "metadata": {},
   "source": [
    "# Data setup"
   ]
  },
  {
   "cell_type": "code",
   "execution_count": 83,
   "metadata": {},
   "outputs": [
    {
     "name": "stdout",
     "output_type": "stream",
     "text": [
      "(3138, 83)\n",
      "(12472, 9)\n"
     ]
    }
   ],
   "source": [
    "# covariates\n",
    "cov = pd.read_stata('../data/cty_full_covariates.dta')\n",
    "print(cov.shape)\n",
    "\n",
    "# life expectancy\n",
    "le = pd.read_stata('../data/cty_leBY_gnd_hhincquartile.dta')\n",
    "print(le.shape)"
   ]
  },
  {
   "cell_type": "code",
   "execution_count": 84,
   "metadata": {},
   "outputs": [],
   "source": [
    "# life expectancy\n",
    "q_values = ['Q'+i.astype('str') for i in le.hh_inc_q.unique()]\n",
    "d = dict(zip(range(1,5), q_values))\n",
    "le['income_q'] = le.hh_inc_q.map(d)\n",
    "\n",
    "le.rename(columns = {'cty':'county', 'gnd':'gender', 'le_raceadj':'le'}, inplace=True)\n",
    "\n",
    "vars = ['county', 'gender', 'income_q', 'le']\n",
    "le = le.loc[:,vars]"
   ]
  },
  {
   "cell_type": "code",
   "execution_count": 85,
   "metadata": {},
   "outputs": [],
   "source": [
    "le['le'] = le['le']-40.0 "
   ]
  },
  {
   "cell_type": "code",
   "execution_count": 86,
   "metadata": {},
   "outputs": [],
   "source": [
    "# covariates \n",
    "# cov.columns"
   ]
  },
  {
   "cell_type": "code",
   "execution_count": 87,
   "metadata": {},
   "outputs": [],
   "source": [
    "cov = pd.wide_to_long(cov, ['bmi_obese_q', 'cur_smoke_q', 'exercise_any_q'], i='cty', j='income_q')"
   ]
  },
  {
   "cell_type": "code",
   "execution_count": 88,
   "metadata": {},
   "outputs": [],
   "source": [
    "cov.reset_index(inplace=True)"
   ]
  },
  {
   "cell_type": "code",
   "execution_count": 89,
   "metadata": {},
   "outputs": [
    {
     "data": {
      "text/html": [
       "<div>\n",
       "<style>\n",
       "    .dataframe thead tr:only-child th {\n",
       "        text-align: right;\n",
       "    }\n",
       "\n",
       "    .dataframe thead th {\n",
       "        text-align: left;\n",
       "    }\n",
       "\n",
       "    .dataframe tbody tr th {\n",
       "        vertical-align: top;\n",
       "    }\n",
       "</style>\n",
       "<table border=\"1\" class=\"dataframe\">\n",
       "  <thead>\n",
       "    <tr style=\"text-align: right;\">\n",
       "      <th></th>\n",
       "      <th>income_q</th>\n",
       "      <th>bmi_obese_q</th>\n",
       "    </tr>\n",
       "  </thead>\n",
       "  <tbody>\n",
       "    <tr>\n",
       "      <th>1</th>\n",
       "      <td>1</td>\n",
       "      <td>0.298050</td>\n",
       "    </tr>\n",
       "    <tr>\n",
       "      <th>3139</th>\n",
       "      <td>2</td>\n",
       "      <td>0.262467</td>\n",
       "    </tr>\n",
       "    <tr>\n",
       "      <th>6277</th>\n",
       "      <td>3</td>\n",
       "      <td>0.193237</td>\n",
       "    </tr>\n",
       "    <tr>\n",
       "      <th>9415</th>\n",
       "      <td>4</td>\n",
       "      <td>0.135747</td>\n",
       "    </tr>\n",
       "  </tbody>\n",
       "</table>\n",
       "</div>"
      ],
      "text/plain": [
       "     income_q  bmi_obese_q\n",
       "1           1     0.298050\n",
       "3139        2     0.262467\n",
       "6277        3     0.193237\n",
       "9415        4     0.135747"
      ]
     },
     "execution_count": 89,
     "metadata": {},
     "output_type": "execute_result"
    }
   ],
   "source": [
    "cov.loc[cov.cty == 1003, ['income_q', 'bmi_obese_q']]"
   ]
  },
  {
   "cell_type": "code",
   "execution_count": 90,
   "metadata": {},
   "outputs": [
    {
     "data": {
      "text/plain": [
       "Index(['cty', 'income_q', 'unemp_rate', 'frac_traveltime_lt15', 'cz_name',\n",
       "       'primcarevis_10', 'adjmortmeas_amiall30day', 'cbsa_name', 'gini99',\n",
       "       'diab_hemotest_10', 'adjmortmeas_chfall30day', 'cs_educ_ba',\n",
       "       'cs_race_theil_2000', 'cs_frac_black', 'csa_name', 'pop_density',\n",
       "       'mammogram_10', 'intersects_msa', 'exercise_any', 'cty_pop2000',\n",
       "       'rel_tot', 'poor_share', 'cbsa', 'subcty_exp_pc', 'score_r', 'state_id',\n",
       "       'puninsured2010', 'cs00_seg_inc_aff75', 'diab_eyeexam_10', 'bmi_obese',\n",
       "       'csa', 'median_house_value', 'reimb_penroll_adj10',\n",
       "       'adjmortmeas_pnall30day', 'ccd_exp_tot', 'cs_labforce', 'county_name',\n",
       "       'frac_middleclass', 'cz', 'pop_d_2000_1980', 'scap_ski90pcm', 's_rank',\n",
       "       'diab_lipids_10', 'tuition', 'mort_30day_hosp_z', 'cz_pop2000',\n",
       "       'lf_d_2000_1980', 'amb_disch_per1000_10', 'crime_total', 'dropout_r',\n",
       "       'cs00_seg_inc', 'tax_st_diff_top20', 'cur_smoke',\n",
       "       'cs_fam_wkidsinglemom', 'ccd_pup_tch_ratio', 'subcty_total_taxes_pc',\n",
       "       'mig_inflow', 'num_inst_pc', 'med_prev_qual_z', 'e_rank_b',\n",
       "       'gradrate_r', 'cs_born_foreign', 'median_rent', 'taxrate',\n",
       "       'inc_share_1perc', 'statename', 'mig_outflow', 'cs_elf_ind_man',\n",
       "       'cs_frac_hisp', 'stateabbrv', 'hhinc00', 'cs00_seg_inc_pov25',\n",
       "       'bmi_obese_q', 'cur_smoke_q', 'exercise_any_q'],\n",
       "      dtype='object')"
      ]
     },
     "execution_count": 90,
     "metadata": {},
     "output_type": "execute_result"
    }
   ],
   "source": [
    "cov.columns # select columns"
   ]
  },
  {
   "cell_type": "code",
   "execution_count": 91,
   "metadata": {},
   "outputs": [],
   "source": [
    "# renaming variables \n",
    "\n",
    "names = ['cty', 'income_q', 'county_name', 'cty_pop2000', 'statename', 'stateabbrv', \n",
    "        'pop_density', 'gini99', 's_rank', 'e_rank_b', 'cs00_seg_inc', \n",
    "         'cs_race_theil_2000', 'hhinc00', 'poor_share', 'frac_middleclass', \n",
    "        'mig_inflow', 'mig_outflow', 'cs_born_foreign', 'rel_tot', 'crime_total',\n",
    "         'puninsured2010',  'cs_labforce', 'unemp_rate', 'cs_frac_black', 'cs_frac_hisp',\n",
    "         'bmi_obese_q', 'cur_smoke_q','exercise_any_q', 'median_house_value', 'cs_educ_ba', \n",
    "         'reimb_penroll_adj10', 'subcty_exp_pc'\n",
    "        ]"
   ]
  },
  {
   "cell_type": "code",
   "execution_count": 92,
   "metadata": {},
   "outputs": [],
   "source": [
    "nnames = ['county', 'income_q', 'county_name', 'population', 'statename', 'stateabbrv', \n",
    "        'density', 'gini', 'relative_mob', 'absolute_mob', 'segregation_income', \n",
    "          'segregation_race', 'income', 'poverty', 'middle_class', 'mig_inflow', \n",
    "          'mig_outflow', 'foreign', 'religion', 'crime_rate', 'uninsured', \n",
    "        'labor_force', 'unemployment', 'pct_black', 'pct_hispanic', \n",
    "          'obesity', 'smoking', 'exercise', 'house_value', 'college', 'medicare_expenses', \n",
    "        'local_gov_exp'\n",
    "         ]\n",
    "\n",
    "\n",
    "d = dict(zip(names, nnames))\n",
    "cov.rename(columns=d, inplace=True)\n",
    "cov = cov.loc[:, nnames]\n",
    "cov['income_q']  = 'Q'+cov['income_q'].astype('str')"
   ]
  },
  {
   "cell_type": "code",
   "execution_count": 93,
   "metadata": {},
   "outputs": [
    {
     "data": {
      "text/html": [
       "<div>\n",
       "<style>\n",
       "    .dataframe thead tr:only-child th {\n",
       "        text-align: right;\n",
       "    }\n",
       "\n",
       "    .dataframe thead th {\n",
       "        text-align: left;\n",
       "    }\n",
       "\n",
       "    .dataframe tbody tr th {\n",
       "        vertical-align: top;\n",
       "    }\n",
       "</style>\n",
       "<table border=\"1\" class=\"dataframe\">\n",
       "  <thead>\n",
       "    <tr style=\"text-align: right;\">\n",
       "      <th></th>\n",
       "      <th>county</th>\n",
       "      <th>income_q</th>\n",
       "      <th>county_name</th>\n",
       "      <th>population</th>\n",
       "      <th>statename</th>\n",
       "      <th>stateabbrv</th>\n",
       "      <th>density</th>\n",
       "      <th>gini</th>\n",
       "      <th>relative_mob</th>\n",
       "      <th>absolute_mob</th>\n",
       "      <th>...</th>\n",
       "      <th>unemployment</th>\n",
       "      <th>pct_black</th>\n",
       "      <th>pct_hispanic</th>\n",
       "      <th>obesity</th>\n",
       "      <th>smoking</th>\n",
       "      <th>exercise</th>\n",
       "      <th>house_value</th>\n",
       "      <th>college</th>\n",
       "      <th>medicare_expenses</th>\n",
       "      <th>local_gov_exp</th>\n",
       "    </tr>\n",
       "  </thead>\n",
       "  <tbody>\n",
       "    <tr>\n",
       "      <th>0</th>\n",
       "      <td>1001</td>\n",
       "      <td>Q1</td>\n",
       "      <td>Autauga</td>\n",
       "      <td>43671</td>\n",
       "      <td>Alabama</td>\n",
       "      <td>AL</td>\n",
       "      <td>73.277412</td>\n",
       "      <td>0.379976</td>\n",
       "      <td>40.602394</td>\n",
       "      <td>41.872879</td>\n",
       "      <td>...</td>\n",
       "      <td>0.037379</td>\n",
       "      <td>17.008999</td>\n",
       "      <td>1.396808</td>\n",
       "      <td>0.375000</td>\n",
       "      <td>0.333333</td>\n",
       "      <td>0.500000</td>\n",
       "      <td>126368.4</td>\n",
       "      <td>18.0</td>\n",
       "      <td>9489.02</td>\n",
       "      <td>1059.669312</td>\n",
       "    </tr>\n",
       "    <tr>\n",
       "      <th>1</th>\n",
       "      <td>1003</td>\n",
       "      <td>Q1</td>\n",
       "      <td>Baldwin</td>\n",
       "      <td>140415</td>\n",
       "      <td>Alabama</td>\n",
       "      <td>AL</td>\n",
       "      <td>87.960236</td>\n",
       "      <td>0.489738</td>\n",
       "      <td>25.488312</td>\n",
       "      <td>44.492390</td>\n",
       "      <td>...</td>\n",
       "      <td>0.039112</td>\n",
       "      <td>10.224691</td>\n",
       "      <td>1.756222</td>\n",
       "      <td>0.298050</td>\n",
       "      <td>0.268097</td>\n",
       "      <td>0.599432</td>\n",
       "      <td>163292.5</td>\n",
       "      <td>23.1</td>\n",
       "      <td>9618.34</td>\n",
       "      <td>2209.910400</td>\n",
       "    </tr>\n",
       "    <tr>\n",
       "      <th>2</th>\n",
       "      <td>1005</td>\n",
       "      <td>Q1</td>\n",
       "      <td>Barbour</td>\n",
       "      <td>29038</td>\n",
       "      <td>Alabama</td>\n",
       "      <td>AL</td>\n",
       "      <td>32.814877</td>\n",
       "      <td>0.490637</td>\n",
       "      <td>42.124779</td>\n",
       "      <td>37.718758</td>\n",
       "      <td>...</td>\n",
       "      <td>0.068132</td>\n",
       "      <td>46.039669</td>\n",
       "      <td>1.646119</td>\n",
       "      <td>0.294118</td>\n",
       "      <td>0.228571</td>\n",
       "      <td>0.542857</td>\n",
       "      <td>91443.8</td>\n",
       "      <td>10.9</td>\n",
       "      <td>9761.77</td>\n",
       "      <td>1570.248291</td>\n",
       "    </tr>\n",
       "    <tr>\n",
       "      <th>3</th>\n",
       "      <td>1007</td>\n",
       "      <td>Q1</td>\n",
       "      <td>Bibb</td>\n",
       "      <td>20826</td>\n",
       "      <td>Alabama</td>\n",
       "      <td>AL</td>\n",
       "      <td>33.427227</td>\n",
       "      <td>0.417098</td>\n",
       "      <td>45.493622</td>\n",
       "      <td>42.245155</td>\n",
       "      <td>...</td>\n",
       "      <td>0.061639</td>\n",
       "      <td>22.010948</td>\n",
       "      <td>1.008355</td>\n",
       "      <td>0.466667</td>\n",
       "      <td>0.244444</td>\n",
       "      <td>0.422222</td>\n",
       "      <td>99441.8</td>\n",
       "      <td>7.1</td>\n",
       "      <td>11269.81</td>\n",
       "      <td>1338.441162</td>\n",
       "    </tr>\n",
       "    <tr>\n",
       "      <th>4</th>\n",
       "      <td>1009</td>\n",
       "      <td>Q1</td>\n",
       "      <td>Blount</td>\n",
       "      <td>51024</td>\n",
       "      <td>Alabama</td>\n",
       "      <td>AL</td>\n",
       "      <td>79.035255</td>\n",
       "      <td>0.333042</td>\n",
       "      <td>25.050438</td>\n",
       "      <td>49.043320</td>\n",
       "      <td>...</td>\n",
       "      <td>0.032847</td>\n",
       "      <td>1.171997</td>\n",
       "      <td>5.326905</td>\n",
       "      <td>0.347826</td>\n",
       "      <td>0.304348</td>\n",
       "      <td>0.565217</td>\n",
       "      <td>115704.4</td>\n",
       "      <td>9.6</td>\n",
       "      <td>10238.20</td>\n",
       "      <td>987.438843</td>\n",
       "    </tr>\n",
       "  </tbody>\n",
       "</table>\n",
       "<p>5 rows × 32 columns</p>\n",
       "</div>"
      ],
      "text/plain": [
       "   county income_q county_name  population statename stateabbrv    density  \\\n",
       "0    1001       Q1     Autauga       43671   Alabama         AL  73.277412   \n",
       "1    1003       Q1     Baldwin      140415   Alabama         AL  87.960236   \n",
       "2    1005       Q1     Barbour       29038   Alabama         AL  32.814877   \n",
       "3    1007       Q1        Bibb       20826   Alabama         AL  33.427227   \n",
       "4    1009       Q1      Blount       51024   Alabama         AL  79.035255   \n",
       "\n",
       "       gini  relative_mob  absolute_mob      ...        unemployment  \\\n",
       "0  0.379976     40.602394     41.872879      ...            0.037379   \n",
       "1  0.489738     25.488312     44.492390      ...            0.039112   \n",
       "2  0.490637     42.124779     37.718758      ...            0.068132   \n",
       "3  0.417098     45.493622     42.245155      ...            0.061639   \n",
       "4  0.333042     25.050438     49.043320      ...            0.032847   \n",
       "\n",
       "   pct_black  pct_hispanic   obesity   smoking  exercise  house_value  \\\n",
       "0  17.008999      1.396808  0.375000  0.333333  0.500000     126368.4   \n",
       "1  10.224691      1.756222  0.298050  0.268097  0.599432     163292.5   \n",
       "2  46.039669      1.646119  0.294118  0.228571  0.542857      91443.8   \n",
       "3  22.010948      1.008355  0.466667  0.244444  0.422222      99441.8   \n",
       "4   1.171997      5.326905  0.347826  0.304348  0.565217     115704.4   \n",
       "\n",
       "   college  medicare_expenses  local_gov_exp  \n",
       "0     18.0            9489.02    1059.669312  \n",
       "1     23.1            9618.34    2209.910400  \n",
       "2     10.9            9761.77    1570.248291  \n",
       "3      7.1           11269.81    1338.441162  \n",
       "4      9.6           10238.20     987.438843  \n",
       "\n",
       "[5 rows x 32 columns]"
      ]
     },
     "execution_count": 93,
     "metadata": {},
     "output_type": "execute_result"
    }
   ],
   "source": [
    "cov.head()"
   ]
  },
  {
   "cell_type": "code",
   "execution_count": 94,
   "metadata": {},
   "outputs": [],
   "source": [
    "# combining datasets\n",
    "df = pd.merge(le, cov, left_on=['county', 'income_q'], right_on=['county', 'income_q'], how='left')\n",
    "df = df.dropna(subset=['le', 'relative_mob', 'absolute_mob', 'income'])"
   ]
  },
  {
   "cell_type": "code",
   "execution_count": 95,
   "metadata": {},
   "outputs": [
    {
     "data": {
      "text/plain": [
       "(12448, 34)"
      ]
     },
     "execution_count": 95,
     "metadata": {},
     "output_type": "execute_result"
    }
   ],
   "source": [
    "df.shape"
   ]
  },
  {
   "cell_type": "code",
   "execution_count": 96,
   "metadata": {},
   "outputs": [],
   "source": [
    "# create dummy variables\n",
    "df['male'] = pd.get_dummies(pd.Series(df.gender), drop_first=True)\n",
    "df = pd.concat([df, pd.get_dummies(pd.Series(df.income_q), drop_first=True)], axis=1) \n",
    "df.columns = df.columns.str.lower()"
   ]
  },
  {
   "cell_type": "code",
   "execution_count": 97,
   "metadata": {},
   "outputs": [],
   "source": [
    "df.to_csv('../data/le_cov.csv',index=False)"
   ]
  },
  {
   "cell_type": "code",
   "execution_count": 98,
   "metadata": {},
   "outputs": [
    {
     "data": {
      "text/plain": [
       "0"
      ]
     },
     "execution_count": 98,
     "metadata": {},
     "output_type": "execute_result"
    }
   ],
   "source": [
    "df.duplicated(['county', 'gender', 'income_q']).sum() # no duplicated values"
   ]
  },
  {
   "cell_type": "markdown",
   "metadata": {},
   "source": [
    "# Missing data"
   ]
  },
  {
   "cell_type": "code",
   "execution_count": 99,
   "metadata": {},
   "outputs": [],
   "source": [
    "import myFunctions as f"
   ]
  },
  {
   "cell_type": "code",
   "execution_count": 100,
   "metadata": {},
   "outputs": [
    {
     "data": {
      "text/plain": [
       "1556"
      ]
     },
     "execution_count": 100,
     "metadata": {},
     "output_type": "execute_result"
    }
   ],
   "source": [
    "len(df['county'].unique()) # 1556"
   ]
  },
  {
   "cell_type": "code",
   "execution_count": 101,
   "metadata": {},
   "outputs": [
    {
     "data": {
      "text/plain": [
       "Index(['county', 'gender', 'income_q', 'le', 'county_name', 'population',\n",
       "       'statename', 'stateabbrv', 'density', 'gini', 'relative_mob',\n",
       "       'absolute_mob', 'segregation_income', 'segregation_race', 'income',\n",
       "       'poverty', 'middle_class', 'mig_inflow', 'mig_outflow', 'foreign',\n",
       "       'religion', 'crime_rate', 'uninsured', 'labor_force', 'unemployment',\n",
       "       'pct_black', 'pct_hispanic', 'obesity', 'smoking', 'exercise',\n",
       "       'house_value', 'college', 'medicare_expenses', 'local_gov_exp', 'male',\n",
       "       'q2', 'q3', 'q4'],\n",
       "      dtype='object')"
      ]
     },
     "execution_count": 101,
     "metadata": {},
     "output_type": "execute_result"
    }
   ],
   "source": [
    "df.columns"
   ]
  },
  {
   "cell_type": "code",
   "execution_count": 102,
   "metadata": {},
   "outputs": [
    {
     "data": {
      "text/plain": [
       "crime_rate    0.062339\n",
       "exercise      0.003856\n",
       "smoking       0.003856\n",
       "obesity       0.003856\n",
       "dtype: float64"
      ]
     },
     "execution_count": 102,
     "metadata": {},
     "output_type": "execute_result"
    }
   ],
   "source": [
    "f.missing_data(df)"
   ]
  },
  {
   "cell_type": "code",
   "execution_count": 103,
   "metadata": {},
   "outputs": [],
   "source": [
    "# impute values based on state median\n",
    "by_state = df.groupby(['statename'])\n",
    "\n",
    "# Write a function that imputes median\n",
    "def impute_median(series):\n",
    "    return series.fillna(series.median())\n",
    "\n",
    "# Impute age and assign to titanic['age']\n",
    "df.crime_rate = by_state['crime_rate'].transform(impute_median)\n",
    "df.exercise = by_state['exercise'].transform(impute_median)\n",
    "df.smoking = by_state['smoking'].transform(impute_median)\n",
    "df.obesity = by_state['obesity'].transform(impute_median)"
   ]
  },
  {
   "cell_type": "code",
   "execution_count": 104,
   "metadata": {},
   "outputs": [
    {
     "data": {
      "text/plain": [
       "crime_rate    0.032776\n",
       "exercise      0.003213\n",
       "smoking       0.003213\n",
       "obesity       0.003213\n",
       "dtype: float64"
      ]
     },
     "execution_count": 104,
     "metadata": {},
     "output_type": "execute_result"
    }
   ],
   "source": [
    "f.missing_data(df)"
   ]
  },
  {
   "cell_type": "code",
   "execution_count": 105,
   "metadata": {},
   "outputs": [],
   "source": [
    "df.dropna(inplace=True)"
   ]
  },
  {
   "cell_type": "code",
   "execution_count": 106,
   "metadata": {},
   "outputs": [
    {
     "data": {
      "text/plain": [
       "1500"
      ]
     },
     "execution_count": 106,
     "metadata": {},
     "output_type": "execute_result"
    }
   ],
   "source": [
    "len(df.county.unique()) # 1500"
   ]
  },
  {
   "cell_type": "code",
   "execution_count": 107,
   "metadata": {},
   "outputs": [
    {
     "data": {
      "text/plain": [
       "24"
      ]
     },
     "execution_count": 107,
     "metadata": {},
     "output_type": "execute_result"
    }
   ],
   "source": [
    "# plots continuous variables\n",
    "variables = ['population', 'density', 'crime_rate', 'poverty', 'middle_class', \n",
    "            'mig_inflow', 'mig_outflow', 'foreign', 'pct_black', 'pct_hispanic', \n",
    "            'religion', 'uninsured', 'medicare_expenses', 'house_value', 'local_gov_exp', \n",
    "            'college', 'obesity', 'exercise', 'smoking', 'unemployment', \n",
    "            'labor_force', 'income',  'segregation_income', 'segregation_race']\n",
    "\n",
    "len(variables)"
   ]
  },
  {
   "cell_type": "code",
   "execution_count": 108,
   "metadata": {},
   "outputs": [
    {
     "data": {
      "text/plain": [
       "count    12000.000000\n",
       "mean         0.034705\n",
       "std          0.019210\n",
       "min          0.006001\n",
       "25%          0.021230\n",
       "50%          0.030055\n",
       "75%          0.042575\n",
       "max          0.168671\n",
       "Name: mig_inflow, dtype: float64"
      ]
     },
     "execution_count": 108,
     "metadata": {},
     "output_type": "execute_result"
    }
   ],
   "source": [
    "df.mig_inflow.describe()"
   ]
  },
  {
   "cell_type": "code",
   "execution_count": 109,
   "metadata": {},
   "outputs": [
    {
     "data": {
      "image/png": "[encoded data removed]",
      "text/plain": [
       "<matplotlib.figure.Figure at 0x11c5f5cc0>"
      ]
     },
     "metadata": {},
     "output_type": "display_data"
    }
   ],
   "source": [
    "sns.kdeplot(df.loc[:, 'local_gov_exp']);\n",
    "# sns.kdeplot(df.loc[:, variables[23]]);\n",
    "# sns.kdeplot(np.log(df.loc[:, variables[23]]), label='log');"
   ]
  },
  {
   "cell_type": "code",
   "execution_count": 110,
   "metadata": {},
   "outputs": [
    {
     "data": {
      "text/plain": [
       "12"
      ]
     },
     "execution_count": 110,
     "metadata": {},
     "output_type": "execute_result"
    }
   ],
   "source": [
    "log_variables = ['population', 'crime_rate', 'poverty', 'mig_inflow', \n",
    "            'mig_outflow', 'foreign', 'pct_black', 'pct_hispanic', \n",
    "            'house_value', 'local_gov_exp', 'unemployment', 'income']\n",
    "len(log_variables)"
   ]
  },
  {
   "cell_type": "code",
   "execution_count": 111,
   "metadata": {},
   "outputs": [],
   "source": [
    "df_tr = f.transform_variables(df, variables=log_variables, kind='log')"
   ]
  },
  {
   "cell_type": "code",
   "execution_count": 112,
   "metadata": {},
   "outputs": [],
   "source": [
    "z_variables = ['gini', 'relative_mob', 'absolute_mob', \n",
    "            'middle_class', 'segregation_income', 'religion', \n",
    "            'labor_force', 'uninsured', 'medicare_expenses', \n",
    "            'college', 'obesity', 'smoking', 'exercise' ]\n",
    "df_tr = f.transform_variables(df_tr, variables=z_variables, kind='z')"
   ]
  },
  {
   "cell_type": "code",
   "execution_count": 113,
   "metadata": {},
   "outputs": [
    {
     "data": {
      "text/plain": [
       "25"
      ]
     },
     "execution_count": 113,
     "metadata": {},
     "output_type": "execute_result"
    }
   ],
   "source": [
    "len(log_variables)+len(z_variables)"
   ]
  },
  {
   "cell_type": "code",
   "execution_count": 114,
   "metadata": {},
   "outputs": [
    {
     "data": {
      "text/plain": [
       "0"
      ]
     },
     "execution_count": 114,
     "metadata": {},
     "output_type": "execute_result"
    }
   ],
   "source": [
    "df_tr.duplicated(['county', 'gender', 'income_q']).sum()"
   ]
  },
  {
   "cell_type": "code",
   "execution_count": 115,
   "metadata": {},
   "outputs": [
    {
     "data": {
      "text/plain": [
       "Index(['county', 'gender', 'income_q', 'le', 'county_name', 'population',\n",
       "       'statename', 'stateabbrv', 'density', 'gini', 'relative_mob',\n",
       "       'absolute_mob', 'segregation_income', 'segregation_race', 'income',\n",
       "       'poverty', 'middle_class', 'mig_inflow', 'mig_outflow', 'foreign',\n",
       "       'religion', 'crime_rate', 'uninsured', 'labor_force', 'unemployment',\n",
       "       'pct_black', 'pct_hispanic', 'obesity', 'smoking', 'exercise',\n",
       "       'house_value', 'college', 'medicare_expenses', 'local_gov_exp', 'male',\n",
       "       'q2', 'q3', 'q4', 'log_population', 'log_crime_rate', 'log_poverty',\n",
       "       'log_mig_inflow', 'log_mig_outflow', 'log_foreign', 'log_pct_black',\n",
       "       'log_pct_hispanic', 'log_house_value', 'log_local_gov_exp',\n",
       "       'log_unemployment', 'log_income', 'z_gini', 'z_relative_mob',\n",
       "       'z_absolute_mob', 'z_middle_class', 'z_segregation_income',\n",
       "       'z_religion', 'z_labor_force', 'z_uninsured', 'z_medicare_expenses',\n",
       "       'z_college', 'z_obesity', 'z_smoking', 'z_exercise'],\n",
       "      dtype='object')"
      ]
     },
     "execution_count": 115,
     "metadata": {},
     "output_type": "execute_result"
    }
   ],
   "source": [
    "df_tr.columns"
   ]
  },
  {
   "cell_type": "code",
   "execution_count": 116,
   "metadata": {},
   "outputs": [],
   "source": [
    "df_tr.to_csv('../data/le_cov_tr.csv',index=False)"
   ]
  },
  {
   "cell_type": "code",
   "execution_count": 117,
   "metadata": {},
   "outputs": [],
   "source": [
    "# subset variables\n",
    "\n",
    "# -Demographic: % Black, Hispanic (since Chetty uses this to race adjust)\n",
    "# -Social: Crime rate, segregation\n",
    "# -Economic: Gini, possibly unemployment\n",
    "# -Health Access: uninsured, medicare expenses\n",
    "\n",
    "subset_vars = ['le', 'z_relative_mob', 'z_gini', 'county', 'gender', 'income_q', 'county_name', 'stateabbrv', \n",
    "               'statename', 'log_population', 'log_income', 'z_segregation_income', 'log_unemployment',\n",
    "               'z_uninsured', 'z_medicare_expenses', 'log_crime_rate', 'log_pct_black', \n",
    "               'log_pct_hispanic', 'z_obesity', 'z_smoking', 'z_exercise'] \n",
    "               \n",
    " "
   ]
  },
  {
   "cell_type": "code",
   "execution_count": 118,
   "metadata": {},
   "outputs": [],
   "source": [
    "df_sel = df_tr.loc[:, subset_vars]"
   ]
  },
  {
   "cell_type": "code",
   "execution_count": 119,
   "metadata": {},
   "outputs": [],
   "source": [
    "df_sel.to_csv('../data/le_cov_sel.csv', index=False)"
   ]
  },
  {
   "cell_type": "code",
   "execution_count": 120,
   "metadata": {},
   "outputs": [
    {
     "name": "stdout",
     "output_type": "stream",
     "text": [
      "No missing data!\n"
     ]
    }
   ],
   "source": [
    "f.missing_data(df_sel)"
   ]
  },
  {
   "cell_type": "markdown",
   "metadata": {},
   "source": [
    "# Split data (training, validation, test set)"
   ]
  },
  {
   "cell_type": "code",
   "execution_count": 426,
   "metadata": {},
   "outputs": [],
   "source": [
    "# split dataset \n",
    "\n",
    "from sklearn.model_selection import GridSearchCV\n",
    "from sklearn.model_selection import train_test_split\n",
    "from sklearn.metrics import mean_squared_error, r2_score, explained_variance_score"
   ]
  },
  {
   "cell_type": "code",
   "execution_count": 427,
   "metadata": {},
   "outputs": [],
   "source": [
    "y = df.loc[:,'le'].as_matrix()"
   ]
  },
  {
   "cell_type": "code",
   "execution_count": 428,
   "metadata": {},
   "outputs": [],
   "source": [
    "varnames = list(df.columns)"
   ]
  },
  {
   "cell_type": "code",
   "execution_count": 429,
   "metadata": {},
   "outputs": [],
   "source": [
    "states = list(filter(re.compile(r'state_').search, varnames))"
   ]
  },
  {
   "cell_type": "code",
   "execution_count": 435,
   "metadata": {},
   "outputs": [],
   "source": [
    "# define covariates\n",
    "covariates = ['population', 'density', 'gini', 'relative_mob', \n",
    "              'segregation_income', 'income', 'poverty', 'middle_class', 'local_gov_exp', \n",
    "              'house_value', 'religion', 'medicare_expenses', 'college',\n",
    "              'mig_inflow', 'mig_outflow', 'foreign', 'crime_rate', 'uninsured', \n",
    "              'labor_force', 'unemployment', 'pct_black', 'pct_hispanic',  'obesity', 'smoking', \n",
    "              'exercise', 'male', 'q2', 'q3', 'q4'\n",
    "             ]"
   ]
  },
  {
   "cell_type": "code",
   "execution_count": 440,
   "metadata": {},
   "outputs": [],
   "source": [
    "# split data sets using stratification\n",
    "strata =  df.loc[:,['male', 'q2', 'q3', 'q4']].as_matrix()\n",
    "X_train, X_test, y_train, y_test = train_test_split(df.loc[:,covariates],\n",
    "                                                    y, \n",
    "                                                    random_state=42, stratify=strata, \n",
    "                                                   test_size=0.20)"
   ]
  },
  {
   "cell_type": "code",
   "execution_count": 441,
   "metadata": {},
   "outputs": [],
   "source": [
    "# update strata\n",
    "strata = X_train.loc[:,['male', 'q2', 'q3', 'q4']].as_matrix()\n",
    "X_strain, X_val, y_strain, y_val = train_test_split(X_train, y_train, \n",
    "                                                    random_state=42, \n",
    "                                                    test_size=0.20,\n",
    "                                                    stratify=strata)"
   ]
  },
  {
   "cell_type": "code",
   "execution_count": 442,
   "metadata": {},
   "outputs": [
    {
     "data": {
      "text/plain": [
       "(7680, 29)"
      ]
     },
     "execution_count": 442,
     "metadata": {},
     "output_type": "execute_result"
    }
   ],
   "source": [
    "X_strain.shape"
   ]
  },
  {
   "cell_type": "code",
   "execution_count": 444,
   "metadata": {},
   "outputs": [],
   "source": [
    "# features\n",
    "features = X_strain.columns.tolist()"
   ]
  },
  {
   "cell_type": "markdown",
   "metadata": {},
   "source": [
    "# Baseline (average model)"
   ]
  },
  {
   "cell_type": "markdown",
   "metadata": {},
   "source": [
    "Baseline model to compare performance."
   ]
  },
  {
   "cell_type": "code",
   "execution_count": 457,
   "metadata": {},
   "outputs": [],
   "source": [
    "# baseline using mean\n",
    "\n",
    "from sklearn import base\n",
    "\n",
    "class averageEstimator(base.BaseEstimator, base.RegressorMixin):\n",
    "    def __init__(self):\n",
    "        self.avg = 0.0\n",
    "    \n",
    "    def fit(self, X, y):\n",
    "        self.avg = y.mean()\n",
    "        return self\n",
    "    \n",
    "    def predict(self, X): \n",
    "        return [self.avg for row in X]"
   ]
  },
  {
   "cell_type": "code",
   "execution_count": 458,
   "metadata": {},
   "outputs": [],
   "source": [
    "baseline_model = averageEstimator()"
   ]
  },
  {
   "cell_type": "code",
   "execution_count": 459,
   "metadata": {},
   "outputs": [
    {
     "data": {
      "text/plain": [
       "(1920, 29)"
      ]
     },
     "execution_count": 459,
     "metadata": {},
     "output_type": "execute_result"
    }
   ],
   "source": [
    "X_val.shape"
   ]
  },
  {
   "cell_type": "code",
   "execution_count": 460,
   "metadata": {},
   "outputs": [
    {
     "data": {
      "text/plain": [
       "averageEstimator()"
      ]
     },
     "execution_count": 460,
     "metadata": {},
     "output_type": "execute_result"
    }
   ],
   "source": [
    "baseline_model.fit(X_strain.as_matrix(), y_strain)"
   ]
  },
  {
   "cell_type": "code",
   "execution_count": 461,
   "metadata": {},
   "outputs": [
    {
     "data": {
      "text/plain": [
       "3.6114225"
      ]
     },
     "execution_count": 461,
     "metadata": {},
     "output_type": "execute_result"
    }
   ],
   "source": [
    "from sklearn.metrics import mean_squared_error, explained_variance_score, r2_score\n",
    "\n",
    "np.sqrt(mean_squared_error(y_val, baseline_model.predict(X_val.as_matrix())))"
   ]
  },
  {
   "cell_type": "markdown",
   "metadata": {},
   "source": [
    "# Regression "
   ]
  },
  {
   "cell_type": "markdown",
   "metadata": {},
   "source": [
    "Just plain linear regression, with all the predictors (i.e., also mediators)"
   ]
  },
  {
   "cell_type": "code",
   "execution_count": 462,
   "metadata": {},
   "outputs": [],
   "source": [
    "from sklearn import  linear_model, utils, preprocessing\n",
    "from sklearn.model_selection import cross_val_score\n",
    "from sklearn.pipeline import Pipeline\n",
    "from sklearn.preprocessing import Imputer"
   ]
  },
  {
   "cell_type": "code",
   "execution_count": 463,
   "metadata": {},
   "outputs": [],
   "source": [
    "# reg_estimator = Pipeline([('imputer', Imputer(missing_values=np.nan,\n",
    "#                                           strategy='mean',\n",
    "#                                           axis=0)),\n",
    "#                           ('regression', linear_model.LinearRegression(fit_intercept=True))\n",
    "#                          ])\n",
    "\n",
    "reg_est = linear_model.LinearRegression(fit_intercept=True)"
   ]
  },
  {
   "cell_type": "code",
   "execution_count": 464,
   "metadata": {},
   "outputs": [
    {
     "data": {
      "text/plain": [
       "LinearRegression(copy_X=True, fit_intercept=True, n_jobs=1, normalize=False)"
      ]
     },
     "execution_count": 464,
     "metadata": {},
     "output_type": "execute_result"
    }
   ],
   "source": [
    "reg_est.fit(X_strain.as_matrix(), y_strain)"
   ]
  },
  {
   "cell_type": "code",
   "execution_count": 466,
   "metadata": {},
   "outputs": [
    {
     "data": {
      "text/plain": [
       "1.4697723128138522"
      ]
     },
     "execution_count": 466,
     "metadata": {},
     "output_type": "execute_result"
    }
   ],
   "source": [
    "np.sqrt(mean_squared_error(y_val, reg_est.predict(X_val.as_matrix())))"
   ]
  },
  {
   "cell_type": "markdown",
   "metadata": {},
   "source": [
    "Not bad reduction!"
   ]
  },
  {
   "cell_type": "code",
   "execution_count": 467,
   "metadata": {},
   "outputs": [
    {
     "data": {
      "image/png": "[encoded data removed]",
      "text/plain": [
       "<matplotlib.figure.Figure at 0x1168af2b0>"
      ]
     },
     "metadata": {},
     "output_type": "display_data"
    }
   ],
   "source": [
    "g = sns.jointplot(reg_est.predict(X_val.as_matrix()),y_val, alpha=0.20, \n",
    "                  annot_kws=dict(stat=\"r\"))\n",
    "g.set_axis_labels(xlabel='Predicted', ylabel='Observed');"
   ]
  },
  {
   "cell_type": "markdown",
   "metadata": {},
   "source": [
    "There is a problem when predicting the bottom of the distribution, an split in the predicted values at LE 80 that is not observed in the data. "
   ]
  },
  {
   "cell_type": "markdown",
   "metadata": {},
   "source": [
    "# Random forest"
   ]
  },
  {
   "cell_type": "markdown",
   "metadata": {},
   "source": [
    "Let's start just exploring the parameter space and selecting the best random forest setup. "
   ]
  },
  {
   "cell_type": "code",
   "execution_count": 476,
   "metadata": {},
   "outputs": [],
   "source": [
    "from sklearn.ensemble import RandomForestRegressor"
   ]
  },
  {
   "cell_type": "code",
   "execution_count": 535,
   "metadata": {},
   "outputs": [],
   "source": [
    "rf_reg = RandomForestRegressor(n_estimators=1000, random_state=123)"
   ]
  },
  {
   "cell_type": "code",
   "execution_count": 536,
   "metadata": {},
   "outputs": [
    {
     "data": {
      "text/plain": [
       "RandomForestRegressor(bootstrap=True, criterion='mse', max_depth=None,\n",
       "           max_features='auto', max_leaf_nodes=None,\n",
       "           min_impurity_decrease=0.0, min_impurity_split=None,\n",
       "           min_samples_leaf=1, min_samples_split=2,\n",
       "           min_weight_fraction_leaf=0.0, n_estimators=1000, n_jobs=1,\n",
       "           oob_score=False, random_state=123, verbose=0, warm_start=False)"
      ]
     },
     "execution_count": 536,
     "metadata": {},
     "output_type": "execute_result"
    }
   ],
   "source": [
    "rf_reg.fit(X_strain.as_matrix(), y_strain)"
   ]
  },
  {
   "cell_type": "code",
   "execution_count": 537,
   "metadata": {},
   "outputs": [
    {
     "data": {
      "image/png": "[encoded data removed]",
      "text/plain": [
       "<matplotlib.figure.Figure at 0x1164fe2b0>"
      ]
     },
     "metadata": {},
     "output_type": "display_data"
    }
   ],
   "source": [
    "g = sns.jointplot(rf_reg.predict(X_val.as_matrix()),y_val, alpha=0.20, \n",
    "                  annot_kws=dict(stat=\"r\"))\n",
    "g.set_axis_labels(xlabel='Predicted', ylabel='Observed');"
   ]
  },
  {
   "cell_type": "code",
   "execution_count": 497,
   "metadata": {},
   "outputs": [
    {
     "data": {
      "text/plain": [
       "1.2639451864060998"
      ]
     },
     "execution_count": 497,
     "metadata": {},
     "output_type": "execute_result"
    }
   ],
   "source": [
    "np.sqrt(mean_squared_error(y_val, rf_reg.predict(X_val.as_matrix())))"
   ]
  },
  {
   "cell_type": "code",
   "execution_count": 189,
   "metadata": {},
   "outputs": [],
   "source": [
    "# function to create feature importance plot\n",
    "def importance_plot(feature_importance, features, thresold = 0.0):\n",
    "    im = sorted(zip(map(lambda x: round(x, 3), feature_importance), \n",
    "           features))\n",
    "    im  = pd.DataFrame(im, columns=['importance', 'feature'])\n",
    "    im = im.loc[im.importance > thresold,:] # filter\n",
    "    plot = im.plot.barh(x='feature',legend=None)\n",
    "    plt.ylabel('Features')\n",
    "    plt.xlabel('Importance')\n",
    "    return plot"
   ]
  },
  {
   "cell_type": "markdown",
   "metadata": {},
   "source": [
    "### Variable importance"
   ]
  },
  {
   "cell_type": "code",
   "execution_count": 525,
   "metadata": {},
   "outputs": [],
   "source": [
    "importances = rf_reg.feature_importances_"
   ]
  },
  {
   "cell_type": "code",
   "execution_count": 526,
   "metadata": {},
   "outputs": [
    {
     "data": {
      "image/png": "[encoded data removed]",
      "text/plain": [
       "<matplotlib.figure.Figure at 0x1168dd128>"
      ]
     },
     "metadata": {},
     "output_type": "display_data"
    }
   ],
   "source": [
    "importance_plot(importances, features);"
   ]
  },
  {
   "cell_type": "code",
   "execution_count": 522,
   "metadata": {},
   "outputs": [],
   "source": [
    "feat_selector = BorutaPy(rf_reg, n_estimators='auto', verbose=2)"
   ]
  },
  {
   "cell_type": "code",
   "execution_count": 523,
   "metadata": {},
   "outputs": [
    {
     "name": "stdout",
     "output_type": "stream",
     "text": [
      "Iteration: \t1 / 100\n",
      "Confirmed: \t0\n",
      "Tentative: \t29\n",
      "Rejected: \t0\n",
      "Iteration: \t2 / 100\n",
      "Confirmed: \t0\n",
      "Tentative: \t29\n",
      "Rejected: \t0\n",
      "Iteration: \t3 / 100\n",
      "Confirmed: \t0\n",
      "Tentative: \t29\n",
      "Rejected: \t0\n",
      "Iteration: \t4 / 100\n",
      "Confirmed: \t0\n",
      "Tentative: \t29\n",
      "Rejected: \t0\n",
      "Iteration: \t5 / 100\n",
      "Confirmed: \t0\n",
      "Tentative: \t29\n",
      "Rejected: \t0\n",
      "Iteration: \t6 / 100\n",
      "Confirmed: \t0\n",
      "Tentative: \t29\n",
      "Rejected: \t0\n",
      "Iteration: \t7 / 100\n",
      "Confirmed: \t0\n",
      "Tentative: \t29\n",
      "Rejected: \t0\n",
      "Iteration: \t8 / 100\n",
      "Confirmed: \t20\n",
      "Tentative: \t9\n",
      "Rejected: \t0\n",
      "Iteration: \t9 / 100\n",
      "Confirmed: \t20\n",
      "Tentative: \t7\n",
      "Rejected: \t2\n",
      "Iteration: \t10 / 100\n",
      "Confirmed: \t20\n",
      "Tentative: \t7\n",
      "Rejected: \t2\n",
      "Iteration: \t11 / 100\n",
      "Confirmed: \t20\n",
      "Tentative: \t7\n",
      "Rejected: \t2\n",
      "Iteration: \t12 / 100\n",
      "Confirmed: \t20\n",
      "Tentative: \t7\n",
      "Rejected: \t2\n",
      "Iteration: \t13 / 100\n",
      "Confirmed: \t20\n",
      "Tentative: \t7\n",
      "Rejected: \t2\n",
      "Iteration: \t14 / 100\n",
      "Confirmed: \t20\n",
      "Tentative: \t7\n",
      "Rejected: \t2\n",
      "Iteration: \t15 / 100\n",
      "Confirmed: \t20\n",
      "Tentative: \t7\n",
      "Rejected: \t2\n",
      "Iteration: \t16 / 100\n",
      "Confirmed: \t21\n",
      "Tentative: \t6\n",
      "Rejected: \t2\n",
      "Iteration: \t17 / 100\n",
      "Confirmed: \t21\n",
      "Tentative: \t6\n",
      "Rejected: \t2\n",
      "Iteration: \t18 / 100\n",
      "Confirmed: \t21\n",
      "Tentative: \t6\n",
      "Rejected: \t2\n",
      "Iteration: \t19 / 100\n",
      "Confirmed: \t23\n",
      "Tentative: \t4\n",
      "Rejected: \t2\n",
      "Iteration: \t20 / 100\n",
      "Confirmed: \t23\n",
      "Tentative: \t4\n",
      "Rejected: \t2\n",
      "Iteration: \t21 / 100\n",
      "Confirmed: \t23\n",
      "Tentative: \t4\n",
      "Rejected: \t2\n",
      "Iteration: \t22 / 100\n",
      "Confirmed: \t23\n",
      "Tentative: \t4\n",
      "Rejected: \t2\n",
      "Iteration: \t23 / 100\n",
      "Confirmed: \t23\n",
      "Tentative: \t4\n",
      "Rejected: \t2\n",
      "Iteration: \t24 / 100\n",
      "Confirmed: \t23\n",
      "Tentative: \t4\n",
      "Rejected: \t2\n",
      "Iteration: \t25 / 100\n",
      "Confirmed: \t23\n",
      "Tentative: \t4\n",
      "Rejected: \t2\n",
      "Iteration: \t26 / 100\n",
      "Confirmed: \t23\n",
      "Tentative: \t4\n",
      "Rejected: \t2\n",
      "Iteration: \t27 / 100\n",
      "Confirmed: \t23\n",
      "Tentative: \t4\n",
      "Rejected: \t2\n",
      "Iteration: \t28 / 100\n",
      "Confirmed: \t23\n",
      "Tentative: \t4\n",
      "Rejected: \t2\n",
      "Iteration: \t29 / 100\n",
      "Confirmed: \t24\n",
      "Tentative: \t3\n",
      "Rejected: \t2\n",
      "Iteration: \t30 / 100\n",
      "Confirmed: \t24\n",
      "Tentative: \t3\n",
      "Rejected: \t2\n",
      "Iteration: \t31 / 100\n",
      "Confirmed: \t24\n",
      "Tentative: \t3\n",
      "Rejected: \t2\n",
      "Iteration: \t32 / 100\n",
      "Confirmed: \t25\n",
      "Tentative: \t2\n",
      "Rejected: \t2\n",
      "Iteration: \t33 / 100\n",
      "Confirmed: \t25\n",
      "Tentative: \t2\n",
      "Rejected: \t2\n",
      "Iteration: \t34 / 100\n",
      "Confirmed: \t26\n",
      "Tentative: \t0\n",
      "Rejected: \t3\n",
      "\n",
      "\n",
      "BorutaPy finished running.\n",
      "\n",
      "Iteration: \t35 / 100\n",
      "Confirmed: \t26\n",
      "Tentative: \t0\n",
      "Rejected: \t3\n"
     ]
    },
    {
     "data": {
      "text/plain": [
       "BorutaPy(alpha=0.05,\n",
       "     estimator=RandomForestRegressor(bootstrap=True, criterion='mse', max_depth=None,\n",
       "           max_features='auto', max_leaf_nodes=None,\n",
       "           min_impurity_decrease=0.0, min_impurity_split=None,\n",
       "           min_samples_leaf=1, min_samples_split=2,\n",
       "           min_weight_fraction_leaf=0.0, n_estimators=73, n_jobs=1,\n",
       "           oob_score=False,\n",
       "           random_state=<mtrand.RandomState object at 0x10f9a4b88>,\n",
       "           verbose=0, warm_start=False),\n",
       "     max_iter=100, n_estimators='auto', perc=100,\n",
       "     random_state=<mtrand.RandomState object at 0x10f9a4b88>,\n",
       "     two_step=True, verbose=2)"
      ]
     },
     "execution_count": 523,
     "metadata": {},
     "output_type": "execute_result"
    }
   ],
   "source": [
    " # find all relevant features\n",
    "feat_selector.fit(X_strain.as_matrix(), y_strain)\n",
    " \n",
    "# check selected features"
   ]
  },
  {
   "cell_type": "code",
   "execution_count": 538,
   "metadata": {},
   "outputs": [
    {
     "data": {
      "text/plain": [
       "array(['gini', 'mig_inflow', 'mig_outflow'],\n",
       "      dtype='<U18')"
      ]
     },
     "execution_count": 538,
     "metadata": {},
     "output_type": "execute_result"
    }
   ],
   "source": [
    "np.asarray(features)[~feat_selector.support_]"
   ]
  },
  {
   "cell_type": "code",
   "execution_count": 512,
   "metadata": {},
   "outputs": [
    {
     "data": {
      "text/plain": [
       "array([ True,  True, False,  True,  True,  True,  True,  True,  True,\n",
       "        True,  True,  True,  True, False,  True,  True, False,  True,\n",
       "        True,  True,  True,  True,  True,  True,  True,  True,  True,\n",
       "        True,  True], dtype=bool)"
      ]
     },
     "execution_count": 512,
     "metadata": {},
     "output_type": "execute_result"
    }
   ],
   "source": [
    "feat_selector.support_\n",
    " \n",
    "# check ranking of features\n",
    "# feat_selector.ranking_\n",
    " \n",
    "# call transform() on X to filter it down to selected features\n",
    "# X_filtered = feat_selector.transform(X)"
   ]
  },
  {
   "cell_type": "markdown",
   "metadata": {},
   "source": [
    "So, the key demographic variables (gender and income quartile) are the strongest predictors. Mobility improves predictions only slightly. These scores are tricky to interpret because of the correlation between features. "
   ]
  },
  {
   "cell_type": "markdown",
   "metadata": {},
   "source": [
    "# Assessing predictions on the test set"
   ]
  },
  {
   "cell_type": "markdown",
   "metadata": {},
   "source": [
    "### Regression"
   ]
  },
  {
   "cell_type": "code",
   "execution_count": 527,
   "metadata": {},
   "outputs": [
    {
     "data": {
      "image/png": "[encoded data removed]",
      "text/plain": [
       "<matplotlib.figure.Figure at 0x119f03b00>"
      ]
     },
     "metadata": {},
     "output_type": "display_data"
    }
   ],
   "source": [
    "g = sns.jointplot(reg_est.predict(X_test.as_matrix()), y_test, alpha=0.20, \n",
    "                  annot_kws=dict(stat=\"r\"))\n",
    "g.set_axis_labels(xlabel='Predicted', ylabel='Observed');"
   ]
  },
  {
   "cell_type": "code",
   "execution_count": 532,
   "metadata": {},
   "outputs": [
    {
     "data": {
      "text/plain": [
       "1.4034167097543309"
      ]
     },
     "execution_count": 532,
     "metadata": {},
     "output_type": "execute_result"
    }
   ],
   "source": [
    "np.sqrt(mean_squared_error(reg_est.predict(X_test.as_matrix()), y_test)) "
   ]
  },
  {
   "cell_type": "markdown",
   "metadata": {},
   "source": [
    "### Random Forest"
   ]
  },
  {
   "cell_type": "code",
   "execution_count": 533,
   "metadata": {},
   "outputs": [
    {
     "data": {
      "text/plain": [
       "(2400, 29)"
      ]
     },
     "execution_count": 533,
     "metadata": {},
     "output_type": "execute_result"
    }
   ],
   "source": [
    "X_test.shape"
   ]
  },
  {
   "cell_type": "code",
   "execution_count": 534,
   "metadata": {},
   "outputs": [
    {
     "ename": "ValueError",
     "evalue": "Number of features of the model must match the input. Model n_features is 54 and input n_features is 29 ",
     "output_type": "error",
     "traceback": [
      "\u001b[0;31m---------------------------------------------------------------------------\u001b[0m",
      "\u001b[0;31mValueError\u001b[0m                                Traceback (most recent call last)",
      "\u001b[0;32m<ipython-input-534-66efdf6b3c10>\u001b[0m in \u001b[0;36m<module>\u001b[0;34m()\u001b[0m\n\u001b[0;32m----> 1\u001b[0;31m g = sns.jointplot(rf_reg.predict(X_test.as_matrix()), y_test, alpha=0.20, \n\u001b[0m\u001b[1;32m      2\u001b[0m                   annot_kws=dict(stat=\"r\"))\n\u001b[1;32m      3\u001b[0m \u001b[0mg\u001b[0m\u001b[0;34m.\u001b[0m\u001b[0mset_axis_labels\u001b[0m\u001b[0;34m(\u001b[0m\u001b[0mxlabel\u001b[0m\u001b[0;34m=\u001b[0m\u001b[0;34m'Predicted'\u001b[0m\u001b[0;34m,\u001b[0m \u001b[0mylabel\u001b[0m\u001b[0;34m=\u001b[0m\u001b[0;34m'Observed'\u001b[0m\u001b[0;34m)\u001b[0m\u001b[0;34m;\u001b[0m\u001b[0;34m\u001b[0m\u001b[0m\n",
      "\u001b[0;32m~/miniconda3/lib/python3.6/site-packages/sklearn/ensemble/forest.py\u001b[0m in \u001b[0;36mpredict\u001b[0;34m(self, X)\u001b[0m\n\u001b[1;32m    679\u001b[0m         \u001b[0mcheck_is_fitted\u001b[0m\u001b[0;34m(\u001b[0m\u001b[0mself\u001b[0m\u001b[0;34m,\u001b[0m \u001b[0;34m'estimators_'\u001b[0m\u001b[0;34m)\u001b[0m\u001b[0;34m\u001b[0m\u001b[0m\n\u001b[1;32m    680\u001b[0m         \u001b[0;31m# Check data\u001b[0m\u001b[0;34m\u001b[0m\u001b[0;34m\u001b[0m\u001b[0m\n\u001b[0;32m--> 681\u001b[0;31m         \u001b[0mX\u001b[0m \u001b[0;34m=\u001b[0m \u001b[0mself\u001b[0m\u001b[0;34m.\u001b[0m\u001b[0m_validate_X_predict\u001b[0m\u001b[0;34m(\u001b[0m\u001b[0mX\u001b[0m\u001b[0;34m)\u001b[0m\u001b[0;34m\u001b[0m\u001b[0m\n\u001b[0m\u001b[1;32m    682\u001b[0m \u001b[0;34m\u001b[0m\u001b[0m\n\u001b[1;32m    683\u001b[0m         \u001b[0;31m# Assign chunk of trees to jobs\u001b[0m\u001b[0;34m\u001b[0m\u001b[0;34m\u001b[0m\u001b[0m\n",
      "\u001b[0;32m~/miniconda3/lib/python3.6/site-packages/sklearn/ensemble/forest.py\u001b[0m in \u001b[0;36m_validate_X_predict\u001b[0;34m(self, X)\u001b[0m\n\u001b[1;32m    355\u001b[0m                                  \"call `fit` before exploiting the model.\")\n\u001b[1;32m    356\u001b[0m \u001b[0;34m\u001b[0m\u001b[0m\n\u001b[0;32m--> 357\u001b[0;31m         \u001b[0;32mreturn\u001b[0m \u001b[0mself\u001b[0m\u001b[0;34m.\u001b[0m\u001b[0mestimators_\u001b[0m\u001b[0;34m[\u001b[0m\u001b[0;36m0\u001b[0m\u001b[0;34m]\u001b[0m\u001b[0;34m.\u001b[0m\u001b[0m_validate_X_predict\u001b[0m\u001b[0;34m(\u001b[0m\u001b[0mX\u001b[0m\u001b[0;34m,\u001b[0m \u001b[0mcheck_input\u001b[0m\u001b[0;34m=\u001b[0m\u001b[0;32mTrue\u001b[0m\u001b[0;34m)\u001b[0m\u001b[0;34m\u001b[0m\u001b[0m\n\u001b[0m\u001b[1;32m    358\u001b[0m \u001b[0;34m\u001b[0m\u001b[0m\n\u001b[1;32m    359\u001b[0m     \u001b[0;34m@\u001b[0m\u001b[0mproperty\u001b[0m\u001b[0;34m\u001b[0m\u001b[0m\n",
      "\u001b[0;32m~/miniconda3/lib/python3.6/site-packages/sklearn/tree/tree.py\u001b[0m in \u001b[0;36m_validate_X_predict\u001b[0;34m(self, X, check_input)\u001b[0m\n\u001b[1;32m    382\u001b[0m                              \u001b[0;34m\"match the input. Model n_features is %s and \"\u001b[0m\u001b[0;34m\u001b[0m\u001b[0m\n\u001b[1;32m    383\u001b[0m                              \u001b[0;34m\"input n_features is %s \"\u001b[0m\u001b[0;34m\u001b[0m\u001b[0m\n\u001b[0;32m--> 384\u001b[0;31m                              % (self.n_features_, n_features))\n\u001b[0m\u001b[1;32m    385\u001b[0m \u001b[0;34m\u001b[0m\u001b[0m\n\u001b[1;32m    386\u001b[0m         \u001b[0;32mreturn\u001b[0m \u001b[0mX\u001b[0m\u001b[0;34m\u001b[0m\u001b[0m\n",
      "\u001b[0;31mValueError\u001b[0m: Number of features of the model must match the input. Model n_features is 54 and input n_features is 29 "
     ]
    }
   ],
   "source": [
    "g = sns.jointplot(rf_reg.predict(X_test.as_matrix()), y_test, alpha=0.20, \n",
    "                  annot_kws=dict(stat=\"r\"))\n",
    "g.set_axis_labels(xlabel='Predicted', ylabel='Observed');"
   ]
  },
  {
   "cell_type": "code",
   "execution_count": 222,
   "metadata": {},
   "outputs": [
    {
     "data": {
      "text/plain": [
       "1.2823025"
      ]
     },
     "execution_count": 222,
     "metadata": {},
     "output_type": "execute_result"
    }
   ],
   "source": [
    "np.sqrt(mean_squared_error(pred_xgb_test, y_test))"
   ]
  },
  {
   "cell_type": "markdown",
   "metadata": {},
   "source": [
    "Random forests make a better job predicting the test set, even with scarce tunning."
   ]
  }
 ],
 "metadata": {
  "kernelspec": {
   "display_name": "Python [conda root]",
   "language": "python",
   "name": "conda-root-py"
  },
  "language_info": {
   "codemirror_mode": {
    "name": "ipython",
    "version": 3
   },
   "file_extension": ".py",
   "mimetype": "text/x-python",
   "name": "python",
   "nbconvert_exporter": "python",
   "pygments_lexer": "ipython3",
   "version": "3.6.1"
  }
 },
 "nbformat": 4,
 "nbformat_minor": 2
}
