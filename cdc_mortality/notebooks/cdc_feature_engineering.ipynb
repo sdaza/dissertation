{
 "cells": [
  {
   "cell_type": "markdown",
   "metadata": {},
   "source": [
    "# CDC - Chetty Feature Engineering"
   ]
  },
  {
   "cell_type": "code",
   "execution_count": 1,
   "metadata": {},
   "outputs": [
    {
     "name": "stderr",
     "output_type": "stream",
     "text": [
      "Loading required package: data.table\n",
      "Loading required package: knitr\n",
      "Loading required package: miceadds\n",
      "Loading required package: mice\n",
      "* miceadds 2.5-9 (2017-06-17 14:42:44)\n"
     ]
    }
   ],
   "source": [
    "library(sdazar)"
   ]
  },
  {
   "cell_type": "code",
   "execution_count": 2,
   "metadata": {},
   "outputs": [],
   "source": [
    "load('../data/mortalityCDC_chetty.Rdata')"
   ]
  },
  {
   "cell_type": "code",
   "execution_count": 6,
   "metadata": {},
   "outputs": [
    {
     "data": {
      "text/html": [
       "'/Users/sdaza/GoogleDrive/00Dissertation/dissertation_github/notebooks'"
      ],
      "text/latex": [
       "'/Users/sdaza/GoogleDrive/00Dissertation/dissertation\\_github/notebooks'"
      ],
      "text/markdown": [
       "'/Users/sdaza/GoogleDrive/00Dissertation/dissertation_github/notebooks'"
      ],
      "text/plain": [
       "[1] \"/Users/sdaza/GoogleDrive/00Dissertation/dissertation_github/notebooks\""
      ]
     },
     "metadata": {},
     "output_type": "display_data"
    }
   ],
   "source": [
    "getwd()"
   ]
  },
  {
   "cell_type": "code",
   "execution_count": null,
   "metadata": {},
   "outputs": [],
   "source": [
    "set"
   ]
  }
 ],
 "metadata": {
  "kernelspec": {
   "display_name": "R",
   "language": "R",
   "name": "ir"
  },
  "language_info": {
   "codemirror_mode": "r",
   "file_extension": ".r",
   "mimetype": "text/x-r-source",
   "name": "R",
   "pygments_lexer": "r",
   "version": "3.4.1"
  }
 },
 "nbformat": 4,
 "nbformat_minor": 2
}
