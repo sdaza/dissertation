{
 "cells": [
  {
   "cell_type": "markdown",
   "metadata": {},
   "source": [
    "# CDC - Chetty's Income Mobility Measures\n",
    "## EDA and Plots"
   ]
  },
  {
   "cell_type": "code",
   "execution_count": 193,
   "metadata": {},
   "outputs": [],
   "source": [
    "# load libraries\n",
    "library(sdazar)\n",
    "library(INLA)\n",
    "library(brinla)\n",
    "\n",
    "library(ggplot2)\n",
    "library(patchwork)\n",
    "library(forcats)\n",
    "\n",
    "library(usmap)\n",
    "library(USAboundaries)\n",
    "library(maptools)\n",
    "library(ggthemes)\n",
    "library(spdep)\n",
    "library(sp)\n",
    "library(sf)\n",
    "\n",
    "# set plot options\n",
    "options(repr.plot.width = 7, repr.plot.height = 4) # plot options"
   ]
  },
  {
   "cell_type": "code",
   "execution_count": 194,
   "metadata": {},
   "outputs": [],
   "source": [
    "df = readRDS('../data/cdc_chetty.rds')"
   ]
  },
  {
   "cell_type": "code",
   "execution_count": 195,
   "metadata": {},
   "outputs": [],
   "source": [
    "mob = df[, lapply(.SD, first), \n",
    "         by=.(fips, county, county_name, stateabbrv)]"
   ]
  },
  {
   "cell_type": "code",
   "execution_count": 196,
   "metadata": {},
   "outputs": [],
   "source": [
    "# remove crime rate\n",
    "variables = c('z_relative_mob', 'z_absolute_mob', 'z_gini',\n",
    "              'z_medicare_expenses', 'log_unemployment', 'z_uninsured',\n",
    "              'log_pct_black', 'log_pct_hispanic')"
   ]
  },
  {
   "cell_type": "code",
   "execution_count": 197,
   "metadata": {},
   "outputs": [
    {
     "name": "stdout",
     "output_type": "stream",
     "text": [
      "         z_exercise           z_obesity           z_smoking      z_relative_mob \n",
      "              0.219               0.218               0.217               0.071 \n",
      "     z_absolute_mob      log_crime_rate              z_gini z_medicare_expenses \n",
      "              0.071               0.057               0.024               0.002 \n",
      "   log_unemployment         z_uninsured       log_pct_black    log_pct_hispanic \n",
      "              0.001               0.001               0.000               0.000 \n"
     ]
    }
   ],
   "source": [
    "print(countmis(df))"
   ]
  },
  {
   "cell_type": "code",
   "execution_count": 198,
   "metadata": {},
   "outputs": [],
   "source": [
    "df = df[complete.cases(df[, variables, with=FALSE])]"
   ]
  },
  {
   "cell_type": "code",
   "execution_count": 199,
   "metadata": {},
   "outputs": [
    {
     "name": "stdout",
     "output_type": "stream",
     "text": [
      "    z_exercise      z_obesity      z_smoking log_crime_rate \n",
      "         0.167          0.165          0.164          0.059 \n"
     ]
    }
   ],
   "source": [
    "print(countmis(df))"
   ]
  },
  {
   "cell_type": "code",
   "execution_count": 200,
   "metadata": {},
   "outputs": [],
   "source": [
    "mob = df[, .(z_relative_mob=first(z_relative_mob), \n",
    "             z_absolute_mob=first(z_relative_mob)), \n",
    "         by=.(fips, county, county_name, stateabbrv)]"
   ]
  },
  {
   "cell_type": "markdown",
   "metadata": {},
   "source": [
    "## Define county info for spatial models"
   ]
  },
  {
   "cell_type": "code",
   "execution_count": 201,
   "metadata": {},
   "outputs": [],
   "source": [
    "# get counties, US 2000\n",
    "counties = us_counties(\"2000-07-01\")"
   ]
  },
  {
   "cell_type": "code",
   "execution_count": 202,
   "metadata": {},
   "outputs": [
    {
     "data": {
      "text/html": [
       "<ol class=list-inline>\n",
       "\t<li>'sf'</li>\n",
       "\t<li>'data.frame'</li>\n",
       "</ol>\n"
      ],
      "text/latex": [
       "\\begin{enumerate*}\n",
       "\\item 'sf'\n",
       "\\item 'data.frame'\n",
       "\\end{enumerate*}\n"
      ],
      "text/markdown": [
       "1. 'sf'\n",
       "2. 'data.frame'\n",
       "\n",
       "\n"
      ],
      "text/plain": [
       "[1] \"sf\"         \"data.frame\""
      ]
     },
     "metadata": {},
     "output_type": "display_data"
    }
   ],
   "source": [
    "class(counties)"
   ]
  },
  {
   "cell_type": "code",
   "execution_count": 203,
   "metadata": {},
   "outputs": [
    {
     "data": {
      "text/html": [
       "0.912766634829672"
      ],
      "text/latex": [
       "0.912766634829672"
      ],
      "text/markdown": [
       "0.912766634829672"
      ],
      "text/plain": [
       "[1] 0.9127666"
      ]
     },
     "metadata": {},
     "output_type": "display_data"
    }
   ],
   "source": [
    "length(unique(mob$fips)) / length(counties$fips) # 91%"
   ]
  },
  {
   "cell_type": "code",
   "execution_count": 204,
   "metadata": {},
   "outputs": [],
   "source": [
    "counties = counties[counties$fips %in% unique(mob$fips),]"
   ]
  },
  {
   "cell_type": "code",
   "execution_count": 205,
   "metadata": {},
   "outputs": [
    {
     "data": {
      "text/html": [
       "TRUE"
      ],
      "text/latex": [
       "TRUE"
      ],
      "text/markdown": [
       "TRUE"
      ],
      "text/plain": [
       "[1] TRUE"
      ]
     },
     "metadata": {},
     "output_type": "display_data"
    }
   ],
   "source": [
    "all(as.character(counties$fips) %in% unique(mob$fips))"
   ]
  },
  {
   "cell_type": "code",
   "execution_count": 206,
   "metadata": {},
   "outputs": [
    {
     "data": {
      "text/html": [
       "TRUE"
      ],
      "text/latex": [
       "TRUE"
      ],
      "text/markdown": [
       "TRUE"
      ],
      "text/plain": [
       "[1] TRUE"
      ]
     },
     "metadata": {},
     "output_type": "display_data"
    }
   ],
   "source": [
    "all(unique(mob$fips) %in% as.character(counties$fips))"
   ]
  },
  {
   "cell_type": "code",
   "execution_count": 207,
   "metadata": {},
   "outputs": [
    {
     "data": {
      "text/html": [],
      "text/latex": [],
      "text/markdown": [],
      "text/plain": [
       "character(0)"
      ]
     },
     "metadata": {},
     "output_type": "display_data"
    }
   ],
   "source": [
    "unique(mob$fips)[!unique(mob$fips) %in% counties$fips] # nothing"
   ]
  },
  {
   "cell_type": "code",
   "execution_count": 208,
   "metadata": {},
   "outputs": [],
   "source": [
    "ordered_fips = as.character(unique(counties$fips))"
   ]
  },
  {
   "cell_type": "code",
   "execution_count": 209,
   "metadata": {},
   "outputs": [
    {
     "data": {
      "text/html": [
       "2867"
      ],
      "text/latex": [
       "2867"
      ],
      "text/markdown": [
       "2867"
      ],
      "text/plain": [
       "[1] 2867"
      ]
     },
     "metadata": {},
     "output_type": "display_data"
    }
   ],
   "source": [
    "length(ordered_fips)"
   ]
  },
  {
   "cell_type": "code",
   "execution_count": 211,
   "metadata": {},
   "outputs": [],
   "source": [
    "# order data based on counties\n",
    "mob = mob[order(match(fips, ordered_fips))]"
   ]
  },
  {
   "cell_type": "code",
   "execution_count": 212,
   "metadata": {},
   "outputs": [
    {
     "data": {},
     "metadata": {},
     "output_type": "display_data"
    },
    {
     "data": {},
     "metadata": {},
     "output_type": "display_data"
    }
   ],
   "source": [
    "data[, county_i := .GRP, by = fips]\n",
    "data[, state_i := .GRP, by = state]"
   ]
  },
  {
   "cell_type": "code",
   "execution_count": 213,
   "metadata": {},
   "outputs": [
    {
     "data": {},
     "metadata": {},
     "output_type": "display_data"
    },
    {
     "data": {
      "image/png": "[encoded data removed]",
      "text/plain": [
       "plot without title"
      ]
     },
     "metadata": {},
     "output_type": "display_data",
     "source": "R display func"
    }
   ],
   "source": [
    "counties.sp = as(counties, \"Spatial\")\n",
    "temp = poly2nb(counties.sp)\n",
    "nb2INLA(\"counties.graph\", temp)\n",
    "county.adj = \"counties.graph\"\n",
    "H = inla.read.graph(filename = county.adj)\n",
    "image(inla.graph2matrix(H), xlab=\"\",ylab=\"\")"
   ]
  },
  {
   "cell_type": "markdown",
   "metadata": {},
   "source": [
    "## County coverage plot"
   ]
  },
  {
   "cell_type": "code",
   "execution_count": 148,
   "metadata": {},
   "outputs": [],
   "source": [
    "library(usmap)"
   ]
  },
  {
   "cell_type": "code",
   "execution_count": 155,
   "metadata": {},
   "outputs": [],
   "source": [
    "c = data.table(countypop)"
   ]
  },
  {
   "cell_type": "code",
   "execution_count": 156,
   "metadata": {},
   "outputs": [],
   "source": [
    "c = merge(c, mob[, .(fips, z_relative_mob)], by='fips', all.x=TRUE)"
   ]
  },
  {
   "cell_type": "code",
   "execution_count": 157,
   "metadata": {},
   "outputs": [
    {
     "data": {},
     "metadata": {},
     "output_type": "display_data"
    }
   ],
   "source": [
    "c[, coverage := ifelse(is.na(z_relative_mob), 0, 1)]"
   ]
  },
  {
   "cell_type": "code",
   "execution_count": 158,
   "metadata": {},
   "outputs": [
    {
     "data": {
      "text/plain": [
       "   Min. 1st Qu.  Median    Mean 3rd Qu.    Max. \n",
       " 0.0000  1.0000  1.0000  0.9118  1.0000  1.0000 "
      ]
     },
     "metadata": {},
     "output_type": "display_data"
    }
   ],
   "source": [
    "summary(c$coverage)"
   ]
  },
  {
   "cell_type": "code",
   "execution_count": 159,
   "metadata": {},
   "outputs": [
    {
     "data": {
      "text/plain": [
       "\n",
       "AK CA CO FL GA HI ID IL KS KY MI MO MS MT NC ND NE NM NV OK OR SD TN TX UT VA \n",
       "13  2 17  2 13  1  7  2 26  5  1  4  1 19  1 19 32  4  5  6  3 24  3 49  4  8 \n",
       "WA WI WY \n",
       " 3  1  2 "
      ]
     },
     "metadata": {},
     "output_type": "display_data"
    }
   ],
   "source": [
    "table(c[coverage==0, abbr])"
   ]
  },
  {
   "cell_type": "code",
   "execution_count": null,
   "metadata": {},
   "outputs": [],
   "source": [
    "savepdf('coverage_county')\n",
    "usmap::plot_usmap(data = c, values = \"coverage\", regions = \"counties\", lines='black') + \n",
    "#   labs(title = County Coverage Income Mobility Data\", subtitle = \"91% of counties\", \n",
    "#       caption='') + \n",
    "  theme(legend.position=\"none\") + \n",
    "  scale_fill_continuous(\n",
    "    low = \"white\", high = \"#fdbb84\")\n",
    "dev.off()"
   ]
  },
  {
   "cell_type": "code",
   "execution_count": 189,
   "metadata": {},
   "outputs": [],
   "source": [
    "dim(mob)"
   ]
  },
  {
   "cell_type": "markdown",
   "metadata": {},
   "source": [
    "## Descriptive table"
   ]
  },
  {
   "cell_type": "code",
   "execution_count": null,
   "metadata": {},
   "outputs": [],
   "source": []
  }
 ],
 "metadata": {
  "kernelspec": {
   "display_name": "R",
   "language": "R",
   "name": "ir"
  },
  "language_info": {
   "codemirror_mode": "r",
   "file_extension": ".r",
   "mimetype": "text/x-r-source",
   "name": "R",
   "pygments_lexer": "r",
   "version": "3.4.1"
  }
 },
 "nbformat": 4,
 "nbformat_minor": 2
}
